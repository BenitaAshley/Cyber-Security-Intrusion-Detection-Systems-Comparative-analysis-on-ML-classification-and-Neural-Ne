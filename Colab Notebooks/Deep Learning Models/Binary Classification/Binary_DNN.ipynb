{
  "nbformat": 4,
  "nbformat_minor": 0,
  "metadata": {
    "colab": {
      "provenance": []
    },
    "kernelspec": {
      "name": "python3",
      "display_name": "Python 3"
    },
    "language_info": {
      "name": "python"
    }
  },
  "cells": [
    {
      "cell_type": "markdown",
      "source": [
        "\n",
        "\n",
        "#**Project Title:**\n",
        "\n",
        "\n",
        "#                  **Cyber Security Intrusion Detection Systems : Comparative analysis on ML classification and Neural Networks**\n",
        "\n"
      ],
      "metadata": {
        "id": "90aOFoL6aEwx"
      }
    },
    {
      "cell_type": "markdown",
      "source": [
        "#Author\n",
        "\n",
        "**Author Name:** Benita Ashley\n",
        "\n",
        "**Student ID:** 220058151"
      ],
      "metadata": {
        "id": "YUc_ZS7AaGl8"
      }
    },
    {
      "cell_type": "markdown",
      "source": [
        "# Project Supervisor\n",
        "\n",
        "**Name:** Dr Mahdieh Sadabadi"
      ],
      "metadata": {
        "id": "sRUh2IJ-aJSv"
      }
    },
    {
      "cell_type": "markdown",
      "source": [
        "**1. Importing Required Libraries**"
      ],
      "metadata": {
        "id": "l3-GkH-IaL0w"
      }
    },
    {
      "cell_type": "code",
      "execution_count": 1,
      "metadata": {
        "id": "wb0wZ3A5U8w3"
      },
      "outputs": [],
      "source": [
        "from __future__ import print_function\n",
        "import numpy as np\n",
        "np.random.seed(1337)  # for reproducibility\n",
        "from keras.preprocessing import sequence\n",
        "from keras.models import Sequential\n",
        "from keras.layers import Dense, Dropout, Activation, Lambda\n",
        "from keras.layers import Embedding\n",
        "from keras.layers import Convolution1D,MaxPooling1D, Flatten\n",
        "from keras.datasets import imdb\n",
        "from keras import backend as K\n",
        "from sklearn.model_selection import train_test_split\n",
        "import pandas as pd\n",
        "from keras.utils.np_utils import to_categorical\n",
        "from sklearn.preprocessing import Normalizer\n",
        "from keras.models import Sequential\n",
        "from keras.layers import Convolution1D, Dense, Dropout, Flatten, MaxPooling1D\n",
        "from keras.utils import np_utils\n",
        "import numpy as np\n",
        "import h5py\n",
        "from keras import callbacks\n",
        "from keras.layers import LSTM, GRU, SimpleRNN\n",
        "from keras.callbacks import CSVLogger\n",
        "from keras.callbacks import ModelCheckpoint, EarlyStopping, ReduceLROnPlateau, CSVLogger\n",
        "from sklearn.preprocessing import LabelEncoder\n",
        "import matplotlib.pyplot as plt"
      ]
    },
    {
      "cell_type": "markdown",
      "source": [
        "**2. Reading the datset and displaying the same**"
      ],
      "metadata": {
        "id": "MYIM4nYsaO9i"
      }
    },
    {
      "cell_type": "code",
      "source": [
        "traindata = pd.read_csv('KDDCup99_Train.csv')\n",
        "testdata = pd.read_csv('KDDCup99_Test.csv')"
      ],
      "metadata": {
        "id": "MfODwsTqVBpj"
      },
      "execution_count": 2,
      "outputs": []
    },
    {
      "cell_type": "code",
      "source": [
        "data = pd.concat([traindata,testdata])\n",
        "data.head()"
      ],
      "metadata": {
        "colab": {
          "base_uri": "https://localhost:8080/",
          "height": 299
        },
        "id": "E3FW4Q5KVDPJ",
        "outputId": "4f9cdbf7-cd78-43c9-81d6-b2c0a31a7b5d"
      },
      "execution_count": 3,
      "outputs": [
        {
          "output_type": "execute_result",
          "data": {
            "text/plain": [
              "   duration protocol_type   service flag  src_bytes  dst_bytes  land  \\\n",
              "0         0           tcp  ftp_data   SF        491          0     0   \n",
              "1         0           udp     other   SF        146          0     0   \n",
              "2         0           tcp   private   S0          0          0     0   \n",
              "3         0           tcp      http   SF        232       8153     0   \n",
              "4         0           tcp      http   SF        199        420     0   \n",
              "\n",
              "   wrong_fragment  urgent  hot  ...  dst_host_srv_count  \\\n",
              "0               0       0    0  ...                  25   \n",
              "1               0       0    0  ...                   1   \n",
              "2               0       0    0  ...                  26   \n",
              "3               0       0    0  ...                 255   \n",
              "4               0       0    0  ...                 255   \n",
              "\n",
              "   dst_host_same_srv_rate  dst_host_diff_srv_rate  \\\n",
              "0                    0.17                    0.03   \n",
              "1                    0.00                    0.60   \n",
              "2                    0.10                    0.05   \n",
              "3                    1.00                    0.00   \n",
              "4                    1.00                    0.00   \n",
              "\n",
              "   dst_host_same_src_port_rate  dst_host_srv_diff_host_rate  \\\n",
              "0                         0.17                         0.00   \n",
              "1                         0.88                         0.00   \n",
              "2                         0.00                         0.00   \n",
              "3                         0.03                         0.04   \n",
              "4                         0.00                         0.00   \n",
              "\n",
              "   dst_host_serror_rate  dst_host_srv_serror_rate  dst_host_rerror_rate  \\\n",
              "0                  0.00                      0.00                  0.05   \n",
              "1                  0.00                      0.00                  0.00   \n",
              "2                  1.00                      1.00                  0.00   \n",
              "3                  0.03                      0.01                  0.00   \n",
              "4                  0.00                      0.00                  0.00   \n",
              "\n",
              "   dst_host_srv_rerror_rate   labels  \n",
              "0                      0.00   normal  \n",
              "1                      0.00   normal  \n",
              "2                      0.00  anomaly  \n",
              "3                      0.01   normal  \n",
              "4                      0.00   normal  \n",
              "\n",
              "[5 rows x 42 columns]"
            ],
            "text/html": [
              "\n",
              "  <div id=\"df-6fa56aa7-254c-4976-85d0-4957118c541b\">\n",
              "    <div class=\"colab-df-container\">\n",
              "      <div>\n",
              "<style scoped>\n",
              "    .dataframe tbody tr th:only-of-type {\n",
              "        vertical-align: middle;\n",
              "    }\n",
              "\n",
              "    .dataframe tbody tr th {\n",
              "        vertical-align: top;\n",
              "    }\n",
              "\n",
              "    .dataframe thead th {\n",
              "        text-align: right;\n",
              "    }\n",
              "</style>\n",
              "<table border=\"1\" class=\"dataframe\">\n",
              "  <thead>\n",
              "    <tr style=\"text-align: right;\">\n",
              "      <th></th>\n",
              "      <th>duration</th>\n",
              "      <th>protocol_type</th>\n",
              "      <th>service</th>\n",
              "      <th>flag</th>\n",
              "      <th>src_bytes</th>\n",
              "      <th>dst_bytes</th>\n",
              "      <th>land</th>\n",
              "      <th>wrong_fragment</th>\n",
              "      <th>urgent</th>\n",
              "      <th>hot</th>\n",
              "      <th>...</th>\n",
              "      <th>dst_host_srv_count</th>\n",
              "      <th>dst_host_same_srv_rate</th>\n",
              "      <th>dst_host_diff_srv_rate</th>\n",
              "      <th>dst_host_same_src_port_rate</th>\n",
              "      <th>dst_host_srv_diff_host_rate</th>\n",
              "      <th>dst_host_serror_rate</th>\n",
              "      <th>dst_host_srv_serror_rate</th>\n",
              "      <th>dst_host_rerror_rate</th>\n",
              "      <th>dst_host_srv_rerror_rate</th>\n",
              "      <th>labels</th>\n",
              "    </tr>\n",
              "  </thead>\n",
              "  <tbody>\n",
              "    <tr>\n",
              "      <th>0</th>\n",
              "      <td>0</td>\n",
              "      <td>tcp</td>\n",
              "      <td>ftp_data</td>\n",
              "      <td>SF</td>\n",
              "      <td>491</td>\n",
              "      <td>0</td>\n",
              "      <td>0</td>\n",
              "      <td>0</td>\n",
              "      <td>0</td>\n",
              "      <td>0</td>\n",
              "      <td>...</td>\n",
              "      <td>25</td>\n",
              "      <td>0.17</td>\n",
              "      <td>0.03</td>\n",
              "      <td>0.17</td>\n",
              "      <td>0.00</td>\n",
              "      <td>0.00</td>\n",
              "      <td>0.00</td>\n",
              "      <td>0.05</td>\n",
              "      <td>0.00</td>\n",
              "      <td>normal</td>\n",
              "    </tr>\n",
              "    <tr>\n",
              "      <th>1</th>\n",
              "      <td>0</td>\n",
              "      <td>udp</td>\n",
              "      <td>other</td>\n",
              "      <td>SF</td>\n",
              "      <td>146</td>\n",
              "      <td>0</td>\n",
              "      <td>0</td>\n",
              "      <td>0</td>\n",
              "      <td>0</td>\n",
              "      <td>0</td>\n",
              "      <td>...</td>\n",
              "      <td>1</td>\n",
              "      <td>0.00</td>\n",
              "      <td>0.60</td>\n",
              "      <td>0.88</td>\n",
              "      <td>0.00</td>\n",
              "      <td>0.00</td>\n",
              "      <td>0.00</td>\n",
              "      <td>0.00</td>\n",
              "      <td>0.00</td>\n",
              "      <td>normal</td>\n",
              "    </tr>\n",
              "    <tr>\n",
              "      <th>2</th>\n",
              "      <td>0</td>\n",
              "      <td>tcp</td>\n",
              "      <td>private</td>\n",
              "      <td>S0</td>\n",
              "      <td>0</td>\n",
              "      <td>0</td>\n",
              "      <td>0</td>\n",
              "      <td>0</td>\n",
              "      <td>0</td>\n",
              "      <td>0</td>\n",
              "      <td>...</td>\n",
              "      <td>26</td>\n",
              "      <td>0.10</td>\n",
              "      <td>0.05</td>\n",
              "      <td>0.00</td>\n",
              "      <td>0.00</td>\n",
              "      <td>1.00</td>\n",
              "      <td>1.00</td>\n",
              "      <td>0.00</td>\n",
              "      <td>0.00</td>\n",
              "      <td>anomaly</td>\n",
              "    </tr>\n",
              "    <tr>\n",
              "      <th>3</th>\n",
              "      <td>0</td>\n",
              "      <td>tcp</td>\n",
              "      <td>http</td>\n",
              "      <td>SF</td>\n",
              "      <td>232</td>\n",
              "      <td>8153</td>\n",
              "      <td>0</td>\n",
              "      <td>0</td>\n",
              "      <td>0</td>\n",
              "      <td>0</td>\n",
              "      <td>...</td>\n",
              "      <td>255</td>\n",
              "      <td>1.00</td>\n",
              "      <td>0.00</td>\n",
              "      <td>0.03</td>\n",
              "      <td>0.04</td>\n",
              "      <td>0.03</td>\n",
              "      <td>0.01</td>\n",
              "      <td>0.00</td>\n",
              "      <td>0.01</td>\n",
              "      <td>normal</td>\n",
              "    </tr>\n",
              "    <tr>\n",
              "      <th>4</th>\n",
              "      <td>0</td>\n",
              "      <td>tcp</td>\n",
              "      <td>http</td>\n",
              "      <td>SF</td>\n",
              "      <td>199</td>\n",
              "      <td>420</td>\n",
              "      <td>0</td>\n",
              "      <td>0</td>\n",
              "      <td>0</td>\n",
              "      <td>0</td>\n",
              "      <td>...</td>\n",
              "      <td>255</td>\n",
              "      <td>1.00</td>\n",
              "      <td>0.00</td>\n",
              "      <td>0.00</td>\n",
              "      <td>0.00</td>\n",
              "      <td>0.00</td>\n",
              "      <td>0.00</td>\n",
              "      <td>0.00</td>\n",
              "      <td>0.00</td>\n",
              "      <td>normal</td>\n",
              "    </tr>\n",
              "  </tbody>\n",
              "</table>\n",
              "<p>5 rows × 42 columns</p>\n",
              "</div>\n",
              "      <button class=\"colab-df-convert\" onclick=\"convertToInteractive('df-6fa56aa7-254c-4976-85d0-4957118c541b')\"\n",
              "              title=\"Convert this dataframe to an interactive table.\"\n",
              "              style=\"display:none;\">\n",
              "        \n",
              "  <svg xmlns=\"http://www.w3.org/2000/svg\" height=\"24px\"viewBox=\"0 0 24 24\"\n",
              "       width=\"24px\">\n",
              "    <path d=\"M0 0h24v24H0V0z\" fill=\"none\"/>\n",
              "    <path d=\"M18.56 5.44l.94 2.06.94-2.06 2.06-.94-2.06-.94-.94-2.06-.94 2.06-2.06.94zm-11 1L8.5 8.5l.94-2.06 2.06-.94-2.06-.94L8.5 2.5l-.94 2.06-2.06.94zm10 10l.94 2.06.94-2.06 2.06-.94-2.06-.94-.94-2.06-.94 2.06-2.06.94z\"/><path d=\"M17.41 7.96l-1.37-1.37c-.4-.4-.92-.59-1.43-.59-.52 0-1.04.2-1.43.59L10.3 9.45l-7.72 7.72c-.78.78-.78 2.05 0 2.83L4 21.41c.39.39.9.59 1.41.59.51 0 1.02-.2 1.41-.59l7.78-7.78 2.81-2.81c.8-.78.8-2.07 0-2.86zM5.41 20L4 18.59l7.72-7.72 1.47 1.35L5.41 20z\"/>\n",
              "  </svg>\n",
              "      </button>\n",
              "      \n",
              "  <style>\n",
              "    .colab-df-container {\n",
              "      display:flex;\n",
              "      flex-wrap:wrap;\n",
              "      gap: 12px;\n",
              "    }\n",
              "\n",
              "    .colab-df-convert {\n",
              "      background-color: #E8F0FE;\n",
              "      border: none;\n",
              "      border-radius: 50%;\n",
              "      cursor: pointer;\n",
              "      display: none;\n",
              "      fill: #1967D2;\n",
              "      height: 32px;\n",
              "      padding: 0 0 0 0;\n",
              "      width: 32px;\n",
              "    }\n",
              "\n",
              "    .colab-df-convert:hover {\n",
              "      background-color: #E2EBFA;\n",
              "      box-shadow: 0px 1px 2px rgba(60, 64, 67, 0.3), 0px 1px 3px 1px rgba(60, 64, 67, 0.15);\n",
              "      fill: #174EA6;\n",
              "    }\n",
              "\n",
              "    [theme=dark] .colab-df-convert {\n",
              "      background-color: #3B4455;\n",
              "      fill: #D2E3FC;\n",
              "    }\n",
              "\n",
              "    [theme=dark] .colab-df-convert:hover {\n",
              "      background-color: #434B5C;\n",
              "      box-shadow: 0px 1px 3px 1px rgba(0, 0, 0, 0.15);\n",
              "      filter: drop-shadow(0px 1px 2px rgba(0, 0, 0, 0.3));\n",
              "      fill: #FFFFFF;\n",
              "    }\n",
              "  </style>\n",
              "\n",
              "      <script>\n",
              "        const buttonEl =\n",
              "          document.querySelector('#df-6fa56aa7-254c-4976-85d0-4957118c541b button.colab-df-convert');\n",
              "        buttonEl.style.display =\n",
              "          google.colab.kernel.accessAllowed ? 'block' : 'none';\n",
              "\n",
              "        async function convertToInteractive(key) {\n",
              "          const element = document.querySelector('#df-6fa56aa7-254c-4976-85d0-4957118c541b');\n",
              "          const dataTable =\n",
              "            await google.colab.kernel.invokeFunction('convertToInteractive',\n",
              "                                                     [key], {});\n",
              "          if (!dataTable) return;\n",
              "\n",
              "          const docLinkHtml = 'Like what you see? Visit the ' +\n",
              "            '<a target=\"_blank\" href=https://colab.research.google.com/notebooks/data_table.ipynb>data table notebook</a>'\n",
              "            + ' to learn more about interactive tables.';\n",
              "          element.innerHTML = '';\n",
              "          dataTable['output_type'] = 'display_data';\n",
              "          await google.colab.output.renderOutput(dataTable, element);\n",
              "          const docLink = document.createElement('div');\n",
              "          docLink.innerHTML = docLinkHtml;\n",
              "          element.appendChild(docLink);\n",
              "        }\n",
              "      </script>\n",
              "    </div>\n",
              "  </div>\n",
              "  "
            ]
          },
          "metadata": {},
          "execution_count": 3
        }
      ]
    },
    {
      "cell_type": "markdown",
      "source": [
        "**3. Pre-processing data for the model**"
      ],
      "metadata": {
        "id": "C5ggtzs9aS_3"
      }
    },
    {
      "cell_type": "code",
      "source": [
        "categ = ['protocol_type','service','flag']\n",
        "# Encode Categorical Columns\n",
        "le = LabelEncoder()\n",
        "data[categ] = data[categ].apply(le.fit_transform)\n",
        "#data[categ] = testdata[categ].apply(le.fit_transform)"
      ],
      "metadata": {
        "id": "xFa4ZtH1VEQo"
      },
      "execution_count": 4,
      "outputs": []
    },
    {
      "cell_type": "code",
      "source": [
        "labels=[]\n",
        "for i in data['labels']:\n",
        "  if i=='normal':\n",
        "    labels.append(0)\n",
        "  else:\n",
        "    labels.append(1)\n",
        "data['labels']=labels"
      ],
      "metadata": {
        "id": "NjnQKqEkVFnO"
      },
      "execution_count": 5,
      "outputs": []
    },
    {
      "cell_type": "code",
      "source": [
        "X = data.iloc[:,1:41]\n",
        "Y = data['labels']"
      ],
      "metadata": {
        "id": "q9jrUnxCVjHp"
      },
      "execution_count": 6,
      "outputs": []
    },
    {
      "cell_type": "code",
      "source": [
        "scaler = Normalizer().fit(X)\n",
        "X = scaler.transform(X)"
      ],
      "metadata": {
        "id": "CuUXoK3lVkSF"
      },
      "execution_count": 7,
      "outputs": []
    },
    {
      "cell_type": "code",
      "source": [
        "X_train, X_test,Y_train,Y_test = train_test_split(X,Y, test_size=0.2)"
      ],
      "metadata": {
        "id": "4hSBUV5FVlfp"
      },
      "execution_count": 8,
      "outputs": []
    },
    {
      "cell_type": "code",
      "source": [
        "# reshape input to be [samples, time steps, features]\n",
        "X_train = np.reshape(X_train, (X_train.shape[0],X_train.shape[1],1))\n",
        "X_test = np.reshape(X_test, (X_test.shape[0],X_test.shape[1],1))"
      ],
      "metadata": {
        "id": "hbSBGwykVmoH"
      },
      "execution_count": 9,
      "outputs": []
    },
    {
      "cell_type": "markdown",
      "source": [
        "**4. Dense Neural Network Model**"
      ],
      "metadata": {
        "id": "tDbCyk7kaWL7"
      }
    },
    {
      "cell_type": "code",
      "source": [
        "model = Sequential()\n",
        "model.add(Dense(128,input_shape=(40, 1),activation='relu'))  \n",
        "model.add(Dropout(0.01))\n",
        "model.add(Flatten())\n",
        "model.add(Dense(1))\n",
        "model.add(Activation('sigmoid'))"
      ],
      "metadata": {
        "id": "tpkX-2TrVn5L"
      },
      "execution_count": 10,
      "outputs": []
    },
    {
      "cell_type": "code",
      "source": [
        "model.compile(loss=\"binary_crossentropy\", optimizer=\"adam\",metrics=['accuracy'])"
      ],
      "metadata": {
        "id": "0xMcg4zqVpKa"
      },
      "execution_count": 11,
      "outputs": []
    },
    {
      "cell_type": "code",
      "source": [
        "history=model.fit(X_train, Y_train, epochs=75,verbose=1,batch_size=500,validation_data=(X_test, Y_test))"
      ],
      "metadata": {
        "colab": {
          "base_uri": "https://localhost:8080/"
        },
        "id": "8FZYe-nRVqYg",
        "outputId": "10e2f3b2-6ac7-400c-d00b-2cbebaf77483"
      },
      "execution_count": 12,
      "outputs": [
        {
          "output_type": "stream",
          "name": "stdout",
          "text": [
            "Epoch 1/75\n",
            "238/238 [==============================] - 13s 50ms/step - loss: 0.3969 - accuracy: 0.8485 - val_loss: 0.2910 - val_accuracy: 0.8600\n",
            "Epoch 2/75\n",
            "238/238 [==============================] - 11s 48ms/step - loss: 0.2742 - accuracy: 0.8790 - val_loss: 0.2631 - val_accuracy: 0.8856\n",
            "Epoch 3/75\n",
            "238/238 [==============================] - 13s 55ms/step - loss: 0.2605 - accuracy: 0.8881 - val_loss: 0.2558 - val_accuracy: 0.8900\n",
            "Epoch 4/75\n",
            "238/238 [==============================] - 12s 49ms/step - loss: 0.2568 - accuracy: 0.8904 - val_loss: 0.2550 - val_accuracy: 0.8880\n",
            "Epoch 5/75\n",
            "238/238 [==============================] - 12s 49ms/step - loss: 0.2550 - accuracy: 0.8915 - val_loss: 0.2521 - val_accuracy: 0.8960\n",
            "Epoch 6/75\n",
            "238/238 [==============================] - 14s 58ms/step - loss: 0.2540 - accuracy: 0.8920 - val_loss: 0.2510 - val_accuracy: 0.8947\n",
            "Epoch 7/75\n",
            "238/238 [==============================] - 11s 48ms/step - loss: 0.2533 - accuracy: 0.8936 - val_loss: 0.2511 - val_accuracy: 0.8933\n",
            "Epoch 8/75\n",
            "238/238 [==============================] - 11s 48ms/step - loss: 0.2523 - accuracy: 0.8945 - val_loss: 0.2493 - val_accuracy: 0.8992\n",
            "Epoch 9/75\n",
            "238/238 [==============================] - 12s 49ms/step - loss: 0.2515 - accuracy: 0.8964 - val_loss: 0.2492 - val_accuracy: 0.8945\n",
            "Epoch 10/75\n",
            "238/238 [==============================] - 12s 52ms/step - loss: 0.2506 - accuracy: 0.8965 - val_loss: 0.2479 - val_accuracy: 0.9013\n",
            "Epoch 11/75\n",
            "238/238 [==============================] - 11s 47ms/step - loss: 0.2498 - accuracy: 0.8974 - val_loss: 0.2516 - val_accuracy: 0.8896\n",
            "Epoch 12/75\n",
            "238/238 [==============================] - 11s 48ms/step - loss: 0.2490 - accuracy: 0.8974 - val_loss: 0.2482 - val_accuracy: 0.8979\n",
            "Epoch 13/75\n",
            "238/238 [==============================] - 13s 55ms/step - loss: 0.2482 - accuracy: 0.8972 - val_loss: 0.2467 - val_accuracy: 0.8991\n",
            "Epoch 14/75\n",
            "238/238 [==============================] - 12s 49ms/step - loss: 0.2471 - accuracy: 0.8988 - val_loss: 0.2443 - val_accuracy: 0.9020\n",
            "Epoch 15/75\n",
            "238/238 [==============================] - 12s 49ms/step - loss: 0.2457 - accuracy: 0.8999 - val_loss: 0.2429 - val_accuracy: 0.9014\n",
            "Epoch 16/75\n",
            "238/238 [==============================] - 12s 49ms/step - loss: 0.2444 - accuracy: 0.9007 - val_loss: 0.2413 - val_accuracy: 0.9063\n",
            "Epoch 17/75\n",
            "238/238 [==============================] - 13s 53ms/step - loss: 0.2430 - accuracy: 0.9022 - val_loss: 0.2398 - val_accuracy: 0.9068\n",
            "Epoch 18/75\n",
            "238/238 [==============================] - 11s 47ms/step - loss: 0.2417 - accuracy: 0.9025 - val_loss: 0.2402 - val_accuracy: 0.9019\n",
            "Epoch 19/75\n",
            "238/238 [==============================] - 12s 49ms/step - loss: 0.2396 - accuracy: 0.9037 - val_loss: 0.2367 - val_accuracy: 0.9061\n",
            "Epoch 20/75\n",
            "238/238 [==============================] - 14s 59ms/step - loss: 0.2379 - accuracy: 0.9048 - val_loss: 0.2359 - val_accuracy: 0.9047\n",
            "Epoch 21/75\n",
            "238/238 [==============================] - 12s 49ms/step - loss: 0.2366 - accuracy: 0.9058 - val_loss: 0.2332 - val_accuracy: 0.9066\n",
            "Epoch 22/75\n",
            "238/238 [==============================] - 12s 49ms/step - loss: 0.2346 - accuracy: 0.9073 - val_loss: 0.2323 - val_accuracy: 0.9090\n",
            "Epoch 23/75\n",
            "238/238 [==============================] - 12s 50ms/step - loss: 0.2327 - accuracy: 0.9080 - val_loss: 0.2297 - val_accuracy: 0.9093\n",
            "Epoch 24/75\n",
            "238/238 [==============================] - 13s 54ms/step - loss: 0.2307 - accuracy: 0.9098 - val_loss: 0.2275 - val_accuracy: 0.9109\n",
            "Epoch 25/75\n",
            "238/238 [==============================] - 12s 49ms/step - loss: 0.2291 - accuracy: 0.9106 - val_loss: 0.2261 - val_accuracy: 0.9090\n",
            "Epoch 26/75\n",
            "238/238 [==============================] - 11s 48ms/step - loss: 0.2274 - accuracy: 0.9117 - val_loss: 0.2241 - val_accuracy: 0.9140\n",
            "Epoch 27/75\n",
            "238/238 [==============================] - 12s 52ms/step - loss: 0.2255 - accuracy: 0.9122 - val_loss: 0.2228 - val_accuracy: 0.9155\n",
            "Epoch 28/75\n",
            "238/238 [==============================] - 12s 49ms/step - loss: 0.2238 - accuracy: 0.9139 - val_loss: 0.2206 - val_accuracy: 0.9152\n",
            "Epoch 29/75\n",
            "238/238 [==============================] - 12s 49ms/step - loss: 0.2220 - accuracy: 0.9151 - val_loss: 0.2190 - val_accuracy: 0.9164\n",
            "Epoch 30/75\n",
            "238/238 [==============================] - 12s 49ms/step - loss: 0.2210 - accuracy: 0.9154 - val_loss: 0.2179 - val_accuracy: 0.9147\n",
            "Epoch 31/75\n",
            "238/238 [==============================] - 13s 54ms/step - loss: 0.2194 - accuracy: 0.9164 - val_loss: 0.2162 - val_accuracy: 0.9162\n",
            "Epoch 32/75\n",
            "238/238 [==============================] - 12s 50ms/step - loss: 0.2179 - accuracy: 0.9177 - val_loss: 0.2148 - val_accuracy: 0.9157\n",
            "Epoch 33/75\n",
            "238/238 [==============================] - 12s 52ms/step - loss: 0.2166 - accuracy: 0.9185 - val_loss: 0.2138 - val_accuracy: 0.9186\n",
            "Epoch 34/75\n",
            "238/238 [==============================] - 15s 63ms/step - loss: 0.2155 - accuracy: 0.9184 - val_loss: 0.2126 - val_accuracy: 0.9216\n",
            "Epoch 35/75\n",
            "238/238 [==============================] - 12s 49ms/step - loss: 0.2142 - accuracy: 0.9198 - val_loss: 0.2123 - val_accuracy: 0.9232\n",
            "Epoch 36/75\n",
            "238/238 [==============================] - 12s 50ms/step - loss: 0.2133 - accuracy: 0.9200 - val_loss: 0.2101 - val_accuracy: 0.9213\n",
            "Epoch 37/75\n",
            "238/238 [==============================] - 12s 50ms/step - loss: 0.2120 - accuracy: 0.9209 - val_loss: 0.2094 - val_accuracy: 0.9203\n",
            "Epoch 38/75\n",
            "238/238 [==============================] - 13s 55ms/step - loss: 0.2113 - accuracy: 0.9208 - val_loss: 0.2083 - val_accuracy: 0.9235\n",
            "Epoch 39/75\n",
            "238/238 [==============================] - 11s 48ms/step - loss: 0.2109 - accuracy: 0.9208 - val_loss: 0.2075 - val_accuracy: 0.9228\n",
            "Epoch 40/75\n",
            "238/238 [==============================] - 12s 49ms/step - loss: 0.2100 - accuracy: 0.9212 - val_loss: 0.2070 - val_accuracy: 0.9215\n",
            "Epoch 41/75\n",
            "238/238 [==============================] - 13s 53ms/step - loss: 0.2087 - accuracy: 0.9223 - val_loss: 0.2091 - val_accuracy: 0.9280\n",
            "Epoch 42/75\n",
            "238/238 [==============================] - 12s 49ms/step - loss: 0.2080 - accuracy: 0.9228 - val_loss: 0.2054 - val_accuracy: 0.9211\n",
            "Epoch 43/75\n",
            "238/238 [==============================] - 12s 49ms/step - loss: 0.2073 - accuracy: 0.9222 - val_loss: 0.2046 - val_accuracy: 0.9228\n",
            "Epoch 44/75\n",
            "238/238 [==============================] - 12s 49ms/step - loss: 0.2070 - accuracy: 0.9228 - val_loss: 0.2044 - val_accuracy: 0.9224\n",
            "Epoch 45/75\n",
            "238/238 [==============================] - 13s 53ms/step - loss: 0.2054 - accuracy: 0.9232 - val_loss: 0.2029 - val_accuracy: 0.9229\n",
            "Epoch 46/75\n",
            "238/238 [==============================] - 11s 48ms/step - loss: 0.2050 - accuracy: 0.9236 - val_loss: 0.2025 - val_accuracy: 0.9279\n",
            "Epoch 47/75\n",
            "238/238 [==============================] - 12s 48ms/step - loss: 0.2042 - accuracy: 0.9239 - val_loss: 0.2015 - val_accuracy: 0.9228\n",
            "Epoch 48/75\n",
            "238/238 [==============================] - 14s 59ms/step - loss: 0.2040 - accuracy: 0.9240 - val_loss: 0.2007 - val_accuracy: 0.9242\n",
            "Epoch 49/75\n",
            "238/238 [==============================] - 12s 49ms/step - loss: 0.2030 - accuracy: 0.9246 - val_loss: 0.2000 - val_accuracy: 0.9240\n",
            "Epoch 50/75\n",
            "238/238 [==============================] - 12s 49ms/step - loss: 0.2022 - accuracy: 0.9248 - val_loss: 0.1999 - val_accuracy: 0.9229\n",
            "Epoch 51/75\n",
            "238/238 [==============================] - 12s 49ms/step - loss: 0.2017 - accuracy: 0.9251 - val_loss: 0.1988 - val_accuracy: 0.9254\n",
            "Epoch 52/75\n",
            "238/238 [==============================] - 13s 54ms/step - loss: 0.2010 - accuracy: 0.9254 - val_loss: 0.1993 - val_accuracy: 0.9243\n",
            "Epoch 53/75\n",
            "238/238 [==============================] - 12s 49ms/step - loss: 0.2010 - accuracy: 0.9251 - val_loss: 0.1975 - val_accuracy: 0.9260\n",
            "Epoch 54/75\n",
            "238/238 [==============================] - 12s 49ms/step - loss: 0.1996 - accuracy: 0.9257 - val_loss: 0.1970 - val_accuracy: 0.9281\n",
            "Epoch 55/75\n",
            "238/238 [==============================] - 13s 55ms/step - loss: 0.1995 - accuracy: 0.9260 - val_loss: 0.1981 - val_accuracy: 0.9246\n",
            "Epoch 56/75\n",
            "238/238 [==============================] - 12s 51ms/step - loss: 0.1991 - accuracy: 0.9259 - val_loss: 0.1961 - val_accuracy: 0.9273\n",
            "Epoch 57/75\n",
            "238/238 [==============================] - 12s 49ms/step - loss: 0.1991 - accuracy: 0.9263 - val_loss: 0.1963 - val_accuracy: 0.9254\n",
            "Epoch 58/75\n",
            "238/238 [==============================] - 12s 49ms/step - loss: 0.1979 - accuracy: 0.9269 - val_loss: 0.1949 - val_accuracy: 0.9266\n",
            "Epoch 59/75\n",
            "238/238 [==============================] - 13s 54ms/step - loss: 0.1975 - accuracy: 0.9269 - val_loss: 0.1964 - val_accuracy: 0.9333\n",
            "Epoch 60/75\n",
            "238/238 [==============================] - 12s 49ms/step - loss: 0.1980 - accuracy: 0.9275 - val_loss: 0.1972 - val_accuracy: 0.9330\n",
            "Epoch 61/75\n",
            "238/238 [==============================] - 12s 49ms/step - loss: 0.1967 - accuracy: 0.9279 - val_loss: 0.1943 - val_accuracy: 0.9282\n",
            "Epoch 62/75\n",
            "238/238 [==============================] - 13s 54ms/step - loss: 0.1965 - accuracy: 0.9284 - val_loss: 0.1956 - val_accuracy: 0.9265\n",
            "Epoch 63/75\n",
            "238/238 [==============================] - 13s 56ms/step - loss: 0.1965 - accuracy: 0.9289 - val_loss: 0.1934 - val_accuracy: 0.9277\n",
            "Epoch 64/75\n",
            "238/238 [==============================] - 12s 50ms/step - loss: 0.1957 - accuracy: 0.9291 - val_loss: 0.1940 - val_accuracy: 0.9277\n",
            "Epoch 65/75\n",
            "238/238 [==============================] - 12s 51ms/step - loss: 0.1959 - accuracy: 0.9283 - val_loss: 0.1938 - val_accuracy: 0.9335\n",
            "Epoch 66/75\n",
            "238/238 [==============================] - 13s 54ms/step - loss: 0.1956 - accuracy: 0.9283 - val_loss: 0.1939 - val_accuracy: 0.9317\n",
            "Epoch 67/75\n",
            "238/238 [==============================] - 12s 50ms/step - loss: 0.1949 - accuracy: 0.9295 - val_loss: 0.1919 - val_accuracy: 0.9294\n",
            "Epoch 68/75\n",
            "238/238 [==============================] - 12s 50ms/step - loss: 0.1943 - accuracy: 0.9301 - val_loss: 0.1922 - val_accuracy: 0.9286\n",
            "Epoch 69/75\n",
            "238/238 [==============================] - 13s 54ms/step - loss: 0.1939 - accuracy: 0.9299 - val_loss: 0.1912 - val_accuracy: 0.9303\n",
            "Epoch 70/75\n",
            "238/238 [==============================] - 12s 50ms/step - loss: 0.1931 - accuracy: 0.9304 - val_loss: 0.1906 - val_accuracy: 0.9343\n",
            "Epoch 71/75\n",
            "238/238 [==============================] - 12s 50ms/step - loss: 0.1923 - accuracy: 0.9316 - val_loss: 0.1905 - val_accuracy: 0.9322\n",
            "Epoch 72/75\n",
            "238/238 [==============================] - 12s 51ms/step - loss: 0.1914 - accuracy: 0.9315 - val_loss: 0.1902 - val_accuracy: 0.9308\n",
            "Epoch 73/75\n",
            "238/238 [==============================] - 13s 55ms/step - loss: 0.1909 - accuracy: 0.9326 - val_loss: 0.1890 - val_accuracy: 0.9384\n",
            "Epoch 74/75\n",
            "238/238 [==============================] - 12s 50ms/step - loss: 0.1900 - accuracy: 0.9333 - val_loss: 0.1900 - val_accuracy: 0.9307\n",
            "Epoch 75/75\n",
            "238/238 [==============================] - 12s 50ms/step - loss: 0.1891 - accuracy: 0.9337 - val_loss: 0.1868 - val_accuracy: 0.9379\n"
          ]
        }
      ]
    },
    {
      "cell_type": "markdown",
      "source": [
        "**5. Model Accuracy and Loss**"
      ],
      "metadata": {
        "id": "z7bc9vNFajVW"
      }
    },
    {
      "cell_type": "code",
      "source": [
        "plt.plot(history.history['accuracy'])\n",
        "plt.plot(history.history['val_accuracy'])\n",
        "plt.title('model accuracy')\n",
        "plt.ylabel('accuracy')\n",
        "plt.xlabel('epoch')\n",
        "plt.legend(['train', 'test'], loc='upper left')\n",
        "plt.show()"
      ],
      "metadata": {
        "colab": {
          "base_uri": "https://localhost:8080/",
          "height": 295
        },
        "id": "xvUWoDJgVtig",
        "outputId": "cff0b031-3f38-41fc-d557-be6d57aebcb6"
      },
      "execution_count": 13,
      "outputs": [
        {
          "output_type": "display_data",
          "data": {
            "text/plain": [
              "<Figure size 432x288 with 1 Axes>"
            ],
            "image/png": "[encoded data removed]"
          },
          "metadata": {
            "needs_background": "light"
          }
        }
      ]
    },
    {
      "cell_type": "code",
      "source": [
        "plt.plot(history.history['loss'])\n",
        "plt.plot(history.history['val_loss'])\n",
        "plt.title('model loss')\n",
        "plt.ylabel('loss')\n",
        "plt.xlabel('epoch')\n",
        "plt.legend(['train', 'test'], loc='upper left')\n",
        "plt.show()"
      ],
      "metadata": {
        "colab": {
          "base_uri": "https://localhost:8080/",
          "height": 295
        },
        "id": "_Rd0aYSLVwVR",
        "outputId": "8fa56fd0-f188-41c5-e16f-efb8ddef9f7d"
      },
      "execution_count": 14,
      "outputs": [
        {
          "output_type": "display_data",
          "data": {
            "text/plain": [
              "<Figure size 432x288 with 1 Axes>"
            ],
            "image/png": "[encoded data removed]"
          },
          "metadata": {
            "needs_background": "light"
          }
        }
      ]
    },
    {
      "cell_type": "code",
      "source": [
        "model.save(\"./dnn_model.hdf5\")"
      ],
      "metadata": {
        "id": "0CRdrB7EVzSI"
      },
      "execution_count": 15,
      "outputs": []
    }
  ]
}