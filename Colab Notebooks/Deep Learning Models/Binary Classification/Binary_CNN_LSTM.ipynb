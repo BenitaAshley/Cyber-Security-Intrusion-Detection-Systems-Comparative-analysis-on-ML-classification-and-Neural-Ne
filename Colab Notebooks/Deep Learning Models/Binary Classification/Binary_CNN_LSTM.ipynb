{
  "nbformat": 4,
  "nbformat_minor": 0,
  "metadata": {
    "colab": {
      "provenance": []
    },
    "kernelspec": {
      "name": "python3",
      "display_name": "Python 3"
    },
    "language_info": {
      "name": "python"
    }
  },
  "cells": [
    {
      "cell_type": "markdown",
      "source": [
        "\n",
        "#**Project Title:**\n",
        "\n",
        "\n",
        "#                  **Cyber Security Intrusion Detection Systems : Comparative analysis on ML classification and Neural Networks**"
      ],
      "metadata": {
        "id": "m4DbvBhevhk8"
      }
    },
    {
      "cell_type": "markdown",
      "source": [
        "#Author\n",
        "\n",
        "**Author Name:** Benita Ashley\n",
        "\n",
        "**Student ID:** 220058151"
      ],
      "metadata": {
        "id": "t0u0PWE6vk25"
      }
    },
    {
      "cell_type": "markdown",
      "source": [
        "# Project Supervisor\n",
        "\n",
        "**Name:** Dr Mahdieh Sadabadi"
      ],
      "metadata": {
        "id": "RPBtDftyvmyH"
      }
    },
    {
      "cell_type": "markdown",
      "source": [
        "**1. Importing Required Libraries**"
      ],
      "metadata": {
        "id": "T-_HslCRvqn-"
      }
    },
    {
      "cell_type": "code",
      "execution_count": 15,
      "metadata": {
        "id": "48J8e8dYUQGh"
      },
      "outputs": [],
      "source": [
        "from __future__ import print_function\n",
        "import numpy as np\n",
        "np.random.seed(1337)  # for reproducibility\n",
        "from keras.preprocessing import sequence\n",
        "from keras.models import Sequential\n",
        "from keras.layers import Dense, Dropout, Activation, Lambda\n",
        "from keras.layers import Embedding\n",
        "from keras.layers import Convolution1D,MaxPooling1D, Flatten\n",
        "from keras.datasets import imdb\n",
        "from keras import backend as K\n",
        "from sklearn.model_selection import train_test_split\n",
        "import pandas as pd\n",
        "from keras.utils.np_utils import to_categorical\n",
        "from sklearn.preprocessing import Normalizer\n",
        "from keras.models import Sequential\n",
        "from keras.layers import Convolution1D, Dense, Dropout, Flatten, MaxPooling1D\n",
        "from keras.utils import np_utils\n",
        "import numpy as np\n",
        "import h5py\n",
        "from keras import callbacks\n",
        "from keras.layers import LSTM, GRU, SimpleRNN\n",
        "from keras.callbacks import CSVLogger\n",
        "from keras.callbacks import ModelCheckpoint, EarlyStopping, ReduceLROnPlateau, CSVLogger\n",
        "from sklearn.preprocessing import LabelEncoder\n",
        "import matplotlib.pyplot as plt"
      ]
    },
    {
      "cell_type": "markdown",
      "source": [
        "**2. Reading the datset and displaying the same**"
      ],
      "metadata": {
        "id": "h1dDYGV4vrqV"
      }
    },
    {
      "cell_type": "code",
      "source": [
        "traindata = pd.read_csv('KDDCup99_Train.csv')\n",
        "testdata = pd.read_csv('KDDCup99_Test.csv')"
      ],
      "metadata": {
        "id": "QdThaorNUa2e"
      },
      "execution_count": 16,
      "outputs": []
    },
    {
      "cell_type": "code",
      "source": [
        "data = pd.concat([traindata,testdata])\n",
        "data.head()"
      ],
      "metadata": {
        "colab": {
          "base_uri": "https://localhost:8080/",
          "height": 299
        },
        "id": "PV7rfHUJUciQ",
        "outputId": "169ece6a-f779-4556-e396-8019a315d700"
      },
      "execution_count": 17,
      "outputs": [
        {
          "output_type": "execute_result",
          "data": {
            "text/plain": [
              "   duration protocol_type   service flag  src_bytes  dst_bytes  land  \\\n",
              "0         0           tcp  ftp_data   SF        491          0     0   \n",
              "1         0           udp     other   SF        146          0     0   \n",
              "2         0           tcp   private   S0          0          0     0   \n",
              "3         0           tcp      http   SF        232       8153     0   \n",
              "4         0           tcp      http   SF        199        420     0   \n",
              "\n",
              "   wrong_fragment  urgent  hot  ...  dst_host_srv_count  \\\n",
              "0               0       0    0  ...                  25   \n",
              "1               0       0    0  ...                   1   \n",
              "2               0       0    0  ...                  26   \n",
              "3               0       0    0  ...                 255   \n",
              "4               0       0    0  ...                 255   \n",
              "\n",
              "   dst_host_same_srv_rate  dst_host_diff_srv_rate  \\\n",
              "0                    0.17                    0.03   \n",
              "1                    0.00                    0.60   \n",
              "2                    0.10                    0.05   \n",
              "3                    1.00                    0.00   \n",
              "4                    1.00                    0.00   \n",
              "\n",
              "   dst_host_same_src_port_rate  dst_host_srv_diff_host_rate  \\\n",
              "0                         0.17                         0.00   \n",
              "1                         0.88                         0.00   \n",
              "2                         0.00                         0.00   \n",
              "3                         0.03                         0.04   \n",
              "4                         0.00                         0.00   \n",
              "\n",
              "   dst_host_serror_rate  dst_host_srv_serror_rate  dst_host_rerror_rate  \\\n",
              "0                  0.00                      0.00                  0.05   \n",
              "1                  0.00                      0.00                  0.00   \n",
              "2                  1.00                      1.00                  0.00   \n",
              "3                  0.03                      0.01                  0.00   \n",
              "4                  0.00                      0.00                  0.00   \n",
              "\n",
              "   dst_host_srv_rerror_rate   labels  \n",
              "0                      0.00   normal  \n",
              "1                      0.00   normal  \n",
              "2                      0.00  anomaly  \n",
              "3                      0.01   normal  \n",
              "4                      0.00   normal  \n",
              "\n",
              "[5 rows x 42 columns]"
            ],
            "text/html": [
              "\n",
              "  <div id=\"df-24f0754b-6a77-4a45-9d40-cbf1c3af7799\">\n",
              "    <div class=\"colab-df-container\">\n",
              "      <div>\n",
              "<style scoped>\n",
              "    .dataframe tbody tr th:only-of-type {\n",
              "        vertical-align: middle;\n",
              "    }\n",
              "\n",
              "    .dataframe tbody tr th {\n",
              "        vertical-align: top;\n",
              "    }\n",
              "\n",
              "    .dataframe thead th {\n",
              "        text-align: right;\n",
              "    }\n",
              "</style>\n",
              "<table border=\"1\" class=\"dataframe\">\n",
              "  <thead>\n",
              "    <tr style=\"text-align: right;\">\n",
              "      <th></th>\n",
              "      <th>duration</th>\n",
              "      <th>protocol_type</th>\n",
              "      <th>service</th>\n",
              "      <th>flag</th>\n",
              "      <th>src_bytes</th>\n",
              "      <th>dst_bytes</th>\n",
              "      <th>land</th>\n",
              "      <th>wrong_fragment</th>\n",
              "      <th>urgent</th>\n",
              "      <th>hot</th>\n",
              "      <th>...</th>\n",
              "      <th>dst_host_srv_count</th>\n",
              "      <th>dst_host_same_srv_rate</th>\n",
              "      <th>dst_host_diff_srv_rate</th>\n",
              "      <th>dst_host_same_src_port_rate</th>\n",
              "      <th>dst_host_srv_diff_host_rate</th>\n",
              "      <th>dst_host_serror_rate</th>\n",
              "      <th>dst_host_srv_serror_rate</th>\n",
              "      <th>dst_host_rerror_rate</th>\n",
              "      <th>dst_host_srv_rerror_rate</th>\n",
              "      <th>labels</th>\n",
              "    </tr>\n",
              "  </thead>\n",
              "  <tbody>\n",
              "    <tr>\n",
              "      <th>0</th>\n",
              "      <td>0</td>\n",
              "      <td>tcp</td>\n",
              "      <td>ftp_data</td>\n",
              "      <td>SF</td>\n",
              "      <td>491</td>\n",
              "      <td>0</td>\n",
              "      <td>0</td>\n",
              "      <td>0</td>\n",
              "      <td>0</td>\n",
              "      <td>0</td>\n",
              "      <td>...</td>\n",
              "      <td>25</td>\n",
              "      <td>0.17</td>\n",
              "      <td>0.03</td>\n",
              "      <td>0.17</td>\n",
              "      <td>0.00</td>\n",
              "      <td>0.00</td>\n",
              "      <td>0.00</td>\n",
              "      <td>0.05</td>\n",
              "      <td>0.00</td>\n",
              "      <td>normal</td>\n",
              "    </tr>\n",
              "    <tr>\n",
              "      <th>1</th>\n",
              "      <td>0</td>\n",
              "      <td>udp</td>\n",
              "      <td>other</td>\n",
              "      <td>SF</td>\n",
              "      <td>146</td>\n",
              "      <td>0</td>\n",
              "      <td>0</td>\n",
              "      <td>0</td>\n",
              "      <td>0</td>\n",
              "      <td>0</td>\n",
              "      <td>...</td>\n",
              "      <td>1</td>\n",
              "      <td>0.00</td>\n",
              "      <td>0.60</td>\n",
              "      <td>0.88</td>\n",
              "      <td>0.00</td>\n",
              "      <td>0.00</td>\n",
              "      <td>0.00</td>\n",
              "      <td>0.00</td>\n",
              "      <td>0.00</td>\n",
              "      <td>normal</td>\n",
              "    </tr>\n",
              "    <tr>\n",
              "      <th>2</th>\n",
              "      <td>0</td>\n",
              "      <td>tcp</td>\n",
              "      <td>private</td>\n",
              "      <td>S0</td>\n",
              "      <td>0</td>\n",
              "      <td>0</td>\n",
              "      <td>0</td>\n",
              "      <td>0</td>\n",
              "      <td>0</td>\n",
              "      <td>0</td>\n",
              "      <td>...</td>\n",
              "      <td>26</td>\n",
              "      <td>0.10</td>\n",
              "      <td>0.05</td>\n",
              "      <td>0.00</td>\n",
              "      <td>0.00</td>\n",
              "      <td>1.00</td>\n",
              "      <td>1.00</td>\n",
              "      <td>0.00</td>\n",
              "      <td>0.00</td>\n",
              "      <td>anomaly</td>\n",
              "    </tr>\n",
              "    <tr>\n",
              "      <th>3</th>\n",
              "      <td>0</td>\n",
              "      <td>tcp</td>\n",
              "      <td>http</td>\n",
              "      <td>SF</td>\n",
              "      <td>232</td>\n",
              "      <td>8153</td>\n",
              "      <td>0</td>\n",
              "      <td>0</td>\n",
              "      <td>0</td>\n",
              "      <td>0</td>\n",
              "      <td>...</td>\n",
              "      <td>255</td>\n",
              "      <td>1.00</td>\n",
              "      <td>0.00</td>\n",
              "      <td>0.03</td>\n",
              "      <td>0.04</td>\n",
              "      <td>0.03</td>\n",
              "      <td>0.01</td>\n",
              "      <td>0.00</td>\n",
              "      <td>0.01</td>\n",
              "      <td>normal</td>\n",
              "    </tr>\n",
              "    <tr>\n",
              "      <th>4</th>\n",
              "      <td>0</td>\n",
              "      <td>tcp</td>\n",
              "      <td>http</td>\n",
              "      <td>SF</td>\n",
              "      <td>199</td>\n",
              "      <td>420</td>\n",
              "      <td>0</td>\n",
              "      <td>0</td>\n",
              "      <td>0</td>\n",
              "      <td>0</td>\n",
              "      <td>...</td>\n",
              "      <td>255</td>\n",
              "      <td>1.00</td>\n",
              "      <td>0.00</td>\n",
              "      <td>0.00</td>\n",
              "      <td>0.00</td>\n",
              "      <td>0.00</td>\n",
              "      <td>0.00</td>\n",
              "      <td>0.00</td>\n",
              "      <td>0.00</td>\n",
              "      <td>normal</td>\n",
              "    </tr>\n",
              "  </tbody>\n",
              "</table>\n",
              "<p>5 rows × 42 columns</p>\n",
              "</div>\n",
              "      <button class=\"colab-df-convert\" onclick=\"convertToInteractive('df-24f0754b-6a77-4a45-9d40-cbf1c3af7799')\"\n",
              "              title=\"Convert this dataframe to an interactive table.\"\n",
              "              style=\"display:none;\">\n",
              "        \n",
              "  <svg xmlns=\"http://www.w3.org/2000/svg\" height=\"24px\"viewBox=\"0 0 24 24\"\n",
              "       width=\"24px\">\n",
              "    <path d=\"M0 0h24v24H0V0z\" fill=\"none\"/>\n",
              "    <path d=\"M18.56 5.44l.94 2.06.94-2.06 2.06-.94-2.06-.94-.94-2.06-.94 2.06-2.06.94zm-11 1L8.5 8.5l.94-2.06 2.06-.94-2.06-.94L8.5 2.5l-.94 2.06-2.06.94zm10 10l.94 2.06.94-2.06 2.06-.94-2.06-.94-.94-2.06-.94 2.06-2.06.94z\"/><path d=\"M17.41 7.96l-1.37-1.37c-.4-.4-.92-.59-1.43-.59-.52 0-1.04.2-1.43.59L10.3 9.45l-7.72 7.72c-.78.78-.78 2.05 0 2.83L4 21.41c.39.39.9.59 1.41.59.51 0 1.02-.2 1.41-.59l7.78-7.78 2.81-2.81c.8-.78.8-2.07 0-2.86zM5.41 20L4 18.59l7.72-7.72 1.47 1.35L5.41 20z\"/>\n",
              "  </svg>\n",
              "      </button>\n",
              "      \n",
              "  <style>\n",
              "    .colab-df-container {\n",
              "      display:flex;\n",
              "      flex-wrap:wrap;\n",
              "      gap: 12px;\n",
              "    }\n",
              "\n",
              "    .colab-df-convert {\n",
              "      background-color: #E8F0FE;\n",
              "      border: none;\n",
              "      border-radius: 50%;\n",
              "      cursor: pointer;\n",
              "      display: none;\n",
              "      fill: #1967D2;\n",
              "      height: 32px;\n",
              "      padding: 0 0 0 0;\n",
              "      width: 32px;\n",
              "    }\n",
              "\n",
              "    .colab-df-convert:hover {\n",
              "      background-color: #E2EBFA;\n",
              "      box-shadow: 0px 1px 2px rgba(60, 64, 67, 0.3), 0px 1px 3px 1px rgba(60, 64, 67, 0.15);\n",
              "      fill: #174EA6;\n",
              "    }\n",
              "\n",
              "    [theme=dark] .colab-df-convert {\n",
              "      background-color: #3B4455;\n",
              "      fill: #D2E3FC;\n",
              "    }\n",
              "\n",
              "    [theme=dark] .colab-df-convert:hover {\n",
              "      background-color: #434B5C;\n",
              "      box-shadow: 0px 1px 3px 1px rgba(0, 0, 0, 0.15);\n",
              "      filter: drop-shadow(0px 1px 2px rgba(0, 0, 0, 0.3));\n",
              "      fill: #FFFFFF;\n",
              "    }\n",
              "  </style>\n",
              "\n",
              "      <script>\n",
              "        const buttonEl =\n",
              "          document.querySelector('#df-24f0754b-6a77-4a45-9d40-cbf1c3af7799 button.colab-df-convert');\n",
              "        buttonEl.style.display =\n",
              "          google.colab.kernel.accessAllowed ? 'block' : 'none';\n",
              "\n",
              "        async function convertToInteractive(key) {\n",
              "          const element = document.querySelector('#df-24f0754b-6a77-4a45-9d40-cbf1c3af7799');\n",
              "          const dataTable =\n",
              "            await google.colab.kernel.invokeFunction('convertToInteractive',\n",
              "                                                     [key], {});\n",
              "          if (!dataTable) return;\n",
              "\n",
              "          const docLinkHtml = 'Like what you see? Visit the ' +\n",
              "            '<a target=\"_blank\" href=https://colab.research.google.com/notebooks/data_table.ipynb>data table notebook</a>'\n",
              "            + ' to learn more about interactive tables.';\n",
              "          element.innerHTML = '';\n",
              "          dataTable['output_type'] = 'display_data';\n",
              "          await google.colab.output.renderOutput(dataTable, element);\n",
              "          const docLink = document.createElement('div');\n",
              "          docLink.innerHTML = docLinkHtml;\n",
              "          element.appendChild(docLink);\n",
              "        }\n",
              "      </script>\n",
              "    </div>\n",
              "  </div>\n",
              "  "
            ]
          },
          "metadata": {},
          "execution_count": 17
        }
      ]
    },
    {
      "cell_type": "markdown",
      "source": [
        "**3. Pre-processing data for the model**"
      ],
      "metadata": {
        "id": "otMTNHs6vt2t"
      }
    },
    {
      "cell_type": "code",
      "source": [
        "categ = ['protocol_type','service','flag']\n",
        "# Encode Categorical Columns\n",
        "le = LabelEncoder()\n",
        "data[categ] = data[categ].apply(le.fit_transform)"
      ],
      "metadata": {
        "id": "YiEGoVwNUhPP"
      },
      "execution_count": 18,
      "outputs": []
    },
    {
      "cell_type": "code",
      "source": [
        "labels=[]\n",
        "for i in data['labels']:\n",
        "    if i=='normal':\n",
        "        labels.append(0)\n",
        "    else:\n",
        "        labels.append(1)\n",
        "data['labels']=labels"
      ],
      "metadata": {
        "id": "7wj3RhLXUiuv"
      },
      "execution_count": 19,
      "outputs": []
    },
    {
      "cell_type": "code",
      "source": [
        "X = data.iloc[:,1:41]\n",
        "Y = data['labels']"
      ],
      "metadata": {
        "id": "omQp7mXxUkAx"
      },
      "execution_count": 20,
      "outputs": []
    },
    {
      "cell_type": "code",
      "source": [
        "scaler = Normalizer().fit(X)\n",
        "X = scaler.transform(X)"
      ],
      "metadata": {
        "id": "R0iqUpGHUlIH"
      },
      "execution_count": 21,
      "outputs": []
    },
    {
      "cell_type": "code",
      "source": [
        "X_train, X_test,Y_train,Y_test = train_test_split(X,Y, test_size=0.2)"
      ],
      "metadata": {
        "id": "PgXk8F3JUmyA"
      },
      "execution_count": 22,
      "outputs": []
    },
    {
      "cell_type": "code",
      "source": [
        "# reshape input to be [samples, time steps, features]\n",
        "X_train = np.reshape(X_train, (X_train.shape[0],X_train.shape[1],1))\n",
        "X_test = np.reshape(X_test, (X_test.shape[0],X_test.shape[1],1))"
      ],
      "metadata": {
        "id": "Pbo-sj5YUn_4"
      },
      "execution_count": 23,
      "outputs": []
    },
    {
      "cell_type": "code",
      "source": [
        "X_train.shape"
      ],
      "metadata": {
        "colab": {
          "base_uri": "https://localhost:8080/"
        },
        "id": "kAS8IaMyUpV1",
        "outputId": "5d387139-f6a1-4809-bc5e-1de4d30d7dc6"
      },
      "execution_count": 24,
      "outputs": [
        {
          "output_type": "execute_result",
          "data": {
            "text/plain": [
              "(118813, 40, 1)"
            ]
          },
          "metadata": {},
          "execution_count": 24
        }
      ]
    },
    {
      "cell_type": "markdown",
      "source": [
        "**4. Convolutional Neural Network with Long-Short Term Memory Model**"
      ],
      "metadata": {
        "id": "DOuPUn3pvwj8"
      }
    },
    {
      "cell_type": "code",
      "source": [
        "cnn = Sequential()\n",
        "cnn.add(Convolution1D(128 ,3,activation=\"relu\",input_shape=(40, 1)))\n",
        "cnn.add(MaxPooling1D(2))\n",
        "cnn.add(LSTM(70,activation=\"relu\"))\n",
        "cnn.add(Flatten())\n",
        "cnn.add(Dropout(0.1))\n",
        "cnn.add(Dense(1, activation=\"sigmoid\"))"
      ],
      "metadata": {
        "id": "K6Qw0ZlKUqcb"
      },
      "execution_count": 25,
      "outputs": []
    },
    {
      "cell_type": "code",
      "source": [
        "# define optimizer and objective, compile cnn\n",
        "\n",
        "cnn.compile(loss=\"binary_crossentropy\", optimizer=\"adam\",metrics=['accuracy'])"
      ],
      "metadata": {
        "id": "VJcQcaAeUs1I"
      },
      "execution_count": 26,
      "outputs": []
    },
    {
      "cell_type": "code",
      "source": [
        "history=cnn.fit(X_train, Y_train, epochs=75,verbose=1,batch_size=500,validation_data=(X_test, Y_test))"
      ],
      "metadata": {
        "colab": {
          "base_uri": "https://localhost:8080/"
        },
        "id": "jEcUS-VnUuZH",
        "outputId": "d83ee74f-e14d-4d1f-b11a-7db27f290424"
      },
      "execution_count": 27,
      "outputs": [
        {
          "output_type": "stream",
          "name": "stdout",
          "text": [
            "Epoch 1/75\n",
            "238/238 [==============================] - 39s 158ms/step - loss: 0.3432 - accuracy: 0.8575 - val_loss: 0.2448 - val_accuracy: 0.8867\n",
            "Epoch 2/75\n",
            "238/238 [==============================] - 39s 165ms/step - loss: 0.2235 - accuracy: 0.9042 - val_loss: 0.2059 - val_accuracy: 0.9208\n",
            "Epoch 3/75\n",
            "238/238 [==============================] - 39s 163ms/step - loss: 0.1873 - accuracy: 0.9240 - val_loss: 0.1647 - val_accuracy: 0.9308\n",
            "Epoch 4/75\n",
            "238/238 [==============================] - 36s 151ms/step - loss: 0.1669 - accuracy: 0.9318 - val_loss: 0.1636 - val_accuracy: 0.9317\n",
            "Epoch 5/75\n",
            "238/238 [==============================] - 37s 156ms/step - loss: 0.1579 - accuracy: 0.9360 - val_loss: 0.1437 - val_accuracy: 0.9419\n",
            "Epoch 6/75\n",
            "238/238 [==============================] - 37s 157ms/step - loss: 0.1459 - accuracy: 0.9407 - val_loss: 0.1324 - val_accuracy: 0.9430\n",
            "Epoch 7/75\n",
            "238/238 [==============================] - 37s 157ms/step - loss: 0.1355 - accuracy: 0.9469 - val_loss: 0.1156 - val_accuracy: 0.9571\n",
            "Epoch 8/75\n",
            "238/238 [==============================] - 38s 162ms/step - loss: 0.1217 - accuracy: 0.9525 - val_loss: 0.1106 - val_accuracy: 0.9564\n",
            "Epoch 9/75\n",
            "238/238 [==============================] - 37s 157ms/step - loss: 0.1179 - accuracy: 0.9545 - val_loss: 0.1004 - val_accuracy: 0.9631\n",
            "Epoch 10/75\n",
            "238/238 [==============================] - 37s 157ms/step - loss: 0.1068 - accuracy: 0.9608 - val_loss: 0.1032 - val_accuracy: 0.9549\n",
            "Epoch 11/75\n",
            "238/238 [==============================] - 37s 157ms/step - loss: 0.1027 - accuracy: 0.9611 - val_loss: 0.1048 - val_accuracy: 0.9550\n",
            "Epoch 12/75\n",
            "238/238 [==============================] - 36s 152ms/step - loss: 0.0977 - accuracy: 0.9630 - val_loss: 0.0980 - val_accuracy: 0.9611\n",
            "Epoch 13/75\n",
            "238/238 [==============================] - 39s 162ms/step - loss: 0.0974 - accuracy: 0.9630 - val_loss: 0.0903 - val_accuracy: 0.9640\n",
            "Epoch 14/75\n",
            "238/238 [==============================] - 37s 156ms/step - loss: 0.0912 - accuracy: 0.9654 - val_loss: 0.0901 - val_accuracy: 0.9648\n",
            "Epoch 15/75\n",
            "238/238 [==============================] - 37s 155ms/step - loss: 0.0885 - accuracy: 0.9664 - val_loss: 0.0781 - val_accuracy: 0.9710\n",
            "Epoch 16/75\n",
            "238/238 [==============================] - 37s 155ms/step - loss: 0.0869 - accuracy: 0.9666 - val_loss: 0.0774 - val_accuracy: 0.9711\n",
            "Epoch 17/75\n",
            "238/238 [==============================] - 38s 161ms/step - loss: 0.0850 - accuracy: 0.9681 - val_loss: 0.0803 - val_accuracy: 0.9691\n",
            "Epoch 18/75\n",
            "238/238 [==============================] - 37s 155ms/step - loss: 0.0848 - accuracy: 0.9682 - val_loss: 0.0798 - val_accuracy: 0.9676\n",
            "Epoch 19/75\n",
            "238/238 [==============================] - 36s 150ms/step - loss: 0.0801 - accuracy: 0.9700 - val_loss: 0.0746 - val_accuracy: 0.9717\n",
            "Epoch 20/75\n",
            "238/238 [==============================] - 37s 155ms/step - loss: 0.0768 - accuracy: 0.9714 - val_loss: 0.0800 - val_accuracy: 0.9686\n",
            "Epoch 21/75\n",
            "238/238 [==============================] - 37s 155ms/step - loss: 0.0793 - accuracy: 0.9701 - val_loss: 0.0859 - val_accuracy: 0.9697\n",
            "Epoch 22/75\n",
            "238/238 [==============================] - 38s 160ms/step - loss: 0.0733 - accuracy: 0.9730 - val_loss: 0.0819 - val_accuracy: 0.9702\n",
            "Epoch 23/75\n",
            "238/238 [==============================] - 37s 155ms/step - loss: 0.0728 - accuracy: 0.9733 - val_loss: 0.0652 - val_accuracy: 0.9762\n",
            "Epoch 24/75\n",
            "238/238 [==============================] - 37s 155ms/step - loss: 0.0717 - accuracy: 0.9738 - val_loss: 0.0747 - val_accuracy: 0.9723\n",
            "Epoch 25/75\n",
            "238/238 [==============================] - 36s 150ms/step - loss: 0.0711 - accuracy: 0.9741 - val_loss: 0.0635 - val_accuracy: 0.9760\n",
            "Epoch 26/75\n",
            "238/238 [==============================] - 37s 156ms/step - loss: 0.0697 - accuracy: 0.9744 - val_loss: 0.0695 - val_accuracy: 0.9753\n",
            "Epoch 27/75\n",
            "238/238 [==============================] - 38s 161ms/step - loss: 0.0674 - accuracy: 0.9758 - val_loss: 0.0589 - val_accuracy: 0.9785\n",
            "Epoch 28/75\n",
            "238/238 [==============================] - 37s 156ms/step - loss: 0.0692 - accuracy: 0.9744 - val_loss: 0.0672 - val_accuracy: 0.9723\n",
            "Epoch 29/75\n",
            "238/238 [==============================] - 37s 156ms/step - loss: 0.0647 - accuracy: 0.9767 - val_loss: 0.0596 - val_accuracy: 0.9783\n",
            "Epoch 30/75\n",
            "238/238 [==============================] - 37s 155ms/step - loss: 0.0624 - accuracy: 0.9772 - val_loss: 0.0693 - val_accuracy: 0.9722\n",
            "Epoch 31/75\n",
            "238/238 [==============================] - 36s 151ms/step - loss: 0.0634 - accuracy: 0.9772 - val_loss: 0.0685 - val_accuracy: 0.9730\n",
            "Epoch 32/75\n",
            "238/238 [==============================] - 38s 161ms/step - loss: 0.0608 - accuracy: 0.9782 - val_loss: 0.0621 - val_accuracy: 0.9763\n",
            "Epoch 33/75\n",
            "238/238 [==============================] - 37s 156ms/step - loss: 0.0611 - accuracy: 0.9778 - val_loss: 0.0597 - val_accuracy: 0.9779\n",
            "Epoch 34/75\n",
            "238/238 [==============================] - 37s 157ms/step - loss: 0.0624 - accuracy: 0.9773 - val_loss: 0.0625 - val_accuracy: 0.9766\n",
            "Epoch 35/75\n",
            "238/238 [==============================] - 37s 157ms/step - loss: 0.0655 - accuracy: 0.9759 - val_loss: 0.0648 - val_accuracy: 0.9754\n",
            "Epoch 36/75\n",
            "238/238 [==============================] - 39s 163ms/step - loss: 0.0612 - accuracy: 0.9776 - val_loss: 0.0574 - val_accuracy: 0.9783\n",
            "Epoch 37/75\n",
            "238/238 [==============================] - 37s 157ms/step - loss: 0.0585 - accuracy: 0.9784 - val_loss: 0.0542 - val_accuracy: 0.9800\n",
            "Epoch 38/75\n",
            "238/238 [==============================] - 37s 154ms/step - loss: 0.0562 - accuracy: 0.9792 - val_loss: 0.0599 - val_accuracy: 0.9762\n",
            "Epoch 39/75\n",
            "238/238 [==============================] - 38s 158ms/step - loss: 0.0578 - accuracy: 0.9787 - val_loss: 0.0768 - val_accuracy: 0.9725\n",
            "Epoch 40/75\n",
            "238/238 [==============================] - 38s 158ms/step - loss: 0.0598 - accuracy: 0.9779 - val_loss: 0.0606 - val_accuracy: 0.9757\n",
            "Epoch 41/75\n",
            "238/238 [==============================] - 39s 163ms/step - loss: 0.0577 - accuracy: 0.9786 - val_loss: 0.0542 - val_accuracy: 0.9801\n",
            "Epoch 42/75\n",
            "238/238 [==============================] - 38s 158ms/step - loss: 0.0565 - accuracy: 0.9791 - val_loss: 0.0519 - val_accuracy: 0.9798\n",
            "Epoch 43/75\n",
            "238/238 [==============================] - 38s 158ms/step - loss: 0.0536 - accuracy: 0.9796 - val_loss: 0.0547 - val_accuracy: 0.9792\n",
            "Epoch 44/75\n",
            "238/238 [==============================] - 37s 155ms/step - loss: 0.0560 - accuracy: 0.9789 - val_loss: 0.0507 - val_accuracy: 0.9811\n",
            "Epoch 45/75\n",
            "238/238 [==============================] - 37s 154ms/step - loss: 0.0534 - accuracy: 0.9802 - val_loss: 0.0525 - val_accuracy: 0.9797\n",
            "Epoch 46/75\n",
            "238/238 [==============================] - 39s 163ms/step - loss: 0.0542 - accuracy: 0.9796 - val_loss: 0.0488 - val_accuracy: 0.9801\n",
            "Epoch 47/75\n",
            "238/238 [==============================] - 38s 158ms/step - loss: 0.0533 - accuracy: 0.9799 - val_loss: 0.0638 - val_accuracy: 0.9768\n",
            "Epoch 48/75\n",
            "238/238 [==============================] - 38s 158ms/step - loss: 0.0535 - accuracy: 0.9800 - val_loss: 0.0549 - val_accuracy: 0.9790\n",
            "Epoch 49/75\n",
            "238/238 [==============================] - 38s 158ms/step - loss: 0.0518 - accuracy: 0.9804 - val_loss: 0.0494 - val_accuracy: 0.9806\n",
            "Epoch 50/75\n",
            "238/238 [==============================] - 38s 158ms/step - loss: 0.0536 - accuracy: 0.9800 - val_loss: 0.0515 - val_accuracy: 0.9789\n",
            "Epoch 51/75\n",
            "238/238 [==============================] - 39s 163ms/step - loss: 0.0529 - accuracy: 0.9797 - val_loss: 0.0475 - val_accuracy: 0.9822\n",
            "Epoch 52/75\n",
            "238/238 [==============================] - 36s 152ms/step - loss: 0.0528 - accuracy: 0.9797 - val_loss: 0.0498 - val_accuracy: 0.9812\n",
            "Epoch 53/75\n",
            "238/238 [==============================] - 38s 158ms/step - loss: 0.0512 - accuracy: 0.9808 - val_loss: 0.0585 - val_accuracy: 0.9775\n",
            "Epoch 54/75\n",
            "238/238 [==============================] - 37s 156ms/step - loss: 0.0519 - accuracy: 0.9804 - val_loss: 0.0476 - val_accuracy: 0.9800\n",
            "Epoch 55/75\n",
            "238/238 [==============================] - 39s 162ms/step - loss: 0.0505 - accuracy: 0.9806 - val_loss: 0.0536 - val_accuracy: 0.9784\n",
            "Epoch 56/75\n",
            "238/238 [==============================] - 37s 157ms/step - loss: 0.0486 - accuracy: 0.9814 - val_loss: 0.0480 - val_accuracy: 0.9807\n",
            "Epoch 57/75\n",
            "238/238 [==============================] - 38s 159ms/step - loss: 0.0539 - accuracy: 0.9794 - val_loss: 0.0545 - val_accuracy: 0.9795\n",
            "Epoch 58/75\n",
            "238/238 [==============================] - 38s 159ms/step - loss: 0.0506 - accuracy: 0.9813 - val_loss: 0.0569 - val_accuracy: 0.9783\n",
            "Epoch 59/75\n",
            "238/238 [==============================] - 36s 153ms/step - loss: 0.0491 - accuracy: 0.9812 - val_loss: 0.0498 - val_accuracy: 0.9813\n",
            "Epoch 60/75\n",
            "238/238 [==============================] - 39s 164ms/step - loss: 0.0468 - accuracy: 0.9825 - val_loss: 0.0502 - val_accuracy: 0.9811\n",
            "Epoch 61/75\n",
            "238/238 [==============================] - 38s 158ms/step - loss: 0.0491 - accuracy: 0.9810 - val_loss: 0.0697 - val_accuracy: 0.9737\n",
            "Epoch 62/75\n",
            "238/238 [==============================] - 38s 159ms/step - loss: 0.0484 - accuracy: 0.9815 - val_loss: 0.0485 - val_accuracy: 0.9813\n",
            "Epoch 63/75\n",
            "238/238 [==============================] - 38s 160ms/step - loss: 0.0477 - accuracy: 0.9819 - val_loss: 0.0470 - val_accuracy: 0.9807\n",
            "Epoch 64/75\n",
            "238/238 [==============================] - 37s 157ms/step - loss: 0.0490 - accuracy: 0.9807 - val_loss: 0.0461 - val_accuracy: 0.9820\n",
            "Epoch 65/75\n",
            "238/238 [==============================] - 39s 162ms/step - loss: 0.0469 - accuracy: 0.9823 - val_loss: 0.0456 - val_accuracy: 0.9827\n",
            "Epoch 66/75\n",
            "238/238 [==============================] - 36s 153ms/step - loss: 0.0466 - accuracy: 0.9822 - val_loss: 0.0427 - val_accuracy: 0.9829\n",
            "Epoch 67/75\n",
            "238/238 [==============================] - 38s 159ms/step - loss: 0.0453 - accuracy: 0.9828 - val_loss: 0.0547 - val_accuracy: 0.9788\n",
            "Epoch 68/75\n",
            "238/238 [==============================] - 38s 159ms/step - loss: 0.0476 - accuracy: 0.9821 - val_loss: 0.0416 - val_accuracy: 0.9837\n",
            "Epoch 69/75\n",
            "238/238 [==============================] - 39s 164ms/step - loss: 0.0456 - accuracy: 0.9828 - val_loss: 0.0458 - val_accuracy: 0.9822\n",
            "Epoch 70/75\n",
            "238/238 [==============================] - 38s 159ms/step - loss: 0.0450 - accuracy: 0.9830 - val_loss: 0.0437 - val_accuracy: 0.9828\n",
            "Epoch 71/75\n",
            "238/238 [==============================] - 38s 159ms/step - loss: 0.0458 - accuracy: 0.9826 - val_loss: 0.0470 - val_accuracy: 0.9819\n",
            "Epoch 72/75\n",
            "238/238 [==============================] - 38s 160ms/step - loss: 0.0434 - accuracy: 0.9837 - val_loss: 0.0433 - val_accuracy: 0.9833\n",
            "Epoch 73/75\n",
            "238/238 [==============================] - 37s 154ms/step - loss: 0.0427 - accuracy: 0.9837 - val_loss: 0.0419 - val_accuracy: 0.9842\n",
            "Epoch 74/75\n",
            "238/238 [==============================] - 39s 164ms/step - loss: 0.0437 - accuracy: 0.9841 - val_loss: 0.0444 - val_accuracy: 0.9836\n",
            "Epoch 75/75\n",
            "238/238 [==============================] - 38s 159ms/step - loss: 0.0433 - accuracy: 0.9835 - val_loss: 0.0453 - val_accuracy: 0.9827\n"
          ]
        }
      ]
    },
    {
      "cell_type": "markdown",
      "source": [
        "**5. Model Accuracy and Loss**"
      ],
      "metadata": {
        "id": "AuJGBuSVwAid"
      }
    },
    {
      "cell_type": "code",
      "source": [
        "plt.plot(history.history['accuracy'])\n",
        "plt.plot(history.history['val_accuracy'])\n",
        "plt.title('model accuracy')\n",
        "plt.ylabel('accuracy')\n",
        "plt.xlabel('epoch')\n",
        "plt.legend(['train', 'test'], loc='upper left')\n",
        "plt.show()"
      ],
      "metadata": {
        "id": "gXsuXKPzUyYe",
        "colab": {
          "base_uri": "https://localhost:8080/",
          "height": 295
        },
        "outputId": "064674ca-c697-41a6-c0ea-723a2faddacb"
      },
      "execution_count": 28,
      "outputs": [
        {
          "output_type": "display_data",
          "data": {
            "text/plain": [
              "<Figure size 432x288 with 1 Axes>"
            ],
            "image/png": "[encoded data removed]"
          },
          "metadata": {
            "needs_background": "light"
          }
        }
      ]
    },
    {
      "cell_type": "code",
      "source": [
        "plt.plot(history.history['loss'])\n",
        "plt.plot(history.history['val_loss'])\n",
        "plt.title('model loss')\n",
        "plt.ylabel('loss')\n",
        "plt.xlabel('epoch')\n",
        "plt.legend(['train', 'test'], loc='upper left')\n",
        "plt.show()"
      ],
      "metadata": {
        "id": "1DEPXnkvU01n",
        "colab": {
          "base_uri": "https://localhost:8080/",
          "height": 295
        },
        "outputId": "2ab86268-e856-410b-cc0d-3aa4c43c4efe"
      },
      "execution_count": 29,
      "outputs": [
        {
          "output_type": "display_data",
          "data": {
            "text/plain": [
              "<Figure size 432x288 with 1 Axes>"
            ],
            "image/png": "[encoded data removed]"
          },
          "metadata": {
            "needs_background": "light"
          }
        }
      ]
    },
    {
      "cell_type": "code",
      "source": [
        "cnn.save(\"./cnn_lstm_model.hdf5\")"
      ],
      "metadata": {
        "id": "8FoBoZrhU2mw"
      },
      "execution_count": 30,
      "outputs": []
    }
  ]
}