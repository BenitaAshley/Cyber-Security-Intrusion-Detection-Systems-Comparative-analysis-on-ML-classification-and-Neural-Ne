{
  "nbformat": 4,
  "nbformat_minor": 0,
  "metadata": {
    "colab": {
      "provenance": []
    },
    "kernelspec": {
      "name": "python3",
      "display_name": "Python 3"
    },
    "language_info": {
      "name": "python"
    }
  },
  "cells": [
    {
      "cell_type": "markdown",
      "source": [
        "\n",
        "#**Project Title:**\n",
        "\n",
        "\n",
        "#                  **Cyber Security Intrusion Detection Systems : Comparative analysis on ML classification and Neural Networks**"
      ],
      "metadata": {
        "id": "GHbDzgKx38Vh"
      }
    },
    {
      "cell_type": "markdown",
      "source": [
        "#Author\n",
        "\n",
        "**Author Name:** Benita Ashley\n",
        "\n",
        "**Student ID:** 220058151"
      ],
      "metadata": {
        "id": "jewRTtnM39jz"
      }
    },
    {
      "cell_type": "markdown",
      "source": [
        "# Project Supervisor\n",
        "\n",
        "**Name:** Dr Mahdieh Sadabadi"
      ],
      "metadata": {
        "id": "NFaaUbtp3_og"
      }
    },
    {
      "cell_type": "markdown",
      "source": [
        "**1. Importing Required Libraries**"
      ],
      "metadata": {
        "id": "zRzPDwYj4D80"
      }
    },
    {
      "cell_type": "code",
      "execution_count": 1,
      "metadata": {
        "id": "pVEwLApnXbBL"
      },
      "outputs": [],
      "source": [
        "from __future__ import print_function\n",
        "import numpy as np\n",
        "np.random.seed(1337)  # for reproducibility\n",
        "from keras.preprocessing import sequence\n",
        "from keras.models import Sequential\n",
        "from keras.layers import Dense, Dropout, Activation, Lambda\n",
        "from keras.layers import Embedding\n",
        "from keras.layers import Convolution1D,MaxPooling1D, Flatten\n",
        "from keras.datasets import imdb\n",
        "from keras import backend as K\n",
        "from sklearn.model_selection import train_test_split\n",
        "import pandas as pd\n",
        "from keras.utils.np_utils import to_categorical\n",
        "from sklearn.preprocessing import Normalizer\n",
        "from keras.models import Sequential\n",
        "from keras.layers import Convolution1D, Dense, Dropout, Flatten, MaxPooling1D\n",
        "from keras.utils import np_utils\n",
        "import numpy as np\n",
        "import h5py\n",
        "from keras import callbacks\n",
        "from keras.layers import LSTM, GRU, SimpleRNN\n",
        "from keras.callbacks import CSVLogger\n",
        "from keras.callbacks import ModelCheckpoint, EarlyStopping, ReduceLROnPlateau, CSVLogger\n",
        "from sklearn.preprocessing import LabelEncoder\n",
        "import matplotlib.pyplot as plt"
      ]
    },
    {
      "cell_type": "markdown",
      "source": [
        "**2. Reading the datset and displaying the same**"
      ],
      "metadata": {
        "id": "w7ClIYsF4Gxm"
      }
    },
    {
      "cell_type": "code",
      "source": [
        "traindata = pd.read_csv('KDDCup99_Train.csv')\n",
        "testdata = pd.read_csv('KDDCup99_Test.csv')"
      ],
      "metadata": {
        "id": "dIwenpEDXiBb"
      },
      "execution_count": 2,
      "outputs": []
    },
    {
      "cell_type": "code",
      "source": [
        "data = pd.concat([traindata,testdata])\n",
        "data.head()"
      ],
      "metadata": {
        "colab": {
          "base_uri": "https://localhost:8080/",
          "height": 299
        },
        "id": "hlUVuNjJXlOj",
        "outputId": "8b1eb960-5c54-4729-f665-0ec584675607"
      },
      "execution_count": 3,
      "outputs": [
        {
          "output_type": "execute_result",
          "data": {
            "text/plain": [
              "   duration protocol_type   service flag  src_bytes  dst_bytes  land  \\\n",
              "0         0           tcp  ftp_data   SF        491          0     0   \n",
              "1         0           udp     other   SF        146          0     0   \n",
              "2         0           tcp   private   S0          0          0     0   \n",
              "3         0           tcp      http   SF        232       8153     0   \n",
              "4         0           tcp      http   SF        199        420     0   \n",
              "\n",
              "   wrong_fragment  urgent  hot  ...  dst_host_srv_count  \\\n",
              "0               0       0    0  ...                  25   \n",
              "1               0       0    0  ...                   1   \n",
              "2               0       0    0  ...                  26   \n",
              "3               0       0    0  ...                 255   \n",
              "4               0       0    0  ...                 255   \n",
              "\n",
              "   dst_host_same_srv_rate  dst_host_diff_srv_rate  \\\n",
              "0                    0.17                    0.03   \n",
              "1                    0.00                    0.60   \n",
              "2                    0.10                    0.05   \n",
              "3                    1.00                    0.00   \n",
              "4                    1.00                    0.00   \n",
              "\n",
              "   dst_host_same_src_port_rate  dst_host_srv_diff_host_rate  \\\n",
              "0                         0.17                         0.00   \n",
              "1                         0.88                         0.00   \n",
              "2                         0.00                         0.00   \n",
              "3                         0.03                         0.04   \n",
              "4                         0.00                         0.00   \n",
              "\n",
              "   dst_host_serror_rate  dst_host_srv_serror_rate  dst_host_rerror_rate  \\\n",
              "0                  0.00                      0.00                  0.05   \n",
              "1                  0.00                      0.00                  0.00   \n",
              "2                  1.00                      1.00                  0.00   \n",
              "3                  0.03                      0.01                  0.00   \n",
              "4                  0.00                      0.00                  0.00   \n",
              "\n",
              "   dst_host_srv_rerror_rate   labels  \n",
              "0                      0.00   normal  \n",
              "1                      0.00   normal  \n",
              "2                      0.00  anomaly  \n",
              "3                      0.01   normal  \n",
              "4                      0.00   normal  \n",
              "\n",
              "[5 rows x 42 columns]"
            ],
            "text/html": [
              "\n",
              "  <div id=\"df-635b2c06-52c5-49b1-a77a-a7f986adf93f\">\n",
              "    <div class=\"colab-df-container\">\n",
              "      <div>\n",
              "<style scoped>\n",
              "    .dataframe tbody tr th:only-of-type {\n",
              "        vertical-align: middle;\n",
              "    }\n",
              "\n",
              "    .dataframe tbody tr th {\n",
              "        vertical-align: top;\n",
              "    }\n",
              "\n",
              "    .dataframe thead th {\n",
              "        text-align: right;\n",
              "    }\n",
              "</style>\n",
              "<table border=\"1\" class=\"dataframe\">\n",
              "  <thead>\n",
              "    <tr style=\"text-align: right;\">\n",
              "      <th></th>\n",
              "      <th>duration</th>\n",
              "      <th>protocol_type</th>\n",
              "      <th>service</th>\n",
              "      <th>flag</th>\n",
              "      <th>src_bytes</th>\n",
              "      <th>dst_bytes</th>\n",
              "      <th>land</th>\n",
              "      <th>wrong_fragment</th>\n",
              "      <th>urgent</th>\n",
              "      <th>hot</th>\n",
              "      <th>...</th>\n",
              "      <th>dst_host_srv_count</th>\n",
              "      <th>dst_host_same_srv_rate</th>\n",
              "      <th>dst_host_diff_srv_rate</th>\n",
              "      <th>dst_host_same_src_port_rate</th>\n",
              "      <th>dst_host_srv_diff_host_rate</th>\n",
              "      <th>dst_host_serror_rate</th>\n",
              "      <th>dst_host_srv_serror_rate</th>\n",
              "      <th>dst_host_rerror_rate</th>\n",
              "      <th>dst_host_srv_rerror_rate</th>\n",
              "      <th>labels</th>\n",
              "    </tr>\n",
              "  </thead>\n",
              "  <tbody>\n",
              "    <tr>\n",
              "      <th>0</th>\n",
              "      <td>0</td>\n",
              "      <td>tcp</td>\n",
              "      <td>ftp_data</td>\n",
              "      <td>SF</td>\n",
              "      <td>491</td>\n",
              "      <td>0</td>\n",
              "      <td>0</td>\n",
              "      <td>0</td>\n",
              "      <td>0</td>\n",
              "      <td>0</td>\n",
              "      <td>...</td>\n",
              "      <td>25</td>\n",
              "      <td>0.17</td>\n",
              "      <td>0.03</td>\n",
              "      <td>0.17</td>\n",
              "      <td>0.00</td>\n",
              "      <td>0.00</td>\n",
              "      <td>0.00</td>\n",
              "      <td>0.05</td>\n",
              "      <td>0.00</td>\n",
              "      <td>normal</td>\n",
              "    </tr>\n",
              "    <tr>\n",
              "      <th>1</th>\n",
              "      <td>0</td>\n",
              "      <td>udp</td>\n",
              "      <td>other</td>\n",
              "      <td>SF</td>\n",
              "      <td>146</td>\n",
              "      <td>0</td>\n",
              "      <td>0</td>\n",
              "      <td>0</td>\n",
              "      <td>0</td>\n",
              "      <td>0</td>\n",
              "      <td>...</td>\n",
              "      <td>1</td>\n",
              "      <td>0.00</td>\n",
              "      <td>0.60</td>\n",
              "      <td>0.88</td>\n",
              "      <td>0.00</td>\n",
              "      <td>0.00</td>\n",
              "      <td>0.00</td>\n",
              "      <td>0.00</td>\n",
              "      <td>0.00</td>\n",
              "      <td>normal</td>\n",
              "    </tr>\n",
              "    <tr>\n",
              "      <th>2</th>\n",
              "      <td>0</td>\n",
              "      <td>tcp</td>\n",
              "      <td>private</td>\n",
              "      <td>S0</td>\n",
              "      <td>0</td>\n",
              "      <td>0</td>\n",
              "      <td>0</td>\n",
              "      <td>0</td>\n",
              "      <td>0</td>\n",
              "      <td>0</td>\n",
              "      <td>...</td>\n",
              "      <td>26</td>\n",
              "      <td>0.10</td>\n",
              "      <td>0.05</td>\n",
              "      <td>0.00</td>\n",
              "      <td>0.00</td>\n",
              "      <td>1.00</td>\n",
              "      <td>1.00</td>\n",
              "      <td>0.00</td>\n",
              "      <td>0.00</td>\n",
              "      <td>anomaly</td>\n",
              "    </tr>\n",
              "    <tr>\n",
              "      <th>3</th>\n",
              "      <td>0</td>\n",
              "      <td>tcp</td>\n",
              "      <td>http</td>\n",
              "      <td>SF</td>\n",
              "      <td>232</td>\n",
              "      <td>8153</td>\n",
              "      <td>0</td>\n",
              "      <td>0</td>\n",
              "      <td>0</td>\n",
              "      <td>0</td>\n",
              "      <td>...</td>\n",
              "      <td>255</td>\n",
              "      <td>1.00</td>\n",
              "      <td>0.00</td>\n",
              "      <td>0.03</td>\n",
              "      <td>0.04</td>\n",
              "      <td>0.03</td>\n",
              "      <td>0.01</td>\n",
              "      <td>0.00</td>\n",
              "      <td>0.01</td>\n",
              "      <td>normal</td>\n",
              "    </tr>\n",
              "    <tr>\n",
              "      <th>4</th>\n",
              "      <td>0</td>\n",
              "      <td>tcp</td>\n",
              "      <td>http</td>\n",
              "      <td>SF</td>\n",
              "      <td>199</td>\n",
              "      <td>420</td>\n",
              "      <td>0</td>\n",
              "      <td>0</td>\n",
              "      <td>0</td>\n",
              "      <td>0</td>\n",
              "      <td>...</td>\n",
              "      <td>255</td>\n",
              "      <td>1.00</td>\n",
              "      <td>0.00</td>\n",
              "      <td>0.00</td>\n",
              "      <td>0.00</td>\n",
              "      <td>0.00</td>\n",
              "      <td>0.00</td>\n",
              "      <td>0.00</td>\n",
              "      <td>0.00</td>\n",
              "      <td>normal</td>\n",
              "    </tr>\n",
              "  </tbody>\n",
              "</table>\n",
              "<p>5 rows × 42 columns</p>\n",
              "</div>\n",
              "      <button class=\"colab-df-convert\" onclick=\"convertToInteractive('df-635b2c06-52c5-49b1-a77a-a7f986adf93f')\"\n",
              "              title=\"Convert this dataframe to an interactive table.\"\n",
              "              style=\"display:none;\">\n",
              "        \n",
              "  <svg xmlns=\"http://www.w3.org/2000/svg\" height=\"24px\"viewBox=\"0 0 24 24\"\n",
              "       width=\"24px\">\n",
              "    <path d=\"M0 0h24v24H0V0z\" fill=\"none\"/>\n",
              "    <path d=\"M18.56 5.44l.94 2.06.94-2.06 2.06-.94-2.06-.94-.94-2.06-.94 2.06-2.06.94zm-11 1L8.5 8.5l.94-2.06 2.06-.94-2.06-.94L8.5 2.5l-.94 2.06-2.06.94zm10 10l.94 2.06.94-2.06 2.06-.94-2.06-.94-.94-2.06-.94 2.06-2.06.94z\"/><path d=\"M17.41 7.96l-1.37-1.37c-.4-.4-.92-.59-1.43-.59-.52 0-1.04.2-1.43.59L10.3 9.45l-7.72 7.72c-.78.78-.78 2.05 0 2.83L4 21.41c.39.39.9.59 1.41.59.51 0 1.02-.2 1.41-.59l7.78-7.78 2.81-2.81c.8-.78.8-2.07 0-2.86zM5.41 20L4 18.59l7.72-7.72 1.47 1.35L5.41 20z\"/>\n",
              "  </svg>\n",
              "      </button>\n",
              "      \n",
              "  <style>\n",
              "    .colab-df-container {\n",
              "      display:flex;\n",
              "      flex-wrap:wrap;\n",
              "      gap: 12px;\n",
              "    }\n",
              "\n",
              "    .colab-df-convert {\n",
              "      background-color: #E8F0FE;\n",
              "      border: none;\n",
              "      border-radius: 50%;\n",
              "      cursor: pointer;\n",
              "      display: none;\n",
              "      fill: #1967D2;\n",
              "      height: 32px;\n",
              "      padding: 0 0 0 0;\n",
              "      width: 32px;\n",
              "    }\n",
              "\n",
              "    .colab-df-convert:hover {\n",
              "      background-color: #E2EBFA;\n",
              "      box-shadow: 0px 1px 2px rgba(60, 64, 67, 0.3), 0px 1px 3px 1px rgba(60, 64, 67, 0.15);\n",
              "      fill: #174EA6;\n",
              "    }\n",
              "\n",
              "    [theme=dark] .colab-df-convert {\n",
              "      background-color: #3B4455;\n",
              "      fill: #D2E3FC;\n",
              "    }\n",
              "\n",
              "    [theme=dark] .colab-df-convert:hover {\n",
              "      background-color: #434B5C;\n",
              "      box-shadow: 0px 1px 3px 1px rgba(0, 0, 0, 0.15);\n",
              "      filter: drop-shadow(0px 1px 2px rgba(0, 0, 0, 0.3));\n",
              "      fill: #FFFFFF;\n",
              "    }\n",
              "  </style>\n",
              "\n",
              "      <script>\n",
              "        const buttonEl =\n",
              "          document.querySelector('#df-635b2c06-52c5-49b1-a77a-a7f986adf93f button.colab-df-convert');\n",
              "        buttonEl.style.display =\n",
              "          google.colab.kernel.accessAllowed ? 'block' : 'none';\n",
              "\n",
              "        async function convertToInteractive(key) {\n",
              "          const element = document.querySelector('#df-635b2c06-52c5-49b1-a77a-a7f986adf93f');\n",
              "          const dataTable =\n",
              "            await google.colab.kernel.invokeFunction('convertToInteractive',\n",
              "                                                     [key], {});\n",
              "          if (!dataTable) return;\n",
              "\n",
              "          const docLinkHtml = 'Like what you see? Visit the ' +\n",
              "            '<a target=\"_blank\" href=https://colab.research.google.com/notebooks/data_table.ipynb>data table notebook</a>'\n",
              "            + ' to learn more about interactive tables.';\n",
              "          element.innerHTML = '';\n",
              "          dataTable['output_type'] = 'display_data';\n",
              "          await google.colab.output.renderOutput(dataTable, element);\n",
              "          const docLink = document.createElement('div');\n",
              "          docLink.innerHTML = docLinkHtml;\n",
              "          element.appendChild(docLink);\n",
              "        }\n",
              "      </script>\n",
              "    </div>\n",
              "  </div>\n",
              "  "
            ]
          },
          "metadata": {},
          "execution_count": 3
        }
      ]
    },
    {
      "cell_type": "markdown",
      "source": [
        "**3. Pre-processing data for the model**"
      ],
      "metadata": {
        "id": "ady1C8014Nar"
      }
    },
    {
      "cell_type": "code",
      "source": [
        "categ = ['protocol_type','service','flag']\n",
        "# Encode Categorical Columns\n",
        "le = LabelEncoder()\n",
        "data[categ] = data[categ].apply(le.fit_transform)"
      ],
      "metadata": {
        "id": "q7ZESjeVXmpa"
      },
      "execution_count": 4,
      "outputs": []
    },
    {
      "cell_type": "code",
      "source": [
        "labels=[]\n",
        "for i in data['labels']:\n",
        "  if i=='normal':\n",
        "    labels.append(0)\n",
        "  else:\n",
        "    labels.append(1)\n",
        "data['labels']=labels"
      ],
      "metadata": {
        "id": "T0YYRD1nXn3T"
      },
      "execution_count": 5,
      "outputs": []
    },
    {
      "cell_type": "code",
      "source": [
        "X = data.iloc[:,1:41]\n",
        "Y = data['labels']"
      ],
      "metadata": {
        "id": "-2cy2lX8XpCp"
      },
      "execution_count": 6,
      "outputs": []
    },
    {
      "cell_type": "code",
      "source": [
        "scaler = Normalizer().fit(X)\n",
        "X = scaler.transform(X)"
      ],
      "metadata": {
        "id": "rHN1tmbQXqI6"
      },
      "execution_count": 7,
      "outputs": []
    },
    {
      "cell_type": "code",
      "source": [
        "X_train, X_test,Y_train,Y_test = train_test_split(X,Y, test_size=0.2)"
      ],
      "metadata": {
        "id": "XvfOUAfwXrRM"
      },
      "execution_count": 8,
      "outputs": []
    },
    {
      "cell_type": "code",
      "source": [
        "# reshape input to be [samples, time steps, features]\n",
        "X_train = np.reshape(X_train, (X_train.shape[0],X_train.shape[1],1))\n",
        "X_test = np.reshape(X_test, (X_test.shape[0],X_test.shape[1],1))"
      ],
      "metadata": {
        "id": "Qq281zH8XsST"
      },
      "execution_count": 9,
      "outputs": []
    },
    {
      "cell_type": "markdown",
      "source": [
        "**4. Recurrent Neural Network Model**"
      ],
      "metadata": {
        "id": "YYZrg0744P4g"
      }
    },
    {
      "cell_type": "code",
      "source": [
        "#cnn.add(Convolution1D(128, 3 ,activation=\"relu\",input_shape=(40, 1)))\n",
        "model = Sequential()\n",
        "model.add(SimpleRNN(128,input_shape=(40, 1)))\n",
        "model.add(Dropout(0.1))\n",
        "model.add(Dense(1))\n",
        "model.add(Activation('sigmoid'))"
      ],
      "metadata": {
        "id": "HkWf5Y-QXt5t"
      },
      "execution_count": 10,
      "outputs": []
    },
    {
      "cell_type": "code",
      "source": [
        "# define optimizer and objective, compile cnn\n",
        "\n",
        "model.compile(loss=\"binary_crossentropy\", optimizer=\"adam\",metrics=['accuracy'])"
      ],
      "metadata": {
        "id": "NYc6Hm75Xu5A"
      },
      "execution_count": 11,
      "outputs": []
    },
    {
      "cell_type": "code",
      "source": [
        "history=model.fit(X_train, Y_train, epochs=75,verbose=1,batch_size=500,validation_data=(X_test, Y_test))"
      ],
      "metadata": {
        "colab": {
          "base_uri": "https://localhost:8080/"
        },
        "id": "Q4IKrmlVXwaH",
        "outputId": "e5a9b8e6-e5b0-41e5-965d-f874946ec30b"
      },
      "execution_count": 12,
      "outputs": [
        {
          "output_type": "stream",
          "name": "stdout",
          "text": [
            "Epoch 1/75\n",
            "238/238 [==============================] - 22s 85ms/step - loss: 0.2019 - accuracy: 0.9205 - val_loss: 0.1551 - val_accuracy: 0.9417\n",
            "Epoch 2/75\n",
            "238/238 [==============================] - 21s 90ms/step - loss: 0.1456 - accuracy: 0.9430 - val_loss: 0.1322 - val_accuracy: 0.9453\n",
            "Epoch 3/75\n",
            "238/238 [==============================] - 21s 90ms/step - loss: 0.1338 - accuracy: 0.9464 - val_loss: 0.1323 - val_accuracy: 0.9432\n",
            "Epoch 4/75\n",
            "238/238 [==============================] - 21s 90ms/step - loss: 0.1154 - accuracy: 0.9538 - val_loss: 0.1092 - val_accuracy: 0.9533\n",
            "Epoch 5/75\n",
            "238/238 [==============================] - 20s 84ms/step - loss: 0.1062 - accuracy: 0.9568 - val_loss: 0.0969 - val_accuracy: 0.9623\n",
            "Epoch 6/75\n",
            "238/238 [==============================] - 21s 89ms/step - loss: 0.0993 - accuracy: 0.9605 - val_loss: 0.1046 - val_accuracy: 0.9601\n",
            "Epoch 7/75\n",
            "238/238 [==============================] - 20s 85ms/step - loss: 0.0956 - accuracy: 0.9622 - val_loss: 0.0846 - val_accuracy: 0.9696\n",
            "Epoch 8/75\n",
            "238/238 [==============================] - 21s 89ms/step - loss: 0.0892 - accuracy: 0.9651 - val_loss: 0.0865 - val_accuracy: 0.9661\n",
            "Epoch 9/75\n",
            "238/238 [==============================] - 20s 84ms/step - loss: 0.0884 - accuracy: 0.9649 - val_loss: 0.0861 - val_accuracy: 0.9669\n",
            "Epoch 10/75\n",
            "238/238 [==============================] - 21s 90ms/step - loss: 0.0834 - accuracy: 0.9684 - val_loss: 0.0778 - val_accuracy: 0.9702\n",
            "Epoch 11/75\n",
            "238/238 [==============================] - 21s 90ms/step - loss: 0.0829 - accuracy: 0.9687 - val_loss: 0.0787 - val_accuracy: 0.9624\n",
            "Epoch 12/75\n",
            "238/238 [==============================] - 21s 89ms/step - loss: 0.0763 - accuracy: 0.9720 - val_loss: 0.0679 - val_accuracy: 0.9753\n",
            "Epoch 13/75\n",
            "238/238 [==============================] - 20s 85ms/step - loss: 0.0818 - accuracy: 0.9686 - val_loss: 0.0709 - val_accuracy: 0.9746\n",
            "Epoch 14/75\n",
            "238/238 [==============================] - 20s 84ms/step - loss: 0.0739 - accuracy: 0.9732 - val_loss: 0.0837 - val_accuracy: 0.9583\n",
            "Epoch 15/75\n",
            "238/238 [==============================] - 21s 90ms/step - loss: 0.0779 - accuracy: 0.9707 - val_loss: 0.0729 - val_accuracy: 0.9729\n",
            "Epoch 16/75\n",
            "238/238 [==============================] - 20s 84ms/step - loss: 0.0727 - accuracy: 0.9736 - val_loss: 0.0725 - val_accuracy: 0.9717\n",
            "Epoch 17/75\n",
            "238/238 [==============================] - 21s 89ms/step - loss: 0.0719 - accuracy: 0.9740 - val_loss: 0.0771 - val_accuracy: 0.9719\n",
            "Epoch 18/75\n",
            "238/238 [==============================] - 20s 85ms/step - loss: 0.0728 - accuracy: 0.9728 - val_loss: 0.0657 - val_accuracy: 0.9764\n",
            "Epoch 19/75\n",
            "238/238 [==============================] - 22s 94ms/step - loss: 0.0684 - accuracy: 0.9751 - val_loss: 0.0700 - val_accuracy: 0.9755\n",
            "Epoch 20/75\n",
            "238/238 [==============================] - 20s 84ms/step - loss: 0.0721 - accuracy: 0.9736 - val_loss: 0.0628 - val_accuracy: 0.9777\n",
            "Epoch 21/75\n",
            "238/238 [==============================] - 21s 90ms/step - loss: 0.0659 - accuracy: 0.9761 - val_loss: 0.0680 - val_accuracy: 0.9757\n",
            "Epoch 22/75\n",
            "238/238 [==============================] - 20s 84ms/step - loss: 0.0706 - accuracy: 0.9739 - val_loss: 0.0635 - val_accuracy: 0.9780\n",
            "Epoch 23/75\n",
            "238/238 [==============================] - 21s 90ms/step - loss: 0.0663 - accuracy: 0.9767 - val_loss: 0.0596 - val_accuracy: 0.9779\n",
            "Epoch 24/75\n",
            "238/238 [==============================] - 20s 84ms/step - loss: 0.0638 - accuracy: 0.9774 - val_loss: 0.0652 - val_accuracy: 0.9753\n",
            "Epoch 25/75\n",
            "238/238 [==============================] - 21s 90ms/step - loss: 0.0648 - accuracy: 0.9769 - val_loss: 0.0931 - val_accuracy: 0.9641\n",
            "Epoch 26/75\n",
            "238/238 [==============================] - 20s 84ms/step - loss: 0.0646 - accuracy: 0.9764 - val_loss: 0.0669 - val_accuracy: 0.9748\n",
            "Epoch 27/75\n",
            "238/238 [==============================] - 21s 90ms/step - loss: 0.0654 - accuracy: 0.9764 - val_loss: 0.0733 - val_accuracy: 0.9717\n",
            "Epoch 28/75\n",
            "238/238 [==============================] - 21s 90ms/step - loss: 0.0725 - accuracy: 0.9740 - val_loss: 0.0601 - val_accuracy: 0.9777\n",
            "Epoch 29/75\n",
            "238/238 [==============================] - 21s 90ms/step - loss: 0.0647 - accuracy: 0.9766 - val_loss: 0.0588 - val_accuracy: 0.9784\n",
            "Epoch 30/75\n",
            "238/238 [==============================] - 20s 85ms/step - loss: 0.0635 - accuracy: 0.9770 - val_loss: 0.0600 - val_accuracy: 0.9773\n",
            "Epoch 31/75\n",
            "238/238 [==============================] - 21s 90ms/step - loss: 0.0642 - accuracy: 0.9768 - val_loss: 0.0795 - val_accuracy: 0.9707\n",
            "Epoch 32/75\n",
            "238/238 [==============================] - 20s 84ms/step - loss: 0.0628 - accuracy: 0.9774 - val_loss: 0.0538 - val_accuracy: 0.9797\n",
            "Epoch 33/75\n",
            "238/238 [==============================] - 20s 84ms/step - loss: 0.0622 - accuracy: 0.9774 - val_loss: 0.0602 - val_accuracy: 0.9775\n",
            "Epoch 34/75\n",
            "238/238 [==============================] - 21s 90ms/step - loss: 0.0643 - accuracy: 0.9766 - val_loss: 0.0613 - val_accuracy: 0.9766\n",
            "Epoch 35/75\n",
            "238/238 [==============================] - 20s 84ms/step - loss: 0.0645 - accuracy: 0.9769 - val_loss: 0.0631 - val_accuracy: 0.9778\n",
            "Epoch 36/75\n",
            "238/238 [==============================] - 22s 94ms/step - loss: 0.0629 - accuracy: 0.9773 - val_loss: 0.0682 - val_accuracy: 0.9752\n",
            "Epoch 37/75\n",
            "238/238 [==============================] - 20s 83ms/step - loss: 0.0630 - accuracy: 0.9774 - val_loss: 0.0558 - val_accuracy: 0.9809\n",
            "Epoch 38/75\n",
            "238/238 [==============================] - 21s 89ms/step - loss: 0.0640 - accuracy: 0.9764 - val_loss: 0.0579 - val_accuracy: 0.9796\n",
            "Epoch 39/75\n",
            "238/238 [==============================] - 20s 84ms/step - loss: 0.0638 - accuracy: 0.9768 - val_loss: 0.0665 - val_accuracy: 0.9740\n",
            "Epoch 40/75\n",
            "238/238 [==============================] - 21s 90ms/step - loss: 0.0643 - accuracy: 0.9770 - val_loss: 0.0939 - val_accuracy: 0.9651\n",
            "Epoch 41/75\n",
            "238/238 [==============================] - 20s 83ms/step - loss: 0.0640 - accuracy: 0.9769 - val_loss: 0.0615 - val_accuracy: 0.9763\n",
            "Epoch 42/75\n",
            "238/238 [==============================] - 21s 89ms/step - loss: 0.0619 - accuracy: 0.9779 - val_loss: 0.0617 - val_accuracy: 0.9764\n",
            "Epoch 43/75\n",
            "238/238 [==============================] - 20s 83ms/step - loss: 0.0591 - accuracy: 0.9785 - val_loss: 0.0576 - val_accuracy: 0.9791\n",
            "Epoch 44/75\n",
            "238/238 [==============================] - 21s 89ms/step - loss: 0.0626 - accuracy: 0.9780 - val_loss: 0.0570 - val_accuracy: 0.9785\n",
            "Epoch 45/75\n",
            "238/238 [==============================] - 21s 89ms/step - loss: 0.0603 - accuracy: 0.9777 - val_loss: 0.0554 - val_accuracy: 0.9797\n",
            "Epoch 46/75\n",
            "238/238 [==============================] - 21s 89ms/step - loss: 0.0583 - accuracy: 0.9792 - val_loss: 0.0617 - val_accuracy: 0.9712\n",
            "Epoch 47/75\n",
            "238/238 [==============================] - 20s 84ms/step - loss: 0.0781 - accuracy: 0.9723 - val_loss: 0.0720 - val_accuracy: 0.9765\n",
            "Epoch 48/75\n",
            "238/238 [==============================] - 21s 89ms/step - loss: 0.0685 - accuracy: 0.9759 - val_loss: 0.0628 - val_accuracy: 0.9767\n",
            "Epoch 49/75\n",
            "238/238 [==============================] - 20s 83ms/step - loss: 0.0593 - accuracy: 0.9790 - val_loss: 0.0589 - val_accuracy: 0.9747\n",
            "Epoch 50/75\n",
            "238/238 [==============================] - 21s 87ms/step - loss: 0.0643 - accuracy: 0.9769 - val_loss: 0.0586 - val_accuracy: 0.9794\n",
            "Epoch 51/75\n",
            "238/238 [==============================] - 20s 83ms/step - loss: 0.0623 - accuracy: 0.9777 - val_loss: 0.0846 - val_accuracy: 0.9708\n",
            "Epoch 52/75\n",
            "238/238 [==============================] - 20s 84ms/step - loss: 0.0639 - accuracy: 0.9771 - val_loss: 0.0595 - val_accuracy: 0.9765\n",
            "Epoch 53/75\n",
            "238/238 [==============================] - 22s 93ms/step - loss: 0.0615 - accuracy: 0.9778 - val_loss: 0.0714 - val_accuracy: 0.9668\n",
            "Epoch 54/75\n",
            "238/238 [==============================] - 20s 86ms/step - loss: 0.0585 - accuracy: 0.9793 - val_loss: 0.0564 - val_accuracy: 0.9777\n",
            "Epoch 55/75\n",
            "238/238 [==============================] - 21s 89ms/step - loss: 0.0642 - accuracy: 0.9776 - val_loss: 0.0563 - val_accuracy: 0.9787\n",
            "Epoch 56/75\n",
            "238/238 [==============================] - 20s 84ms/step - loss: 0.0657 - accuracy: 0.9762 - val_loss: 0.0703 - val_accuracy: 0.9757\n",
            "Epoch 57/75\n",
            "238/238 [==============================] - 21s 90ms/step - loss: 0.0646 - accuracy: 0.9767 - val_loss: 0.0736 - val_accuracy: 0.9732\n",
            "Epoch 58/75\n",
            "238/238 [==============================] - 20s 83ms/step - loss: 0.0604 - accuracy: 0.9784 - val_loss: 0.0648 - val_accuracy: 0.9777\n",
            "Epoch 59/75\n",
            "238/238 [==============================] - 21s 90ms/step - loss: 0.0612 - accuracy: 0.9782 - val_loss: 0.0779 - val_accuracy: 0.9721\n",
            "Epoch 60/75\n",
            "238/238 [==============================] - 20s 83ms/step - loss: 0.0635 - accuracy: 0.9770 - val_loss: 0.0616 - val_accuracy: 0.9752\n",
            "Epoch 61/75\n",
            "238/238 [==============================] - 21s 90ms/step - loss: 0.0635 - accuracy: 0.9777 - val_loss: 0.0610 - val_accuracy: 0.9776\n",
            "Epoch 62/75\n",
            "238/238 [==============================] - 21s 89ms/step - loss: 0.0568 - accuracy: 0.9797 - val_loss: 0.0567 - val_accuracy: 0.9796\n",
            "Epoch 63/75\n",
            "238/238 [==============================] - 21s 89ms/step - loss: 0.0654 - accuracy: 0.9760 - val_loss: 0.0701 - val_accuracy: 0.9745\n",
            "Epoch 64/75\n",
            "238/238 [==============================] - 20s 84ms/step - loss: 0.0612 - accuracy: 0.9779 - val_loss: 0.0534 - val_accuracy: 0.9801\n",
            "Epoch 65/75\n",
            "238/238 [==============================] - 21s 89ms/step - loss: 0.0528 - accuracy: 0.9809 - val_loss: 0.0555 - val_accuracy: 0.9794\n",
            "Epoch 66/75\n",
            "238/238 [==============================] - 20s 84ms/step - loss: 0.0538 - accuracy: 0.9803 - val_loss: 0.0624 - val_accuracy: 0.9744\n",
            "Epoch 67/75\n",
            "238/238 [==============================] - 21s 89ms/step - loss: 0.0551 - accuracy: 0.9802 - val_loss: 0.0537 - val_accuracy: 0.9801\n",
            "Epoch 68/75\n",
            "238/238 [==============================] - 20s 84ms/step - loss: 0.0634 - accuracy: 0.9775 - val_loss: 0.0943 - val_accuracy: 0.9652\n",
            "Epoch 69/75\n",
            "238/238 [==============================] - 21s 90ms/step - loss: 0.0658 - accuracy: 0.9761 - val_loss: 0.0745 - val_accuracy: 0.9684\n",
            "Epoch 70/75\n",
            "238/238 [==============================] - 21s 90ms/step - loss: 0.0617 - accuracy: 0.9773 - val_loss: 0.0580 - val_accuracy: 0.9790\n",
            "Epoch 71/75\n",
            "238/238 [==============================] - 21s 89ms/step - loss: 0.0620 - accuracy: 0.9773 - val_loss: 0.0539 - val_accuracy: 0.9790\n",
            "Epoch 72/75\n",
            "238/238 [==============================] - 20s 85ms/step - loss: 0.0552 - accuracy: 0.9800 - val_loss: 0.0519 - val_accuracy: 0.9799\n",
            "Epoch 73/75\n",
            "238/238 [==============================] - 21s 90ms/step - loss: 0.0594 - accuracy: 0.9785 - val_loss: 0.0577 - val_accuracy: 0.9783\n",
            "Epoch 74/75\n",
            "238/238 [==============================] - 20s 84ms/step - loss: 0.0625 - accuracy: 0.9774 - val_loss: 0.0622 - val_accuracy: 0.9767\n",
            "Epoch 75/75\n",
            "238/238 [==============================] - 21s 88ms/step - loss: 0.0582 - accuracy: 0.9786 - val_loss: 0.0520 - val_accuracy: 0.9809\n"
          ]
        }
      ]
    },
    {
      "cell_type": "markdown",
      "source": [
        "**5. Model Accuracy and Loss**"
      ],
      "metadata": {
        "id": "xyRUlCBZ5TGe"
      }
    },
    {
      "cell_type": "code",
      "source": [
        "plt.plot(history.history['accuracy'])\n",
        "plt.plot(history.history['val_accuracy'])\n",
        "plt.title('model accuracy')\n",
        "plt.ylabel('accuracy')\n",
        "plt.xlabel('epoch')\n",
        "plt.legend(['train', 'test'], loc='upper left')\n",
        "plt.show()"
      ],
      "metadata": {
        "colab": {
          "base_uri": "https://localhost:8080/",
          "height": 295
        },
        "id": "bvYT9XfYXzJX",
        "outputId": "2e6d311d-53d6-4139-bdc5-7158261822cf"
      },
      "execution_count": 13,
      "outputs": [
        {
          "output_type": "display_data",
          "data": {
            "text/plain": [
              "<Figure size 432x288 with 1 Axes>"
            ],
            "image/png": "[encoded data removed]"
          },
          "metadata": {
            "needs_background": "light"
          }
        }
      ]
    },
    {
      "cell_type": "code",
      "source": [
        "plt.plot(history.history['loss'])\n",
        "plt.plot(history.history['val_loss'])\n",
        "plt.title('model loss')\n",
        "plt.ylabel('loss')\n",
        "plt.xlabel('epoch')\n",
        "plt.legend(['train', 'test'], loc='upper left')\n",
        "plt.show()"
      ],
      "metadata": {
        "colab": {
          "base_uri": "https://localhost:8080/",
          "height": 295
        },
        "id": "mff4zpwwX1fd",
        "outputId": "e01a141b-7f49-4e7e-fa13-13beb35fb871"
      },
      "execution_count": 14,
      "outputs": [
        {
          "output_type": "display_data",
          "data": {
            "text/plain": [
              "<Figure size 432x288 with 1 Axes>"
            ],
            "image/png": "[encoded data removed]"
          },
          "metadata": {
            "needs_background": "light"
          }
        }
      ]
    },
    {
      "cell_type": "code",
      "source": [
        "model.save(\"./rnn_model.hdf5\")"
      ],
      "metadata": {
        "id": "ZKo8BQpY5Xoj"
      },
      "execution_count": 15,
      "outputs": []
    }
  ]
}