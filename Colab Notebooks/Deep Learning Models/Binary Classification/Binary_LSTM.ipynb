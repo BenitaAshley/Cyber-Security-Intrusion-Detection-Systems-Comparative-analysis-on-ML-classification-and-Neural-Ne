{
  "nbformat": 4,
  "nbformat_minor": 0,
  "metadata": {
    "colab": {
      "provenance": []
    },
    "kernelspec": {
      "name": "python3",
      "display_name": "Python 3"
    },
    "language_info": {
      "name": "python"
    }
  },
  "cells": [
    {
      "cell_type": "markdown",
      "source": [
        "\n",
        "#**Project Title:**\n",
        "\n",
        "\n",
        "#                  **Cyber Security Intrusion Detection Systems : Comparative analysis on ML classification and Neural Networks**"
      ],
      "metadata": {
        "id": "RJma6pifNeU0"
      }
    },
    {
      "cell_type": "markdown",
      "source": [
        "#Author\n",
        "\n",
        "**Author Name:** Benita Ashley\n",
        "\n",
        "**Student ID:** 220058151"
      ],
      "metadata": {
        "id": "9Lkxt3jtNiBY"
      }
    },
    {
      "cell_type": "markdown",
      "source": [
        "# Project Supervisor\n",
        "\n",
        "**Name:** Dr Mahdieh Sadabadi\n"
      ],
      "metadata": {
        "id": "5-RIgl6kNjqa"
      }
    },
    {
      "cell_type": "markdown",
      "source": [
        "  **1. Importing Required Libraries**"
      ],
      "metadata": {
        "id": "q7ZYgh0mNlYK"
      }
    },
    {
      "cell_type": "code",
      "execution_count": 1,
      "metadata": {
        "id": "6xYCMpNbWkHQ"
      },
      "outputs": [],
      "source": [
        "from __future__ import print_function\n",
        "import numpy as np\n",
        "np.random.seed(1337)  # for reproducibility\n",
        "from keras.preprocessing import sequence\n",
        "from keras.models import Sequential\n",
        "from keras.layers import Dense, Dropout, Activation, Lambda\n",
        "from keras.layers import Embedding\n",
        "from keras.layers import Convolution1D,MaxPooling1D, Flatten\n",
        "from keras.datasets import imdb\n",
        "from keras import backend as K\n",
        "from sklearn.model_selection import train_test_split\n",
        "import pandas as pd\n",
        "from keras.utils.np_utils import to_categorical\n",
        "from sklearn.preprocessing import Normalizer\n",
        "from keras.models import Sequential\n",
        "from keras.layers import Convolution1D, Dense, Dropout, Flatten, MaxPooling1D\n",
        "from keras.utils import np_utils\n",
        "import numpy as np\n",
        "import h5py\n",
        "from keras import callbacks\n",
        "from keras.layers import LSTM, GRU, SimpleRNN\n",
        "from keras.callbacks import CSVLogger\n",
        "from keras.callbacks import ModelCheckpoint, EarlyStopping, ReduceLROnPlateau, CSVLogger\n",
        "from sklearn.preprocessing import LabelEncoder\n",
        "import matplotlib.pyplot as plt"
      ]
    },
    {
      "cell_type": "markdown",
      "source": [
        "**2. Reading the datset and displaying the same**"
      ],
      "metadata": {
        "id": "KGXAp-9iNnZs"
      }
    },
    {
      "cell_type": "code",
      "source": [
        "traindata = pd.read_csv('KDDCup99_Train.csv')\n",
        "testdata = pd.read_csv('KDDCup99_Test.csv')"
      ],
      "metadata": {
        "id": "2CasVkosWuZp"
      },
      "execution_count": 2,
      "outputs": []
    },
    {
      "cell_type": "code",
      "source": [
        "data = pd.concat([traindata,testdata])\n",
        "data.head()"
      ],
      "metadata": {
        "id": "7rsp4ozNW1zi",
        "colab": {
          "base_uri": "https://localhost:8080/",
          "height": 299
        },
        "outputId": "da425f0f-5fa5-46c5-d169-aadfe12e01fe"
      },
      "execution_count": 3,
      "outputs": [
        {
          "output_type": "execute_result",
          "data": {
            "text/plain": [
              "   duration protocol_type   service flag  src_bytes  dst_bytes  land  \\\n",
              "0         0           tcp  ftp_data   SF        491          0     0   \n",
              "1         0           udp     other   SF        146          0     0   \n",
              "2         0           tcp   private   S0          0          0     0   \n",
              "3         0           tcp      http   SF        232       8153     0   \n",
              "4         0           tcp      http   SF        199        420     0   \n",
              "\n",
              "   wrong_fragment  urgent  hot  ...  dst_host_srv_count  \\\n",
              "0               0       0    0  ...                  25   \n",
              "1               0       0    0  ...                   1   \n",
              "2               0       0    0  ...                  26   \n",
              "3               0       0    0  ...                 255   \n",
              "4               0       0    0  ...                 255   \n",
              "\n",
              "   dst_host_same_srv_rate  dst_host_diff_srv_rate  \\\n",
              "0                    0.17                    0.03   \n",
              "1                    0.00                    0.60   \n",
              "2                    0.10                    0.05   \n",
              "3                    1.00                    0.00   \n",
              "4                    1.00                    0.00   \n",
              "\n",
              "   dst_host_same_src_port_rate  dst_host_srv_diff_host_rate  \\\n",
              "0                         0.17                         0.00   \n",
              "1                         0.88                         0.00   \n",
              "2                         0.00                         0.00   \n",
              "3                         0.03                         0.04   \n",
              "4                         0.00                         0.00   \n",
              "\n",
              "   dst_host_serror_rate  dst_host_srv_serror_rate  dst_host_rerror_rate  \\\n",
              "0                  0.00                      0.00                  0.05   \n",
              "1                  0.00                      0.00                  0.00   \n",
              "2                  1.00                      1.00                  0.00   \n",
              "3                  0.03                      0.01                  0.00   \n",
              "4                  0.00                      0.00                  0.00   \n",
              "\n",
              "   dst_host_srv_rerror_rate   labels  \n",
              "0                      0.00   normal  \n",
              "1                      0.00   normal  \n",
              "2                      0.00  anomaly  \n",
              "3                      0.01   normal  \n",
              "4                      0.00   normal  \n",
              "\n",
              "[5 rows x 42 columns]"
            ],
            "text/html": [
              "\n",
              "  <div id=\"df-ec6658c5-6076-4307-85c6-ce5d815fa72c\">\n",
              "    <div class=\"colab-df-container\">\n",
              "      <div>\n",
              "<style scoped>\n",
              "    .dataframe tbody tr th:only-of-type {\n",
              "        vertical-align: middle;\n",
              "    }\n",
              "\n",
              "    .dataframe tbody tr th {\n",
              "        vertical-align: top;\n",
              "    }\n",
              "\n",
              "    .dataframe thead th {\n",
              "        text-align: right;\n",
              "    }\n",
              "</style>\n",
              "<table border=\"1\" class=\"dataframe\">\n",
              "  <thead>\n",
              "    <tr style=\"text-align: right;\">\n",
              "      <th></th>\n",
              "      <th>duration</th>\n",
              "      <th>protocol_type</th>\n",
              "      <th>service</th>\n",
              "      <th>flag</th>\n",
              "      <th>src_bytes</th>\n",
              "      <th>dst_bytes</th>\n",
              "      <th>land</th>\n",
              "      <th>wrong_fragment</th>\n",
              "      <th>urgent</th>\n",
              "      <th>hot</th>\n",
              "      <th>...</th>\n",
              "      <th>dst_host_srv_count</th>\n",
              "      <th>dst_host_same_srv_rate</th>\n",
              "      <th>dst_host_diff_srv_rate</th>\n",
              "      <th>dst_host_same_src_port_rate</th>\n",
              "      <th>dst_host_srv_diff_host_rate</th>\n",
              "      <th>dst_host_serror_rate</th>\n",
              "      <th>dst_host_srv_serror_rate</th>\n",
              "      <th>dst_host_rerror_rate</th>\n",
              "      <th>dst_host_srv_rerror_rate</th>\n",
              "      <th>labels</th>\n",
              "    </tr>\n",
              "  </thead>\n",
              "  <tbody>\n",
              "    <tr>\n",
              "      <th>0</th>\n",
              "      <td>0</td>\n",
              "      <td>tcp</td>\n",
              "      <td>ftp_data</td>\n",
              "      <td>SF</td>\n",
              "      <td>491</td>\n",
              "      <td>0</td>\n",
              "      <td>0</td>\n",
              "      <td>0</td>\n",
              "      <td>0</td>\n",
              "      <td>0</td>\n",
              "      <td>...</td>\n",
              "      <td>25</td>\n",
              "      <td>0.17</td>\n",
              "      <td>0.03</td>\n",
              "      <td>0.17</td>\n",
              "      <td>0.00</td>\n",
              "      <td>0.00</td>\n",
              "      <td>0.00</td>\n",
              "      <td>0.05</td>\n",
              "      <td>0.00</td>\n",
              "      <td>normal</td>\n",
              "    </tr>\n",
              "    <tr>\n",
              "      <th>1</th>\n",
              "      <td>0</td>\n",
              "      <td>udp</td>\n",
              "      <td>other</td>\n",
              "      <td>SF</td>\n",
              "      <td>146</td>\n",
              "      <td>0</td>\n",
              "      <td>0</td>\n",
              "      <td>0</td>\n",
              "      <td>0</td>\n",
              "      <td>0</td>\n",
              "      <td>...</td>\n",
              "      <td>1</td>\n",
              "      <td>0.00</td>\n",
              "      <td>0.60</td>\n",
              "      <td>0.88</td>\n",
              "      <td>0.00</td>\n",
              "      <td>0.00</td>\n",
              "      <td>0.00</td>\n",
              "      <td>0.00</td>\n",
              "      <td>0.00</td>\n",
              "      <td>normal</td>\n",
              "    </tr>\n",
              "    <tr>\n",
              "      <th>2</th>\n",
              "      <td>0</td>\n",
              "      <td>tcp</td>\n",
              "      <td>private</td>\n",
              "      <td>S0</td>\n",
              "      <td>0</td>\n",
              "      <td>0</td>\n",
              "      <td>0</td>\n",
              "      <td>0</td>\n",
              "      <td>0</td>\n",
              "      <td>0</td>\n",
              "      <td>...</td>\n",
              "      <td>26</td>\n",
              "      <td>0.10</td>\n",
              "      <td>0.05</td>\n",
              "      <td>0.00</td>\n",
              "      <td>0.00</td>\n",
              "      <td>1.00</td>\n",
              "      <td>1.00</td>\n",
              "      <td>0.00</td>\n",
              "      <td>0.00</td>\n",
              "      <td>anomaly</td>\n",
              "    </tr>\n",
              "    <tr>\n",
              "      <th>3</th>\n",
              "      <td>0</td>\n",
              "      <td>tcp</td>\n",
              "      <td>http</td>\n",
              "      <td>SF</td>\n",
              "      <td>232</td>\n",
              "      <td>8153</td>\n",
              "      <td>0</td>\n",
              "      <td>0</td>\n",
              "      <td>0</td>\n",
              "      <td>0</td>\n",
              "      <td>...</td>\n",
              "      <td>255</td>\n",
              "      <td>1.00</td>\n",
              "      <td>0.00</td>\n",
              "      <td>0.03</td>\n",
              "      <td>0.04</td>\n",
              "      <td>0.03</td>\n",
              "      <td>0.01</td>\n",
              "      <td>0.00</td>\n",
              "      <td>0.01</td>\n",
              "      <td>normal</td>\n",
              "    </tr>\n",
              "    <tr>\n",
              "      <th>4</th>\n",
              "      <td>0</td>\n",
              "      <td>tcp</td>\n",
              "      <td>http</td>\n",
              "      <td>SF</td>\n",
              "      <td>199</td>\n",
              "      <td>420</td>\n",
              "      <td>0</td>\n",
              "      <td>0</td>\n",
              "      <td>0</td>\n",
              "      <td>0</td>\n",
              "      <td>...</td>\n",
              "      <td>255</td>\n",
              "      <td>1.00</td>\n",
              "      <td>0.00</td>\n",
              "      <td>0.00</td>\n",
              "      <td>0.00</td>\n",
              "      <td>0.00</td>\n",
              "      <td>0.00</td>\n",
              "      <td>0.00</td>\n",
              "      <td>0.00</td>\n",
              "      <td>normal</td>\n",
              "    </tr>\n",
              "  </tbody>\n",
              "</table>\n",
              "<p>5 rows × 42 columns</p>\n",
              "</div>\n",
              "      <button class=\"colab-df-convert\" onclick=\"convertToInteractive('df-ec6658c5-6076-4307-85c6-ce5d815fa72c')\"\n",
              "              title=\"Convert this dataframe to an interactive table.\"\n",
              "              style=\"display:none;\">\n",
              "        \n",
              "  <svg xmlns=\"http://www.w3.org/2000/svg\" height=\"24px\"viewBox=\"0 0 24 24\"\n",
              "       width=\"24px\">\n",
              "    <path d=\"M0 0h24v24H0V0z\" fill=\"none\"/>\n",
              "    <path d=\"M18.56 5.44l.94 2.06.94-2.06 2.06-.94-2.06-.94-.94-2.06-.94 2.06-2.06.94zm-11 1L8.5 8.5l.94-2.06 2.06-.94-2.06-.94L8.5 2.5l-.94 2.06-2.06.94zm10 10l.94 2.06.94-2.06 2.06-.94-2.06-.94-.94-2.06-.94 2.06-2.06.94z\"/><path d=\"M17.41 7.96l-1.37-1.37c-.4-.4-.92-.59-1.43-.59-.52 0-1.04.2-1.43.59L10.3 9.45l-7.72 7.72c-.78.78-.78 2.05 0 2.83L4 21.41c.39.39.9.59 1.41.59.51 0 1.02-.2 1.41-.59l7.78-7.78 2.81-2.81c.8-.78.8-2.07 0-2.86zM5.41 20L4 18.59l7.72-7.72 1.47 1.35L5.41 20z\"/>\n",
              "  </svg>\n",
              "      </button>\n",
              "      \n",
              "  <style>\n",
              "    .colab-df-container {\n",
              "      display:flex;\n",
              "      flex-wrap:wrap;\n",
              "      gap: 12px;\n",
              "    }\n",
              "\n",
              "    .colab-df-convert {\n",
              "      background-color: #E8F0FE;\n",
              "      border: none;\n",
              "      border-radius: 50%;\n",
              "      cursor: pointer;\n",
              "      display: none;\n",
              "      fill: #1967D2;\n",
              "      height: 32px;\n",
              "      padding: 0 0 0 0;\n",
              "      width: 32px;\n",
              "    }\n",
              "\n",
              "    .colab-df-convert:hover {\n",
              "      background-color: #E2EBFA;\n",
              "      box-shadow: 0px 1px 2px rgba(60, 64, 67, 0.3), 0px 1px 3px 1px rgba(60, 64, 67, 0.15);\n",
              "      fill: #174EA6;\n",
              "    }\n",
              "\n",
              "    [theme=dark] .colab-df-convert {\n",
              "      background-color: #3B4455;\n",
              "      fill: #D2E3FC;\n",
              "    }\n",
              "\n",
              "    [theme=dark] .colab-df-convert:hover {\n",
              "      background-color: #434B5C;\n",
              "      box-shadow: 0px 1px 3px 1px rgba(0, 0, 0, 0.15);\n",
              "      filter: drop-shadow(0px 1px 2px rgba(0, 0, 0, 0.3));\n",
              "      fill: #FFFFFF;\n",
              "    }\n",
              "  </style>\n",
              "\n",
              "      <script>\n",
              "        const buttonEl =\n",
              "          document.querySelector('#df-ec6658c5-6076-4307-85c6-ce5d815fa72c button.colab-df-convert');\n",
              "        buttonEl.style.display =\n",
              "          google.colab.kernel.accessAllowed ? 'block' : 'none';\n",
              "\n",
              "        async function convertToInteractive(key) {\n",
              "          const element = document.querySelector('#df-ec6658c5-6076-4307-85c6-ce5d815fa72c');\n",
              "          const dataTable =\n",
              "            await google.colab.kernel.invokeFunction('convertToInteractive',\n",
              "                                                     [key], {});\n",
              "          if (!dataTable) return;\n",
              "\n",
              "          const docLinkHtml = 'Like what you see? Visit the ' +\n",
              "            '<a target=\"_blank\" href=https://colab.research.google.com/notebooks/data_table.ipynb>data table notebook</a>'\n",
              "            + ' to learn more about interactive tables.';\n",
              "          element.innerHTML = '';\n",
              "          dataTable['output_type'] = 'display_data';\n",
              "          await google.colab.output.renderOutput(dataTable, element);\n",
              "          const docLink = document.createElement('div');\n",
              "          docLink.innerHTML = docLinkHtml;\n",
              "          element.appendChild(docLink);\n",
              "        }\n",
              "      </script>\n",
              "    </div>\n",
              "  </div>\n",
              "  "
            ]
          },
          "metadata": {},
          "execution_count": 3
        }
      ]
    },
    {
      "cell_type": "markdown",
      "source": [
        "**3. Pre-processing data for the model**"
      ],
      "metadata": {
        "id": "YAve04yBNprp"
      }
    },
    {
      "cell_type": "code",
      "source": [
        "categ = ['protocol_type','service','flag']\n",
        "# Encode Categorical Columns\n",
        "le = LabelEncoder()\n",
        "data[categ] = data[categ].apply(le.fit_transform)"
      ],
      "metadata": {
        "id": "gCdudkfPW3wZ"
      },
      "execution_count": 4,
      "outputs": []
    },
    {
      "cell_type": "code",
      "source": [
        "labels=[]\n",
        "for i in data['labels']:\n",
        "  if i=='normal':\n",
        "    labels.append(0)\n",
        "  else:\n",
        "    labels.append(1)\n",
        "data['labels']=labels"
      ],
      "metadata": {
        "id": "FbSquWCaW5Cf"
      },
      "execution_count": 5,
      "outputs": []
    },
    {
      "cell_type": "code",
      "source": [
        "X = data.iloc[:,1:41]\n",
        "Y = data['labels']"
      ],
      "metadata": {
        "id": "EEC2dkqdW6IK"
      },
      "execution_count": 6,
      "outputs": []
    },
    {
      "cell_type": "code",
      "source": [
        "scaler = Normalizer().fit(X)\n",
        "X = scaler.transform(X)"
      ],
      "metadata": {
        "id": "9NhUMNjhW6ON"
      },
      "execution_count": 7,
      "outputs": []
    },
    {
      "cell_type": "code",
      "source": [
        "X_train, X_test,Y_train,Y_test = train_test_split(X,Y, test_size=0.2)"
      ],
      "metadata": {
        "id": "--VR6pImW9Ca"
      },
      "execution_count": 8,
      "outputs": []
    },
    {
      "cell_type": "code",
      "source": [
        "# reshape input to be [samples, time steps, features]\n",
        "X_train = np.reshape(X_train, (X_train.shape[0],X_train.shape[1],1))\n",
        "X_test = np.reshape(X_test, (X_test.shape[0],X_test.shape[1],1))"
      ],
      "metadata": {
        "id": "NCfMfDi7W-Qv"
      },
      "execution_count": 9,
      "outputs": []
    },
    {
      "cell_type": "markdown",
      "source": [
        "**4. Long Short-Term Memory Model**"
      ],
      "metadata": {
        "id": "mkR5WHIYNs4u"
      }
    },
    {
      "cell_type": "code",
      "source": [
        "model = Sequential()\n",
        "model.add(LSTM(128,input_shape=(40, 1)))  # try using a GRU instead, for fun\n",
        "model.add(Dropout(0.1))\n",
        "model.add(Flatten())\n",
        "model.add(Dense(1))\n",
        "model.add(Activation('sigmoid'))"
      ],
      "metadata": {
        "id": "d9QCJFPMW_gB"
      },
      "execution_count": 10,
      "outputs": []
    },
    {
      "cell_type": "code",
      "source": [
        "# define optimizer and objective, compile cnn\n",
        "model.compile(loss=\"binary_crossentropy\", optimizer=\"adam\",metrics=['accuracy'])"
      ],
      "metadata": {
        "id": "W1O0JDe1XAnJ"
      },
      "execution_count": 11,
      "outputs": []
    },
    {
      "cell_type": "code",
      "source": [
        "history=model.fit(X_train, Y_train, epochs=100,verbose=1,batch_size=500,validation_data=(X_test, Y_test))"
      ],
      "metadata": {
        "id": "hXggthQNXB3C",
        "colab": {
          "base_uri": "https://localhost:8080/"
        },
        "outputId": "878aa830-ba60-44c3-e9d4-71bb1cf1afa5"
      },
      "execution_count": 12,
      "outputs": [
        {
          "output_type": "stream",
          "name": "stdout",
          "text": [
            "Epoch 1/100\n",
            "238/238 [==============================] - 78s 319ms/step - loss: 0.3411 - accuracy: 0.8570 - val_loss: 0.2639 - val_accuracy: 0.8898\n",
            "Epoch 2/100\n",
            "238/238 [==============================] - 72s 304ms/step - loss: 0.2597 - accuracy: 0.8915 - val_loss: 0.2365 - val_accuracy: 0.8864\n",
            "Epoch 3/100\n",
            "238/238 [==============================] - 75s 315ms/step - loss: 0.2376 - accuracy: 0.8966 - val_loss: 0.2258 - val_accuracy: 0.9058\n",
            "Epoch 4/100\n",
            "238/238 [==============================] - 74s 309ms/step - loss: 0.2343 - accuracy: 0.8985 - val_loss: 0.2400 - val_accuracy: 0.8924\n",
            "Epoch 5/100\n",
            "238/238 [==============================] - 72s 304ms/step - loss: 0.2301 - accuracy: 0.9005 - val_loss: 0.2142 - val_accuracy: 0.9117\n",
            "Epoch 6/100\n",
            "238/238 [==============================] - 75s 315ms/step - loss: 0.2259 - accuracy: 0.9051 - val_loss: 0.2158 - val_accuracy: 0.9109\n",
            "Epoch 7/100\n",
            "238/238 [==============================] - 74s 310ms/step - loss: 0.2199 - accuracy: 0.9081 - val_loss: 0.2113 - val_accuracy: 0.9127\n",
            "Epoch 8/100\n",
            "238/238 [==============================] - 75s 314ms/step - loss: 0.2179 - accuracy: 0.9094 - val_loss: 0.2176 - val_accuracy: 0.9006\n",
            "Epoch 9/100\n",
            "238/238 [==============================] - 73s 305ms/step - loss: 0.2143 - accuracy: 0.9116 - val_loss: 0.2197 - val_accuracy: 0.8924\n",
            "Epoch 10/100\n",
            "238/238 [==============================] - 75s 316ms/step - loss: 0.2088 - accuracy: 0.9144 - val_loss: 0.1965 - val_accuracy: 0.9188\n",
            "Epoch 11/100\n",
            "238/238 [==============================] - 74s 309ms/step - loss: 0.2032 - accuracy: 0.9164 - val_loss: 0.1983 - val_accuracy: 0.9127\n",
            "Epoch 12/100\n",
            "238/238 [==============================] - 72s 304ms/step - loss: 0.2102 - accuracy: 0.9133 - val_loss: 0.2020 - val_accuracy: 0.9100\n",
            "Epoch 13/100\n",
            "238/238 [==============================] - 75s 315ms/step - loss: 0.2057 - accuracy: 0.9147 - val_loss: 0.1939 - val_accuracy: 0.9174\n",
            "Epoch 14/100\n",
            "238/238 [==============================] - 74s 309ms/step - loss: 0.1957 - accuracy: 0.9186 - val_loss: 0.1887 - val_accuracy: 0.9203\n",
            "Epoch 15/100\n",
            "238/238 [==============================] - 74s 310ms/step - loss: 0.1962 - accuracy: 0.9180 - val_loss: 0.1940 - val_accuracy: 0.9130\n",
            "Epoch 16/100\n",
            "238/238 [==============================] - 74s 309ms/step - loss: 0.1942 - accuracy: 0.9181 - val_loss: 0.1912 - val_accuracy: 0.9233\n",
            "Epoch 17/100\n",
            "238/238 [==============================] - 74s 313ms/step - loss: 0.1886 - accuracy: 0.9206 - val_loss: 0.1825 - val_accuracy: 0.9226\n",
            "Epoch 18/100\n",
            "238/238 [==============================] - 73s 306ms/step - loss: 0.1859 - accuracy: 0.9212 - val_loss: 0.1921 - val_accuracy: 0.9216\n",
            "Epoch 19/100\n",
            "238/238 [==============================] - 74s 308ms/step - loss: 0.1807 - accuracy: 0.9234 - val_loss: 0.1681 - val_accuracy: 0.9250\n",
            "Epoch 20/100\n",
            "238/238 [==============================] - 75s 315ms/step - loss: 0.1804 - accuracy: 0.9227 - val_loss: 0.1668 - val_accuracy: 0.9220\n",
            "Epoch 21/100\n",
            "238/238 [==============================] - 73s 308ms/step - loss: 0.1778 - accuracy: 0.9238 - val_loss: 0.1660 - val_accuracy: 0.9215\n",
            "Epoch 22/100\n",
            "238/238 [==============================] - 74s 309ms/step - loss: 0.1752 - accuracy: 0.9247 - val_loss: 0.1708 - val_accuracy: 0.9294\n",
            "Epoch 23/100\n",
            "238/238 [==============================] - 74s 310ms/step - loss: 0.1724 - accuracy: 0.9269 - val_loss: 0.1634 - val_accuracy: 0.9328\n",
            "Epoch 24/100\n",
            "238/238 [==============================] - 74s 310ms/step - loss: 0.1648 - accuracy: 0.9305 - val_loss: 0.1554 - val_accuracy: 0.9352\n",
            "Epoch 25/100\n",
            "238/238 [==============================] - 74s 310ms/step - loss: 0.1642 - accuracy: 0.9310 - val_loss: 0.1967 - val_accuracy: 0.9156\n",
            "Epoch 26/100\n",
            "238/238 [==============================] - 74s 310ms/step - loss: 0.1629 - accuracy: 0.9314 - val_loss: 0.1452 - val_accuracy: 0.9379\n",
            "Epoch 27/100\n",
            "238/238 [==============================] - 75s 315ms/step - loss: 0.1492 - accuracy: 0.9390 - val_loss: 0.1426 - val_accuracy: 0.9450\n",
            "Epoch 28/100\n",
            "238/238 [==============================] - 72s 304ms/step - loss: 0.1506 - accuracy: 0.9394 - val_loss: 0.1347 - val_accuracy: 0.9493\n",
            "Epoch 29/100\n",
            "238/238 [==============================] - 75s 315ms/step - loss: 0.1423 - accuracy: 0.9422 - val_loss: 0.1300 - val_accuracy: 0.9494\n",
            "Epoch 30/100\n",
            "238/238 [==============================] - 74s 310ms/step - loss: 0.1318 - accuracy: 0.9476 - val_loss: 0.1198 - val_accuracy: 0.9549\n",
            "Epoch 31/100\n",
            "238/238 [==============================] - 72s 304ms/step - loss: 0.1254 - accuracy: 0.9501 - val_loss: 0.1231 - val_accuracy: 0.9449\n",
            "Epoch 32/100\n",
            "238/238 [==============================] - 75s 315ms/step - loss: 0.1631 - accuracy: 0.9327 - val_loss: 0.1431 - val_accuracy: 0.9398\n",
            "Epoch 33/100\n",
            "238/238 [==============================] - 74s 310ms/step - loss: 0.1329 - accuracy: 0.9457 - val_loss: 0.1168 - val_accuracy: 0.9513\n",
            "Epoch 34/100\n",
            "238/238 [==============================] - 74s 309ms/step - loss: 0.1202 - accuracy: 0.9514 - val_loss: 0.1182 - val_accuracy: 0.9523\n",
            "Epoch 35/100\n",
            "238/238 [==============================] - 74s 310ms/step - loss: 0.1204 - accuracy: 0.9510 - val_loss: 0.1036 - val_accuracy: 0.9602\n",
            "Epoch 36/100\n",
            "238/238 [==============================] - 75s 315ms/step - loss: 0.1167 - accuracy: 0.9536 - val_loss: 0.0997 - val_accuracy: 0.9591\n",
            "Epoch 37/100\n",
            "238/238 [==============================] - 73s 306ms/step - loss: 0.1067 - accuracy: 0.9574 - val_loss: 0.0999 - val_accuracy: 0.9626\n",
            "Epoch 38/100\n",
            "238/238 [==============================] - 74s 312ms/step - loss: 0.1080 - accuracy: 0.9576 - val_loss: 0.1079 - val_accuracy: 0.9597\n",
            "Epoch 39/100\n",
            "238/238 [==============================] - 75s 316ms/step - loss: 0.1070 - accuracy: 0.9579 - val_loss: 0.0937 - val_accuracy: 0.9618\n",
            "Epoch 40/100\n",
            "238/238 [==============================] - 73s 306ms/step - loss: 0.0997 - accuracy: 0.9612 - val_loss: 0.0994 - val_accuracy: 0.9624\n",
            "Epoch 41/100\n",
            "238/238 [==============================] - 75s 317ms/step - loss: 0.0977 - accuracy: 0.9626 - val_loss: 0.1043 - val_accuracy: 0.9580\n",
            "Epoch 42/100\n",
            "238/238 [==============================] - 74s 311ms/step - loss: 0.0942 - accuracy: 0.9639 - val_loss: 0.0812 - val_accuracy: 0.9690\n",
            "Epoch 43/100\n",
            "238/238 [==============================] - 73s 307ms/step - loss: 0.0938 - accuracy: 0.9643 - val_loss: 0.0916 - val_accuracy: 0.9657\n",
            "Epoch 44/100\n",
            "238/238 [==============================] - 75s 317ms/step - loss: 0.0959 - accuracy: 0.9635 - val_loss: 0.0940 - val_accuracy: 0.9627\n",
            "Epoch 45/100\n",
            "238/238 [==============================] - 74s 312ms/step - loss: 0.0895 - accuracy: 0.9665 - val_loss: 0.0917 - val_accuracy: 0.9651\n",
            "Epoch 46/100\n",
            "238/238 [==============================] - 74s 312ms/step - loss: 0.0897 - accuracy: 0.9659 - val_loss: 0.0776 - val_accuracy: 0.9707\n",
            "Epoch 47/100\n",
            "238/238 [==============================] - 74s 312ms/step - loss: 0.0872 - accuracy: 0.9672 - val_loss: 0.0776 - val_accuracy: 0.9705\n",
            "Epoch 48/100\n",
            "238/238 [==============================] - 74s 312ms/step - loss: 0.0844 - accuracy: 0.9687 - val_loss: 0.1044 - val_accuracy: 0.9639\n",
            "Epoch 49/100\n",
            "238/238 [==============================] - 75s 314ms/step - loss: 0.0881 - accuracy: 0.9668 - val_loss: 0.1019 - val_accuracy: 0.9632\n",
            "Epoch 50/100\n",
            "238/238 [==============================] - 74s 313ms/step - loss: 0.0816 - accuracy: 0.9698 - val_loss: 0.0750 - val_accuracy: 0.9730\n",
            "Epoch 51/100\n",
            "238/238 [==============================] - 76s 318ms/step - loss: 0.0817 - accuracy: 0.9695 - val_loss: 0.0741 - val_accuracy: 0.9719\n",
            "Epoch 52/100\n",
            "238/238 [==============================] - 73s 309ms/step - loss: 0.0827 - accuracy: 0.9688 - val_loss: 0.0769 - val_accuracy: 0.9717\n",
            "Epoch 53/100\n",
            "238/238 [==============================] - 76s 318ms/step - loss: 0.0819 - accuracy: 0.9700 - val_loss: 0.0762 - val_accuracy: 0.9717\n",
            "Epoch 54/100\n",
            "238/238 [==============================] - 74s 313ms/step - loss: 0.0810 - accuracy: 0.9699 - val_loss: 0.0714 - val_accuracy: 0.9726\n",
            "Epoch 55/100\n",
            "238/238 [==============================] - 73s 308ms/step - loss: 0.0786 - accuracy: 0.9707 - val_loss: 0.0799 - val_accuracy: 0.9684\n",
            "Epoch 56/100\n",
            "238/238 [==============================] - 76s 318ms/step - loss: 0.0815 - accuracy: 0.9695 - val_loss: 0.0763 - val_accuracy: 0.9722\n",
            "Epoch 57/100\n",
            "238/238 [==============================] - 74s 312ms/step - loss: 0.0768 - accuracy: 0.9716 - val_loss: 0.0737 - val_accuracy: 0.9717\n",
            "Epoch 58/100\n",
            "238/238 [==============================] - 74s 312ms/step - loss: 0.0871 - accuracy: 0.9676 - val_loss: 0.0729 - val_accuracy: 0.9723\n",
            "Epoch 59/100\n",
            "238/238 [==============================] - 74s 313ms/step - loss: 0.0770 - accuracy: 0.9716 - val_loss: 0.0673 - val_accuracy: 0.9754\n",
            "Epoch 60/100\n",
            "238/238 [==============================] - 74s 313ms/step - loss: 0.0777 - accuracy: 0.9706 - val_loss: 0.0764 - val_accuracy: 0.9708\n",
            "Epoch 61/100\n",
            "238/238 [==============================] - 74s 311ms/step - loss: 0.0751 - accuracy: 0.9719 - val_loss: 0.0728 - val_accuracy: 0.9717\n",
            "Epoch 62/100\n",
            "238/238 [==============================] - 74s 311ms/step - loss: 0.0727 - accuracy: 0.9729 - val_loss: 0.0817 - val_accuracy: 0.9683\n",
            "Epoch 63/100\n",
            "238/238 [==============================] - 74s 311ms/step - loss: 0.0764 - accuracy: 0.9711 - val_loss: 0.0713 - val_accuracy: 0.9706\n",
            "Epoch 64/100\n",
            "238/238 [==============================] - 74s 308ms/step - loss: 0.0743 - accuracy: 0.9721 - val_loss: 0.0726 - val_accuracy: 0.9744\n",
            "Epoch 65/100\n",
            "238/238 [==============================] - 74s 310ms/step - loss: 0.0746 - accuracy: 0.9725 - val_loss: 0.0739 - val_accuracy: 0.9721\n",
            "Epoch 66/100\n",
            "238/238 [==============================] - 74s 309ms/step - loss: 0.0746 - accuracy: 0.9723 - val_loss: 0.0660 - val_accuracy: 0.9753\n",
            "Epoch 67/100\n",
            "238/238 [==============================] - 74s 310ms/step - loss: 0.0741 - accuracy: 0.9724 - val_loss: 0.0696 - val_accuracy: 0.9724\n",
            "Epoch 68/100\n",
            "238/238 [==============================] - 72s 304ms/step - loss: 0.0732 - accuracy: 0.9724 - val_loss: 0.0693 - val_accuracy: 0.9733\n",
            "Epoch 69/100\n",
            "238/238 [==============================] - 75s 316ms/step - loss: 0.0741 - accuracy: 0.9723 - val_loss: 0.0735 - val_accuracy: 0.9713\n",
            "Epoch 70/100\n",
            "238/238 [==============================] - 73s 306ms/step - loss: 0.0763 - accuracy: 0.9714 - val_loss: 0.0653 - val_accuracy: 0.9757\n",
            "Epoch 71/100\n",
            "238/238 [==============================] - 75s 315ms/step - loss: 0.0685 - accuracy: 0.9748 - val_loss: 0.0677 - val_accuracy: 0.9755\n",
            "Epoch 72/100\n",
            "238/238 [==============================] - 74s 311ms/step - loss: 0.0693 - accuracy: 0.9741 - val_loss: 0.0640 - val_accuracy: 0.9767\n",
            "Epoch 73/100\n",
            "238/238 [==============================] - 73s 305ms/step - loss: 0.0720 - accuracy: 0.9732 - val_loss: 0.0718 - val_accuracy: 0.9726\n",
            "Epoch 74/100\n",
            "238/238 [==============================] - 75s 315ms/step - loss: 0.0700 - accuracy: 0.9740 - val_loss: 0.0690 - val_accuracy: 0.9731\n",
            "Epoch 75/100\n",
            "238/238 [==============================] - 73s 305ms/step - loss: 0.0710 - accuracy: 0.9737 - val_loss: 0.0685 - val_accuracy: 0.9743\n",
            "Epoch 76/100\n",
            "238/238 [==============================] - 75s 315ms/step - loss: 0.0680 - accuracy: 0.9746 - val_loss: 0.0711 - val_accuracy: 0.9731\n",
            "Epoch 77/100\n",
            "238/238 [==============================] - 73s 306ms/step - loss: 0.0672 - accuracy: 0.9751 - val_loss: 0.0671 - val_accuracy: 0.9742\n",
            "Epoch 78/100\n",
            "238/238 [==============================] - 74s 311ms/step - loss: 0.0698 - accuracy: 0.9737 - val_loss: 0.0664 - val_accuracy: 0.9734\n",
            "Epoch 79/100\n",
            "238/238 [==============================] - 74s 311ms/step - loss: 0.0671 - accuracy: 0.9752 - val_loss: 0.0662 - val_accuracy: 0.9752\n",
            "Epoch 80/100\n",
            "238/238 [==============================] - 74s 312ms/step - loss: 0.0671 - accuracy: 0.9749 - val_loss: 0.0868 - val_accuracy: 0.9705\n",
            "Epoch 81/100\n",
            "238/238 [==============================] - 73s 308ms/step - loss: 0.0681 - accuracy: 0.9746 - val_loss: 0.0657 - val_accuracy: 0.9756\n",
            "Epoch 82/100\n",
            "238/238 [==============================] - 75s 317ms/step - loss: 0.0656 - accuracy: 0.9758 - val_loss: 0.0660 - val_accuracy: 0.9744\n",
            "Epoch 83/100\n",
            "238/238 [==============================] - 73s 307ms/step - loss: 0.0756 - accuracy: 0.9720 - val_loss: 0.1256 - val_accuracy: 0.9482\n",
            "Epoch 84/100\n",
            "238/238 [==============================] - 75s 313ms/step - loss: 0.0766 - accuracy: 0.9710 - val_loss: 0.0703 - val_accuracy: 0.9738\n",
            "Epoch 85/100\n",
            "238/238 [==============================] - 74s 310ms/step - loss: 0.0704 - accuracy: 0.9736 - val_loss: 0.0751 - val_accuracy: 0.9686\n",
            "Epoch 86/100\n",
            "238/238 [==============================] - 73s 305ms/step - loss: 0.0682 - accuracy: 0.9743 - val_loss: 0.0649 - val_accuracy: 0.9754\n",
            "Epoch 87/100\n",
            "238/238 [==============================] - 75s 316ms/step - loss: 0.0661 - accuracy: 0.9749 - val_loss: 0.0655 - val_accuracy: 0.9736\n",
            "Epoch 88/100\n",
            "238/238 [==============================] - 73s 305ms/step - loss: 0.0661 - accuracy: 0.9753 - val_loss: 0.0658 - val_accuracy: 0.9746\n",
            "Epoch 89/100\n",
            "238/238 [==============================] - 74s 312ms/step - loss: 0.0674 - accuracy: 0.9746 - val_loss: 0.0660 - val_accuracy: 0.9755\n",
            "Epoch 90/100\n",
            "238/238 [==============================] - 74s 312ms/step - loss: 0.0653 - accuracy: 0.9758 - val_loss: 0.0704 - val_accuracy: 0.9727\n",
            "Epoch 91/100\n",
            "238/238 [==============================] - 74s 311ms/step - loss: 0.0660 - accuracy: 0.9752 - val_loss: 0.0603 - val_accuracy: 0.9769\n",
            "Epoch 92/100\n",
            "238/238 [==============================] - 74s 312ms/step - loss: 0.0636 - accuracy: 0.9762 - val_loss: 0.0616 - val_accuracy: 0.9748\n",
            "Epoch 93/100\n",
            "238/238 [==============================] - 74s 312ms/step - loss: 0.0637 - accuracy: 0.9760 - val_loss: 0.0633 - val_accuracy: 0.9752\n",
            "Epoch 94/100\n",
            "238/238 [==============================] - 73s 306ms/step - loss: 0.0644 - accuracy: 0.9756 - val_loss: 0.0636 - val_accuracy: 0.9751\n",
            "Epoch 95/100\n",
            "238/238 [==============================] - 76s 318ms/step - loss: 0.0625 - accuracy: 0.9763 - val_loss: 0.0605 - val_accuracy: 0.9758\n",
            "Epoch 96/100\n",
            "238/238 [==============================] - 73s 307ms/step - loss: 0.0615 - accuracy: 0.9768 - val_loss: 0.0628 - val_accuracy: 0.9740\n",
            "Epoch 97/100\n",
            "238/238 [==============================] - 74s 311ms/step - loss: 0.0625 - accuracy: 0.9765 - val_loss: 0.0566 - val_accuracy: 0.9771\n",
            "Epoch 98/100\n",
            "238/238 [==============================] - 74s 310ms/step - loss: 0.0627 - accuracy: 0.9764 - val_loss: 0.0650 - val_accuracy: 0.9749\n",
            "Epoch 99/100\n",
            "238/238 [==============================] - 74s 310ms/step - loss: 0.0590 - accuracy: 0.9776 - val_loss: 0.0636 - val_accuracy: 0.9723\n",
            "Epoch 100/100\n",
            "238/238 [==============================] - 73s 308ms/step - loss: 0.0602 - accuracy: 0.9774 - val_loss: 0.0588 - val_accuracy: 0.9779\n"
          ]
        }
      ]
    },
    {
      "cell_type": "markdown",
      "source": [
        "**5. Model Accuracy and Loss**"
      ],
      "metadata": {
        "id": "dHhOVu1JN5Kw"
      }
    },
    {
      "cell_type": "code",
      "source": [
        "plt.plot(history.history['accuracy'])\n",
        "plt.plot(history.history['val_accuracy'])\n",
        "plt.title('model accuracy')\n",
        "plt.ylabel('accuracy')\n",
        "plt.xlabel('epoch')\n",
        "plt.legend(['train', 'test'], loc='upper left')\n",
        "plt.show()"
      ],
      "metadata": {
        "id": "k3RpeXqzXEs3",
        "colab": {
          "base_uri": "https://localhost:8080/",
          "height": 295
        },
        "outputId": "a2a28bb0-8807-4ae7-b057-24867e3117d0"
      },
      "execution_count": 14,
      "outputs": [
        {
          "output_type": "display_data",
          "data": {
            "text/plain": [
              "<Figure size 432x288 with 1 Axes>"
            ],
            "image/png": "[encoded data removed]"
          },
          "metadata": {
            "needs_background": "light"
          }
        }
      ]
    },
    {
      "cell_type": "code",
      "source": [
        "plt.plot(history.history['loss'])\n",
        "plt.plot(history.history['val_loss'])\n",
        "plt.title('model loss')\n",
        "plt.ylabel('loss')\n",
        "plt.xlabel('epoch')\n",
        "plt.legend(['train', 'test'], loc='upper left')\n",
        "plt.show()"
      ],
      "metadata": {
        "id": "hPiiPPy1XHlp",
        "colab": {
          "base_uri": "https://localhost:8080/",
          "height": 295
        },
        "outputId": "ecf28682-0812-4551-cf48-782d49bd6f85"
      },
      "execution_count": 15,
      "outputs": [
        {
          "output_type": "display_data",
          "data": {
            "text/plain": [
              "<Figure size 432x288 with 1 Axes>"
            ],
            "image/png": "[encoded data removed]"
          },
          "metadata": {
            "needs_background": "light"
          }
        }
      ]
    },
    {
      "cell_type": "markdown",
      "source": [
        "**6. Save Model to Disk**"
      ],
      "metadata": {
        "id": "UeJjyz2dN8QJ"
      }
    },
    {
      "cell_type": "code",
      "source": [
        "model.save(\"./lstm_model.hdf5\")"
      ],
      "metadata": {
        "id": "4eumkQnnXI8Y"
      },
      "execution_count": 16,
      "outputs": []
    }
  ]
}