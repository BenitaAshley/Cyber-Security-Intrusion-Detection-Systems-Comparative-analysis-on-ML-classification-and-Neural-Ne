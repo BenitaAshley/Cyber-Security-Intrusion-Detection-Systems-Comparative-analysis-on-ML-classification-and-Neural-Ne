{
  "nbformat": 4,
  "nbformat_minor": 0,
  "metadata": {
    "colab": {
      "provenance": []
    },
    "kernelspec": {
      "name": "python3",
      "display_name": "Python 3"
    },
    "language_info": {
      "name": "python"
    }
  },
  "cells": [
    {
      "cell_type": "markdown",
      "source": [
        "\n",
        "#**Project Title:**\n",
        "\n",
        "\n",
        "#                  **Cyber Security Intrusion Detection Systems : Comparative analysis on ML classification and Neural Networks**"
      ],
      "metadata": {
        "id": "qrkLwsaQ5hgW"
      }
    },
    {
      "cell_type": "markdown",
      "source": [
        "#Author\n",
        "\n",
        "**Author Name:** Benita Ashley\n",
        "\n",
        "**Student ID:** 220058151"
      ],
      "metadata": {
        "id": "ddpsoxix5nrp"
      }
    },
    {
      "cell_type": "markdown",
      "source": [
        "# Project Supervisor\n",
        "\n",
        "**Name:** Dr Mahdieh Sadabadi"
      ],
      "metadata": {
        "id": "0p6e_0P65kmN"
      }
    },
    {
      "cell_type": "markdown",
      "source": [
        "**1. Importing Required Libraries**"
      ],
      "metadata": {
        "id": "abdOYQym5mRQ"
      }
    },
    {
      "cell_type": "code",
      "execution_count": 13,
      "metadata": {
        "id": "rwqFdL1-WAvP"
      },
      "outputs": [],
      "source": [
        "from __future__ import print_function\n",
        "import numpy as np\n",
        "np.random.seed(1337)  # for reproducibility\n",
        "from keras.preprocessing import sequence\n",
        "from keras.models import Sequential\n",
        "from keras.layers import Dense, Dropout, Activation, Lambda\n",
        "from keras.layers import Embedding\n",
        "from keras.layers import Convolution1D,MaxPooling1D, Flatten\n",
        "from keras.datasets import imdb\n",
        "from keras import backend as K\n",
        "from sklearn.model_selection import train_test_split\n",
        "import pandas as pd\n",
        "from keras.utils.np_utils import to_categorical\n",
        "from sklearn.preprocessing import Normalizer\n",
        "from keras.models import Sequential\n",
        "from keras.layers import Convolution1D, Dense, Dropout, Flatten, MaxPooling1D\n",
        "from keras.utils import np_utils\n",
        "import numpy as np\n",
        "import h5py\n",
        "from keras import callbacks\n",
        "from keras.layers import LSTM, GRU, SimpleRNN\n",
        "from keras.callbacks import CSVLogger\n",
        "from keras.callbacks import ModelCheckpoint, EarlyStopping, ReduceLROnPlateau, CSVLogger\n",
        "from sklearn.preprocessing import LabelEncoder\n",
        "import matplotlib.pyplot as plt"
      ]
    },
    {
      "cell_type": "markdown",
      "source": [
        "**2. Reading the datset and displaying the same**"
      ],
      "metadata": {
        "id": "2QV3joLU5tAH"
      }
    },
    {
      "cell_type": "code",
      "source": [
        "traindata = pd.read_csv('KDDCup99_Train.csv')\n",
        "testdata = pd.read_csv('KDDCup99_Test.csv')"
      ],
      "metadata": {
        "id": "I4qHMScYWFIn"
      },
      "execution_count": 14,
      "outputs": []
    },
    {
      "cell_type": "code",
      "source": [
        "data = pd.concat([traindata,testdata])\n",
        "data.head()"
      ],
      "metadata": {
        "colab": {
          "base_uri": "https://localhost:8080/",
          "height": 299
        },
        "id": "g2-sT24YWNgV",
        "outputId": "d2f56e31-df77-4115-890e-911ad2d57e8b"
      },
      "execution_count": 15,
      "outputs": [
        {
          "output_type": "execute_result",
          "data": {
            "text/plain": [
              "   duration protocol_type   service flag  src_bytes  dst_bytes  land  \\\n",
              "0         0           tcp  ftp_data   SF        491          0     0   \n",
              "1         0           udp     other   SF        146          0     0   \n",
              "2         0           tcp   private   S0          0          0     0   \n",
              "3         0           tcp      http   SF        232       8153     0   \n",
              "4         0           tcp      http   SF        199        420     0   \n",
              "\n",
              "   wrong_fragment  urgent  hot  ...  dst_host_srv_count  \\\n",
              "0               0       0    0  ...                  25   \n",
              "1               0       0    0  ...                   1   \n",
              "2               0       0    0  ...                  26   \n",
              "3               0       0    0  ...                 255   \n",
              "4               0       0    0  ...                 255   \n",
              "\n",
              "   dst_host_same_srv_rate  dst_host_diff_srv_rate  \\\n",
              "0                    0.17                    0.03   \n",
              "1                    0.00                    0.60   \n",
              "2                    0.10                    0.05   \n",
              "3                    1.00                    0.00   \n",
              "4                    1.00                    0.00   \n",
              "\n",
              "   dst_host_same_src_port_rate  dst_host_srv_diff_host_rate  \\\n",
              "0                         0.17                         0.00   \n",
              "1                         0.88                         0.00   \n",
              "2                         0.00                         0.00   \n",
              "3                         0.03                         0.04   \n",
              "4                         0.00                         0.00   \n",
              "\n",
              "   dst_host_serror_rate  dst_host_srv_serror_rate  dst_host_rerror_rate  \\\n",
              "0                  0.00                      0.00                  0.05   \n",
              "1                  0.00                      0.00                  0.00   \n",
              "2                  1.00                      1.00                  0.00   \n",
              "3                  0.03                      0.01                  0.00   \n",
              "4                  0.00                      0.00                  0.00   \n",
              "\n",
              "   dst_host_srv_rerror_rate   labels  \n",
              "0                      0.00   normal  \n",
              "1                      0.00   normal  \n",
              "2                      0.00  anomaly  \n",
              "3                      0.01   normal  \n",
              "4                      0.00   normal  \n",
              "\n",
              "[5 rows x 42 columns]"
            ],
            "text/html": [
              "\n",
              "  <div id=\"df-d7b955ce-0c30-4b2b-90c3-017186c47509\">\n",
              "    <div class=\"colab-df-container\">\n",
              "      <div>\n",
              "<style scoped>\n",
              "    .dataframe tbody tr th:only-of-type {\n",
              "        vertical-align: middle;\n",
              "    }\n",
              "\n",
              "    .dataframe tbody tr th {\n",
              "        vertical-align: top;\n",
              "    }\n",
              "\n",
              "    .dataframe thead th {\n",
              "        text-align: right;\n",
              "    }\n",
              "</style>\n",
              "<table border=\"1\" class=\"dataframe\">\n",
              "  <thead>\n",
              "    <tr style=\"text-align: right;\">\n",
              "      <th></th>\n",
              "      <th>duration</th>\n",
              "      <th>protocol_type</th>\n",
              "      <th>service</th>\n",
              "      <th>flag</th>\n",
              "      <th>src_bytes</th>\n",
              "      <th>dst_bytes</th>\n",
              "      <th>land</th>\n",
              "      <th>wrong_fragment</th>\n",
              "      <th>urgent</th>\n",
              "      <th>hot</th>\n",
              "      <th>...</th>\n",
              "      <th>dst_host_srv_count</th>\n",
              "      <th>dst_host_same_srv_rate</th>\n",
              "      <th>dst_host_diff_srv_rate</th>\n",
              "      <th>dst_host_same_src_port_rate</th>\n",
              "      <th>dst_host_srv_diff_host_rate</th>\n",
              "      <th>dst_host_serror_rate</th>\n",
              "      <th>dst_host_srv_serror_rate</th>\n",
              "      <th>dst_host_rerror_rate</th>\n",
              "      <th>dst_host_srv_rerror_rate</th>\n",
              "      <th>labels</th>\n",
              "    </tr>\n",
              "  </thead>\n",
              "  <tbody>\n",
              "    <tr>\n",
              "      <th>0</th>\n",
              "      <td>0</td>\n",
              "      <td>tcp</td>\n",
              "      <td>ftp_data</td>\n",
              "      <td>SF</td>\n",
              "      <td>491</td>\n",
              "      <td>0</td>\n",
              "      <td>0</td>\n",
              "      <td>0</td>\n",
              "      <td>0</td>\n",
              "      <td>0</td>\n",
              "      <td>...</td>\n",
              "      <td>25</td>\n",
              "      <td>0.17</td>\n",
              "      <td>0.03</td>\n",
              "      <td>0.17</td>\n",
              "      <td>0.00</td>\n",
              "      <td>0.00</td>\n",
              "      <td>0.00</td>\n",
              "      <td>0.05</td>\n",
              "      <td>0.00</td>\n",
              "      <td>normal</td>\n",
              "    </tr>\n",
              "    <tr>\n",
              "      <th>1</th>\n",
              "      <td>0</td>\n",
              "      <td>udp</td>\n",
              "      <td>other</td>\n",
              "      <td>SF</td>\n",
              "      <td>146</td>\n",
              "      <td>0</td>\n",
              "      <td>0</td>\n",
              "      <td>0</td>\n",
              "      <td>0</td>\n",
              "      <td>0</td>\n",
              "      <td>...</td>\n",
              "      <td>1</td>\n",
              "      <td>0.00</td>\n",
              "      <td>0.60</td>\n",
              "      <td>0.88</td>\n",
              "      <td>0.00</td>\n",
              "      <td>0.00</td>\n",
              "      <td>0.00</td>\n",
              "      <td>0.00</td>\n",
              "      <td>0.00</td>\n",
              "      <td>normal</td>\n",
              "    </tr>\n",
              "    <tr>\n",
              "      <th>2</th>\n",
              "      <td>0</td>\n",
              "      <td>tcp</td>\n",
              "      <td>private</td>\n",
              "      <td>S0</td>\n",
              "      <td>0</td>\n",
              "      <td>0</td>\n",
              "      <td>0</td>\n",
              "      <td>0</td>\n",
              "      <td>0</td>\n",
              "      <td>0</td>\n",
              "      <td>...</td>\n",
              "      <td>26</td>\n",
              "      <td>0.10</td>\n",
              "      <td>0.05</td>\n",
              "      <td>0.00</td>\n",
              "      <td>0.00</td>\n",
              "      <td>1.00</td>\n",
              "      <td>1.00</td>\n",
              "      <td>0.00</td>\n",
              "      <td>0.00</td>\n",
              "      <td>anomaly</td>\n",
              "    </tr>\n",
              "    <tr>\n",
              "      <th>3</th>\n",
              "      <td>0</td>\n",
              "      <td>tcp</td>\n",
              "      <td>http</td>\n",
              "      <td>SF</td>\n",
              "      <td>232</td>\n",
              "      <td>8153</td>\n",
              "      <td>0</td>\n",
              "      <td>0</td>\n",
              "      <td>0</td>\n",
              "      <td>0</td>\n",
              "      <td>...</td>\n",
              "      <td>255</td>\n",
              "      <td>1.00</td>\n",
              "      <td>0.00</td>\n",
              "      <td>0.03</td>\n",
              "      <td>0.04</td>\n",
              "      <td>0.03</td>\n",
              "      <td>0.01</td>\n",
              "      <td>0.00</td>\n",
              "      <td>0.01</td>\n",
              "      <td>normal</td>\n",
              "    </tr>\n",
              "    <tr>\n",
              "      <th>4</th>\n",
              "      <td>0</td>\n",
              "      <td>tcp</td>\n",
              "      <td>http</td>\n",
              "      <td>SF</td>\n",
              "      <td>199</td>\n",
              "      <td>420</td>\n",
              "      <td>0</td>\n",
              "      <td>0</td>\n",
              "      <td>0</td>\n",
              "      <td>0</td>\n",
              "      <td>...</td>\n",
              "      <td>255</td>\n",
              "      <td>1.00</td>\n",
              "      <td>0.00</td>\n",
              "      <td>0.00</td>\n",
              "      <td>0.00</td>\n",
              "      <td>0.00</td>\n",
              "      <td>0.00</td>\n",
              "      <td>0.00</td>\n",
              "      <td>0.00</td>\n",
              "      <td>normal</td>\n",
              "    </tr>\n",
              "  </tbody>\n",
              "</table>\n",
              "<p>5 rows × 42 columns</p>\n",
              "</div>\n",
              "      <button class=\"colab-df-convert\" onclick=\"convertToInteractive('df-d7b955ce-0c30-4b2b-90c3-017186c47509')\"\n",
              "              title=\"Convert this dataframe to an interactive table.\"\n",
              "              style=\"display:none;\">\n",
              "        \n",
              "  <svg xmlns=\"http://www.w3.org/2000/svg\" height=\"24px\"viewBox=\"0 0 24 24\"\n",
              "       width=\"24px\">\n",
              "    <path d=\"M0 0h24v24H0V0z\" fill=\"none\"/>\n",
              "    <path d=\"M18.56 5.44l.94 2.06.94-2.06 2.06-.94-2.06-.94-.94-2.06-.94 2.06-2.06.94zm-11 1L8.5 8.5l.94-2.06 2.06-.94-2.06-.94L8.5 2.5l-.94 2.06-2.06.94zm10 10l.94 2.06.94-2.06 2.06-.94-2.06-.94-.94-2.06-.94 2.06-2.06.94z\"/><path d=\"M17.41 7.96l-1.37-1.37c-.4-.4-.92-.59-1.43-.59-.52 0-1.04.2-1.43.59L10.3 9.45l-7.72 7.72c-.78.78-.78 2.05 0 2.83L4 21.41c.39.39.9.59 1.41.59.51 0 1.02-.2 1.41-.59l7.78-7.78 2.81-2.81c.8-.78.8-2.07 0-2.86zM5.41 20L4 18.59l7.72-7.72 1.47 1.35L5.41 20z\"/>\n",
              "  </svg>\n",
              "      </button>\n",
              "      \n",
              "  <style>\n",
              "    .colab-df-container {\n",
              "      display:flex;\n",
              "      flex-wrap:wrap;\n",
              "      gap: 12px;\n",
              "    }\n",
              "\n",
              "    .colab-df-convert {\n",
              "      background-color: #E8F0FE;\n",
              "      border: none;\n",
              "      border-radius: 50%;\n",
              "      cursor: pointer;\n",
              "      display: none;\n",
              "      fill: #1967D2;\n",
              "      height: 32px;\n",
              "      padding: 0 0 0 0;\n",
              "      width: 32px;\n",
              "    }\n",
              "\n",
              "    .colab-df-convert:hover {\n",
              "      background-color: #E2EBFA;\n",
              "      box-shadow: 0px 1px 2px rgba(60, 64, 67, 0.3), 0px 1px 3px 1px rgba(60, 64, 67, 0.15);\n",
              "      fill: #174EA6;\n",
              "    }\n",
              "\n",
              "    [theme=dark] .colab-df-convert {\n",
              "      background-color: #3B4455;\n",
              "      fill: #D2E3FC;\n",
              "    }\n",
              "\n",
              "    [theme=dark] .colab-df-convert:hover {\n",
              "      background-color: #434B5C;\n",
              "      box-shadow: 0px 1px 3px 1px rgba(0, 0, 0, 0.15);\n",
              "      filter: drop-shadow(0px 1px 2px rgba(0, 0, 0, 0.3));\n",
              "      fill: #FFFFFF;\n",
              "    }\n",
              "  </style>\n",
              "\n",
              "      <script>\n",
              "        const buttonEl =\n",
              "          document.querySelector('#df-d7b955ce-0c30-4b2b-90c3-017186c47509 button.colab-df-convert');\n",
              "        buttonEl.style.display =\n",
              "          google.colab.kernel.accessAllowed ? 'block' : 'none';\n",
              "\n",
              "        async function convertToInteractive(key) {\n",
              "          const element = document.querySelector('#df-d7b955ce-0c30-4b2b-90c3-017186c47509');\n",
              "          const dataTable =\n",
              "            await google.colab.kernel.invokeFunction('convertToInteractive',\n",
              "                                                     [key], {});\n",
              "          if (!dataTable) return;\n",
              "\n",
              "          const docLinkHtml = 'Like what you see? Visit the ' +\n",
              "            '<a target=\"_blank\" href=https://colab.research.google.com/notebooks/data_table.ipynb>data table notebook</a>'\n",
              "            + ' to learn more about interactive tables.';\n",
              "          element.innerHTML = '';\n",
              "          dataTable['output_type'] = 'display_data';\n",
              "          await google.colab.output.renderOutput(dataTable, element);\n",
              "          const docLink = document.createElement('div');\n",
              "          docLink.innerHTML = docLinkHtml;\n",
              "          element.appendChild(docLink);\n",
              "        }\n",
              "      </script>\n",
              "    </div>\n",
              "  </div>\n",
              "  "
            ]
          },
          "metadata": {},
          "execution_count": 15
        }
      ]
    },
    {
      "cell_type": "markdown",
      "source": [
        "**3. Pre-processing data for the model**"
      ],
      "metadata": {
        "id": "7weZcH2d53CU"
      }
    },
    {
      "cell_type": "code",
      "source": [
        "categ = ['protocol_type','service','flag']\n",
        "# Encode Categorical Columns\n",
        "le = LabelEncoder()\n",
        "data[categ] = data[categ].apply(le.fit_transform)\n",
        "#data[categ] = testdata[categ].apply(le.fit_transform)"
      ],
      "metadata": {
        "id": "RZTJ1jKnWPno"
      },
      "execution_count": 16,
      "outputs": []
    },
    {
      "cell_type": "code",
      "source": [
        "labels=[]\n",
        "for i in data['labels']:\n",
        "  if i=='normal':\n",
        "    labels.append(0)\n",
        "  else:\n",
        "    labels.append(1)\n",
        "data['labels']=labels"
      ],
      "metadata": {
        "id": "TekvNPhNWQ7-"
      },
      "execution_count": 17,
      "outputs": []
    },
    {
      "cell_type": "code",
      "source": [
        "X = data.iloc[:,1:41]\n",
        "Y = data['labels']"
      ],
      "metadata": {
        "id": "mW-iqSQnWSEl"
      },
      "execution_count": 18,
      "outputs": []
    },
    {
      "cell_type": "code",
      "source": [
        "scaler = Normalizer().fit(X)\n",
        "X = scaler.transform(X)"
      ],
      "metadata": {
        "id": "ToLwbiWpWTIs"
      },
      "execution_count": 19,
      "outputs": []
    },
    {
      "cell_type": "code",
      "source": [
        "\n",
        "X_train, X_test,Y_train,Y_test = train_test_split(X,Y, test_size=0.2)"
      ],
      "metadata": {
        "id": "flj7A-cVWULx"
      },
      "execution_count": 20,
      "outputs": []
    },
    {
      "cell_type": "code",
      "source": [
        "# reshape input to be [samples, time steps, features]\n",
        "X_train = np.reshape(X_train, (X_train.shape[0],X_train.shape[1],1))\n",
        "X_test = np.reshape(X_test, (X_test.shape[0],X_test.shape[1],1))"
      ],
      "metadata": {
        "id": "FU5ojFy3WVRY"
      },
      "execution_count": 21,
      "outputs": []
    },
    {
      "cell_type": "markdown",
      "source": [
        "**4. Gated Recurrent Unit Model**"
      ],
      "metadata": {
        "id": "GEc1oXE-589f"
      }
    },
    {
      "cell_type": "code",
      "source": [
        "model = Sequential()\n",
        "model.add(GRU(128,input_shape=(40,1)))\n",
        "model.add(Dropout(0.1))\n",
        "model.add(Flatten())\n",
        "model.add(Dense(1))\n",
        "model.add(Activation('sigmoid'))"
      ],
      "metadata": {
        "id": "GZrxhQfmWWcr"
      },
      "execution_count": 22,
      "outputs": []
    },
    {
      "cell_type": "code",
      "source": [
        "model.compile(loss=\"binary_crossentropy\", optimizer=\"adam\",metrics=['accuracy'])"
      ],
      "metadata": {
        "id": "2ZirNNzjWXr5"
      },
      "execution_count": 23,
      "outputs": []
    },
    {
      "cell_type": "code",
      "source": [
        "history=model.fit(X_train, Y_train, epochs=75,verbose=1,batch_size=500,validation_data=(X_test, Y_test))"
      ],
      "metadata": {
        "colab": {
          "base_uri": "https://localhost:8080/"
        },
        "id": "MlJfwJZeWY5Z",
        "outputId": "1c94d543-e75b-48bb-cb51-faaeb359a93f"
      },
      "execution_count": 24,
      "outputs": [
        {
          "output_type": "stream",
          "name": "stdout",
          "text": [
            "Epoch 1/75\n",
            "238/238 [==============================] - 66s 268ms/step - loss: 0.3987 - accuracy: 0.8190 - val_loss: 0.2965 - val_accuracy: 0.8878\n",
            "Epoch 2/75\n",
            "238/238 [==============================] - 64s 271ms/step - loss: 0.2703 - accuracy: 0.8897 - val_loss: 0.2489 - val_accuracy: 0.8956\n",
            "Epoch 3/75\n",
            "238/238 [==============================] - 65s 272ms/step - loss: 0.2523 - accuracy: 0.8932 - val_loss: 0.2593 - val_accuracy: 0.8942\n",
            "Epoch 4/75\n",
            "238/238 [==============================] - 64s 268ms/step - loss: 0.2420 - accuracy: 0.8992 - val_loss: 0.2271 - val_accuracy: 0.9002\n",
            "Epoch 5/75\n",
            "238/238 [==============================] - 64s 269ms/step - loss: 0.2377 - accuracy: 0.9032 - val_loss: 0.2189 - val_accuracy: 0.9104\n",
            "Epoch 6/75\n",
            "238/238 [==============================] - 64s 267ms/step - loss: 0.2295 - accuracy: 0.9083 - val_loss: 0.2188 - val_accuracy: 0.9113\n",
            "Epoch 7/75\n",
            "238/238 [==============================] - 64s 268ms/step - loss: 0.2289 - accuracy: 0.9080 - val_loss: 0.2138 - val_accuracy: 0.9101\n",
            "Epoch 8/75\n",
            "238/238 [==============================] - 64s 270ms/step - loss: 0.2271 - accuracy: 0.9091 - val_loss: 0.2158 - val_accuracy: 0.9080\n",
            "Epoch 9/75\n",
            "238/238 [==============================] - 63s 266ms/step - loss: 0.2231 - accuracy: 0.9106 - val_loss: 0.2116 - val_accuracy: 0.9163\n",
            "Epoch 10/75\n",
            "238/238 [==============================] - 63s 266ms/step - loss: 0.2169 - accuracy: 0.9135 - val_loss: 0.2103 - val_accuracy: 0.9168\n",
            "Epoch 11/75\n",
            "238/238 [==============================] - 65s 274ms/step - loss: 0.2180 - accuracy: 0.9134 - val_loss: 0.2118 - val_accuracy: 0.9155\n",
            "Epoch 12/75\n",
            "238/238 [==============================] - 63s 264ms/step - loss: 0.2117 - accuracy: 0.9167 - val_loss: 0.2260 - val_accuracy: 0.9115\n",
            "Epoch 13/75\n",
            "238/238 [==============================] - 64s 268ms/step - loss: 0.2144 - accuracy: 0.9149 - val_loss: 0.2221 - val_accuracy: 0.9166\n",
            "Epoch 14/75\n",
            "238/238 [==============================] - 64s 269ms/step - loss: 0.2077 - accuracy: 0.9176 - val_loss: 0.2019 - val_accuracy: 0.9211\n",
            "Epoch 15/75\n",
            "238/238 [==============================] - 65s 275ms/step - loss: 0.2063 - accuracy: 0.9189 - val_loss: 0.1990 - val_accuracy: 0.9226\n",
            "Epoch 16/75\n",
            "238/238 [==============================] - 65s 272ms/step - loss: 0.2068 - accuracy: 0.9177 - val_loss: 0.2040 - val_accuracy: 0.9133\n",
            "Epoch 17/75\n",
            "238/238 [==============================] - 65s 273ms/step - loss: 0.2075 - accuracy: 0.9160 - val_loss: 0.2002 - val_accuracy: 0.9221\n",
            "Epoch 18/75\n",
            "238/238 [==============================] - 63s 263ms/step - loss: 0.2005 - accuracy: 0.9191 - val_loss: 0.2059 - val_accuracy: 0.9164\n",
            "Epoch 19/75\n",
            "238/238 [==============================] - 63s 267ms/step - loss: 0.1936 - accuracy: 0.9202 - val_loss: 0.1805 - val_accuracy: 0.9217\n",
            "Epoch 20/75\n",
            "238/238 [==============================] - 64s 269ms/step - loss: 0.1901 - accuracy: 0.9217 - val_loss: 0.1751 - val_accuracy: 0.9244\n",
            "Epoch 21/75\n",
            "238/238 [==============================] - 62s 262ms/step - loss: 0.1842 - accuracy: 0.9224 - val_loss: 0.1986 - val_accuracy: 0.9146\n",
            "Epoch 22/75\n",
            "238/238 [==============================] - 65s 273ms/step - loss: 0.1807 - accuracy: 0.9250 - val_loss: 0.1624 - val_accuracy: 0.9299\n",
            "Epoch 23/75\n",
            "238/238 [==============================] - 62s 262ms/step - loss: 0.1685 - accuracy: 0.9314 - val_loss: 0.1528 - val_accuracy: 0.9404\n",
            "Epoch 24/75\n",
            "238/238 [==============================] - 63s 266ms/step - loss: 0.1628 - accuracy: 0.9334 - val_loss: 0.1508 - val_accuracy: 0.9406\n",
            "Epoch 25/75\n",
            "238/238 [==============================] - 64s 268ms/step - loss: 0.1567 - accuracy: 0.9362 - val_loss: 0.1449 - val_accuracy: 0.9413\n",
            "Epoch 26/75\n",
            "238/238 [==============================] - 63s 264ms/step - loss: 0.1558 - accuracy: 0.9348 - val_loss: 0.1397 - val_accuracy: 0.9444\n",
            "Epoch 27/75\n",
            "238/238 [==============================] - 62s 262ms/step - loss: 0.1491 - accuracy: 0.9388 - val_loss: 0.1393 - val_accuracy: 0.9401\n",
            "Epoch 28/75\n",
            "238/238 [==============================] - 63s 267ms/step - loss: 0.1445 - accuracy: 0.9400 - val_loss: 0.1329 - val_accuracy: 0.9422\n",
            "Epoch 29/75\n",
            "238/238 [==============================] - 64s 268ms/step - loss: 0.1360 - accuracy: 0.9451 - val_loss: 0.1221 - val_accuracy: 0.9513\n",
            "Epoch 30/75\n",
            "238/238 [==============================] - 64s 269ms/step - loss: 0.1334 - accuracy: 0.9463 - val_loss: 0.1381 - val_accuracy: 0.9421\n",
            "Epoch 31/75\n",
            "238/238 [==============================] - 63s 267ms/step - loss: 0.1336 - accuracy: 0.9461 - val_loss: 0.1174 - val_accuracy: 0.9528\n",
            "Epoch 32/75\n",
            "238/238 [==============================] - 62s 262ms/step - loss: 0.1275 - accuracy: 0.9491 - val_loss: 0.1310 - val_accuracy: 0.9480\n",
            "Epoch 33/75\n",
            "238/238 [==============================] - 65s 273ms/step - loss: 0.1256 - accuracy: 0.9493 - val_loss: 0.1138 - val_accuracy: 0.9537\n",
            "Epoch 34/75\n",
            "238/238 [==============================] - 62s 262ms/step - loss: 0.1237 - accuracy: 0.9503 - val_loss: 0.1429 - val_accuracy: 0.9353\n",
            "Epoch 35/75\n",
            "238/238 [==============================] - 63s 263ms/step - loss: 0.1212 - accuracy: 0.9515 - val_loss: 0.1114 - val_accuracy: 0.9554\n",
            "Epoch 36/75\n",
            "238/238 [==============================] - 64s 270ms/step - loss: 0.1187 - accuracy: 0.9517 - val_loss: 0.1210 - val_accuracy: 0.9513\n",
            "Epoch 37/75\n",
            "238/238 [==============================] - 62s 259ms/step - loss: 0.1186 - accuracy: 0.9517 - val_loss: 0.1107 - val_accuracy: 0.9569\n",
            "Epoch 38/75\n",
            "238/238 [==============================] - 63s 265ms/step - loss: 0.1177 - accuracy: 0.9522 - val_loss: 0.1083 - val_accuracy: 0.9552\n",
            "Epoch 39/75\n",
            "238/238 [==============================] - 63s 266ms/step - loss: 0.1159 - accuracy: 0.9537 - val_loss: 0.1132 - val_accuracy: 0.9492\n",
            "Epoch 40/75\n",
            "238/238 [==============================] - 63s 266ms/step - loss: 0.1108 - accuracy: 0.9556 - val_loss: 0.1125 - val_accuracy: 0.9573\n",
            "Epoch 41/75\n",
            "238/238 [==============================] - 62s 259ms/step - loss: 0.1108 - accuracy: 0.9556 - val_loss: 0.1606 - val_accuracy: 0.9263\n",
            "Epoch 42/75\n",
            "238/238 [==============================] - 64s 271ms/step - loss: 0.1069 - accuracy: 0.9580 - val_loss: 0.1085 - val_accuracy: 0.9596\n",
            "Epoch 43/75\n",
            "238/238 [==============================] - 62s 262ms/step - loss: 0.1047 - accuracy: 0.9591 - val_loss: 0.1123 - val_accuracy: 0.9509\n",
            "Epoch 44/75\n",
            "238/238 [==============================] - 63s 265ms/step - loss: 0.1044 - accuracy: 0.9588 - val_loss: 0.1229 - val_accuracy: 0.9429\n",
            "Epoch 45/75\n",
            "238/238 [==============================] - 63s 264ms/step - loss: 0.1006 - accuracy: 0.9611 - val_loss: 0.0943 - val_accuracy: 0.9623\n",
            "Epoch 46/75\n",
            "238/238 [==============================] - 62s 260ms/step - loss: 0.1063 - accuracy: 0.9584 - val_loss: 0.0924 - val_accuracy: 0.9645\n",
            "Epoch 47/75\n",
            "238/238 [==============================] - 64s 269ms/step - loss: 0.1022 - accuracy: 0.9604 - val_loss: 0.0994 - val_accuracy: 0.9597\n",
            "Epoch 48/75\n",
            "238/238 [==============================] - 62s 259ms/step - loss: 0.1016 - accuracy: 0.9608 - val_loss: 0.0993 - val_accuracy: 0.9610\n",
            "Epoch 49/75\n",
            "238/238 [==============================] - 63s 265ms/step - loss: 0.0989 - accuracy: 0.9619 - val_loss: 0.0948 - val_accuracy: 0.9630\n",
            "Epoch 50/75\n",
            "238/238 [==============================] - 63s 264ms/step - loss: 0.0956 - accuracy: 0.9638 - val_loss: 0.0981 - val_accuracy: 0.9627\n",
            "Epoch 51/75\n",
            "238/238 [==============================] - 62s 259ms/step - loss: 0.0959 - accuracy: 0.9634 - val_loss: 0.1160 - val_accuracy: 0.9540\n",
            "Epoch 52/75\n",
            "238/238 [==============================] - 63s 264ms/step - loss: 0.0953 - accuracy: 0.9637 - val_loss: 0.0993 - val_accuracy: 0.9595\n",
            "Epoch 53/75\n",
            "238/238 [==============================] - 63s 263ms/step - loss: 0.0943 - accuracy: 0.9643 - val_loss: 0.0864 - val_accuracy: 0.9668\n",
            "Epoch 54/75\n",
            "238/238 [==============================] - 63s 263ms/step - loss: 0.0946 - accuracy: 0.9641 - val_loss: 0.0899 - val_accuracy: 0.9664\n",
            "Epoch 55/75\n",
            "238/238 [==============================] - 62s 259ms/step - loss: 0.0907 - accuracy: 0.9656 - val_loss: 0.0850 - val_accuracy: 0.9698\n",
            "Epoch 56/75\n",
            "238/238 [==============================] - 63s 264ms/step - loss: 0.0911 - accuracy: 0.9658 - val_loss: 0.1214 - val_accuracy: 0.9532\n",
            "Epoch 57/75\n",
            "238/238 [==============================] - 63s 263ms/step - loss: 0.0910 - accuracy: 0.9654 - val_loss: 0.0838 - val_accuracy: 0.9681\n",
            "Epoch 58/75\n",
            "238/238 [==============================] - 62s 262ms/step - loss: 0.0966 - accuracy: 0.9637 - val_loss: 0.0836 - val_accuracy: 0.9696\n",
            "Epoch 59/75\n",
            "238/238 [==============================] - 76s 317ms/step - loss: 0.0854 - accuracy: 0.9681 - val_loss: 0.0816 - val_accuracy: 0.9691\n",
            "Epoch 60/75\n",
            "238/238 [==============================] - 62s 260ms/step - loss: 0.0877 - accuracy: 0.9670 - val_loss: 0.0809 - val_accuracy: 0.9687\n",
            "Epoch 61/75\n",
            "238/238 [==============================] - 66s 278ms/step - loss: 0.0869 - accuracy: 0.9677 - val_loss: 0.0837 - val_accuracy: 0.9683\n",
            "Epoch 62/75\n",
            "238/238 [==============================] - 61s 258ms/step - loss: 0.0819 - accuracy: 0.9700 - val_loss: 0.0837 - val_accuracy: 0.9683\n",
            "Epoch 63/75\n",
            "238/238 [==============================] - 63s 265ms/step - loss: 0.0821 - accuracy: 0.9697 - val_loss: 0.0800 - val_accuracy: 0.9701\n",
            "Epoch 64/75\n",
            "238/238 [==============================] - 63s 265ms/step - loss: 0.0881 - accuracy: 0.9674 - val_loss: 0.1085 - val_accuracy: 0.9604\n",
            "Epoch 65/75\n",
            "238/238 [==============================] - 63s 266ms/step - loss: 0.0857 - accuracy: 0.9683 - val_loss: 0.0787 - val_accuracy: 0.9709\n",
            "Epoch 66/75\n",
            "238/238 [==============================] - 62s 259ms/step - loss: 0.0794 - accuracy: 0.9705 - val_loss: 0.0742 - val_accuracy: 0.9729\n",
            "Epoch 67/75\n",
            "238/238 [==============================] - 64s 271ms/step - loss: 0.0823 - accuracy: 0.9695 - val_loss: 0.0761 - val_accuracy: 0.9727\n",
            "Epoch 68/75\n",
            "238/238 [==============================] - 62s 260ms/step - loss: 0.0767 - accuracy: 0.9715 - val_loss: 0.0744 - val_accuracy: 0.9727\n",
            "Epoch 69/75\n",
            "238/238 [==============================] - 63s 264ms/step - loss: 0.0795 - accuracy: 0.9700 - val_loss: 0.0729 - val_accuracy: 0.9728\n",
            "Epoch 70/75\n",
            "238/238 [==============================] - 64s 267ms/step - loss: 0.0759 - accuracy: 0.9721 - val_loss: 0.0852 - val_accuracy: 0.9682\n",
            "Epoch 71/75\n",
            "238/238 [==============================] - 62s 262ms/step - loss: 0.0770 - accuracy: 0.9712 - val_loss: 0.0736 - val_accuracy: 0.9744\n",
            "Epoch 72/75\n",
            "238/238 [==============================] - 65s 271ms/step - loss: 0.0735 - accuracy: 0.9738 - val_loss: 0.0692 - val_accuracy: 0.9746\n",
            "Epoch 73/75\n",
            "238/238 [==============================] - 62s 262ms/step - loss: 0.0773 - accuracy: 0.9716 - val_loss: 0.0747 - val_accuracy: 0.9726\n",
            "Epoch 74/75\n",
            "238/238 [==============================] - 63s 265ms/step - loss: 0.0747 - accuracy: 0.9726 - val_loss: 0.0702 - val_accuracy: 0.9763\n",
            "Epoch 75/75\n",
            "238/238 [==============================] - 63s 265ms/step - loss: 0.0718 - accuracy: 0.9741 - val_loss: 0.0765 - val_accuracy: 0.9715\n"
          ]
        }
      ]
    },
    {
      "cell_type": "markdown",
      "source": [
        "**5. Model Accuracy and Loss**"
      ],
      "metadata": {
        "id": "b2GryrIQ6JUh"
      }
    },
    {
      "cell_type": "code",
      "source": [
        "plt.plot(history.history['accuracy'])\n",
        "plt.plot(history.history['val_accuracy'])\n",
        "plt.title('model accuracy')\n",
        "plt.ylabel('accuracy')\n",
        "plt.xlabel('epoch')\n",
        "plt.legend(['train', 'test'], loc='upper left')\n",
        "plt.show()"
      ],
      "metadata": {
        "id": "5o_0goNyWbpG",
        "colab": {
          "base_uri": "https://localhost:8080/",
          "height": 295
        },
        "outputId": "1493090e-7200-447b-e618-ee6844789656"
      },
      "execution_count": 25,
      "outputs": [
        {
          "output_type": "display_data",
          "data": {
            "text/plain": [
              "<Figure size 432x288 with 1 Axes>"
            ],
            "image/png": "[encoded data removed]"
          },
          "metadata": {
            "needs_background": "light"
          }
        }
      ]
    },
    {
      "cell_type": "code",
      "source": [
        "plt.plot(history.history['loss'])\n",
        "plt.plot(history.history['val_loss'])\n",
        "plt.title('model loss')\n",
        "plt.ylabel('loss')\n",
        "plt.xlabel('epoch')\n",
        "plt.legend(['train', 'test'], loc='upper left')\n",
        "plt.show()"
      ],
      "metadata": {
        "id": "FONzXL65Wdou",
        "colab": {
          "base_uri": "https://localhost:8080/",
          "height": 295
        },
        "outputId": "ba8ea489-ece2-46e9-b2cd-932540c77726"
      },
      "execution_count": 26,
      "outputs": [
        {
          "output_type": "display_data",
          "data": {
            "text/plain": [
              "<Figure size 432x288 with 1 Axes>"
            ],
            "image/png": "[encoded data removed]"
          },
          "metadata": {
            "needs_background": "light"
          }
        }
      ]
    },
    {
      "cell_type": "markdown",
      "source": [
        "**6. Saving Model to Disk**"
      ],
      "metadata": {
        "id": "jBT9oS0x6McY"
      }
    },
    {
      "cell_type": "code",
      "source": [
        "model.save(\"./gru_model.hdf5\")"
      ],
      "metadata": {
        "id": "Pz3TR_DLWgGM"
      },
      "execution_count": 27,
      "outputs": []
    }
  ]
}