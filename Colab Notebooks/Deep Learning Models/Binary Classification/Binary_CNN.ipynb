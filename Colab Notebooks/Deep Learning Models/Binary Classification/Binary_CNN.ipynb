{
  "nbformat": 4,
  "nbformat_minor": 0,
  "metadata": {
    "colab": {
      "provenance": []
    },
    "kernelspec": {
      "name": "python3",
      "display_name": "Python 3"
    },
    "language_info": {
      "name": "python"
    }
  },
  "cells": [
    {
      "cell_type": "markdown",
      "source": [
        "\n",
        "#**Project Title:**\n",
        "\n",
        "\n",
        "#                  **Cyber Security Intrusion Detection Systems : Comparative analysis on ML classification and Neural Networks**"
      ],
      "metadata": {
        "id": "SQzwPYe4X6mt"
      }
    },
    {
      "cell_type": "markdown",
      "source": [
        "#Author\n",
        "\n",
        "**Author Name:** Benita Ashley\n",
        "\n",
        "**Student ID:** 220058151"
      ],
      "metadata": {
        "id": "WHWQIA_MYXZi"
      }
    },
    {
      "cell_type": "markdown",
      "source": [
        "# Project Supervisor\n",
        "\n",
        "**Name:** Dr Mahdieh Sadabadi"
      ],
      "metadata": {
        "id": "8Rfq5XyAYijA"
      }
    },
    {
      "cell_type": "markdown",
      "source": [
        "**1. Importing Required Libraries**"
      ],
      "metadata": {
        "id": "7GQfuWUmYmWc"
      }
    },
    {
      "cell_type": "code",
      "source": [
        "from __future__ import print_function\n",
        "import numpy as np\n",
        "np.random.seed(1337)  # for reproducibility\n",
        "from keras.preprocessing import sequence\n",
        "from keras.models import Sequential\n",
        "from keras.layers import Dense, Dropout, Activation, Lambda\n",
        "from keras.layers import Embedding\n",
        "from keras.layers import Convolution1D,MaxPooling1D, Flatten\n",
        "from keras.datasets import imdb\n",
        "from keras import backend as K\n",
        "from sklearn.model_selection import train_test_split\n",
        "import pandas as pd\n",
        "from keras.utils.np_utils import to_categorical\n",
        "from sklearn.preprocessing import Normalizer\n",
        "from keras.models import Sequential\n",
        "from keras.layers import Convolution1D, Dense, Dropout, Flatten, MaxPooling1D\n",
        "from keras.utils import np_utils\n",
        "import numpy as np\n",
        "import h5py\n",
        "from keras import callbacks\n",
        "from keras.layers import LSTM, GRU, SimpleRNN\n",
        "from keras.callbacks import CSVLogger\n",
        "from keras.callbacks import ModelCheckpoint, EarlyStopping, ReduceLROnPlateau, CSVLogger\n",
        "from sklearn.preprocessing import LabelEncoder\n",
        "import matplotlib.pyplot as plt"
      ],
      "metadata": {
        "id": "SD-zo9oLuT5F"
      },
      "execution_count": 18,
      "outputs": []
    },
    {
      "cell_type": "markdown",
      "source": [
        "**2. Reading the datset and displaying the same**"
      ],
      "metadata": {
        "id": "ryqLNJn5Ys1q"
      }
    },
    {
      "cell_type": "code",
      "source": [
        "traindata = pd.read_csv('KDDCup99_Train.csv')\n",
        "testdata = pd.read_csv('KDDCup99_Test.csv')"
      ],
      "metadata": {
        "id": "JKMIq9uLuYkK"
      },
      "execution_count": 23,
      "outputs": []
    },
    {
      "cell_type": "code",
      "source": [
        "data = pd.concat([traindata,testdata])\n",
        "data.head()"
      ],
      "metadata": {
        "colab": {
          "base_uri": "https://localhost:8080/",
          "height": 299
        },
        "id": "i7YygtnivdGc",
        "outputId": "a9a4a9bf-ea51-4f3e-b613-be90e3e4a3f7"
      },
      "execution_count": 24,
      "outputs": [
        {
          "output_type": "execute_result",
          "data": {
            "text/plain": [
              "   duration protocol_type   service flag  src_bytes  dst_bytes  land  \\\n",
              "0         0           tcp  ftp_data   SF        491          0     0   \n",
              "1         0           udp     other   SF        146          0     0   \n",
              "2         0           tcp   private   S0          0          0     0   \n",
              "3         0           tcp      http   SF        232       8153     0   \n",
              "4         0           tcp      http   SF        199        420     0   \n",
              "\n",
              "   wrong_fragment  urgent  hot  ...  dst_host_srv_count  \\\n",
              "0               0       0    0  ...                  25   \n",
              "1               0       0    0  ...                   1   \n",
              "2               0       0    0  ...                  26   \n",
              "3               0       0    0  ...                 255   \n",
              "4               0       0    0  ...                 255   \n",
              "\n",
              "   dst_host_same_srv_rate  dst_host_diff_srv_rate  \\\n",
              "0                    0.17                    0.03   \n",
              "1                    0.00                    0.60   \n",
              "2                    0.10                    0.05   \n",
              "3                    1.00                    0.00   \n",
              "4                    1.00                    0.00   \n",
              "\n",
              "   dst_host_same_src_port_rate  dst_host_srv_diff_host_rate  \\\n",
              "0                         0.17                         0.00   \n",
              "1                         0.88                         0.00   \n",
              "2                         0.00                         0.00   \n",
              "3                         0.03                         0.04   \n",
              "4                         0.00                         0.00   \n",
              "\n",
              "   dst_host_serror_rate  dst_host_srv_serror_rate  dst_host_rerror_rate  \\\n",
              "0                  0.00                      0.00                  0.05   \n",
              "1                  0.00                      0.00                  0.00   \n",
              "2                  1.00                      1.00                  0.00   \n",
              "3                  0.03                      0.01                  0.00   \n",
              "4                  0.00                      0.00                  0.00   \n",
              "\n",
              "   dst_host_srv_rerror_rate   labels  \n",
              "0                      0.00   normal  \n",
              "1                      0.00   normal  \n",
              "2                      0.00  anomaly  \n",
              "3                      0.01   normal  \n",
              "4                      0.00   normal  \n",
              "\n",
              "[5 rows x 42 columns]"
            ],
            "text/html": [
              "\n",
              "  <div id=\"df-6703c3bf-9558-48c5-b8f5-0b698c11b89e\">\n",
              "    <div class=\"colab-df-container\">\n",
              "      <div>\n",
              "<style scoped>\n",
              "    .dataframe tbody tr th:only-of-type {\n",
              "        vertical-align: middle;\n",
              "    }\n",
              "\n",
              "    .dataframe tbody tr th {\n",
              "        vertical-align: top;\n",
              "    }\n",
              "\n",
              "    .dataframe thead th {\n",
              "        text-align: right;\n",
              "    }\n",
              "</style>\n",
              "<table border=\"1\" class=\"dataframe\">\n",
              "  <thead>\n",
              "    <tr style=\"text-align: right;\">\n",
              "      <th></th>\n",
              "      <th>duration</th>\n",
              "      <th>protocol_type</th>\n",
              "      <th>service</th>\n",
              "      <th>flag</th>\n",
              "      <th>src_bytes</th>\n",
              "      <th>dst_bytes</th>\n",
              "      <th>land</th>\n",
              "      <th>wrong_fragment</th>\n",
              "      <th>urgent</th>\n",
              "      <th>hot</th>\n",
              "      <th>...</th>\n",
              "      <th>dst_host_srv_count</th>\n",
              "      <th>dst_host_same_srv_rate</th>\n",
              "      <th>dst_host_diff_srv_rate</th>\n",
              "      <th>dst_host_same_src_port_rate</th>\n",
              "      <th>dst_host_srv_diff_host_rate</th>\n",
              "      <th>dst_host_serror_rate</th>\n",
              "      <th>dst_host_srv_serror_rate</th>\n",
              "      <th>dst_host_rerror_rate</th>\n",
              "      <th>dst_host_srv_rerror_rate</th>\n",
              "      <th>labels</th>\n",
              "    </tr>\n",
              "  </thead>\n",
              "  <tbody>\n",
              "    <tr>\n",
              "      <th>0</th>\n",
              "      <td>0</td>\n",
              "      <td>tcp</td>\n",
              "      <td>ftp_data</td>\n",
              "      <td>SF</td>\n",
              "      <td>491</td>\n",
              "      <td>0</td>\n",
              "      <td>0</td>\n",
              "      <td>0</td>\n",
              "      <td>0</td>\n",
              "      <td>0</td>\n",
              "      <td>...</td>\n",
              "      <td>25</td>\n",
              "      <td>0.17</td>\n",
              "      <td>0.03</td>\n",
              "      <td>0.17</td>\n",
              "      <td>0.00</td>\n",
              "      <td>0.00</td>\n",
              "      <td>0.00</td>\n",
              "      <td>0.05</td>\n",
              "      <td>0.00</td>\n",
              "      <td>normal</td>\n",
              "    </tr>\n",
              "    <tr>\n",
              "      <th>1</th>\n",
              "      <td>0</td>\n",
              "      <td>udp</td>\n",
              "      <td>other</td>\n",
              "      <td>SF</td>\n",
              "      <td>146</td>\n",
              "      <td>0</td>\n",
              "      <td>0</td>\n",
              "      <td>0</td>\n",
              "      <td>0</td>\n",
              "      <td>0</td>\n",
              "      <td>...</td>\n",
              "      <td>1</td>\n",
              "      <td>0.00</td>\n",
              "      <td>0.60</td>\n",
              "      <td>0.88</td>\n",
              "      <td>0.00</td>\n",
              "      <td>0.00</td>\n",
              "      <td>0.00</td>\n",
              "      <td>0.00</td>\n",
              "      <td>0.00</td>\n",
              "      <td>normal</td>\n",
              "    </tr>\n",
              "    <tr>\n",
              "      <th>2</th>\n",
              "      <td>0</td>\n",
              "      <td>tcp</td>\n",
              "      <td>private</td>\n",
              "      <td>S0</td>\n",
              "      <td>0</td>\n",
              "      <td>0</td>\n",
              "      <td>0</td>\n",
              "      <td>0</td>\n",
              "      <td>0</td>\n",
              "      <td>0</td>\n",
              "      <td>...</td>\n",
              "      <td>26</td>\n",
              "      <td>0.10</td>\n",
              "      <td>0.05</td>\n",
              "      <td>0.00</td>\n",
              "      <td>0.00</td>\n",
              "      <td>1.00</td>\n",
              "      <td>1.00</td>\n",
              "      <td>0.00</td>\n",
              "      <td>0.00</td>\n",
              "      <td>anomaly</td>\n",
              "    </tr>\n",
              "    <tr>\n",
              "      <th>3</th>\n",
              "      <td>0</td>\n",
              "      <td>tcp</td>\n",
              "      <td>http</td>\n",
              "      <td>SF</td>\n",
              "      <td>232</td>\n",
              "      <td>8153</td>\n",
              "      <td>0</td>\n",
              "      <td>0</td>\n",
              "      <td>0</td>\n",
              "      <td>0</td>\n",
              "      <td>...</td>\n",
              "      <td>255</td>\n",
              "      <td>1.00</td>\n",
              "      <td>0.00</td>\n",
              "      <td>0.03</td>\n",
              "      <td>0.04</td>\n",
              "      <td>0.03</td>\n",
              "      <td>0.01</td>\n",
              "      <td>0.00</td>\n",
              "      <td>0.01</td>\n",
              "      <td>normal</td>\n",
              "    </tr>\n",
              "    <tr>\n",
              "      <th>4</th>\n",
              "      <td>0</td>\n",
              "      <td>tcp</td>\n",
              "      <td>http</td>\n",
              "      <td>SF</td>\n",
              "      <td>199</td>\n",
              "      <td>420</td>\n",
              "      <td>0</td>\n",
              "      <td>0</td>\n",
              "      <td>0</td>\n",
              "      <td>0</td>\n",
              "      <td>...</td>\n",
              "      <td>255</td>\n",
              "      <td>1.00</td>\n",
              "      <td>0.00</td>\n",
              "      <td>0.00</td>\n",
              "      <td>0.00</td>\n",
              "      <td>0.00</td>\n",
              "      <td>0.00</td>\n",
              "      <td>0.00</td>\n",
              "      <td>0.00</td>\n",
              "      <td>normal</td>\n",
              "    </tr>\n",
              "  </tbody>\n",
              "</table>\n",
              "<p>5 rows × 42 columns</p>\n",
              "</div>\n",
              "      <button class=\"colab-df-convert\" onclick=\"convertToInteractive('df-6703c3bf-9558-48c5-b8f5-0b698c11b89e')\"\n",
              "              title=\"Convert this dataframe to an interactive table.\"\n",
              "              style=\"display:none;\">\n",
              "        \n",
              "  <svg xmlns=\"http://www.w3.org/2000/svg\" height=\"24px\"viewBox=\"0 0 24 24\"\n",
              "       width=\"24px\">\n",
              "    <path d=\"M0 0h24v24H0V0z\" fill=\"none\"/>\n",
              "    <path d=\"M18.56 5.44l.94 2.06.94-2.06 2.06-.94-2.06-.94-.94-2.06-.94 2.06-2.06.94zm-11 1L8.5 8.5l.94-2.06 2.06-.94-2.06-.94L8.5 2.5l-.94 2.06-2.06.94zm10 10l.94 2.06.94-2.06 2.06-.94-2.06-.94-.94-2.06-.94 2.06-2.06.94z\"/><path d=\"M17.41 7.96l-1.37-1.37c-.4-.4-.92-.59-1.43-.59-.52 0-1.04.2-1.43.59L10.3 9.45l-7.72 7.72c-.78.78-.78 2.05 0 2.83L4 21.41c.39.39.9.59 1.41.59.51 0 1.02-.2 1.41-.59l7.78-7.78 2.81-2.81c.8-.78.8-2.07 0-2.86zM5.41 20L4 18.59l7.72-7.72 1.47 1.35L5.41 20z\"/>\n",
              "  </svg>\n",
              "      </button>\n",
              "      \n",
              "  <style>\n",
              "    .colab-df-container {\n",
              "      display:flex;\n",
              "      flex-wrap:wrap;\n",
              "      gap: 12px;\n",
              "    }\n",
              "\n",
              "    .colab-df-convert {\n",
              "      background-color: #E8F0FE;\n",
              "      border: none;\n",
              "      border-radius: 50%;\n",
              "      cursor: pointer;\n",
              "      display: none;\n",
              "      fill: #1967D2;\n",
              "      height: 32px;\n",
              "      padding: 0 0 0 0;\n",
              "      width: 32px;\n",
              "    }\n",
              "\n",
              "    .colab-df-convert:hover {\n",
              "      background-color: #E2EBFA;\n",
              "      box-shadow: 0px 1px 2px rgba(60, 64, 67, 0.3), 0px 1px 3px 1px rgba(60, 64, 67, 0.15);\n",
              "      fill: #174EA6;\n",
              "    }\n",
              "\n",
              "    [theme=dark] .colab-df-convert {\n",
              "      background-color: #3B4455;\n",
              "      fill: #D2E3FC;\n",
              "    }\n",
              "\n",
              "    [theme=dark] .colab-df-convert:hover {\n",
              "      background-color: #434B5C;\n",
              "      box-shadow: 0px 1px 3px 1px rgba(0, 0, 0, 0.15);\n",
              "      filter: drop-shadow(0px 1px 2px rgba(0, 0, 0, 0.3));\n",
              "      fill: #FFFFFF;\n",
              "    }\n",
              "  </style>\n",
              "\n",
              "      <script>\n",
              "        const buttonEl =\n",
              "          document.querySelector('#df-6703c3bf-9558-48c5-b8f5-0b698c11b89e button.colab-df-convert');\n",
              "        buttonEl.style.display =\n",
              "          google.colab.kernel.accessAllowed ? 'block' : 'none';\n",
              "\n",
              "        async function convertToInteractive(key) {\n",
              "          const element = document.querySelector('#df-6703c3bf-9558-48c5-b8f5-0b698c11b89e');\n",
              "          const dataTable =\n",
              "            await google.colab.kernel.invokeFunction('convertToInteractive',\n",
              "                                                     [key], {});\n",
              "          if (!dataTable) return;\n",
              "\n",
              "          const docLinkHtml = 'Like what you see? Visit the ' +\n",
              "            '<a target=\"_blank\" href=https://colab.research.google.com/notebooks/data_table.ipynb>data table notebook</a>'\n",
              "            + ' to learn more about interactive tables.';\n",
              "          element.innerHTML = '';\n",
              "          dataTable['output_type'] = 'display_data';\n",
              "          await google.colab.output.renderOutput(dataTable, element);\n",
              "          const docLink = document.createElement('div');\n",
              "          docLink.innerHTML = docLinkHtml;\n",
              "          element.appendChild(docLink);\n",
              "        }\n",
              "      </script>\n",
              "    </div>\n",
              "  </div>\n",
              "  "
            ]
          },
          "metadata": {},
          "execution_count": 24
        }
      ]
    },
    {
      "cell_type": "markdown",
      "source": [
        "**3. Pre-processing data for the model**"
      ],
      "metadata": {
        "id": "grJCy3PXYz93"
      }
    },
    {
      "cell_type": "code",
      "source": [
        "categ = ['protocol_type','service','flag']\n",
        "# Encode Categorical Columns\n",
        "le = LabelEncoder()\n",
        "data[categ] = data[categ].apply(le.fit_transform)\n",
        "#data[categ] = testdata[categ].apply(le.fit_transform)"
      ],
      "metadata": {
        "id": "usQUKoCfvfzJ"
      },
      "execution_count": 25,
      "outputs": []
    },
    {
      "cell_type": "code",
      "source": [
        "labels=[]\n",
        "for i in data['labels']:\n",
        "    if i=='normal':\n",
        "        labels.append(0)\n",
        "    else:\n",
        "        labels.append(1)\n",
        "data['labels']=labels"
      ],
      "metadata": {
        "id": "BODZPspXwNAw"
      },
      "execution_count": 27,
      "outputs": []
    },
    {
      "cell_type": "code",
      "source": [
        "X = data.iloc[:,1:42]\n",
        "Y = data['labels']"
      ],
      "metadata": {
        "id": "_xaFl2BWwR8c"
      },
      "execution_count": 28,
      "outputs": []
    },
    {
      "cell_type": "code",
      "source": [
        "scaler = Normalizer().fit(X)\n",
        "X = scaler.transform(X)"
      ],
      "metadata": {
        "id": "ZcIHRbEtwaWs"
      },
      "execution_count": 29,
      "outputs": []
    },
    {
      "cell_type": "code",
      "source": [
        "X_train, X_test,Y_train,Y_test = train_test_split(X,Y, test_size=0.2)"
      ],
      "metadata": {
        "id": "SFCSUm9vwa4Z"
      },
      "execution_count": 30,
      "outputs": []
    },
    {
      "cell_type": "code",
      "source": [
        "# reshape input to be [samples, time steps, features]\n",
        "X_train = np.reshape(X_train, (X_train.shape[0],X_train.shape[1],1))\n",
        "X_test = np.reshape(X_test, (X_test.shape[0],X_test.shape[1],1))"
      ],
      "metadata": {
        "id": "sx2-W4hdwcpU"
      },
      "execution_count": 31,
      "outputs": []
    },
    {
      "cell_type": "markdown",
      "source": [
        "**4. Convolutional Neural Network Model**"
      ],
      "metadata": {
        "id": "C3vXivVmY5Rj"
      }
    },
    {
      "cell_type": "code",
      "source": [
        "cnn = Sequential()\n",
        "cnn.add(Convolution1D(128, 3 ,activation=\"relu\",input_shape=(41, 1)))\n",
        "cnn.add(MaxPooling1D(2))\n",
        "cnn.add(Flatten())\n",
        "cnn.add(Dense(128, activation=\"relu\"))\n",
        "cnn.add(Dropout(0.5))\n",
        "cnn.add(Dense(1, activation=\"sigmoid\"))"
      ],
      "metadata": {
        "id": "4cddecD0weaE"
      },
      "execution_count": 35,
      "outputs": []
    },
    {
      "cell_type": "code",
      "source": [
        "cnn.compile(loss=\"binary_crossentropy\", optimizer=\"adam\",metrics=['accuracy'])"
      ],
      "metadata": {
        "id": "VlD8CVdIwgNp"
      },
      "execution_count": 36,
      "outputs": []
    },
    {
      "cell_type": "code",
      "source": [
        "history=cnn.fit(X_train, Y_train, epochs=75,verbose=1,batch_size=500,validation_data=(X_test, Y_test))"
      ],
      "metadata": {
        "colab": {
          "base_uri": "https://localhost:8080/"
        },
        "id": "q8YDP1HEwp7D",
        "outputId": "05bdb7e1-b7ef-42a7-8d5f-c6363ba7fced"
      },
      "execution_count": 37,
      "outputs": [
        {
          "output_type": "stream",
          "name": "stdout",
          "text": [
            "Epoch 1/75\n",
            "238/238 [==============================] - 14s 57ms/step - loss: 0.2660 - accuracy: 0.8885 - val_loss: 0.2050 - val_accuracy: 0.9140\n",
            "Epoch 2/75\n",
            "238/238 [==============================] - 13s 57ms/step - loss: 0.1870 - accuracy: 0.9220 - val_loss: 0.1646 - val_accuracy: 0.9284\n",
            "Epoch 3/75\n",
            "238/238 [==============================] - 15s 62ms/step - loss: 0.1588 - accuracy: 0.9315 - val_loss: 0.1395 - val_accuracy: 0.9365\n",
            "Epoch 4/75\n",
            "238/238 [==============================] - 15s 62ms/step - loss: 0.1397 - accuracy: 0.9380 - val_loss: 0.1243 - val_accuracy: 0.9458\n",
            "Epoch 5/75\n",
            "238/238 [==============================] - 14s 58ms/step - loss: 0.1277 - accuracy: 0.9444 - val_loss: 0.1129 - val_accuracy: 0.9537\n",
            "Epoch 6/75\n",
            "238/238 [==============================] - 15s 63ms/step - loss: 0.1182 - accuracy: 0.9511 - val_loss: 0.1048 - val_accuracy: 0.9598\n",
            "Epoch 7/75\n",
            "238/238 [==============================] - 14s 58ms/step - loss: 0.1108 - accuracy: 0.9562 - val_loss: 0.0985 - val_accuracy: 0.9655\n",
            "Epoch 8/75\n",
            "238/238 [==============================] - 13s 56ms/step - loss: 0.1055 - accuracy: 0.9596 - val_loss: 0.0930 - val_accuracy: 0.9667\n",
            "Epoch 9/75\n",
            "238/238 [==============================] - 14s 61ms/step - loss: 0.1013 - accuracy: 0.9616 - val_loss: 0.0889 - val_accuracy: 0.9675\n",
            "Epoch 10/75\n",
            "238/238 [==============================] - 13s 56ms/step - loss: 0.0982 - accuracy: 0.9623 - val_loss: 0.0854 - val_accuracy: 0.9689\n",
            "Epoch 11/75\n",
            "238/238 [==============================] - 13s 56ms/step - loss: 0.0960 - accuracy: 0.9637 - val_loss: 0.0851 - val_accuracy: 0.9684\n",
            "Epoch 12/75\n",
            "238/238 [==============================] - 15s 61ms/step - loss: 0.0930 - accuracy: 0.9650 - val_loss: 0.0841 - val_accuracy: 0.9693\n",
            "Epoch 13/75\n",
            "238/238 [==============================] - 13s 56ms/step - loss: 0.0920 - accuracy: 0.9650 - val_loss: 0.0811 - val_accuracy: 0.9698\n",
            "Epoch 14/75\n",
            "238/238 [==============================] - 14s 57ms/step - loss: 0.0905 - accuracy: 0.9662 - val_loss: 0.0795 - val_accuracy: 0.9710\n",
            "Epoch 15/75\n",
            "238/238 [==============================] - 15s 63ms/step - loss: 0.0892 - accuracy: 0.9659 - val_loss: 0.0779 - val_accuracy: 0.9701\n",
            "Epoch 16/75\n",
            "238/238 [==============================] - 15s 63ms/step - loss: 0.0878 - accuracy: 0.9667 - val_loss: 0.0755 - val_accuracy: 0.9724\n",
            "Epoch 17/75\n",
            "238/238 [==============================] - 14s 58ms/step - loss: 0.0861 - accuracy: 0.9678 - val_loss: 0.0753 - val_accuracy: 0.9710\n",
            "Epoch 18/75\n",
            "238/238 [==============================] - 15s 64ms/step - loss: 0.0842 - accuracy: 0.9684 - val_loss: 0.0726 - val_accuracy: 0.9729\n",
            "Epoch 19/75\n",
            "238/238 [==============================] - 14s 58ms/step - loss: 0.0834 - accuracy: 0.9685 - val_loss: 0.0725 - val_accuracy: 0.9738\n",
            "Epoch 20/75\n",
            "238/238 [==============================] - 14s 58ms/step - loss: 0.0829 - accuracy: 0.9685 - val_loss: 0.0714 - val_accuracy: 0.9745\n",
            "Epoch 21/75\n",
            "238/238 [==============================] - 15s 61ms/step - loss: 0.0818 - accuracy: 0.9692 - val_loss: 0.0709 - val_accuracy: 0.9743\n",
            "Epoch 22/75\n",
            "238/238 [==============================] - 14s 57ms/step - loss: 0.0798 - accuracy: 0.9699 - val_loss: 0.0698 - val_accuracy: 0.9739\n",
            "Epoch 23/75\n",
            "238/238 [==============================] - 13s 57ms/step - loss: 0.0811 - accuracy: 0.9696 - val_loss: 0.0702 - val_accuracy: 0.9738\n",
            "Epoch 24/75\n",
            "238/238 [==============================] - 15s 62ms/step - loss: 0.0790 - accuracy: 0.9701 - val_loss: 0.0676 - val_accuracy: 0.9744\n",
            "Epoch 25/75\n",
            "238/238 [==============================] - 13s 56ms/step - loss: 0.0785 - accuracy: 0.9701 - val_loss: 0.0684 - val_accuracy: 0.9759\n",
            "Epoch 26/75\n",
            "238/238 [==============================] - 14s 58ms/step - loss: 0.0771 - accuracy: 0.9707 - val_loss: 0.0677 - val_accuracy: 0.9740\n",
            "Epoch 27/75\n",
            "238/238 [==============================] - 15s 63ms/step - loss: 0.0765 - accuracy: 0.9710 - val_loss: 0.0657 - val_accuracy: 0.9710\n",
            "Epoch 28/75\n",
            "238/238 [==============================] - 15s 63ms/step - loss: 0.0771 - accuracy: 0.9707 - val_loss: 0.0653 - val_accuracy: 0.9758\n",
            "Epoch 29/75\n",
            "238/238 [==============================] - 14s 57ms/step - loss: 0.0754 - accuracy: 0.9719 - val_loss: 0.0651 - val_accuracy: 0.9749\n",
            "Epoch 30/75\n",
            "238/238 [==============================] - 15s 62ms/step - loss: 0.0749 - accuracy: 0.9712 - val_loss: 0.0637 - val_accuracy: 0.9765\n",
            "Epoch 31/75\n",
            "238/238 [==============================] - 14s 58ms/step - loss: 0.0759 - accuracy: 0.9708 - val_loss: 0.0634 - val_accuracy: 0.9765\n",
            "Epoch 32/75\n",
            "238/238 [==============================] - 14s 58ms/step - loss: 0.0752 - accuracy: 0.9715 - val_loss: 0.0637 - val_accuracy: 0.9761\n",
            "Epoch 33/75\n",
            "238/238 [==============================] - 15s 63ms/step - loss: 0.0744 - accuracy: 0.9713 - val_loss: 0.0628 - val_accuracy: 0.9766\n",
            "Epoch 34/75\n",
            "238/238 [==============================] - 13s 57ms/step - loss: 0.0740 - accuracy: 0.9721 - val_loss: 0.0628 - val_accuracy: 0.9758\n",
            "Epoch 35/75\n",
            "238/238 [==============================] - 14s 57ms/step - loss: 0.0733 - accuracy: 0.9719 - val_loss: 0.0645 - val_accuracy: 0.9762\n",
            "Epoch 36/75\n",
            "238/238 [==============================] - 15s 62ms/step - loss: 0.0727 - accuracy: 0.9719 - val_loss: 0.0618 - val_accuracy: 0.9773\n",
            "Epoch 37/75\n",
            "238/238 [==============================] - 14s 57ms/step - loss: 0.0724 - accuracy: 0.9722 - val_loss: 0.0606 - val_accuracy: 0.9772\n",
            "Epoch 38/75\n",
            "238/238 [==============================] - 14s 57ms/step - loss: 0.0711 - accuracy: 0.9727 - val_loss: 0.0600 - val_accuracy: 0.9774\n",
            "Epoch 39/75\n",
            "238/238 [==============================] - 14s 61ms/step - loss: 0.0718 - accuracy: 0.9730 - val_loss: 0.0630 - val_accuracy: 0.9742\n",
            "Epoch 40/75\n",
            "238/238 [==============================] - 14s 61ms/step - loss: 0.0711 - accuracy: 0.9731 - val_loss: 0.0587 - val_accuracy: 0.9785\n",
            "Epoch 41/75\n",
            "238/238 [==============================] - 13s 57ms/step - loss: 0.0702 - accuracy: 0.9732 - val_loss: 0.0596 - val_accuracy: 0.9764\n",
            "Epoch 42/75\n",
            "238/238 [==============================] - 15s 61ms/step - loss: 0.0701 - accuracy: 0.9734 - val_loss: 0.0590 - val_accuracy: 0.9761\n",
            "Epoch 43/75\n",
            "238/238 [==============================] - 13s 56ms/step - loss: 0.0693 - accuracy: 0.9737 - val_loss: 0.0587 - val_accuracy: 0.9788\n",
            "Epoch 44/75\n",
            "238/238 [==============================] - 13s 57ms/step - loss: 0.0695 - accuracy: 0.9732 - val_loss: 0.0583 - val_accuracy: 0.9784\n",
            "Epoch 45/75\n",
            "238/238 [==============================] - 15s 62ms/step - loss: 0.0687 - accuracy: 0.9736 - val_loss: 0.0590 - val_accuracy: 0.9787\n",
            "Epoch 46/75\n",
            "238/238 [==============================] - 14s 57ms/step - loss: 0.0688 - accuracy: 0.9737 - val_loss: 0.0573 - val_accuracy: 0.9781\n",
            "Epoch 47/75\n",
            "238/238 [==============================] - 14s 57ms/step - loss: 0.0688 - accuracy: 0.9736 - val_loss: 0.0562 - val_accuracy: 0.9791\n",
            "Epoch 48/75\n",
            "238/238 [==============================] - 15s 62ms/step - loss: 0.0677 - accuracy: 0.9741 - val_loss: 0.0561 - val_accuracy: 0.9800\n",
            "Epoch 49/75\n",
            "238/238 [==============================] - 14s 57ms/step - loss: 0.0677 - accuracy: 0.9736 - val_loss: 0.0561 - val_accuracy: 0.9777\n",
            "Epoch 50/75\n",
            "238/238 [==============================] - 14s 58ms/step - loss: 0.0680 - accuracy: 0.9740 - val_loss: 0.0561 - val_accuracy: 0.9800\n",
            "Epoch 51/75\n",
            "238/238 [==============================] - 15s 63ms/step - loss: 0.0674 - accuracy: 0.9742 - val_loss: 0.0587 - val_accuracy: 0.9779\n",
            "Epoch 52/75\n",
            "238/238 [==============================] - 15s 63ms/step - loss: 0.0667 - accuracy: 0.9744 - val_loss: 0.0543 - val_accuracy: 0.9802\n",
            "Epoch 53/75\n",
            "238/238 [==============================] - 14s 58ms/step - loss: 0.0658 - accuracy: 0.9747 - val_loss: 0.0560 - val_accuracy: 0.9782\n",
            "Epoch 54/75\n",
            "238/238 [==============================] - 15s 63ms/step - loss: 0.0670 - accuracy: 0.9745 - val_loss: 0.0542 - val_accuracy: 0.9785\n",
            "Epoch 55/75\n",
            "238/238 [==============================] - 14s 58ms/step - loss: 0.0659 - accuracy: 0.9744 - val_loss: 0.0551 - val_accuracy: 0.9788\n",
            "Epoch 56/75\n",
            "238/238 [==============================] - 14s 58ms/step - loss: 0.0661 - accuracy: 0.9746 - val_loss: 0.0562 - val_accuracy: 0.9781\n",
            "Epoch 57/75\n",
            "238/238 [==============================] - 15s 64ms/step - loss: 0.0650 - accuracy: 0.9749 - val_loss: 0.0547 - val_accuracy: 0.9799\n",
            "Epoch 58/75\n",
            "238/238 [==============================] - 14s 58ms/step - loss: 0.0647 - accuracy: 0.9748 - val_loss: 0.0537 - val_accuracy: 0.9797\n",
            "Epoch 59/75\n",
            "238/238 [==============================] - 14s 57ms/step - loss: 0.0649 - accuracy: 0.9753 - val_loss: 0.0547 - val_accuracy: 0.9796\n",
            "Epoch 60/75\n",
            "238/238 [==============================] - 15s 62ms/step - loss: 0.0644 - accuracy: 0.9749 - val_loss: 0.0530 - val_accuracy: 0.9803\n",
            "Epoch 61/75\n",
            "238/238 [==============================] - 14s 57ms/step - loss: 0.0637 - accuracy: 0.9757 - val_loss: 0.0535 - val_accuracy: 0.9794\n",
            "Epoch 62/75\n",
            "238/238 [==============================] - 14s 58ms/step - loss: 0.0643 - accuracy: 0.9752 - val_loss: 0.0549 - val_accuracy: 0.9783\n",
            "Epoch 63/75\n",
            "238/238 [==============================] - 15s 63ms/step - loss: 0.0632 - accuracy: 0.9753 - val_loss: 0.0514 - val_accuracy: 0.9801\n",
            "Epoch 64/75\n",
            "238/238 [==============================] - 15s 63ms/step - loss: 0.0633 - accuracy: 0.9759 - val_loss: 0.0525 - val_accuracy: 0.9779\n",
            "Epoch 65/75\n",
            "238/238 [==============================] - 14s 58ms/step - loss: 0.0638 - accuracy: 0.9750 - val_loss: 0.0528 - val_accuracy: 0.9795\n",
            "Epoch 66/75\n",
            "238/238 [==============================] - 15s 63ms/step - loss: 0.0638 - accuracy: 0.9757 - val_loss: 0.0524 - val_accuracy: 0.9805\n",
            "Epoch 67/75\n",
            "238/238 [==============================] - 14s 57ms/step - loss: 0.0632 - accuracy: 0.9756 - val_loss: 0.0538 - val_accuracy: 0.9784\n",
            "Epoch 68/75\n",
            "238/238 [==============================] - 14s 58ms/step - loss: 0.0633 - accuracy: 0.9761 - val_loss: 0.0516 - val_accuracy: 0.9802\n",
            "Epoch 69/75\n",
            "238/238 [==============================] - 15s 63ms/step - loss: 0.0626 - accuracy: 0.9761 - val_loss: 0.0527 - val_accuracy: 0.9804\n",
            "Epoch 70/75\n",
            "238/238 [==============================] - 14s 58ms/step - loss: 0.0633 - accuracy: 0.9751 - val_loss: 0.0531 - val_accuracy: 0.9773\n",
            "Epoch 71/75\n",
            "238/238 [==============================] - 14s 58ms/step - loss: 0.0619 - accuracy: 0.9759 - val_loss: 0.0517 - val_accuracy: 0.9794\n",
            "Epoch 72/75\n",
            "238/238 [==============================] - 15s 63ms/step - loss: 0.0619 - accuracy: 0.9761 - val_loss: 0.0522 - val_accuracy: 0.9800\n",
            "Epoch 73/75\n",
            "238/238 [==============================] - 14s 57ms/step - loss: 0.0608 - accuracy: 0.9766 - val_loss: 0.0496 - val_accuracy: 0.9812\n",
            "Epoch 74/75\n",
            "238/238 [==============================] - 14s 57ms/step - loss: 0.0612 - accuracy: 0.9762 - val_loss: 0.0534 - val_accuracy: 0.9788\n",
            "Epoch 75/75\n",
            "238/238 [==============================] - 15s 62ms/step - loss: 0.0621 - accuracy: 0.9764 - val_loss: 0.0503 - val_accuracy: 0.9804\n"
          ]
        }
      ]
    },
    {
      "cell_type": "markdown",
      "source": [
        "**5. Model Accuracy and Loss**"
      ],
      "metadata": {
        "id": "TRDuqvAjZB56"
      }
    },
    {
      "cell_type": "code",
      "source": [
        "plt.plot(history.history['accuracy'])\n",
        "plt.plot(history.history['val_accuracy'])\n",
        "plt.title('model accuracy')\n",
        "plt.ylabel('accuracy')\n",
        "plt.xlabel('epoch')\n",
        "plt.legend(['train', 'test'], loc='upper left')\n",
        "plt.show()"
      ],
      "metadata": {
        "colab": {
          "base_uri": "https://localhost:8080/",
          "height": 295
        },
        "id": "a4fh85yQToDE",
        "outputId": "89487256-1e8a-4998-c930-7a021926b017"
      },
      "execution_count": 38,
      "outputs": [
        {
          "output_type": "display_data",
          "data": {
            "text/plain": [
              "<Figure size 432x288 with 1 Axes>"
            ],
            "image/png": "[encoded data removed]"
          },
          "metadata": {
            "needs_background": "light"
          }
        }
      ]
    },
    {
      "cell_type": "code",
      "source": [
        "plt.plot(history.history['loss'])\n",
        "plt.plot(history.history['val_loss'])\n",
        "plt.title('model loss')\n",
        "plt.ylabel('loss')\n",
        "plt.xlabel('epoch')\n",
        "plt.legend(['train', 'test'], loc='upper left')\n",
        "plt.show()"
      ],
      "metadata": {
        "colab": {
          "base_uri": "https://localhost:8080/",
          "height": 295
        },
        "id": "BOGmQW7zToVk",
        "outputId": "07f21a96-637b-4cab-bbce-f2ed8390443b"
      },
      "execution_count": 39,
      "outputs": [
        {
          "output_type": "display_data",
          "data": {
            "text/plain": [
              "<Figure size 432x288 with 1 Axes>"
            ],
            "image/png": "[encoded data removed]"
          },
          "metadata": {
            "needs_background": "light"
          }
        }
      ]
    },
    {
      "cell_type": "markdown",
      "source": [
        "**6. Saving the model to disk**"
      ],
      "metadata": {
        "id": "Z-ozXhHAZGhg"
      }
    },
    {
      "cell_type": "code",
      "source": [
        "cnn.save(\"./cnn_model.hdf5\")"
      ],
      "metadata": {
        "id": "hvpupubZTpze"
      },
      "execution_count": 40,
      "outputs": []
    }
  ]
}