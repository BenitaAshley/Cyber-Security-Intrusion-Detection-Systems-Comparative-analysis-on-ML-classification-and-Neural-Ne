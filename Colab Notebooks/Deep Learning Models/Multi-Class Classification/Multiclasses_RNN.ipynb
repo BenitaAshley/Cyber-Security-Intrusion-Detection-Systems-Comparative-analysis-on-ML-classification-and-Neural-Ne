{
  "nbformat": 4,
  "nbformat_minor": 0,
  "metadata": {
    "colab": {
      "provenance": []
    },
    "kernelspec": {
      "name": "python3",
      "display_name": "Python 3"
    },
    "language_info": {
      "name": "python"
    }
  },
  "cells": [
    {
      "cell_type": "markdown",
      "source": [
        "\n",
        "#**Project Title:**\n",
        "\n",
        "\n",
        "#                  **Cyber Security Intrusion Detection Systems : Comparative analysis on ML classification and Neural Networks**"
      ],
      "metadata": {
        "id": "mHTKmie7EksA"
      }
    },
    {
      "cell_type": "markdown",
      "source": [
        "#Author\n",
        "\n",
        "**Author Name:** Benita Ashley\n",
        "\n",
        "**Student ID:** 220058151"
      ],
      "metadata": {
        "id": "RHrSwa-LElwm"
      }
    },
    {
      "cell_type": "markdown",
      "source": [
        "# Project Supervisor\n",
        "\n",
        "**Name:** Dr Mahdieh Sadabadi\n"
      ],
      "metadata": {
        "id": "wb_GxewMEoCQ"
      }
    },
    {
      "cell_type": "markdown",
      "source": [
        "  **1. Importing Required Libraries**"
      ],
      "metadata": {
        "id": "SfbKHqa0Eq_F"
      }
    },
    {
      "cell_type": "code",
      "source": [
        "from __future__ import print_function\n",
        "import numpy as np\n",
        "np.random.seed(1337)  # for reproducibility\n",
        "from keras.preprocessing import sequence\n",
        "from keras.models import Sequential\n",
        "from keras.layers import Dense, Dropout, Activation, Lambda\n",
        "from keras.layers import Embedding\n",
        "from keras.layers import Convolution1D,MaxPooling1D, Flatten\n",
        "from keras.datasets import imdb\n",
        "from keras import backend as K\n",
        "from sklearn.model_selection import train_test_split\n",
        "import pandas as pd\n",
        "from keras.utils.np_utils import to_categorical\n",
        "from sklearn.preprocessing import Normalizer\n",
        "from keras.models import Sequential\n",
        "from keras.layers import Convolution1D, Dense, Dropout, Flatten, MaxPooling1D\n",
        "from keras.utils import np_utils\n",
        "import numpy as np\n",
        "import h5py\n",
        "from keras import callbacks\n",
        "from keras.layers import LSTM, GRU, SimpleRNN\n",
        "from keras.callbacks import CSVLogger\n",
        "from keras.callbacks import ModelCheckpoint, EarlyStopping, ReduceLROnPlateau, CSVLogger\n",
        "from sklearn.preprocessing import LabelEncoder\n",
        "import matplotlib.pyplot as plt"
      ],
      "metadata": {
        "id": "ZUSbQysOGAtY"
      },
      "execution_count": 1,
      "outputs": []
    },
    {
      "cell_type": "markdown",
      "source": [
        "**2. Reading the datset and displaying the same**"
      ],
      "metadata": {
        "id": "JEMev74sEtj1"
      }
    },
    {
      "cell_type": "code",
      "source": [
        "traindata = pd.read_csv('KDDCup99_Train.csv')\n",
        "testdata = pd.read_csv('KDDCup99_Test.csv')"
      ],
      "metadata": {
        "id": "jriLoZI4GIyp"
      },
      "execution_count": 2,
      "outputs": []
    },
    {
      "cell_type": "code",
      "source": [
        "data = pd.concat([traindata,testdata])\n",
        "data.head()"
      ],
      "metadata": {
        "id": "S3kx_Bu2GLmu",
        "colab": {
          "base_uri": "https://localhost:8080/",
          "height": 299
        },
        "outputId": "b7345f77-836f-41d3-a72d-bc0e6ec80809"
      },
      "execution_count": 3,
      "outputs": [
        {
          "output_type": "execute_result",
          "data": {
            "text/plain": [
              "   duration protocol_type   service flag  src_bytes  dst_bytes  land  \\\n",
              "0         0           tcp  ftp_data   SF        491          0     0   \n",
              "1         0           udp     other   SF        146          0     0   \n",
              "2         0           tcp   private   S0          0          0     0   \n",
              "3         0           tcp      http   SF        232       8153     0   \n",
              "4         0           tcp      http   SF        199        420     0   \n",
              "\n",
              "   wrong_fragment  urgent  hot  ...  dst_host_srv_count  \\\n",
              "0               0       0    0  ...                  25   \n",
              "1               0       0    0  ...                   1   \n",
              "2               0       0    0  ...                  26   \n",
              "3               0       0    0  ...                 255   \n",
              "4               0       0    0  ...                 255   \n",
              "\n",
              "   dst_host_same_srv_rate  dst_host_diff_srv_rate  \\\n",
              "0                    0.17                    0.03   \n",
              "1                    0.00                    0.60   \n",
              "2                    0.10                    0.05   \n",
              "3                    1.00                    0.00   \n",
              "4                    1.00                    0.00   \n",
              "\n",
              "   dst_host_same_src_port_rate  dst_host_srv_diff_host_rate  \\\n",
              "0                         0.17                         0.00   \n",
              "1                         0.88                         0.00   \n",
              "2                         0.00                         0.00   \n",
              "3                         0.03                         0.04   \n",
              "4                         0.00                         0.00   \n",
              "\n",
              "   dst_host_serror_rate  dst_host_srv_serror_rate  dst_host_rerror_rate  \\\n",
              "0                  0.00                      0.00                  0.05   \n",
              "1                  0.00                      0.00                  0.00   \n",
              "2                  1.00                      1.00                  0.00   \n",
              "3                  0.03                      0.01                  0.00   \n",
              "4                  0.00                      0.00                  0.00   \n",
              "\n",
              "   dst_host_srv_rerror_rate   labels  \n",
              "0                      0.00   normal  \n",
              "1                      0.00   normal  \n",
              "2                      0.00  anomaly  \n",
              "3                      0.01   normal  \n",
              "4                      0.00   normal  \n",
              "\n",
              "[5 rows x 42 columns]"
            ],
            "text/html": [
              "\n",
              "  <div id=\"df-28aef508-91b7-4d42-a831-3cbba7f3d91e\">\n",
              "    <div class=\"colab-df-container\">\n",
              "      <div>\n",
              "<style scoped>\n",
              "    .dataframe tbody tr th:only-of-type {\n",
              "        vertical-align: middle;\n",
              "    }\n",
              "\n",
              "    .dataframe tbody tr th {\n",
              "        vertical-align: top;\n",
              "    }\n",
              "\n",
              "    .dataframe thead th {\n",
              "        text-align: right;\n",
              "    }\n",
              "</style>\n",
              "<table border=\"1\" class=\"dataframe\">\n",
              "  <thead>\n",
              "    <tr style=\"text-align: right;\">\n",
              "      <th></th>\n",
              "      <th>duration</th>\n",
              "      <th>protocol_type</th>\n",
              "      <th>service</th>\n",
              "      <th>flag</th>\n",
              "      <th>src_bytes</th>\n",
              "      <th>dst_bytes</th>\n",
              "      <th>land</th>\n",
              "      <th>wrong_fragment</th>\n",
              "      <th>urgent</th>\n",
              "      <th>hot</th>\n",
              "      <th>...</th>\n",
              "      <th>dst_host_srv_count</th>\n",
              "      <th>dst_host_same_srv_rate</th>\n",
              "      <th>dst_host_diff_srv_rate</th>\n",
              "      <th>dst_host_same_src_port_rate</th>\n",
              "      <th>dst_host_srv_diff_host_rate</th>\n",
              "      <th>dst_host_serror_rate</th>\n",
              "      <th>dst_host_srv_serror_rate</th>\n",
              "      <th>dst_host_rerror_rate</th>\n",
              "      <th>dst_host_srv_rerror_rate</th>\n",
              "      <th>labels</th>\n",
              "    </tr>\n",
              "  </thead>\n",
              "  <tbody>\n",
              "    <tr>\n",
              "      <th>0</th>\n",
              "      <td>0</td>\n",
              "      <td>tcp</td>\n",
              "      <td>ftp_data</td>\n",
              "      <td>SF</td>\n",
              "      <td>491</td>\n",
              "      <td>0</td>\n",
              "      <td>0</td>\n",
              "      <td>0</td>\n",
              "      <td>0</td>\n",
              "      <td>0</td>\n",
              "      <td>...</td>\n",
              "      <td>25</td>\n",
              "      <td>0.17</td>\n",
              "      <td>0.03</td>\n",
              "      <td>0.17</td>\n",
              "      <td>0.00</td>\n",
              "      <td>0.00</td>\n",
              "      <td>0.00</td>\n",
              "      <td>0.05</td>\n",
              "      <td>0.00</td>\n",
              "      <td>normal</td>\n",
              "    </tr>\n",
              "    <tr>\n",
              "      <th>1</th>\n",
              "      <td>0</td>\n",
              "      <td>udp</td>\n",
              "      <td>other</td>\n",
              "      <td>SF</td>\n",
              "      <td>146</td>\n",
              "      <td>0</td>\n",
              "      <td>0</td>\n",
              "      <td>0</td>\n",
              "      <td>0</td>\n",
              "      <td>0</td>\n",
              "      <td>...</td>\n",
              "      <td>1</td>\n",
              "      <td>0.00</td>\n",
              "      <td>0.60</td>\n",
              "      <td>0.88</td>\n",
              "      <td>0.00</td>\n",
              "      <td>0.00</td>\n",
              "      <td>0.00</td>\n",
              "      <td>0.00</td>\n",
              "      <td>0.00</td>\n",
              "      <td>normal</td>\n",
              "    </tr>\n",
              "    <tr>\n",
              "      <th>2</th>\n",
              "      <td>0</td>\n",
              "      <td>tcp</td>\n",
              "      <td>private</td>\n",
              "      <td>S0</td>\n",
              "      <td>0</td>\n",
              "      <td>0</td>\n",
              "      <td>0</td>\n",
              "      <td>0</td>\n",
              "      <td>0</td>\n",
              "      <td>0</td>\n",
              "      <td>...</td>\n",
              "      <td>26</td>\n",
              "      <td>0.10</td>\n",
              "      <td>0.05</td>\n",
              "      <td>0.00</td>\n",
              "      <td>0.00</td>\n",
              "      <td>1.00</td>\n",
              "      <td>1.00</td>\n",
              "      <td>0.00</td>\n",
              "      <td>0.00</td>\n",
              "      <td>anomaly</td>\n",
              "    </tr>\n",
              "    <tr>\n",
              "      <th>3</th>\n",
              "      <td>0</td>\n",
              "      <td>tcp</td>\n",
              "      <td>http</td>\n",
              "      <td>SF</td>\n",
              "      <td>232</td>\n",
              "      <td>8153</td>\n",
              "      <td>0</td>\n",
              "      <td>0</td>\n",
              "      <td>0</td>\n",
              "      <td>0</td>\n",
              "      <td>...</td>\n",
              "      <td>255</td>\n",
              "      <td>1.00</td>\n",
              "      <td>0.00</td>\n",
              "      <td>0.03</td>\n",
              "      <td>0.04</td>\n",
              "      <td>0.03</td>\n",
              "      <td>0.01</td>\n",
              "      <td>0.00</td>\n",
              "      <td>0.01</td>\n",
              "      <td>normal</td>\n",
              "    </tr>\n",
              "    <tr>\n",
              "      <th>4</th>\n",
              "      <td>0</td>\n",
              "      <td>tcp</td>\n",
              "      <td>http</td>\n",
              "      <td>SF</td>\n",
              "      <td>199</td>\n",
              "      <td>420</td>\n",
              "      <td>0</td>\n",
              "      <td>0</td>\n",
              "      <td>0</td>\n",
              "      <td>0</td>\n",
              "      <td>...</td>\n",
              "      <td>255</td>\n",
              "      <td>1.00</td>\n",
              "      <td>0.00</td>\n",
              "      <td>0.00</td>\n",
              "      <td>0.00</td>\n",
              "      <td>0.00</td>\n",
              "      <td>0.00</td>\n",
              "      <td>0.00</td>\n",
              "      <td>0.00</td>\n",
              "      <td>normal</td>\n",
              "    </tr>\n",
              "  </tbody>\n",
              "</table>\n",
              "<p>5 rows × 42 columns</p>\n",
              "</div>\n",
              "      <button class=\"colab-df-convert\" onclick=\"convertToInteractive('df-28aef508-91b7-4d42-a831-3cbba7f3d91e')\"\n",
              "              title=\"Convert this dataframe to an interactive table.\"\n",
              "              style=\"display:none;\">\n",
              "        \n",
              "  <svg xmlns=\"http://www.w3.org/2000/svg\" height=\"24px\"viewBox=\"0 0 24 24\"\n",
              "       width=\"24px\">\n",
              "    <path d=\"M0 0h24v24H0V0z\" fill=\"none\"/>\n",
              "    <path d=\"M18.56 5.44l.94 2.06.94-2.06 2.06-.94-2.06-.94-.94-2.06-.94 2.06-2.06.94zm-11 1L8.5 8.5l.94-2.06 2.06-.94-2.06-.94L8.5 2.5l-.94 2.06-2.06.94zm10 10l.94 2.06.94-2.06 2.06-.94-2.06-.94-.94-2.06-.94 2.06-2.06.94z\"/><path d=\"M17.41 7.96l-1.37-1.37c-.4-.4-.92-.59-1.43-.59-.52 0-1.04.2-1.43.59L10.3 9.45l-7.72 7.72c-.78.78-.78 2.05 0 2.83L4 21.41c.39.39.9.59 1.41.59.51 0 1.02-.2 1.41-.59l7.78-7.78 2.81-2.81c.8-.78.8-2.07 0-2.86zM5.41 20L4 18.59l7.72-7.72 1.47 1.35L5.41 20z\"/>\n",
              "  </svg>\n",
              "      </button>\n",
              "      \n",
              "  <style>\n",
              "    .colab-df-container {\n",
              "      display:flex;\n",
              "      flex-wrap:wrap;\n",
              "      gap: 12px;\n",
              "    }\n",
              "\n",
              "    .colab-df-convert {\n",
              "      background-color: #E8F0FE;\n",
              "      border: none;\n",
              "      border-radius: 50%;\n",
              "      cursor: pointer;\n",
              "      display: none;\n",
              "      fill: #1967D2;\n",
              "      height: 32px;\n",
              "      padding: 0 0 0 0;\n",
              "      width: 32px;\n",
              "    }\n",
              "\n",
              "    .colab-df-convert:hover {\n",
              "      background-color: #E2EBFA;\n",
              "      box-shadow: 0px 1px 2px rgba(60, 64, 67, 0.3), 0px 1px 3px 1px rgba(60, 64, 67, 0.15);\n",
              "      fill: #174EA6;\n",
              "    }\n",
              "\n",
              "    [theme=dark] .colab-df-convert {\n",
              "      background-color: #3B4455;\n",
              "      fill: #D2E3FC;\n",
              "    }\n",
              "\n",
              "    [theme=dark] .colab-df-convert:hover {\n",
              "      background-color: #434B5C;\n",
              "      box-shadow: 0px 1px 3px 1px rgba(0, 0, 0, 0.15);\n",
              "      filter: drop-shadow(0px 1px 2px rgba(0, 0, 0, 0.3));\n",
              "      fill: #FFFFFF;\n",
              "    }\n",
              "  </style>\n",
              "\n",
              "      <script>\n",
              "        const buttonEl =\n",
              "          document.querySelector('#df-28aef508-91b7-4d42-a831-3cbba7f3d91e button.colab-df-convert');\n",
              "        buttonEl.style.display =\n",
              "          google.colab.kernel.accessAllowed ? 'block' : 'none';\n",
              "\n",
              "        async function convertToInteractive(key) {\n",
              "          const element = document.querySelector('#df-28aef508-91b7-4d42-a831-3cbba7f3d91e');\n",
              "          const dataTable =\n",
              "            await google.colab.kernel.invokeFunction('convertToInteractive',\n",
              "                                                     [key], {});\n",
              "          if (!dataTable) return;\n",
              "\n",
              "          const docLinkHtml = 'Like what you see? Visit the ' +\n",
              "            '<a target=\"_blank\" href=https://colab.research.google.com/notebooks/data_table.ipynb>data table notebook</a>'\n",
              "            + ' to learn more about interactive tables.';\n",
              "          element.innerHTML = '';\n",
              "          dataTable['output_type'] = 'display_data';\n",
              "          await google.colab.output.renderOutput(dataTable, element);\n",
              "          const docLink = document.createElement('div');\n",
              "          docLink.innerHTML = docLinkHtml;\n",
              "          element.appendChild(docLink);\n",
              "        }\n",
              "      </script>\n",
              "    </div>\n",
              "  </div>\n",
              "  "
            ]
          },
          "metadata": {},
          "execution_count": 3
        }
      ]
    },
    {
      "cell_type": "markdown",
      "source": [
        "**3. Pre-processing data for the model**"
      ],
      "metadata": {
        "id": "4Gzp23CPEwb-"
      }
    },
    {
      "cell_type": "code",
      "source": [
        "categ = ['protocol_type','service','flag','labels']\n",
        "# Encode Categorical Columns\n",
        "le = LabelEncoder()\n",
        "data[categ] = data[categ].apply(le.fit_transform)"
      ],
      "metadata": {
        "id": "uKz_4hsMGjtZ"
      },
      "execution_count": 4,
      "outputs": []
    },
    {
      "cell_type": "code",
      "source": [
        "X = data.iloc[:,1:41]\n",
        "Y = data['labels']"
      ],
      "metadata": {
        "id": "bYnsCO78Gmtz"
      },
      "execution_count": 5,
      "outputs": []
    },
    {
      "cell_type": "code",
      "source": [
        "scaler = Normalizer().fit(X)\n",
        "X = scaler.transform(X)"
      ],
      "metadata": {
        "id": "MQSwJFNgGocM"
      },
      "execution_count": 6,
      "outputs": []
    },
    {
      "cell_type": "code",
      "source": [
        "X_train, X_test,Y_train,Y_test = train_test_split(X,Y, test_size=0.2)"
      ],
      "metadata": {
        "id": "cFtqyRd_GqYq"
      },
      "execution_count": 7,
      "outputs": []
    },
    {
      "cell_type": "code",
      "source": [
        "# reshape input to be [samples, time steps, features]\n",
        "X_train = np.reshape(X_train, (X_train.shape[0],X_train.shape[1],1))\n",
        "X_test = np.reshape(X_test, (X_test.shape[0],X_test.shape[1],1))"
      ],
      "metadata": {
        "id": "_Dt3-94hGtq0"
      },
      "execution_count": 8,
      "outputs": []
    },
    {
      "cell_type": "markdown",
      "source": [
        "**4. Recurrent Neural Network Model**"
      ],
      "metadata": {
        "id": "0iKK_PXmE0Iw"
      }
    },
    {
      "cell_type": "code",
      "source": [
        "#cnn.add(Convolution1D(128, 3 ,activation=\"relu\",input_shape=(40, 1)))\n",
        "model = Sequential()\n",
        "model.add(SimpleRNN(128,input_shape=(40, 1)))\n",
        "model.add(Dropout(0.1))\n",
        "model.add(Dense(40))\n",
        "model.add(Activation('softmax'))"
      ],
      "metadata": {
        "id": "1m9I1_09GymH"
      },
      "execution_count": 9,
      "outputs": []
    },
    {
      "cell_type": "code",
      "source": [
        "# define optimizer and objective, compile cnn\n",
        "\n",
        "model.compile(loss=\"sparse_categorical_crossentropy\", optimizer=\"adam\",metrics=['accuracy'])"
      ],
      "metadata": {
        "id": "jH3VD3zHG0pf"
      },
      "execution_count": 10,
      "outputs": []
    },
    {
      "cell_type": "code",
      "source": [
        "history=model.fit(X_train, Y_train, epochs=75,verbose=1,batch_size=500,validation_data=(X_test, Y_test))"
      ],
      "metadata": {
        "id": "TvbONVRvG1Oa",
        "colab": {
          "base_uri": "https://localhost:8080/"
        },
        "outputId": "7b3e0e5f-2722-487b-e6ed-3d1bf32459af"
      },
      "execution_count": 11,
      "outputs": [
        {
          "output_type": "stream",
          "name": "stdout",
          "text": [
            "Epoch 1/75\n",
            "238/238 [==============================] - 24s 89ms/step - loss: 0.7958 - accuracy: 0.5114 - val_loss: 0.6953 - val_accuracy: 0.5176\n",
            "Epoch 2/75\n",
            "238/238 [==============================] - 21s 89ms/step - loss: 0.4029 - accuracy: 0.7809 - val_loss: 0.2471 - val_accuracy: 0.9024\n",
            "Epoch 3/75\n",
            "238/238 [==============================] - 21s 86ms/step - loss: 0.2303 - accuracy: 0.9074 - val_loss: 0.2117 - val_accuracy: 0.9107\n",
            "Epoch 4/75\n",
            "238/238 [==============================] - 21s 89ms/step - loss: 0.2007 - accuracy: 0.9200 - val_loss: 0.1880 - val_accuracy: 0.9256\n",
            "Epoch 5/75\n",
            "238/238 [==============================] - 20s 83ms/step - loss: 0.1988 - accuracy: 0.9210 - val_loss: 0.2106 - val_accuracy: 0.9167\n",
            "Epoch 6/75\n",
            "238/238 [==============================] - 20s 83ms/step - loss: 0.1777 - accuracy: 0.9300 - val_loss: 0.1792 - val_accuracy: 0.9366\n",
            "Epoch 7/75\n",
            "238/238 [==============================] - 21s 90ms/step - loss: 0.1752 - accuracy: 0.9328 - val_loss: 0.1610 - val_accuracy: 0.9348\n",
            "Epoch 8/75\n",
            "238/238 [==============================] - 26s 109ms/step - loss: 0.1628 - accuracy: 0.9393 - val_loss: 0.1654 - val_accuracy: 0.9344\n",
            "Epoch 9/75\n",
            "238/238 [==============================] - 23s 96ms/step - loss: 0.1574 - accuracy: 0.9423 - val_loss: 0.1625 - val_accuracy: 0.9402\n",
            "Epoch 10/75\n",
            "238/238 [==============================] - 21s 89ms/step - loss: 0.1607 - accuracy: 0.9392 - val_loss: 0.1618 - val_accuracy: 0.9492\n",
            "Epoch 11/75\n",
            "238/238 [==============================] - 20s 83ms/step - loss: 0.1622 - accuracy: 0.9409 - val_loss: 0.1487 - val_accuracy: 0.9521\n",
            "Epoch 12/75\n",
            "238/238 [==============================] - 21s 88ms/step - loss: 0.1458 - accuracy: 0.9464 - val_loss: 0.1383 - val_accuracy: 0.9531\n",
            "Epoch 13/75\n",
            "238/238 [==============================] - 22s 91ms/step - loss: 0.1442 - accuracy: 0.9472 - val_loss: 0.1300 - val_accuracy: 0.9483\n",
            "Epoch 14/75\n",
            "238/238 [==============================] - 20s 83ms/step - loss: 0.1365 - accuracy: 0.9495 - val_loss: 0.1413 - val_accuracy: 0.9510\n",
            "Epoch 15/75\n",
            "238/238 [==============================] - 21s 88ms/step - loss: 0.1246 - accuracy: 0.9533 - val_loss: 0.1304 - val_accuracy: 0.9443\n",
            "Epoch 16/75\n",
            "238/238 [==============================] - 20s 83ms/step - loss: 0.1238 - accuracy: 0.9532 - val_loss: 0.1369 - val_accuracy: 0.9430\n",
            "Epoch 17/75\n",
            "238/238 [==============================] - 21s 89ms/step - loss: 0.1237 - accuracy: 0.9524 - val_loss: 0.1088 - val_accuracy: 0.9575\n",
            "Epoch 18/75\n",
            "238/238 [==============================] - 20s 83ms/step - loss: 0.1237 - accuracy: 0.9538 - val_loss: 0.1179 - val_accuracy: 0.9526\n",
            "Epoch 19/75\n",
            "238/238 [==============================] - 20s 83ms/step - loss: 0.1242 - accuracy: 0.9517 - val_loss: 0.1039 - val_accuracy: 0.9589\n",
            "Epoch 20/75\n",
            "238/238 [==============================] - 21s 88ms/step - loss: 0.1084 - accuracy: 0.9591 - val_loss: 0.0979 - val_accuracy: 0.9599\n",
            "Epoch 21/75\n",
            "238/238 [==============================] - 20s 83ms/step - loss: 0.1064 - accuracy: 0.9594 - val_loss: 0.0925 - val_accuracy: 0.9643\n",
            "Epoch 22/75\n",
            "238/238 [==============================] - 21s 88ms/step - loss: 0.1146 - accuracy: 0.9569 - val_loss: 0.1107 - val_accuracy: 0.9600\n",
            "Epoch 23/75\n",
            "238/238 [==============================] - 21s 89ms/step - loss: 0.1296 - accuracy: 0.9531 - val_loss: 0.1206 - val_accuracy: 0.9559\n",
            "Epoch 24/75\n",
            "238/238 [==============================] - 20s 84ms/step - loss: 0.1164 - accuracy: 0.9552 - val_loss: 0.0968 - val_accuracy: 0.9643\n",
            "Epoch 25/75\n",
            "238/238 [==============================] - 21s 89ms/step - loss: 0.1240 - accuracy: 0.9550 - val_loss: 0.1515 - val_accuracy: 0.9432\n",
            "Epoch 26/75\n",
            "238/238 [==============================] - 20s 84ms/step - loss: 0.1775 - accuracy: 0.9310 - val_loss: 0.1960 - val_accuracy: 0.9211\n",
            "Epoch 27/75\n",
            "238/238 [==============================] - 20s 83ms/step - loss: 0.1494 - accuracy: 0.9426 - val_loss: 0.1416 - val_accuracy: 0.9459\n",
            "Epoch 28/75\n",
            "238/238 [==============================] - 21s 89ms/step - loss: 0.1381 - accuracy: 0.9483 - val_loss: 0.1185 - val_accuracy: 0.9558\n",
            "Epoch 29/75\n",
            "238/238 [==============================] - 20s 83ms/step - loss: 0.1374 - accuracy: 0.9475 - val_loss: 0.1103 - val_accuracy: 0.9584\n",
            "Epoch 30/75\n",
            "238/238 [==============================] - 20s 83ms/step - loss: 0.1104 - accuracy: 0.9578 - val_loss: 0.1037 - val_accuracy: 0.9632\n",
            "Epoch 31/75\n",
            "238/238 [==============================] - 21s 89ms/step - loss: 0.1067 - accuracy: 0.9592 - val_loss: 0.0985 - val_accuracy: 0.9625\n",
            "Epoch 32/75\n",
            "238/238 [==============================] - 20s 83ms/step - loss: 0.1080 - accuracy: 0.9589 - val_loss: 0.0901 - val_accuracy: 0.9663\n",
            "Epoch 33/75\n",
            "238/238 [==============================] - 21s 89ms/step - loss: 0.0996 - accuracy: 0.9621 - val_loss: 0.0915 - val_accuracy: 0.9684\n",
            "Epoch 34/75\n",
            "238/238 [==============================] - 20s 83ms/step - loss: 0.1599 - accuracy: 0.9392 - val_loss: 0.1613 - val_accuracy: 0.9405\n",
            "Epoch 35/75\n",
            "238/238 [==============================] - 21s 88ms/step - loss: 0.1543 - accuracy: 0.9379 - val_loss: 0.1070 - val_accuracy: 0.9582\n",
            "Epoch 36/75\n",
            "238/238 [==============================] - 21s 89ms/step - loss: 0.1098 - accuracy: 0.9582 - val_loss: 0.0881 - val_accuracy: 0.9678\n",
            "Epoch 37/75\n",
            "238/238 [==============================] - 20s 84ms/step - loss: 0.0995 - accuracy: 0.9628 - val_loss: 0.0944 - val_accuracy: 0.9638\n",
            "Epoch 38/75\n",
            "238/238 [==============================] - 20s 84ms/step - loss: 0.0958 - accuracy: 0.9649 - val_loss: 0.0895 - val_accuracy: 0.9660\n",
            "Epoch 39/75\n",
            "238/238 [==============================] - 21s 88ms/step - loss: 0.0882 - accuracy: 0.9679 - val_loss: 0.0816 - val_accuracy: 0.9671\n",
            "Epoch 40/75\n",
            "238/238 [==============================] - 20s 83ms/step - loss: 0.0954 - accuracy: 0.9653 - val_loss: 0.0887 - val_accuracy: 0.9700\n",
            "Epoch 41/75\n",
            "238/238 [==============================] - 21s 87ms/step - loss: 0.1063 - accuracy: 0.9591 - val_loss: 0.0983 - val_accuracy: 0.9578\n",
            "Epoch 42/75\n",
            "238/238 [==============================] - 20s 83ms/step - loss: 0.0890 - accuracy: 0.9672 - val_loss: 0.0809 - val_accuracy: 0.9700\n",
            "Epoch 43/75\n",
            "238/238 [==============================] - 20s 83ms/step - loss: 0.0831 - accuracy: 0.9706 - val_loss: 0.0761 - val_accuracy: 0.9724\n",
            "Epoch 44/75\n",
            "238/238 [==============================] - 21s 88ms/step - loss: 0.0804 - accuracy: 0.9713 - val_loss: 0.0803 - val_accuracy: 0.9714\n",
            "Epoch 45/75\n",
            "238/238 [==============================] - 20s 83ms/step - loss: 0.0793 - accuracy: 0.9718 - val_loss: 0.0963 - val_accuracy: 0.9619\n",
            "Epoch 46/75\n",
            "238/238 [==============================] - 20s 83ms/step - loss: 0.0771 - accuracy: 0.9728 - val_loss: 0.0692 - val_accuracy: 0.9740\n",
            "Epoch 47/75\n",
            "238/238 [==============================] - 22s 94ms/step - loss: 0.0762 - accuracy: 0.9735 - val_loss: 0.0931 - val_accuracy: 0.9658\n",
            "Epoch 48/75\n",
            "238/238 [==============================] - 20s 83ms/step - loss: 0.0856 - accuracy: 0.9687 - val_loss: 0.0784 - val_accuracy: 0.9718\n",
            "Epoch 49/75\n",
            "238/238 [==============================] - 20s 83ms/step - loss: 0.0788 - accuracy: 0.9719 - val_loss: 0.0689 - val_accuracy: 0.9755\n",
            "Epoch 50/75\n",
            "238/238 [==============================] - 21s 88ms/step - loss: 0.1126 - accuracy: 0.9588 - val_loss: 0.0944 - val_accuracy: 0.9655\n",
            "Epoch 51/75\n",
            "238/238 [==============================] - 20s 83ms/step - loss: 0.0926 - accuracy: 0.9643 - val_loss: 0.0777 - val_accuracy: 0.9726\n",
            "Epoch 52/75\n",
            "238/238 [==============================] - 21s 89ms/step - loss: 0.0821 - accuracy: 0.9696 - val_loss: 0.0840 - val_accuracy: 0.9696\n",
            "Epoch 53/75\n",
            "238/238 [==============================] - 20s 83ms/step - loss: 0.0837 - accuracy: 0.9693 - val_loss: 0.0910 - val_accuracy: 0.9672\n",
            "Epoch 54/75\n",
            "238/238 [==============================] - 20s 84ms/step - loss: 0.0833 - accuracy: 0.9700 - val_loss: 0.0730 - val_accuracy: 0.9747\n",
            "Epoch 55/75\n",
            "238/238 [==============================] - 21s 88ms/step - loss: 0.0768 - accuracy: 0.9727 - val_loss: 0.0770 - val_accuracy: 0.9750\n",
            "Epoch 56/75\n",
            "238/238 [==============================] - 20s 82ms/step - loss: 0.0817 - accuracy: 0.9700 - val_loss: 0.0760 - val_accuracy: 0.9690\n",
            "Epoch 57/75\n",
            "238/238 [==============================] - 20s 83ms/step - loss: 0.0789 - accuracy: 0.9716 - val_loss: 0.0872 - val_accuracy: 0.9695\n",
            "Epoch 58/75\n",
            "238/238 [==============================] - 21s 88ms/step - loss: 0.0798 - accuracy: 0.9714 - val_loss: 0.0783 - val_accuracy: 0.9731\n",
            "Epoch 59/75\n",
            "238/238 [==============================] - 21s 88ms/step - loss: 0.0782 - accuracy: 0.9717 - val_loss: 0.1052 - val_accuracy: 0.9598\n",
            "Epoch 60/75\n",
            "238/238 [==============================] - 21s 88ms/step - loss: 0.0751 - accuracy: 0.9737 - val_loss: 0.0717 - val_accuracy: 0.9764\n",
            "Epoch 61/75\n",
            "238/238 [==============================] - 20s 83ms/step - loss: 0.0863 - accuracy: 0.9686 - val_loss: 0.0729 - val_accuracy: 0.9727\n",
            "Epoch 62/75\n",
            "238/238 [==============================] - 20s 83ms/step - loss: 0.0833 - accuracy: 0.9703 - val_loss: 0.0686 - val_accuracy: 0.9757\n",
            "Epoch 63/75\n",
            "238/238 [==============================] - 21s 89ms/step - loss: 0.0753 - accuracy: 0.9731 - val_loss: 0.1191 - val_accuracy: 0.9520\n",
            "Epoch 64/75\n",
            "238/238 [==============================] - 20s 83ms/step - loss: 0.0784 - accuracy: 0.9725 - val_loss: 0.0675 - val_accuracy: 0.9758\n",
            "Epoch 65/75\n",
            "238/238 [==============================] - 21s 88ms/step - loss: 0.0735 - accuracy: 0.9740 - val_loss: 0.0654 - val_accuracy: 0.9759\n",
            "Epoch 66/75\n",
            "238/238 [==============================] - 20s 84ms/step - loss: 0.0781 - accuracy: 0.9721 - val_loss: 0.1036 - val_accuracy: 0.9651\n",
            "Epoch 67/75\n",
            "238/238 [==============================] - 20s 83ms/step - loss: 0.0720 - accuracy: 0.9747 - val_loss: 0.0727 - val_accuracy: 0.9728\n",
            "Epoch 68/75\n",
            "238/238 [==============================] - 21s 88ms/step - loss: 0.0642 - accuracy: 0.9775 - val_loss: 0.0593 - val_accuracy: 0.9801\n",
            "Epoch 69/75\n",
            "238/238 [==============================] - 20s 84ms/step - loss: 0.0724 - accuracy: 0.9740 - val_loss: 0.0642 - val_accuracy: 0.9765\n",
            "Epoch 70/75\n",
            "238/238 [==============================] - 20s 84ms/step - loss: 0.0649 - accuracy: 0.9770 - val_loss: 0.0577 - val_accuracy: 0.9788\n",
            "Epoch 71/75\n",
            "238/238 [==============================] - 22s 94ms/step - loss: 0.0695 - accuracy: 0.9744 - val_loss: 0.0980 - val_accuracy: 0.9652\n",
            "Epoch 72/75\n",
            "238/238 [==============================] - 20s 84ms/step - loss: 0.1240 - accuracy: 0.9527 - val_loss: 0.0937 - val_accuracy: 0.9638\n",
            "Epoch 73/75\n",
            "238/238 [==============================] - 21s 89ms/step - loss: 0.0960 - accuracy: 0.9634 - val_loss: 0.0966 - val_accuracy: 0.9632\n",
            "Epoch 74/75\n",
            "238/238 [==============================] - 20s 83ms/step - loss: 0.0810 - accuracy: 0.9707 - val_loss: 0.0803 - val_accuracy: 0.9720\n",
            "Epoch 75/75\n",
            "238/238 [==============================] - 20s 84ms/step - loss: 0.0762 - accuracy: 0.9730 - val_loss: 0.0729 - val_accuracy: 0.9735\n"
          ]
        }
      ]
    },
    {
      "cell_type": "markdown",
      "source": [
        "**5. Model Accuracy and Loss**"
      ],
      "metadata": {
        "id": "x6673y7UE5C3"
      }
    },
    {
      "cell_type": "code",
      "source": [
        "plt.plot(history.history['accuracy'])\n",
        "plt.plot(history.history['val_accuracy'])\n",
        "plt.title('model accuracy')\n",
        "plt.ylabel('accuracy')\n",
        "plt.xlabel('epoch')\n",
        "plt.legend(['train', 'test'], loc='upper left')\n",
        "plt.show()"
      ],
      "metadata": {
        "id": "-QWIdpe4G5Wm",
        "colab": {
          "base_uri": "https://localhost:8080/",
          "height": 295
        },
        "outputId": "2f11d925-2b72-42c5-e063-9d4065c913d7"
      },
      "execution_count": 12,
      "outputs": [
        {
          "output_type": "display_data",
          "data": {
            "text/plain": [
              "<Figure size 432x288 with 1 Axes>"
            ],
            "image/png": "[encoded data removed]"
          },
          "metadata": {
            "needs_background": "light"
          }
        }
      ]
    },
    {
      "cell_type": "code",
      "source": [
        "plt.plot(history.history['loss'])\n",
        "plt.plot(history.history['val_loss'])\n",
        "plt.title('model loss')\n",
        "plt.ylabel('loss')\n",
        "plt.xlabel('epoch')\n",
        "plt.legend(['train', 'test'], loc='upper left')\n",
        "plt.show()"
      ],
      "metadata": {
        "id": "tmX9BeQPG-HU",
        "colab": {
          "base_uri": "https://localhost:8080/",
          "height": 295
        },
        "outputId": "ca31d5e5-5a14-467f-aba7-e8d02d1f8247"
      },
      "execution_count": 13,
      "outputs": [
        {
          "output_type": "display_data",
          "data": {
            "text/plain": [
              "<Figure size 432x288 with 1 Axes>"
            ],
            "image/png": "[encoded data removed]"
          },
          "metadata": {
            "needs_background": "light"
          }
        }
      ]
    },
    {
      "cell_type": "markdown",
      "source": [
        "**6.Save Model to the Disk**"
      ],
      "metadata": {
        "id": "4e20ddMZE7w6"
      }
    },
    {
      "cell_type": "code",
      "execution_count": 14,
      "metadata": {
        "id": "phuEVuZfEbOk"
      },
      "outputs": [],
      "source": [
        "model.save(\"./rnn_model.hdf5\")"
      ]
    }
  ]
}