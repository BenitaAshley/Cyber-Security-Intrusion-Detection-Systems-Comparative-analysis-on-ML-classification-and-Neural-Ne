{
  "nbformat": 4,
  "nbformat_minor": 0,
  "metadata": {
    "colab": {
      "provenance": []
    },
    "kernelspec": {
      "name": "python3",
      "display_name": "Python 3"
    },
    "language_info": {
      "name": "python"
    }
  },
  "cells": [
    {
      "cell_type": "markdown",
      "source": [
        "\n",
        "#**Project Title:**\n",
        "\n",
        "\n",
        "#                  **Cyber Security Intrusion Detection Systems : Comparative analysis on ML classification and Neural Networks**"
      ],
      "metadata": {
        "id": "rZsb4cABCMH6"
      }
    },
    {
      "cell_type": "markdown",
      "source": [
        "#Author\n",
        "\n",
        "**Author Name:** Benita Ashley\n",
        "\n",
        "**Student ID:** 220058151"
      ],
      "metadata": {
        "id": "iFih8DFCCPC0"
      }
    },
    {
      "cell_type": "markdown",
      "source": [
        "# Project Supervisor\n",
        "\n",
        "**Name:** Dr Mahdieh Sadabadi\n"
      ],
      "metadata": {
        "id": "kFhyFZdMCRXb"
      }
    },
    {
      "cell_type": "markdown",
      "source": [
        "**1. Importing Required Libraries**"
      ],
      "metadata": {
        "id": "KIHtJmjiCVI-"
      }
    },
    {
      "cell_type": "code",
      "execution_count": 1,
      "metadata": {
        "id": "C1a0emkn8ucH"
      },
      "outputs": [],
      "source": [
        "from __future__ import print_function\n",
        "import numpy as np\n",
        "np.random.seed(1337)  # for reproducibility\n",
        "from keras.preprocessing import sequence\n",
        "from keras.models import Sequential\n",
        "from keras.layers import Dense, Dropout, Activation, Lambda\n",
        "from keras.layers import Embedding\n",
        "from keras.layers import Convolution1D,MaxPooling1D, Flatten\n",
        "from keras.datasets import imdb\n",
        "from keras import backend as K\n",
        "from sklearn.model_selection import train_test_split\n",
        "import pandas as pd\n",
        "from keras.utils.np_utils import to_categorical\n",
        "from sklearn.preprocessing import Normalizer\n",
        "from keras.models import Sequential\n",
        "from keras.layers import Convolution1D, Dense, Dropout, Flatten, MaxPooling1D\n",
        "from keras.utils import np_utils\n",
        "import numpy as np\n",
        "import h5py\n",
        "from keras import callbacks\n",
        "from keras.layers import LSTM, GRU, SimpleRNN\n",
        "from keras.callbacks import CSVLogger\n",
        "from keras.callbacks import ModelCheckpoint, EarlyStopping, ReduceLROnPlateau, CSVLogger\n",
        "from sklearn.preprocessing import LabelEncoder\n",
        "import matplotlib.pyplot as plt"
      ]
    },
    {
      "cell_type": "markdown",
      "source": [
        "**2. Reading the datset and displaying the same**"
      ],
      "metadata": {
        "id": "WoY9MVQcCXf2"
      }
    },
    {
      "cell_type": "code",
      "source": [
        "traindata = pd.read_csv('KDDCup99_Train.csv')\n",
        "testdata = pd.read_csv('KDDCup99_Test.csv')"
      ],
      "metadata": {
        "id": "8KcQKKij9V7i"
      },
      "execution_count": 2,
      "outputs": []
    },
    {
      "cell_type": "code",
      "source": [
        "data = pd.concat([traindata,testdata])\n",
        "data.head()"
      ],
      "metadata": {
        "id": "aZas-zaZ9WF8",
        "colab": {
          "base_uri": "https://localhost:8080/",
          "height": 299
        },
        "outputId": "58f632de-4244-430a-aa52-898f10e0c7d2"
      },
      "execution_count": 3,
      "outputs": [
        {
          "output_type": "execute_result",
          "data": {
            "text/plain": [
              "   duration protocol_type   service flag  src_bytes  dst_bytes  land  \\\n",
              "0         0           tcp  ftp_data   SF        491          0     0   \n",
              "1         0           udp     other   SF        146          0     0   \n",
              "2         0           tcp   private   S0          0          0     0   \n",
              "3         0           tcp      http   SF        232       8153     0   \n",
              "4         0           tcp      http   SF        199        420     0   \n",
              "\n",
              "   wrong_fragment  urgent  hot  ...  dst_host_srv_count  \\\n",
              "0               0       0    0  ...                  25   \n",
              "1               0       0    0  ...                   1   \n",
              "2               0       0    0  ...                  26   \n",
              "3               0       0    0  ...                 255   \n",
              "4               0       0    0  ...                 255   \n",
              "\n",
              "   dst_host_same_srv_rate  dst_host_diff_srv_rate  \\\n",
              "0                    0.17                    0.03   \n",
              "1                    0.00                    0.60   \n",
              "2                    0.10                    0.05   \n",
              "3                    1.00                    0.00   \n",
              "4                    1.00                    0.00   \n",
              "\n",
              "   dst_host_same_src_port_rate  dst_host_srv_diff_host_rate  \\\n",
              "0                         0.17                         0.00   \n",
              "1                         0.88                         0.00   \n",
              "2                         0.00                         0.00   \n",
              "3                         0.03                         0.04   \n",
              "4                         0.00                         0.00   \n",
              "\n",
              "   dst_host_serror_rate  dst_host_srv_serror_rate  dst_host_rerror_rate  \\\n",
              "0                  0.00                      0.00                  0.05   \n",
              "1                  0.00                      0.00                  0.00   \n",
              "2                  1.00                      1.00                  0.00   \n",
              "3                  0.03                      0.01                  0.00   \n",
              "4                  0.00                      0.00                  0.00   \n",
              "\n",
              "   dst_host_srv_rerror_rate   labels  \n",
              "0                      0.00   normal  \n",
              "1                      0.00   normal  \n",
              "2                      0.00  anomaly  \n",
              "3                      0.01   normal  \n",
              "4                      0.00   normal  \n",
              "\n",
              "[5 rows x 42 columns]"
            ],
            "text/html": [
              "\n",
              "  <div id=\"df-852062b2-a510-432a-9e43-7e5a71928777\">\n",
              "    <div class=\"colab-df-container\">\n",
              "      <div>\n",
              "<style scoped>\n",
              "    .dataframe tbody tr th:only-of-type {\n",
              "        vertical-align: middle;\n",
              "    }\n",
              "\n",
              "    .dataframe tbody tr th {\n",
              "        vertical-align: top;\n",
              "    }\n",
              "\n",
              "    .dataframe thead th {\n",
              "        text-align: right;\n",
              "    }\n",
              "</style>\n",
              "<table border=\"1\" class=\"dataframe\">\n",
              "  <thead>\n",
              "    <tr style=\"text-align: right;\">\n",
              "      <th></th>\n",
              "      <th>duration</th>\n",
              "      <th>protocol_type</th>\n",
              "      <th>service</th>\n",
              "      <th>flag</th>\n",
              "      <th>src_bytes</th>\n",
              "      <th>dst_bytes</th>\n",
              "      <th>land</th>\n",
              "      <th>wrong_fragment</th>\n",
              "      <th>urgent</th>\n",
              "      <th>hot</th>\n",
              "      <th>...</th>\n",
              "      <th>dst_host_srv_count</th>\n",
              "      <th>dst_host_same_srv_rate</th>\n",
              "      <th>dst_host_diff_srv_rate</th>\n",
              "      <th>dst_host_same_src_port_rate</th>\n",
              "      <th>dst_host_srv_diff_host_rate</th>\n",
              "      <th>dst_host_serror_rate</th>\n",
              "      <th>dst_host_srv_serror_rate</th>\n",
              "      <th>dst_host_rerror_rate</th>\n",
              "      <th>dst_host_srv_rerror_rate</th>\n",
              "      <th>labels</th>\n",
              "    </tr>\n",
              "  </thead>\n",
              "  <tbody>\n",
              "    <tr>\n",
              "      <th>0</th>\n",
              "      <td>0</td>\n",
              "      <td>tcp</td>\n",
              "      <td>ftp_data</td>\n",
              "      <td>SF</td>\n",
              "      <td>491</td>\n",
              "      <td>0</td>\n",
              "      <td>0</td>\n",
              "      <td>0</td>\n",
              "      <td>0</td>\n",
              "      <td>0</td>\n",
              "      <td>...</td>\n",
              "      <td>25</td>\n",
              "      <td>0.17</td>\n",
              "      <td>0.03</td>\n",
              "      <td>0.17</td>\n",
              "      <td>0.00</td>\n",
              "      <td>0.00</td>\n",
              "      <td>0.00</td>\n",
              "      <td>0.05</td>\n",
              "      <td>0.00</td>\n",
              "      <td>normal</td>\n",
              "    </tr>\n",
              "    <tr>\n",
              "      <th>1</th>\n",
              "      <td>0</td>\n",
              "      <td>udp</td>\n",
              "      <td>other</td>\n",
              "      <td>SF</td>\n",
              "      <td>146</td>\n",
              "      <td>0</td>\n",
              "      <td>0</td>\n",
              "      <td>0</td>\n",
              "      <td>0</td>\n",
              "      <td>0</td>\n",
              "      <td>...</td>\n",
              "      <td>1</td>\n",
              "      <td>0.00</td>\n",
              "      <td>0.60</td>\n",
              "      <td>0.88</td>\n",
              "      <td>0.00</td>\n",
              "      <td>0.00</td>\n",
              "      <td>0.00</td>\n",
              "      <td>0.00</td>\n",
              "      <td>0.00</td>\n",
              "      <td>normal</td>\n",
              "    </tr>\n",
              "    <tr>\n",
              "      <th>2</th>\n",
              "      <td>0</td>\n",
              "      <td>tcp</td>\n",
              "      <td>private</td>\n",
              "      <td>S0</td>\n",
              "      <td>0</td>\n",
              "      <td>0</td>\n",
              "      <td>0</td>\n",
              "      <td>0</td>\n",
              "      <td>0</td>\n",
              "      <td>0</td>\n",
              "      <td>...</td>\n",
              "      <td>26</td>\n",
              "      <td>0.10</td>\n",
              "      <td>0.05</td>\n",
              "      <td>0.00</td>\n",
              "      <td>0.00</td>\n",
              "      <td>1.00</td>\n",
              "      <td>1.00</td>\n",
              "      <td>0.00</td>\n",
              "      <td>0.00</td>\n",
              "      <td>anomaly</td>\n",
              "    </tr>\n",
              "    <tr>\n",
              "      <th>3</th>\n",
              "      <td>0</td>\n",
              "      <td>tcp</td>\n",
              "      <td>http</td>\n",
              "      <td>SF</td>\n",
              "      <td>232</td>\n",
              "      <td>8153</td>\n",
              "      <td>0</td>\n",
              "      <td>0</td>\n",
              "      <td>0</td>\n",
              "      <td>0</td>\n",
              "      <td>...</td>\n",
              "      <td>255</td>\n",
              "      <td>1.00</td>\n",
              "      <td>0.00</td>\n",
              "      <td>0.03</td>\n",
              "      <td>0.04</td>\n",
              "      <td>0.03</td>\n",
              "      <td>0.01</td>\n",
              "      <td>0.00</td>\n",
              "      <td>0.01</td>\n",
              "      <td>normal</td>\n",
              "    </tr>\n",
              "    <tr>\n",
              "      <th>4</th>\n",
              "      <td>0</td>\n",
              "      <td>tcp</td>\n",
              "      <td>http</td>\n",
              "      <td>SF</td>\n",
              "      <td>199</td>\n",
              "      <td>420</td>\n",
              "      <td>0</td>\n",
              "      <td>0</td>\n",
              "      <td>0</td>\n",
              "      <td>0</td>\n",
              "      <td>...</td>\n",
              "      <td>255</td>\n",
              "      <td>1.00</td>\n",
              "      <td>0.00</td>\n",
              "      <td>0.00</td>\n",
              "      <td>0.00</td>\n",
              "      <td>0.00</td>\n",
              "      <td>0.00</td>\n",
              "      <td>0.00</td>\n",
              "      <td>0.00</td>\n",
              "      <td>normal</td>\n",
              "    </tr>\n",
              "  </tbody>\n",
              "</table>\n",
              "<p>5 rows × 42 columns</p>\n",
              "</div>\n",
              "      <button class=\"colab-df-convert\" onclick=\"convertToInteractive('df-852062b2-a510-432a-9e43-7e5a71928777')\"\n",
              "              title=\"Convert this dataframe to an interactive table.\"\n",
              "              style=\"display:none;\">\n",
              "        \n",
              "  <svg xmlns=\"http://www.w3.org/2000/svg\" height=\"24px\"viewBox=\"0 0 24 24\"\n",
              "       width=\"24px\">\n",
              "    <path d=\"M0 0h24v24H0V0z\" fill=\"none\"/>\n",
              "    <path d=\"M18.56 5.44l.94 2.06.94-2.06 2.06-.94-2.06-.94-.94-2.06-.94 2.06-2.06.94zm-11 1L8.5 8.5l.94-2.06 2.06-.94-2.06-.94L8.5 2.5l-.94 2.06-2.06.94zm10 10l.94 2.06.94-2.06 2.06-.94-2.06-.94-.94-2.06-.94 2.06-2.06.94z\"/><path d=\"M17.41 7.96l-1.37-1.37c-.4-.4-.92-.59-1.43-.59-.52 0-1.04.2-1.43.59L10.3 9.45l-7.72 7.72c-.78.78-.78 2.05 0 2.83L4 21.41c.39.39.9.59 1.41.59.51 0 1.02-.2 1.41-.59l7.78-7.78 2.81-2.81c.8-.78.8-2.07 0-2.86zM5.41 20L4 18.59l7.72-7.72 1.47 1.35L5.41 20z\"/>\n",
              "  </svg>\n",
              "      </button>\n",
              "      \n",
              "  <style>\n",
              "    .colab-df-container {\n",
              "      display:flex;\n",
              "      flex-wrap:wrap;\n",
              "      gap: 12px;\n",
              "    }\n",
              "\n",
              "    .colab-df-convert {\n",
              "      background-color: #E8F0FE;\n",
              "      border: none;\n",
              "      border-radius: 50%;\n",
              "      cursor: pointer;\n",
              "      display: none;\n",
              "      fill: #1967D2;\n",
              "      height: 32px;\n",
              "      padding: 0 0 0 0;\n",
              "      width: 32px;\n",
              "    }\n",
              "\n",
              "    .colab-df-convert:hover {\n",
              "      background-color: #E2EBFA;\n",
              "      box-shadow: 0px 1px 2px rgba(60, 64, 67, 0.3), 0px 1px 3px 1px rgba(60, 64, 67, 0.15);\n",
              "      fill: #174EA6;\n",
              "    }\n",
              "\n",
              "    [theme=dark] .colab-df-convert {\n",
              "      background-color: #3B4455;\n",
              "      fill: #D2E3FC;\n",
              "    }\n",
              "\n",
              "    [theme=dark] .colab-df-convert:hover {\n",
              "      background-color: #434B5C;\n",
              "      box-shadow: 0px 1px 3px 1px rgba(0, 0, 0, 0.15);\n",
              "      filter: drop-shadow(0px 1px 2px rgba(0, 0, 0, 0.3));\n",
              "      fill: #FFFFFF;\n",
              "    }\n",
              "  </style>\n",
              "\n",
              "      <script>\n",
              "        const buttonEl =\n",
              "          document.querySelector('#df-852062b2-a510-432a-9e43-7e5a71928777 button.colab-df-convert');\n",
              "        buttonEl.style.display =\n",
              "          google.colab.kernel.accessAllowed ? 'block' : 'none';\n",
              "\n",
              "        async function convertToInteractive(key) {\n",
              "          const element = document.querySelector('#df-852062b2-a510-432a-9e43-7e5a71928777');\n",
              "          const dataTable =\n",
              "            await google.colab.kernel.invokeFunction('convertToInteractive',\n",
              "                                                     [key], {});\n",
              "          if (!dataTable) return;\n",
              "\n",
              "          const docLinkHtml = 'Like what you see? Visit the ' +\n",
              "            '<a target=\"_blank\" href=https://colab.research.google.com/notebooks/data_table.ipynb>data table notebook</a>'\n",
              "            + ' to learn more about interactive tables.';\n",
              "          element.innerHTML = '';\n",
              "          dataTable['output_type'] = 'display_data';\n",
              "          await google.colab.output.renderOutput(dataTable, element);\n",
              "          const docLink = document.createElement('div');\n",
              "          docLink.innerHTML = docLinkHtml;\n",
              "          element.appendChild(docLink);\n",
              "        }\n",
              "      </script>\n",
              "    </div>\n",
              "  </div>\n",
              "  "
            ]
          },
          "metadata": {},
          "execution_count": 3
        }
      ]
    },
    {
      "cell_type": "markdown",
      "source": [
        "**3. Pre-processing data for the model**"
      ],
      "metadata": {
        "id": "dE1d-O5ACb0X"
      }
    },
    {
      "cell_type": "code",
      "source": [
        "categ = ['protocol_type','service','flag','labels']\n",
        "# Encode Categorical Columns\n",
        "le = LabelEncoder()\n",
        "data[categ] = data[categ].apply(le.fit_transform)"
      ],
      "metadata": {
        "id": "BznGVWTy9dIO"
      },
      "execution_count": 4,
      "outputs": []
    },
    {
      "cell_type": "code",
      "source": [
        "X = data.iloc[:,1:41]\n",
        "Y = data['labels']"
      ],
      "metadata": {
        "id": "zTNwR94W9ev4"
      },
      "execution_count": 5,
      "outputs": []
    },
    {
      "cell_type": "code",
      "source": [
        "scaler = Normalizer().fit(X)\n",
        "X = scaler.transform(X)"
      ],
      "metadata": {
        "id": "TtELkYbu9f_w"
      },
      "execution_count": 6,
      "outputs": []
    },
    {
      "cell_type": "code",
      "source": [
        "X_train, X_test,Y_train,Y_test = train_test_split(X,Y, test_size=0.2)"
      ],
      "metadata": {
        "id": "QuP_EqKv9hOO"
      },
      "execution_count": 7,
      "outputs": []
    },
    {
      "cell_type": "code",
      "source": [
        "# reshape input to be [samples, time steps, features]\n",
        "X_train = np.reshape(X_train, (X_train.shape[0],X_train.shape[1],1))\n",
        "X_test = np.reshape(X_test, (X_test.shape[0],X_test.shape[1],1))"
      ],
      "metadata": {
        "id": "-OF-vjzf9iyJ"
      },
      "execution_count": 8,
      "outputs": []
    },
    {
      "cell_type": "code",
      "source": [
        "X_train.shape"
      ],
      "metadata": {
        "id": "rM9eit_Y9kdH",
        "colab": {
          "base_uri": "https://localhost:8080/"
        },
        "outputId": "43e424bc-dbba-40cf-8e2f-c0cd3fcbb7ca"
      },
      "execution_count": 9,
      "outputs": [
        {
          "output_type": "execute_result",
          "data": {
            "text/plain": [
              "(118813, 40, 1)"
            ]
          },
          "metadata": {},
          "execution_count": 9
        }
      ]
    },
    {
      "cell_type": "code",
      "source": [
        "Y_train.shape"
      ],
      "metadata": {
        "id": "s35fO52I9lqs",
        "colab": {
          "base_uri": "https://localhost:8080/"
        },
        "outputId": "22fd62ce-7c4d-48e8-b4f6-46066de285a7"
      },
      "execution_count": 10,
      "outputs": [
        {
          "output_type": "execute_result",
          "data": {
            "text/plain": [
              "(118813,)"
            ]
          },
          "metadata": {},
          "execution_count": 10
        }
      ]
    },
    {
      "cell_type": "code",
      "source": [
        "X_test.shape"
      ],
      "metadata": {
        "id": "AKlR-S9t9nMc",
        "colab": {
          "base_uri": "https://localhost:8080/"
        },
        "outputId": "1ce85456-3414-4591-f6b9-22c45f28f514"
      },
      "execution_count": 11,
      "outputs": [
        {
          "output_type": "execute_result",
          "data": {
            "text/plain": [
              "(29704, 40, 1)"
            ]
          },
          "metadata": {},
          "execution_count": 11
        }
      ]
    },
    {
      "cell_type": "code",
      "source": [
        "Y_test.shape"
      ],
      "metadata": {
        "id": "mYs3xpqL9oh6",
        "colab": {
          "base_uri": "https://localhost:8080/"
        },
        "outputId": "6f073960-9584-4228-af5f-5a4f976f2512"
      },
      "execution_count": 12,
      "outputs": [
        {
          "output_type": "execute_result",
          "data": {
            "text/plain": [
              "(29704,)"
            ]
          },
          "metadata": {},
          "execution_count": 12
        }
      ]
    },
    {
      "cell_type": "markdown",
      "source": [
        "**4. Dense Neural Network Model**"
      ],
      "metadata": {
        "id": "4yUKyEYMCeU5"
      }
    },
    {
      "cell_type": "code",
      "source": [
        "cnn = Sequential()\n",
        "cnn.add(Convolution1D(128, 3 ,activation=\"relu\",input_shape=(40, 1)))\n",
        "cnn.add(MaxPooling1D(2))\n",
        "cnn.add(LSTM(70))\n",
        "cnn.add(Dropout(0.1))\n",
        "cnn.add(Dense(40, activation=\"softmax\"))"
      ],
      "metadata": {
        "id": "zAjUa4_99p93"
      },
      "execution_count": 13,
      "outputs": []
    },
    {
      "cell_type": "code",
      "source": [
        "# define optimizer and objective, compile cnn\n",
        "\n",
        "cnn.compile(loss=\"sparse_categorical_crossentropy\", optimizer=\"adam\",metrics=['accuracy'])"
      ],
      "metadata": {
        "id": "fK5AnXV79rX8"
      },
      "execution_count": 14,
      "outputs": []
    },
    {
      "cell_type": "code",
      "source": [
        "history=cnn.fit(X_train, Y_train, epochs=75,verbose=1,batch_size=500,validation_data=(X_test, Y_test))"
      ],
      "metadata": {
        "id": "Wmd4zims9s3g",
        "colab": {
          "base_uri": "https://localhost:8080/"
        },
        "outputId": "edeeebe0-50ca-470a-f77d-349535af480c"
      },
      "execution_count": 15,
      "outputs": [
        {
          "output_type": "stream",
          "name": "stdout",
          "text": [
            "Epoch 1/75\n",
            "238/238 [==============================] - 47s 180ms/step - loss: 0.8208 - accuracy: 0.6392 - val_loss: 0.3179 - val_accuracy: 0.8795\n",
            "Epoch 2/75\n",
            "238/238 [==============================] - 37s 156ms/step - loss: 0.2758 - accuracy: 0.8934 - val_loss: 0.2155 - val_accuracy: 0.9151\n",
            "Epoch 3/75\n",
            "238/238 [==============================] - 39s 163ms/step - loss: 0.2180 - accuracy: 0.9103 - val_loss: 0.1981 - val_accuracy: 0.9257\n",
            "Epoch 4/75\n",
            "238/238 [==============================] - 37s 156ms/step - loss: 0.1942 - accuracy: 0.9195 - val_loss: 0.1757 - val_accuracy: 0.9321\n",
            "Epoch 5/75\n",
            "238/238 [==============================] - 37s 154ms/step - loss: 0.1749 - accuracy: 0.9289 - val_loss: 0.1653 - val_accuracy: 0.9353\n",
            "Epoch 6/75\n",
            "238/238 [==============================] - 37s 154ms/step - loss: 0.1648 - accuracy: 0.9331 - val_loss: 0.1577 - val_accuracy: 0.9214\n",
            "Epoch 7/75\n",
            "238/238 [==============================] - 37s 156ms/step - loss: 0.1553 - accuracy: 0.9364 - val_loss: 0.1415 - val_accuracy: 0.9290\n",
            "Epoch 8/75\n",
            "238/238 [==============================] - 37s 154ms/step - loss: 0.1412 - accuracy: 0.9423 - val_loss: 0.1304 - val_accuracy: 0.9480\n",
            "Epoch 9/75\n",
            "238/238 [==============================] - 37s 154ms/step - loss: 0.1339 - accuracy: 0.9439 - val_loss: 0.1236 - val_accuracy: 0.9490\n",
            "Epoch 10/75\n",
            "238/238 [==============================] - 43s 180ms/step - loss: 0.1296 - accuracy: 0.9454 - val_loss: 0.1254 - val_accuracy: 0.9400\n",
            "Epoch 11/75\n",
            "238/238 [==============================] - 46s 195ms/step - loss: 0.1249 - accuracy: 0.9472 - val_loss: 0.1185 - val_accuracy: 0.9423\n",
            "Epoch 12/75\n",
            "238/238 [==============================] - 44s 184ms/step - loss: 0.1186 - accuracy: 0.9498 - val_loss: 0.1087 - val_accuracy: 0.9538\n",
            "Epoch 13/75\n",
            "238/238 [==============================] - 37s 155ms/step - loss: 0.1113 - accuracy: 0.9527 - val_loss: 0.1044 - val_accuracy: 0.9560\n",
            "Epoch 14/75\n",
            "238/238 [==============================] - 36s 151ms/step - loss: 0.1091 - accuracy: 0.9541 - val_loss: 0.0996 - val_accuracy: 0.9563\n",
            "Epoch 15/75\n",
            "238/238 [==============================] - 38s 160ms/step - loss: 0.1020 - accuracy: 0.9601 - val_loss: 0.0972 - val_accuracy: 0.9564\n",
            "Epoch 16/75\n",
            "238/238 [==============================] - 37s 155ms/step - loss: 0.0993 - accuracy: 0.9615 - val_loss: 0.0861 - val_accuracy: 0.9701\n",
            "Epoch 17/75\n",
            "238/238 [==============================] - 37s 157ms/step - loss: 0.0950 - accuracy: 0.9649 - val_loss: 0.0833 - val_accuracy: 0.9712\n",
            "Epoch 18/75\n",
            "238/238 [==============================] - 37s 156ms/step - loss: 0.0903 - accuracy: 0.9672 - val_loss: 0.0837 - val_accuracy: 0.9683\n",
            "Epoch 19/75\n",
            "238/238 [==============================] - 36s 152ms/step - loss: 0.0916 - accuracy: 0.9661 - val_loss: 0.0774 - val_accuracy: 0.9748\n",
            "Epoch 20/75\n",
            "238/238 [==============================] - 38s 158ms/step - loss: 0.0859 - accuracy: 0.9689 - val_loss: 0.0769 - val_accuracy: 0.9754\n",
            "Epoch 21/75\n",
            "238/238 [==============================] - 37s 155ms/step - loss: 0.0847 - accuracy: 0.9696 - val_loss: 0.0828 - val_accuracy: 0.9690\n",
            "Epoch 22/75\n",
            "238/238 [==============================] - 37s 156ms/step - loss: 0.0813 - accuracy: 0.9707 - val_loss: 0.0724 - val_accuracy: 0.9739\n",
            "Epoch 23/75\n",
            "238/238 [==============================] - 36s 151ms/step - loss: 0.0768 - accuracy: 0.9725 - val_loss: 0.0713 - val_accuracy: 0.9740\n",
            "Epoch 24/75\n",
            "238/238 [==============================] - 37s 156ms/step - loss: 0.0793 - accuracy: 0.9713 - val_loss: 0.0716 - val_accuracy: 0.9756\n",
            "Epoch 25/75\n",
            "238/238 [==============================] - 37s 156ms/step - loss: 0.0827 - accuracy: 0.9700 - val_loss: 0.0700 - val_accuracy: 0.9755\n",
            "Epoch 26/75\n",
            "238/238 [==============================] - 38s 161ms/step - loss: 0.0754 - accuracy: 0.9732 - val_loss: 0.0709 - val_accuracy: 0.9745\n",
            "Epoch 27/75\n",
            "238/238 [==============================] - 37s 156ms/step - loss: 0.0743 - accuracy: 0.9730 - val_loss: 0.0718 - val_accuracy: 0.9740\n",
            "Epoch 28/75\n",
            "238/238 [==============================] - 36s 152ms/step - loss: 0.0734 - accuracy: 0.9734 - val_loss: 0.0697 - val_accuracy: 0.9741\n",
            "Epoch 29/75\n",
            "238/238 [==============================] - 37s 156ms/step - loss: 0.0727 - accuracy: 0.9740 - val_loss: 0.0666 - val_accuracy: 0.9772\n",
            "Epoch 30/75\n",
            "238/238 [==============================] - 37s 156ms/step - loss: 0.0723 - accuracy: 0.9735 - val_loss: 0.0671 - val_accuracy: 0.9764\n",
            "Epoch 31/75\n",
            "238/238 [==============================] - 38s 162ms/step - loss: 0.0708 - accuracy: 0.9749 - val_loss: 0.0633 - val_accuracy: 0.9777\n",
            "Epoch 32/75\n",
            "238/238 [==============================] - 36s 152ms/step - loss: 0.0689 - accuracy: 0.9756 - val_loss: 0.0652 - val_accuracy: 0.9773\n",
            "Epoch 33/75\n",
            "238/238 [==============================] - 37s 156ms/step - loss: 0.0698 - accuracy: 0.9752 - val_loss: 0.0660 - val_accuracy: 0.9760\n",
            "Epoch 34/75\n",
            "238/238 [==============================] - 37s 156ms/step - loss: 0.0694 - accuracy: 0.9751 - val_loss: 0.0831 - val_accuracy: 0.9662\n",
            "Epoch 35/75\n",
            "238/238 [==============================] - 37s 155ms/step - loss: 0.0708 - accuracy: 0.9743 - val_loss: 0.0875 - val_accuracy: 0.9671\n",
            "Epoch 36/75\n",
            "238/238 [==============================] - 38s 160ms/step - loss: 0.0677 - accuracy: 0.9761 - val_loss: 0.0625 - val_accuracy: 0.9775\n",
            "Epoch 37/75\n",
            "238/238 [==============================] - 36s 152ms/step - loss: 0.0672 - accuracy: 0.9755 - val_loss: 0.0632 - val_accuracy: 0.9775\n",
            "Epoch 38/75\n",
            "238/238 [==============================] - 37s 158ms/step - loss: 0.0649 - accuracy: 0.9770 - val_loss: 0.0643 - val_accuracy: 0.9774\n",
            "Epoch 39/75\n",
            "238/238 [==============================] - 38s 158ms/step - loss: 0.0629 - accuracy: 0.9769 - val_loss: 0.0613 - val_accuracy: 0.9770\n",
            "Epoch 40/75\n",
            "238/238 [==============================] - 40s 168ms/step - loss: 0.0621 - accuracy: 0.9781 - val_loss: 0.0684 - val_accuracy: 0.9765\n",
            "Epoch 41/75\n",
            "238/238 [==============================] - 39s 163ms/step - loss: 0.0637 - accuracy: 0.9771 - val_loss: 0.0655 - val_accuracy: 0.9769\n",
            "Epoch 42/75\n",
            "238/238 [==============================] - 37s 154ms/step - loss: 0.0618 - accuracy: 0.9778 - val_loss: 0.0603 - val_accuracy: 0.9779\n",
            "Epoch 43/75\n",
            "238/238 [==============================] - 38s 159ms/step - loss: 0.0600 - accuracy: 0.9785 - val_loss: 0.0604 - val_accuracy: 0.9779\n",
            "Epoch 44/75\n",
            "238/238 [==============================] - 38s 159ms/step - loss: 0.0606 - accuracy: 0.9779 - val_loss: 0.0598 - val_accuracy: 0.9784\n",
            "Epoch 45/75\n",
            "238/238 [==============================] - 38s 159ms/step - loss: 0.0593 - accuracy: 0.9787 - val_loss: 0.0568 - val_accuracy: 0.9793\n",
            "Epoch 46/75\n",
            "238/238 [==============================] - 37s 154ms/step - loss: 0.0580 - accuracy: 0.9788 - val_loss: 0.0575 - val_accuracy: 0.9782\n",
            "Epoch 47/75\n",
            "238/238 [==============================] - 39s 164ms/step - loss: 0.0577 - accuracy: 0.9788 - val_loss: 0.0556 - val_accuracy: 0.9790\n",
            "Epoch 48/75\n",
            "238/238 [==============================] - 38s 161ms/step - loss: 0.0564 - accuracy: 0.9794 - val_loss: 0.0585 - val_accuracy: 0.9775\n",
            "Epoch 49/75\n",
            "238/238 [==============================] - 37s 156ms/step - loss: 0.0576 - accuracy: 0.9790 - val_loss: 0.0741 - val_accuracy: 0.9728\n",
            "Epoch 50/75\n",
            "238/238 [==============================] - 37s 155ms/step - loss: 0.0570 - accuracy: 0.9795 - val_loss: 0.0523 - val_accuracy: 0.9820\n",
            "Epoch 51/75\n",
            "238/238 [==============================] - 36s 151ms/step - loss: 0.0561 - accuracy: 0.9794 - val_loss: 0.0547 - val_accuracy: 0.9787\n",
            "Epoch 52/75\n",
            "238/238 [==============================] - 38s 161ms/step - loss: 0.0563 - accuracy: 0.9791 - val_loss: 0.0547 - val_accuracy: 0.9803\n",
            "Epoch 53/75\n",
            "238/238 [==============================] - 37s 155ms/step - loss: 0.0548 - accuracy: 0.9801 - val_loss: 0.0537 - val_accuracy: 0.9776\n",
            "Epoch 54/75\n",
            "238/238 [==============================] - 37s 156ms/step - loss: 0.0535 - accuracy: 0.9801 - val_loss: 0.0540 - val_accuracy: 0.9785\n",
            "Epoch 55/75\n",
            "238/238 [==============================] - 36s 151ms/step - loss: 0.0573 - accuracy: 0.9789 - val_loss: 0.0542 - val_accuracy: 0.9800\n",
            "Epoch 56/75\n",
            "238/238 [==============================] - 37s 156ms/step - loss: 0.0533 - accuracy: 0.9803 - val_loss: 0.0520 - val_accuracy: 0.9805\n",
            "Epoch 57/75\n",
            "238/238 [==============================] - 38s 161ms/step - loss: 0.0526 - accuracy: 0.9807 - val_loss: 0.0535 - val_accuracy: 0.9801\n",
            "Epoch 58/75\n",
            "238/238 [==============================] - 37s 157ms/step - loss: 0.0527 - accuracy: 0.9807 - val_loss: 0.0585 - val_accuracy: 0.9766\n",
            "Epoch 59/75\n",
            "238/238 [==============================] - 36s 150ms/step - loss: 0.0540 - accuracy: 0.9801 - val_loss: 0.0490 - val_accuracy: 0.9801\n",
            "Epoch 60/75\n",
            "238/238 [==============================] - 37s 156ms/step - loss: 0.0527 - accuracy: 0.9804 - val_loss: 0.0553 - val_accuracy: 0.9783\n",
            "Epoch 61/75\n",
            "238/238 [==============================] - 37s 157ms/step - loss: 0.0518 - accuracy: 0.9804 - val_loss: 0.0522 - val_accuracy: 0.9794\n",
            "Epoch 62/75\n",
            "238/238 [==============================] - 38s 161ms/step - loss: 0.0516 - accuracy: 0.9806 - val_loss: 0.0482 - val_accuracy: 0.9821\n",
            "Epoch 63/75\n",
            "238/238 [==============================] - 36s 152ms/step - loss: 0.0492 - accuracy: 0.9815 - val_loss: 0.0504 - val_accuracy: 0.9794\n",
            "Epoch 64/75\n",
            "238/238 [==============================] - 37s 156ms/step - loss: 0.0501 - accuracy: 0.9813 - val_loss: 0.0516 - val_accuracy: 0.9803\n",
            "Epoch 65/75\n",
            "238/238 [==============================] - 37s 157ms/step - loss: 0.0506 - accuracy: 0.9808 - val_loss: 0.0494 - val_accuracy: 0.9811\n",
            "Epoch 66/75\n",
            "238/238 [==============================] - 37s 156ms/step - loss: 0.0497 - accuracy: 0.9814 - val_loss: 0.0483 - val_accuracy: 0.9803\n",
            "Epoch 67/75\n",
            "238/238 [==============================] - 37s 155ms/step - loss: 0.0516 - accuracy: 0.9805 - val_loss: 0.0534 - val_accuracy: 0.9810\n",
            "Epoch 68/75\n",
            "238/238 [==============================] - 37s 157ms/step - loss: 0.0492 - accuracy: 0.9814 - val_loss: 0.0492 - val_accuracy: 0.9821\n",
            "Epoch 69/75\n",
            "238/238 [==============================] - 37s 156ms/step - loss: 0.0491 - accuracy: 0.9814 - val_loss: 0.0475 - val_accuracy: 0.9813\n",
            "Epoch 70/75\n",
            "238/238 [==============================] - 37s 157ms/step - loss: 0.0487 - accuracy: 0.9811 - val_loss: 0.0458 - val_accuracy: 0.9829\n",
            "Epoch 71/75\n",
            "238/238 [==============================] - 38s 158ms/step - loss: 0.0470 - accuracy: 0.9818 - val_loss: 0.0472 - val_accuracy: 0.9822\n",
            "Epoch 72/75\n",
            "238/238 [==============================] - 36s 149ms/step - loss: 0.0476 - accuracy: 0.9820 - val_loss: 0.0500 - val_accuracy: 0.9775\n",
            "Epoch 73/75\n",
            "238/238 [==============================] - 38s 160ms/step - loss: 0.0486 - accuracy: 0.9811 - val_loss: 0.0459 - val_accuracy: 0.9825\n",
            "Epoch 74/75\n",
            "238/238 [==============================] - 37s 157ms/step - loss: 0.0456 - accuracy: 0.9827 - val_loss: 0.0466 - val_accuracy: 0.9815\n",
            "Epoch 75/75\n",
            "238/238 [==============================] - 37s 156ms/step - loss: 0.0487 - accuracy: 0.9814 - val_loss: 0.0457 - val_accuracy: 0.9822\n"
          ]
        }
      ]
    },
    {
      "cell_type": "markdown",
      "source": [
        "**5. Model Accuracy and Loss**"
      ],
      "metadata": {
        "id": "-MjtYiH7Ciha"
      }
    },
    {
      "cell_type": "code",
      "source": [
        "plt.plot(history.history['accuracy'])\n",
        "plt.plot(history.history['val_accuracy'])\n",
        "plt.title('model accuracy')\n",
        "plt.ylabel('accuracy')\n",
        "plt.xlabel('epoch')\n",
        "plt.legend(['train', 'test'], loc='upper left')\n",
        "plt.show()"
      ],
      "metadata": {
        "id": "dBDq5v0l9uS5",
        "colab": {
          "base_uri": "https://localhost:8080/",
          "height": 295
        },
        "outputId": "4163216d-8867-4d15-b0af-ba70f626a8ff"
      },
      "execution_count": 16,
      "outputs": [
        {
          "output_type": "display_data",
          "data": {
            "text/plain": [
              "<Figure size 432x288 with 1 Axes>"
            ],
            "image/png": "[encoded data removed]"
          },
          "metadata": {
            "needs_background": "light"
          }
        }
      ]
    },
    {
      "cell_type": "code",
      "source": [
        "plt.plot(history.history['loss'])\n",
        "plt.plot(history.history['val_loss'])\n",
        "plt.title('model loss')\n",
        "plt.ylabel('loss')\n",
        "plt.xlabel('epoch')\n",
        "plt.legend(['train', 'test'], loc='upper left')\n",
        "plt.show()"
      ],
      "metadata": {
        "id": "O2zwDHqI9y1T",
        "colab": {
          "base_uri": "https://localhost:8080/",
          "height": 295
        },
        "outputId": "181695ea-5379-4e9e-aae9-a86302b9237f"
      },
      "execution_count": 17,
      "outputs": [
        {
          "output_type": "display_data",
          "data": {
            "text/plain": [
              "<Figure size 432x288 with 1 Axes>"
            ],
            "image/png": "[encoded data removed]"
          },
          "metadata": {
            "needs_background": "light"
          }
        }
      ]
    },
    {
      "cell_type": "markdown",
      "source": [
        "**6. Save the model to the disk**"
      ],
      "metadata": {
        "id": "mGq9UyJ6ClKe"
      }
    },
    {
      "cell_type": "code",
      "source": [
        "cnn.save(\"./cnn_lstm_model.hdf5\")"
      ],
      "metadata": {
        "id": "Da7cJfku90XD"
      },
      "execution_count": 18,
      "outputs": []
    }
  ]
}