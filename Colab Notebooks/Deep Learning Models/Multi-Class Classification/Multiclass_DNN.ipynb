{
  "nbformat": 4,
  "nbformat_minor": 0,
  "metadata": {
    "colab": {
      "provenance": []
    },
    "kernelspec": {
      "name": "python3",
      "display_name": "Python 3"
    },
    "language_info": {
      "name": "python"
    }
  },
  "cells": [
    {
      "cell_type": "markdown",
      "source": [
        "\n",
        "#**Project Title:**\n",
        "\n",
        "\n",
        "#                  **Cyber Security Intrusion Detection Systems : Comparative analysis on ML classification and Neural Networks**"
      ],
      "metadata": {
        "id": "PJp5l0ssCsVU"
      }
    },
    {
      "cell_type": "markdown",
      "source": [
        "#Author\n",
        "\n",
        "**Author Name:** Benita Ashley\n",
        "\n",
        "**Student ID:** 220058151"
      ],
      "metadata": {
        "id": "LSlbpy4FDGR4"
      }
    },
    {
      "cell_type": "markdown",
      "source": [
        "# Project Supervisor\n",
        "\n",
        "**Name:** Dr Mahdieh Sadabadi\n"
      ],
      "metadata": {
        "id": "EDlQ_NWIDH1B"
      }
    },
    {
      "cell_type": "markdown",
      "source": [
        "  **1. Importing Required Libraries**"
      ],
      "metadata": {
        "id": "mfVHBi-5DJNS"
      }
    },
    {
      "cell_type": "code",
      "execution_count": 1,
      "metadata": {
        "id": "-MtYU_QP99cv"
      },
      "outputs": [],
      "source": [
        "from __future__ import print_function\n",
        "import numpy as np\n",
        "np.random.seed(1337)  # for reproducibility\n",
        "from keras.preprocessing import sequence\n",
        "from keras.models import Sequential\n",
        "from keras.layers import Dense, Dropout, Activation, Lambda\n",
        "from keras.layers import Embedding\n",
        "from keras.layers import Convolution1D,MaxPooling1D, Flatten\n",
        "from keras.datasets import imdb\n",
        "from keras import backend as K\n",
        "from sklearn.model_selection import train_test_split\n",
        "import pandas as pd\n",
        "from keras.utils.np_utils import to_categorical\n",
        "from sklearn.preprocessing import Normalizer\n",
        "from keras.models import Sequential\n",
        "from keras.layers import Convolution1D, Dense, Dropout, Flatten, MaxPooling1D\n",
        "from keras.utils import np_utils\n",
        "import numpy as np\n",
        "import h5py\n",
        "from keras import callbacks\n",
        "from keras.layers import LSTM, GRU, SimpleRNN\n",
        "from keras.callbacks import CSVLogger\n",
        "from keras.callbacks import ModelCheckpoint, EarlyStopping, ReduceLROnPlateau, CSVLogger\n",
        "from sklearn.preprocessing import LabelEncoder\n",
        "import matplotlib.pyplot as plt"
      ]
    },
    {
      "cell_type": "markdown",
      "source": [
        "**2. Reading the datset and displaying the same**"
      ],
      "metadata": {
        "id": "b2qipR4qB424"
      }
    },
    {
      "cell_type": "code",
      "source": [
        "traindata = pd.read_csv('KDDCup99_Train.csv')\n",
        "testdata = pd.read_csv('KDDCup99_Test.csv')"
      ],
      "metadata": {
        "id": "-MtQJG2k-DcK"
      },
      "execution_count": 2,
      "outputs": []
    },
    {
      "cell_type": "code",
      "source": [
        "data = pd.concat([traindata,testdata])\n",
        "data.head()"
      ],
      "metadata": {
        "colab": {
          "base_uri": "https://localhost:8080/",
          "height": 299
        },
        "id": "MB7csTXJ-Fe5",
        "outputId": "a1f245a7-5f15-4f14-ef75-38fd66907ac7"
      },
      "execution_count": 3,
      "outputs": [
        {
          "output_type": "execute_result",
          "data": {
            "text/plain": [
              "   duration protocol_type   service flag  src_bytes  dst_bytes  land  \\\n",
              "0         0           tcp  ftp_data   SF        491          0     0   \n",
              "1         0           udp     other   SF        146          0     0   \n",
              "2         0           tcp   private   S0          0          0     0   \n",
              "3         0           tcp      http   SF        232       8153     0   \n",
              "4         0           tcp      http   SF        199        420     0   \n",
              "\n",
              "   wrong_fragment  urgent  hot  ...  dst_host_srv_count  \\\n",
              "0               0       0    0  ...                  25   \n",
              "1               0       0    0  ...                   1   \n",
              "2               0       0    0  ...                  26   \n",
              "3               0       0    0  ...                 255   \n",
              "4               0       0    0  ...                 255   \n",
              "\n",
              "   dst_host_same_srv_rate  dst_host_diff_srv_rate  \\\n",
              "0                    0.17                    0.03   \n",
              "1                    0.00                    0.60   \n",
              "2                    0.10                    0.05   \n",
              "3                    1.00                    0.00   \n",
              "4                    1.00                    0.00   \n",
              "\n",
              "   dst_host_same_src_port_rate  dst_host_srv_diff_host_rate  \\\n",
              "0                         0.17                         0.00   \n",
              "1                         0.88                         0.00   \n",
              "2                         0.00                         0.00   \n",
              "3                         0.03                         0.04   \n",
              "4                         0.00                         0.00   \n",
              "\n",
              "   dst_host_serror_rate  dst_host_srv_serror_rate  dst_host_rerror_rate  \\\n",
              "0                  0.00                      0.00                  0.05   \n",
              "1                  0.00                      0.00                  0.00   \n",
              "2                  1.00                      1.00                  0.00   \n",
              "3                  0.03                      0.01                  0.00   \n",
              "4                  0.00                      0.00                  0.00   \n",
              "\n",
              "   dst_host_srv_rerror_rate   labels  \n",
              "0                      0.00   normal  \n",
              "1                      0.00   normal  \n",
              "2                      0.00  anomaly  \n",
              "3                      0.01   normal  \n",
              "4                      0.00   normal  \n",
              "\n",
              "[5 rows x 42 columns]"
            ],
            "text/html": [
              "\n",
              "  <div id=\"df-8497119e-0c9f-4ba5-9322-9d8d927ba024\">\n",
              "    <div class=\"colab-df-container\">\n",
              "      <div>\n",
              "<style scoped>\n",
              "    .dataframe tbody tr th:only-of-type {\n",
              "        vertical-align: middle;\n",
              "    }\n",
              "\n",
              "    .dataframe tbody tr th {\n",
              "        vertical-align: top;\n",
              "    }\n",
              "\n",
              "    .dataframe thead th {\n",
              "        text-align: right;\n",
              "    }\n",
              "</style>\n",
              "<table border=\"1\" class=\"dataframe\">\n",
              "  <thead>\n",
              "    <tr style=\"text-align: right;\">\n",
              "      <th></th>\n",
              "      <th>duration</th>\n",
              "      <th>protocol_type</th>\n",
              "      <th>service</th>\n",
              "      <th>flag</th>\n",
              "      <th>src_bytes</th>\n",
              "      <th>dst_bytes</th>\n",
              "      <th>land</th>\n",
              "      <th>wrong_fragment</th>\n",
              "      <th>urgent</th>\n",
              "      <th>hot</th>\n",
              "      <th>...</th>\n",
              "      <th>dst_host_srv_count</th>\n",
              "      <th>dst_host_same_srv_rate</th>\n",
              "      <th>dst_host_diff_srv_rate</th>\n",
              "      <th>dst_host_same_src_port_rate</th>\n",
              "      <th>dst_host_srv_diff_host_rate</th>\n",
              "      <th>dst_host_serror_rate</th>\n",
              "      <th>dst_host_srv_serror_rate</th>\n",
              "      <th>dst_host_rerror_rate</th>\n",
              "      <th>dst_host_srv_rerror_rate</th>\n",
              "      <th>labels</th>\n",
              "    </tr>\n",
              "  </thead>\n",
              "  <tbody>\n",
              "    <tr>\n",
              "      <th>0</th>\n",
              "      <td>0</td>\n",
              "      <td>tcp</td>\n",
              "      <td>ftp_data</td>\n",
              "      <td>SF</td>\n",
              "      <td>491</td>\n",
              "      <td>0</td>\n",
              "      <td>0</td>\n",
              "      <td>0</td>\n",
              "      <td>0</td>\n",
              "      <td>0</td>\n",
              "      <td>...</td>\n",
              "      <td>25</td>\n",
              "      <td>0.17</td>\n",
              "      <td>0.03</td>\n",
              "      <td>0.17</td>\n",
              "      <td>0.00</td>\n",
              "      <td>0.00</td>\n",
              "      <td>0.00</td>\n",
              "      <td>0.05</td>\n",
              "      <td>0.00</td>\n",
              "      <td>normal</td>\n",
              "    </tr>\n",
              "    <tr>\n",
              "      <th>1</th>\n",
              "      <td>0</td>\n",
              "      <td>udp</td>\n",
              "      <td>other</td>\n",
              "      <td>SF</td>\n",
              "      <td>146</td>\n",
              "      <td>0</td>\n",
              "      <td>0</td>\n",
              "      <td>0</td>\n",
              "      <td>0</td>\n",
              "      <td>0</td>\n",
              "      <td>...</td>\n",
              "      <td>1</td>\n",
              "      <td>0.00</td>\n",
              "      <td>0.60</td>\n",
              "      <td>0.88</td>\n",
              "      <td>0.00</td>\n",
              "      <td>0.00</td>\n",
              "      <td>0.00</td>\n",
              "      <td>0.00</td>\n",
              "      <td>0.00</td>\n",
              "      <td>normal</td>\n",
              "    </tr>\n",
              "    <tr>\n",
              "      <th>2</th>\n",
              "      <td>0</td>\n",
              "      <td>tcp</td>\n",
              "      <td>private</td>\n",
              "      <td>S0</td>\n",
              "      <td>0</td>\n",
              "      <td>0</td>\n",
              "      <td>0</td>\n",
              "      <td>0</td>\n",
              "      <td>0</td>\n",
              "      <td>0</td>\n",
              "      <td>...</td>\n",
              "      <td>26</td>\n",
              "      <td>0.10</td>\n",
              "      <td>0.05</td>\n",
              "      <td>0.00</td>\n",
              "      <td>0.00</td>\n",
              "      <td>1.00</td>\n",
              "      <td>1.00</td>\n",
              "      <td>0.00</td>\n",
              "      <td>0.00</td>\n",
              "      <td>anomaly</td>\n",
              "    </tr>\n",
              "    <tr>\n",
              "      <th>3</th>\n",
              "      <td>0</td>\n",
              "      <td>tcp</td>\n",
              "      <td>http</td>\n",
              "      <td>SF</td>\n",
              "      <td>232</td>\n",
              "      <td>8153</td>\n",
              "      <td>0</td>\n",
              "      <td>0</td>\n",
              "      <td>0</td>\n",
              "      <td>0</td>\n",
              "      <td>...</td>\n",
              "      <td>255</td>\n",
              "      <td>1.00</td>\n",
              "      <td>0.00</td>\n",
              "      <td>0.03</td>\n",
              "      <td>0.04</td>\n",
              "      <td>0.03</td>\n",
              "      <td>0.01</td>\n",
              "      <td>0.00</td>\n",
              "      <td>0.01</td>\n",
              "      <td>normal</td>\n",
              "    </tr>\n",
              "    <tr>\n",
              "      <th>4</th>\n",
              "      <td>0</td>\n",
              "      <td>tcp</td>\n",
              "      <td>http</td>\n",
              "      <td>SF</td>\n",
              "      <td>199</td>\n",
              "      <td>420</td>\n",
              "      <td>0</td>\n",
              "      <td>0</td>\n",
              "      <td>0</td>\n",
              "      <td>0</td>\n",
              "      <td>...</td>\n",
              "      <td>255</td>\n",
              "      <td>1.00</td>\n",
              "      <td>0.00</td>\n",
              "      <td>0.00</td>\n",
              "      <td>0.00</td>\n",
              "      <td>0.00</td>\n",
              "      <td>0.00</td>\n",
              "      <td>0.00</td>\n",
              "      <td>0.00</td>\n",
              "      <td>normal</td>\n",
              "    </tr>\n",
              "  </tbody>\n",
              "</table>\n",
              "<p>5 rows × 42 columns</p>\n",
              "</div>\n",
              "      <button class=\"colab-df-convert\" onclick=\"convertToInteractive('df-8497119e-0c9f-4ba5-9322-9d8d927ba024')\"\n",
              "              title=\"Convert this dataframe to an interactive table.\"\n",
              "              style=\"display:none;\">\n",
              "        \n",
              "  <svg xmlns=\"http://www.w3.org/2000/svg\" height=\"24px\"viewBox=\"0 0 24 24\"\n",
              "       width=\"24px\">\n",
              "    <path d=\"M0 0h24v24H0V0z\" fill=\"none\"/>\n",
              "    <path d=\"M18.56 5.44l.94 2.06.94-2.06 2.06-.94-2.06-.94-.94-2.06-.94 2.06-2.06.94zm-11 1L8.5 8.5l.94-2.06 2.06-.94-2.06-.94L8.5 2.5l-.94 2.06-2.06.94zm10 10l.94 2.06.94-2.06 2.06-.94-2.06-.94-.94-2.06-.94 2.06-2.06.94z\"/><path d=\"M17.41 7.96l-1.37-1.37c-.4-.4-.92-.59-1.43-.59-.52 0-1.04.2-1.43.59L10.3 9.45l-7.72 7.72c-.78.78-.78 2.05 0 2.83L4 21.41c.39.39.9.59 1.41.59.51 0 1.02-.2 1.41-.59l7.78-7.78 2.81-2.81c.8-.78.8-2.07 0-2.86zM5.41 20L4 18.59l7.72-7.72 1.47 1.35L5.41 20z\"/>\n",
              "  </svg>\n",
              "      </button>\n",
              "      \n",
              "  <style>\n",
              "    .colab-df-container {\n",
              "      display:flex;\n",
              "      flex-wrap:wrap;\n",
              "      gap: 12px;\n",
              "    }\n",
              "\n",
              "    .colab-df-convert {\n",
              "      background-color: #E8F0FE;\n",
              "      border: none;\n",
              "      border-radius: 50%;\n",
              "      cursor: pointer;\n",
              "      display: none;\n",
              "      fill: #1967D2;\n",
              "      height: 32px;\n",
              "      padding: 0 0 0 0;\n",
              "      width: 32px;\n",
              "    }\n",
              "\n",
              "    .colab-df-convert:hover {\n",
              "      background-color: #E2EBFA;\n",
              "      box-shadow: 0px 1px 2px rgba(60, 64, 67, 0.3), 0px 1px 3px 1px rgba(60, 64, 67, 0.15);\n",
              "      fill: #174EA6;\n",
              "    }\n",
              "\n",
              "    [theme=dark] .colab-df-convert {\n",
              "      background-color: #3B4455;\n",
              "      fill: #D2E3FC;\n",
              "    }\n",
              "\n",
              "    [theme=dark] .colab-df-convert:hover {\n",
              "      background-color: #434B5C;\n",
              "      box-shadow: 0px 1px 3px 1px rgba(0, 0, 0, 0.15);\n",
              "      filter: drop-shadow(0px 1px 2px rgba(0, 0, 0, 0.3));\n",
              "      fill: #FFFFFF;\n",
              "    }\n",
              "  </style>\n",
              "\n",
              "      <script>\n",
              "        const buttonEl =\n",
              "          document.querySelector('#df-8497119e-0c9f-4ba5-9322-9d8d927ba024 button.colab-df-convert');\n",
              "        buttonEl.style.display =\n",
              "          google.colab.kernel.accessAllowed ? 'block' : 'none';\n",
              "\n",
              "        async function convertToInteractive(key) {\n",
              "          const element = document.querySelector('#df-8497119e-0c9f-4ba5-9322-9d8d927ba024');\n",
              "          const dataTable =\n",
              "            await google.colab.kernel.invokeFunction('convertToInteractive',\n",
              "                                                     [key], {});\n",
              "          if (!dataTable) return;\n",
              "\n",
              "          const docLinkHtml = 'Like what you see? Visit the ' +\n",
              "            '<a target=\"_blank\" href=https://colab.research.google.com/notebooks/data_table.ipynb>data table notebook</a>'\n",
              "            + ' to learn more about interactive tables.';\n",
              "          element.innerHTML = '';\n",
              "          dataTable['output_type'] = 'display_data';\n",
              "          await google.colab.output.renderOutput(dataTable, element);\n",
              "          const docLink = document.createElement('div');\n",
              "          docLink.innerHTML = docLinkHtml;\n",
              "          element.appendChild(docLink);\n",
              "        }\n",
              "      </script>\n",
              "    </div>\n",
              "  </div>\n",
              "  "
            ]
          },
          "metadata": {},
          "execution_count": 3
        }
      ]
    },
    {
      "cell_type": "markdown",
      "source": [
        "**3. Pre-processing data for the model**"
      ],
      "metadata": {
        "id": "PJ9oHiYZCxMg"
      }
    },
    {
      "cell_type": "code",
      "source": [
        "categ = ['protocol_type','service','flag','labels']\n",
        "# Encode Categorical Columns\n",
        "le = LabelEncoder()\n",
        "data[categ] = data[categ].apply(le.fit_transform)\n",
        "#data[categ] = testdata[categ].apply(le.fit_transform)"
      ],
      "metadata": {
        "id": "DMEt54uh-HaZ"
      },
      "execution_count": 4,
      "outputs": []
    },
    {
      "cell_type": "code",
      "source": [
        "X = data.iloc[:,1:41]\n",
        "Y = data['labels']"
      ],
      "metadata": {
        "id": "6Y16k62f-JKq"
      },
      "execution_count": 5,
      "outputs": []
    },
    {
      "cell_type": "code",
      "source": [
        "scaler = Normalizer().fit(X)\n",
        "X = scaler.transform(X)"
      ],
      "metadata": {
        "id": "y35fvpNJ-KoW"
      },
      "execution_count": 6,
      "outputs": []
    },
    {
      "cell_type": "code",
      "source": [
        "X_train, X_test,Y_train,Y_test = train_test_split(X,Y, test_size=0.2)"
      ],
      "metadata": {
        "id": "F_1SP_Bk-L9u"
      },
      "execution_count": 7,
      "outputs": []
    },
    {
      "cell_type": "code",
      "source": [
        "# reshape input to be [samples, time steps, features]\n",
        "X_train = np.reshape(X_train, (X_train.shape[0],X_train.shape[1],1))\n",
        "X_test = np.reshape(X_test, (X_test.shape[0],X_test.shape[1],1))"
      ],
      "metadata": {
        "id": "_ZkGBLx3-TaS"
      },
      "execution_count": 8,
      "outputs": []
    },
    {
      "cell_type": "markdown",
      "source": [
        "**4. Dense Neural Network**"
      ],
      "metadata": {
        "id": "dsR4AG8VB7PZ"
      }
    },
    {
      "cell_type": "code",
      "source": [
        "model = Sequential()\n",
        "model.add(Dense(128,input_shape=(40, 1),activation='relu'))  \n",
        "model.add(Dropout(0.01))\n",
        "model.add(Flatten())\n",
        "model.add(Dense(40))\n",
        "model.add(Activation('softmax'))"
      ],
      "metadata": {
        "id": "KW0hKKfM-Ng4"
      },
      "execution_count": 9,
      "outputs": []
    },
    {
      "cell_type": "code",
      "source": [
        "model.compile(loss=\"sparse_categorical_crossentropy\", optimizer=\"adam\",metrics=['accuracy'])"
      ],
      "metadata": {
        "id": "9uKHheH1-VKD"
      },
      "execution_count": 10,
      "outputs": []
    },
    {
      "cell_type": "code",
      "source": [
        "history=model.fit(X_train, Y_train, epochs=75,verbose=1,batch_size=500,validation_data=(X_test, Y_test))"
      ],
      "metadata": {
        "colab": {
          "base_uri": "https://localhost:8080/"
        },
        "id": "gpOQOX96-WoF",
        "outputId": "ec6c2548-9663-4b5c-92a8-3d3f455b896d"
      },
      "execution_count": 11,
      "outputs": [
        {
          "output_type": "stream",
          "name": "stdout",
          "text": [
            "Epoch 1/75\n",
            "238/238 [==============================] - 18s 71ms/step - loss: 0.6467 - accuracy: 0.8086 - val_loss: 0.2894 - val_accuracy: 0.8677\n",
            "Epoch 2/75\n",
            "238/238 [==============================] - 15s 63ms/step - loss: 0.2755 - accuracy: 0.8764 - val_loss: 0.2661 - val_accuracy: 0.8803\n",
            "Epoch 3/75\n",
            "238/238 [==============================] - 15s 64ms/step - loss: 0.2632 - accuracy: 0.8852 - val_loss: 0.2583 - val_accuracy: 0.8873\n",
            "Epoch 4/75\n",
            "238/238 [==============================] - 16s 68ms/step - loss: 0.2597 - accuracy: 0.8865 - val_loss: 0.2563 - val_accuracy: 0.8873\n",
            "Epoch 5/75\n",
            "238/238 [==============================] - 15s 63ms/step - loss: 0.2597 - accuracy: 0.8853 - val_loss: 0.2567 - val_accuracy: 0.8800\n",
            "Epoch 6/75\n",
            "238/238 [==============================] - 15s 63ms/step - loss: 0.2581 - accuracy: 0.8873 - val_loss: 0.2552 - val_accuracy: 0.8881\n",
            "Epoch 7/75\n",
            "238/238 [==============================] - 16s 67ms/step - loss: 0.2577 - accuracy: 0.8881 - val_loss: 0.2538 - val_accuracy: 0.8929\n",
            "Epoch 8/75\n",
            "238/238 [==============================] - 15s 63ms/step - loss: 0.2570 - accuracy: 0.8890 - val_loss: 0.2543 - val_accuracy: 0.8900\n",
            "Epoch 9/75\n",
            "238/238 [==============================] - 15s 63ms/step - loss: 0.2565 - accuracy: 0.8899 - val_loss: 0.2538 - val_accuracy: 0.8914\n",
            "Epoch 10/75\n",
            "238/238 [==============================] - 15s 63ms/step - loss: 0.2557 - accuracy: 0.8905 - val_loss: 0.2526 - val_accuracy: 0.8961\n",
            "Epoch 11/75\n",
            "238/238 [==============================] - 16s 68ms/step - loss: 0.2554 - accuracy: 0.8915 - val_loss: 0.2538 - val_accuracy: 0.8885\n",
            "Epoch 12/75\n",
            "238/238 [==============================] - 16s 66ms/step - loss: 0.2551 - accuracy: 0.8922 - val_loss: 0.2521 - val_accuracy: 0.8963\n",
            "Epoch 13/75\n",
            "238/238 [==============================] - 15s 62ms/step - loss: 0.2546 - accuracy: 0.8927 - val_loss: 0.2517 - val_accuracy: 0.8968\n",
            "Epoch 14/75\n",
            "238/238 [==============================] - 16s 68ms/step - loss: 0.2543 - accuracy: 0.8935 - val_loss: 0.2513 - val_accuracy: 0.8964\n",
            "Epoch 15/75\n",
            "238/238 [==============================] - 15s 63ms/step - loss: 0.2537 - accuracy: 0.8930 - val_loss: 0.2510 - val_accuracy: 0.8960\n",
            "Epoch 16/75\n",
            "238/238 [==============================] - 15s 63ms/step - loss: 0.2532 - accuracy: 0.8940 - val_loss: 0.2503 - val_accuracy: 0.8980\n",
            "Epoch 17/75\n",
            "238/238 [==============================] - 16s 68ms/step - loss: 0.2529 - accuracy: 0.8944 - val_loss: 0.2501 - val_accuracy: 0.8961\n",
            "Epoch 18/75\n",
            "238/238 [==============================] - 15s 63ms/step - loss: 0.2522 - accuracy: 0.8957 - val_loss: 0.2498 - val_accuracy: 0.9001\n",
            "Epoch 19/75\n",
            "238/238 [==============================] - 15s 63ms/step - loss: 0.2517 - accuracy: 0.8957 - val_loss: 0.2520 - val_accuracy: 0.8909\n",
            "Epoch 20/75\n",
            "238/238 [==============================] - 16s 67ms/step - loss: 0.2519 - accuracy: 0.8945 - val_loss: 0.2484 - val_accuracy: 0.8996\n",
            "Epoch 21/75\n",
            "238/238 [==============================] - 15s 63ms/step - loss: 0.2508 - accuracy: 0.8962 - val_loss: 0.2479 - val_accuracy: 0.9018\n",
            "Epoch 22/75\n",
            "238/238 [==============================] - 15s 63ms/step - loss: 0.2497 - accuracy: 0.8972 - val_loss: 0.2473 - val_accuracy: 0.8994\n",
            "Epoch 23/75\n",
            "238/238 [==============================] - 15s 63ms/step - loss: 0.2491 - accuracy: 0.8973 - val_loss: 0.2469 - val_accuracy: 0.8937\n",
            "Epoch 24/75\n",
            "238/238 [==============================] - 16s 67ms/step - loss: 0.2485 - accuracy: 0.8969 - val_loss: 0.2487 - val_accuracy: 0.8925\n",
            "Epoch 25/75\n",
            "238/238 [==============================] - 16s 67ms/step - loss: 0.2474 - accuracy: 0.8983 - val_loss: 0.2457 - val_accuracy: 0.8973\n",
            "Epoch 26/75\n",
            "238/238 [==============================] - 15s 63ms/step - loss: 0.2463 - accuracy: 0.8996 - val_loss: 0.2466 - val_accuracy: 0.8923\n",
            "Epoch 27/75\n",
            "238/238 [==============================] - 16s 67ms/step - loss: 0.2453 - accuracy: 0.8997 - val_loss: 0.2424 - val_accuracy: 0.8997\n",
            "Epoch 28/75\n",
            "238/238 [==============================] - 15s 63ms/step - loss: 0.2439 - accuracy: 0.9001 - val_loss: 0.2416 - val_accuracy: 0.9047\n",
            "Epoch 29/75\n",
            "238/238 [==============================] - 15s 63ms/step - loss: 0.2426 - accuracy: 0.9012 - val_loss: 0.2391 - val_accuracy: 0.9063\n",
            "Epoch 30/75\n",
            "238/238 [==============================] - 16s 68ms/step - loss: 0.2415 - accuracy: 0.9010 - val_loss: 0.2385 - val_accuracy: 0.9011\n",
            "Epoch 31/75\n",
            "238/238 [==============================] - 15s 63ms/step - loss: 0.2396 - accuracy: 0.9032 - val_loss: 0.2362 - val_accuracy: 0.9042\n",
            "Epoch 32/75\n",
            "238/238 [==============================] - 15s 63ms/step - loss: 0.2377 - accuracy: 0.9042 - val_loss: 0.2344 - val_accuracy: 0.9052\n",
            "Epoch 33/75\n",
            "238/238 [==============================] - 16s 68ms/step - loss: 0.2359 - accuracy: 0.9057 - val_loss: 0.2327 - val_accuracy: 0.9111\n",
            "Epoch 34/75\n",
            "238/238 [==============================] - 15s 63ms/step - loss: 0.2339 - accuracy: 0.9073 - val_loss: 0.2308 - val_accuracy: 0.9088\n",
            "Epoch 35/75\n",
            "238/238 [==============================] - 15s 63ms/step - loss: 0.2317 - accuracy: 0.9090 - val_loss: 0.2291 - val_accuracy: 0.9074\n",
            "Epoch 36/75\n",
            "238/238 [==============================] - 15s 63ms/step - loss: 0.2304 - accuracy: 0.9088 - val_loss: 0.2270 - val_accuracy: 0.9114\n",
            "Epoch 37/75\n",
            "238/238 [==============================] - 16s 69ms/step - loss: 0.2276 - accuracy: 0.9112 - val_loss: 0.2259 - val_accuracy: 0.9057\n",
            "Epoch 38/75\n",
            "238/238 [==============================] - 16s 68ms/step - loss: 0.2264 - accuracy: 0.9118 - val_loss: 0.2234 - val_accuracy: 0.9123\n",
            "Epoch 39/75\n",
            "238/238 [==============================] - 15s 63ms/step - loss: 0.2240 - accuracy: 0.9131 - val_loss: 0.2202 - val_accuracy: 0.9156\n",
            "Epoch 40/75\n",
            "238/238 [==============================] - 16s 67ms/step - loss: 0.2220 - accuracy: 0.9142 - val_loss: 0.2191 - val_accuracy: 0.9153\n",
            "Epoch 41/75\n",
            "238/238 [==============================] - 15s 63ms/step - loss: 0.2204 - accuracy: 0.9156 - val_loss: 0.2169 - val_accuracy: 0.9204\n",
            "Epoch 42/75\n",
            "238/238 [==============================] - 15s 62ms/step - loss: 0.2186 - accuracy: 0.9165 - val_loss: 0.2153 - val_accuracy: 0.9185\n",
            "Epoch 43/75\n",
            "238/238 [==============================] - 16s 67ms/step - loss: 0.2170 - accuracy: 0.9173 - val_loss: 0.2138 - val_accuracy: 0.9188\n",
            "Epoch 44/75\n",
            "238/238 [==============================] - 15s 62ms/step - loss: 0.2160 - accuracy: 0.9180 - val_loss: 0.2179 - val_accuracy: 0.9154\n",
            "Epoch 45/75\n",
            "238/238 [==============================] - 15s 63ms/step - loss: 0.2145 - accuracy: 0.9186 - val_loss: 0.2112 - val_accuracy: 0.9196\n",
            "Epoch 46/75\n",
            "238/238 [==============================] - 16s 68ms/step - loss: 0.2127 - accuracy: 0.9202 - val_loss: 0.2126 - val_accuracy: 0.9150\n",
            "Epoch 47/75\n",
            "238/238 [==============================] - 15s 63ms/step - loss: 0.2120 - accuracy: 0.9204 - val_loss: 0.2149 - val_accuracy: 0.9158\n",
            "Epoch 48/75\n",
            "238/238 [==============================] - 15s 63ms/step - loss: 0.2109 - accuracy: 0.9204 - val_loss: 0.2081 - val_accuracy: 0.9203\n",
            "Epoch 49/75\n",
            "238/238 [==============================] - 15s 63ms/step - loss: 0.2097 - accuracy: 0.9210 - val_loss: 0.2088 - val_accuracy: 0.9254\n",
            "Epoch 50/75\n",
            "238/238 [==============================] - 16s 67ms/step - loss: 0.2086 - accuracy: 0.9218 - val_loss: 0.2105 - val_accuracy: 0.9252\n",
            "Epoch 51/75\n",
            "238/238 [==============================] - 15s 63ms/step - loss: 0.2081 - accuracy: 0.9221 - val_loss: 0.2047 - val_accuracy: 0.9232\n",
            "Epoch 52/75\n",
            "238/238 [==============================] - 16s 67ms/step - loss: 0.2069 - accuracy: 0.9223 - val_loss: 0.2063 - val_accuracy: 0.9258\n",
            "Epoch 53/75\n",
            "238/238 [==============================] - 16s 67ms/step - loss: 0.2055 - accuracy: 0.9228 - val_loss: 0.2032 - val_accuracy: 0.9208\n",
            "Epoch 54/75\n",
            "238/238 [==============================] - 15s 62ms/step - loss: 0.2049 - accuracy: 0.9236 - val_loss: 0.2038 - val_accuracy: 0.9215\n",
            "Epoch 55/75\n",
            "238/238 [==============================] - 15s 62ms/step - loss: 0.2050 - accuracy: 0.9230 - val_loss: 0.2016 - val_accuracy: 0.9286\n",
            "Epoch 56/75\n",
            "238/238 [==============================] - 16s 67ms/step - loss: 0.2030 - accuracy: 0.9241 - val_loss: 0.2000 - val_accuracy: 0.9261\n",
            "Epoch 57/75\n",
            "238/238 [==============================] - 15s 63ms/step - loss: 0.2026 - accuracy: 0.9244 - val_loss: 0.2001 - val_accuracy: 0.9254\n",
            "Epoch 58/75\n",
            "238/238 [==============================] - 15s 63ms/step - loss: 0.2018 - accuracy: 0.9243 - val_loss: 0.1998 - val_accuracy: 0.9248\n",
            "Epoch 59/75\n",
            "238/238 [==============================] - 15s 62ms/step - loss: 0.2015 - accuracy: 0.9247 - val_loss: 0.1979 - val_accuracy: 0.9252\n",
            "Epoch 60/75\n",
            "238/238 [==============================] - 16s 67ms/step - loss: 0.1998 - accuracy: 0.9250 - val_loss: 0.1979 - val_accuracy: 0.9315\n",
            "Epoch 61/75\n",
            "238/238 [==============================] - 15s 63ms/step - loss: 0.1999 - accuracy: 0.9256 - val_loss: 0.1983 - val_accuracy: 0.9308\n",
            "Epoch 62/75\n",
            "238/238 [==============================] - 15s 64ms/step - loss: 0.1995 - accuracy: 0.9259 - val_loss: 0.1974 - val_accuracy: 0.9315\n",
            "Epoch 63/75\n",
            "238/238 [==============================] - 16s 68ms/step - loss: 0.1986 - accuracy: 0.9266 - val_loss: 0.1956 - val_accuracy: 0.9245\n",
            "Epoch 64/75\n",
            "238/238 [==============================] - 15s 63ms/step - loss: 0.1982 - accuracy: 0.9272 - val_loss: 0.1958 - val_accuracy: 0.9247\n",
            "Epoch 65/75\n",
            "238/238 [==============================] - 16s 68ms/step - loss: 0.1976 - accuracy: 0.9277 - val_loss: 0.1969 - val_accuracy: 0.9250\n",
            "Epoch 66/75\n",
            "238/238 [==============================] - 16s 68ms/step - loss: 0.1973 - accuracy: 0.9278 - val_loss: 0.1943 - val_accuracy: 0.9318\n",
            "Epoch 67/75\n",
            "238/238 [==============================] - 15s 64ms/step - loss: 0.1964 - accuracy: 0.9285 - val_loss: 0.1950 - val_accuracy: 0.9217\n",
            "Epoch 68/75\n",
            "238/238 [==============================] - 15s 64ms/step - loss: 0.1960 - accuracy: 0.9277 - val_loss: 0.1940 - val_accuracy: 0.9321\n",
            "Epoch 69/75\n",
            "238/238 [==============================] - 17s 70ms/step - loss: 0.1949 - accuracy: 0.9296 - val_loss: 0.1940 - val_accuracy: 0.9269\n",
            "Epoch 70/75\n",
            "238/238 [==============================] - 16s 67ms/step - loss: 0.1938 - accuracy: 0.9301 - val_loss: 0.1919 - val_accuracy: 0.9310\n",
            "Epoch 71/75\n",
            "238/238 [==============================] - 15s 64ms/step - loss: 0.1926 - accuracy: 0.9316 - val_loss: 0.1894 - val_accuracy: 0.9351\n",
            "Epoch 72/75\n",
            "238/238 [==============================] - 16s 65ms/step - loss: 0.1917 - accuracy: 0.9321 - val_loss: 0.1880 - val_accuracy: 0.9335\n",
            "Epoch 73/75\n",
            "238/238 [==============================] - 17s 70ms/step - loss: 0.1899 - accuracy: 0.9329 - val_loss: 0.1906 - val_accuracy: 0.9329\n",
            "Epoch 74/75\n",
            "238/238 [==============================] - 16s 65ms/step - loss: 0.1892 - accuracy: 0.9334 - val_loss: 0.1872 - val_accuracy: 0.9333\n",
            "Epoch 75/75\n",
            "238/238 [==============================] - 16s 66ms/step - loss: 0.1877 - accuracy: 0.9343 - val_loss: 0.1848 - val_accuracy: 0.9361\n"
          ]
        }
      ]
    },
    {
      "cell_type": "markdown",
      "source": [
        "**5. Model Accuracy and Loss**"
      ],
      "metadata": {
        "id": "CpOKOpxtB-4o"
      }
    },
    {
      "cell_type": "code",
      "source": [
        "plt.plot(history.history['accuracy'])\n",
        "plt.plot(history.history['val_accuracy'])\n",
        "plt.title('model accuracy')\n",
        "plt.ylabel('accuracy')\n",
        "plt.xlabel('epoch')\n",
        "plt.legend(['train', 'test'], loc='upper left')\n",
        "plt.show()"
      ],
      "metadata": {
        "colab": {
          "base_uri": "https://localhost:8080/",
          "height": 295
        },
        "id": "Gp9A8aJv-Zn_",
        "outputId": "0cec2e75-01cd-485c-f849-9dae779c9bb4"
      },
      "execution_count": 12,
      "outputs": [
        {
          "output_type": "display_data",
          "data": {
            "text/plain": [
              "<Figure size 432x288 with 1 Axes>"
            ],
            "image/png": "[encoded data removed]"
          },
          "metadata": {
            "needs_background": "light"
          }
        }
      ]
    },
    {
      "cell_type": "code",
      "source": [
        "plt.plot(history.history['loss'])\n",
        "plt.plot(history.history['val_loss'])\n",
        "plt.title('model loss')\n",
        "plt.ylabel('loss')\n",
        "plt.xlabel('epoch')\n",
        "plt.legend(['train', 'test'], loc='upper left')\n",
        "plt.show()"
      ],
      "metadata": {
        "colab": {
          "base_uri": "https://localhost:8080/",
          "height": 295
        },
        "id": "WUus6VL7-b_2",
        "outputId": "fc8727fd-80d0-497c-cf9c-9563dea4b580"
      },
      "execution_count": 13,
      "outputs": [
        {
          "output_type": "display_data",
          "data": {
            "text/plain": [
              "<Figure size 432x288 with 1 Axes>"
            ],
            "image/png": "[encoded data removed]"
          },
          "metadata": {
            "needs_background": "light"
          }
        }
      ]
    },
    {
      "cell_type": "markdown",
      "source": [
        "**6. Save Model to Disk**"
      ],
      "metadata": {
        "id": "3Q1dsxjaCCBN"
      }
    },
    {
      "cell_type": "code",
      "source": [
        "model.save(\"./dnn_model.hdf5\")"
      ],
      "metadata": {
        "id": "mSbMAhIj-dVX"
      },
      "execution_count": 14,
      "outputs": []
    }
  ]
}