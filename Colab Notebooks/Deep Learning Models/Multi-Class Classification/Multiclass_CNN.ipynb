{
  "nbformat": 4,
  "nbformat_minor": 0,
  "metadata": {
    "colab": {
      "provenance": []
    },
    "kernelspec": {
      "name": "python3",
      "display_name": "Python 3"
    },
    "language_info": {
      "name": "python"
    }
  },
  "cells": [
    {
      "cell_type": "markdown",
      "source": [
        "\n",
        "#**Project Title:**\n",
        "\n",
        "\n",
        "#                  **Cyber Security Intrusion Detection Systems : Comparative analysis on ML classification and Neural Networks**"
      ],
      "metadata": {
        "id": "dtNspy146aCI"
      }
    },
    {
      "cell_type": "markdown",
      "source": [
        "#Author\n",
        "\n",
        "**Author Name:** Benita Ashley\n",
        "\n",
        "**Student ID:** 220058151"
      ],
      "metadata": {
        "id": "o9QBZ4d06dvy"
      }
    },
    {
      "cell_type": "markdown",
      "source": [
        "# Project Supervisor\n",
        "\n",
        "**Name:** Dr Mahdieh Sadabadi"
      ],
      "metadata": {
        "id": "QHZBJpAe6ftI"
      }
    },
    {
      "cell_type": "markdown",
      "source": [
        "**1. Importing Required Libraries**"
      ],
      "metadata": {
        "id": "rk_RsdEg6hob"
      }
    },
    {
      "cell_type": "code",
      "source": [
        "from __future__ import print_function\n",
        "import numpy as np\n",
        "np.random.seed(1337)  # for reproducibility\n",
        "from keras.preprocessing import sequence\n",
        "from keras.models import Sequential\n",
        "from keras.layers import Dense, Dropout, Activation, Lambda\n",
        "from keras.layers import Embedding\n",
        "from keras.layers import Convolution1D,MaxPooling1D, Flatten\n",
        "from keras.datasets import imdb\n",
        "from keras import backend as K\n",
        "from sklearn.model_selection import train_test_split\n",
        "import pandas as pd\n",
        "from keras.utils.np_utils import to_categorical\n",
        "from sklearn.preprocessing import Normalizer\n",
        "from keras.models import Sequential\n",
        "from keras.layers import Convolution1D, Dense, Dropout, Flatten, MaxPooling1D\n",
        "from keras.utils import np_utils\n",
        "import numpy as np\n",
        "import h5py\n",
        "from keras import callbacks\n",
        "from keras.layers import LSTM, GRU, SimpleRNN\n",
        "from keras.callbacks import CSVLogger\n",
        "from keras.callbacks import ModelCheckpoint, EarlyStopping, ReduceLROnPlateau, CSVLogger\n",
        "from sklearn.preprocessing import LabelEncoder\n",
        "import matplotlib.pyplot as plt"
      ],
      "metadata": {
        "id": "v1qx54B97VsF"
      },
      "execution_count": 1,
      "outputs": []
    },
    {
      "cell_type": "markdown",
      "source": [
        "**2. Reading the datset and displaying the same**"
      ],
      "metadata": {
        "id": "hqHxTDv-_0Uq"
      }
    },
    {
      "cell_type": "code",
      "source": [
        "traindata = pd.read_csv('KDDCup99_Train.csv')\n",
        "testdata = pd.read_csv('KDDCup99_Test.csv')"
      ],
      "metadata": {
        "id": "qLyctv2H7mQl"
      },
      "execution_count": 2,
      "outputs": []
    },
    {
      "cell_type": "code",
      "source": [
        "data = pd.concat([traindata,testdata])\n",
        "data.head()"
      ],
      "metadata": {
        "colab": {
          "base_uri": "https://localhost:8080/",
          "height": 299
        },
        "id": "NbptPWfs7v8B",
        "outputId": "cb87e08f-9150-400b-a8e6-8b9de17dc6b7"
      },
      "execution_count": 3,
      "outputs": [
        {
          "output_type": "execute_result",
          "data": {
            "text/plain": [
              "   duration protocol_type   service flag  src_bytes  dst_bytes  land  \\\n",
              "0         0           tcp  ftp_data   SF        491          0     0   \n",
              "1         0           udp     other   SF        146          0     0   \n",
              "2         0           tcp   private   S0          0          0     0   \n",
              "3         0           tcp      http   SF        232       8153     0   \n",
              "4         0           tcp      http   SF        199        420     0   \n",
              "\n",
              "   wrong_fragment  urgent  hot  ...  dst_host_srv_count  \\\n",
              "0               0       0    0  ...                  25   \n",
              "1               0       0    0  ...                   1   \n",
              "2               0       0    0  ...                  26   \n",
              "3               0       0    0  ...                 255   \n",
              "4               0       0    0  ...                 255   \n",
              "\n",
              "   dst_host_same_srv_rate  dst_host_diff_srv_rate  \\\n",
              "0                    0.17                    0.03   \n",
              "1                    0.00                    0.60   \n",
              "2                    0.10                    0.05   \n",
              "3                    1.00                    0.00   \n",
              "4                    1.00                    0.00   \n",
              "\n",
              "   dst_host_same_src_port_rate  dst_host_srv_diff_host_rate  \\\n",
              "0                         0.17                         0.00   \n",
              "1                         0.88                         0.00   \n",
              "2                         0.00                         0.00   \n",
              "3                         0.03                         0.04   \n",
              "4                         0.00                         0.00   \n",
              "\n",
              "   dst_host_serror_rate  dst_host_srv_serror_rate  dst_host_rerror_rate  \\\n",
              "0                  0.00                      0.00                  0.05   \n",
              "1                  0.00                      0.00                  0.00   \n",
              "2                  1.00                      1.00                  0.00   \n",
              "3                  0.03                      0.01                  0.00   \n",
              "4                  0.00                      0.00                  0.00   \n",
              "\n",
              "   dst_host_srv_rerror_rate   labels  \n",
              "0                      0.00   normal  \n",
              "1                      0.00   normal  \n",
              "2                      0.00  anomaly  \n",
              "3                      0.01   normal  \n",
              "4                      0.00   normal  \n",
              "\n",
              "[5 rows x 42 columns]"
            ],
            "text/html": [
              "\n",
              "  <div id=\"df-485eed9e-c105-4cbc-87bc-d6002aa738b5\">\n",
              "    <div class=\"colab-df-container\">\n",
              "      <div>\n",
              "<style scoped>\n",
              "    .dataframe tbody tr th:only-of-type {\n",
              "        vertical-align: middle;\n",
              "    }\n",
              "\n",
              "    .dataframe tbody tr th {\n",
              "        vertical-align: top;\n",
              "    }\n",
              "\n",
              "    .dataframe thead th {\n",
              "        text-align: right;\n",
              "    }\n",
              "</style>\n",
              "<table border=\"1\" class=\"dataframe\">\n",
              "  <thead>\n",
              "    <tr style=\"text-align: right;\">\n",
              "      <th></th>\n",
              "      <th>duration</th>\n",
              "      <th>protocol_type</th>\n",
              "      <th>service</th>\n",
              "      <th>flag</th>\n",
              "      <th>src_bytes</th>\n",
              "      <th>dst_bytes</th>\n",
              "      <th>land</th>\n",
              "      <th>wrong_fragment</th>\n",
              "      <th>urgent</th>\n",
              "      <th>hot</th>\n",
              "      <th>...</th>\n",
              "      <th>dst_host_srv_count</th>\n",
              "      <th>dst_host_same_srv_rate</th>\n",
              "      <th>dst_host_diff_srv_rate</th>\n",
              "      <th>dst_host_same_src_port_rate</th>\n",
              "      <th>dst_host_srv_diff_host_rate</th>\n",
              "      <th>dst_host_serror_rate</th>\n",
              "      <th>dst_host_srv_serror_rate</th>\n",
              "      <th>dst_host_rerror_rate</th>\n",
              "      <th>dst_host_srv_rerror_rate</th>\n",
              "      <th>labels</th>\n",
              "    </tr>\n",
              "  </thead>\n",
              "  <tbody>\n",
              "    <tr>\n",
              "      <th>0</th>\n",
              "      <td>0</td>\n",
              "      <td>tcp</td>\n",
              "      <td>ftp_data</td>\n",
              "      <td>SF</td>\n",
              "      <td>491</td>\n",
              "      <td>0</td>\n",
              "      <td>0</td>\n",
              "      <td>0</td>\n",
              "      <td>0</td>\n",
              "      <td>0</td>\n",
              "      <td>...</td>\n",
              "      <td>25</td>\n",
              "      <td>0.17</td>\n",
              "      <td>0.03</td>\n",
              "      <td>0.17</td>\n",
              "      <td>0.00</td>\n",
              "      <td>0.00</td>\n",
              "      <td>0.00</td>\n",
              "      <td>0.05</td>\n",
              "      <td>0.00</td>\n",
              "      <td>normal</td>\n",
              "    </tr>\n",
              "    <tr>\n",
              "      <th>1</th>\n",
              "      <td>0</td>\n",
              "      <td>udp</td>\n",
              "      <td>other</td>\n",
              "      <td>SF</td>\n",
              "      <td>146</td>\n",
              "      <td>0</td>\n",
              "      <td>0</td>\n",
              "      <td>0</td>\n",
              "      <td>0</td>\n",
              "      <td>0</td>\n",
              "      <td>...</td>\n",
              "      <td>1</td>\n",
              "      <td>0.00</td>\n",
              "      <td>0.60</td>\n",
              "      <td>0.88</td>\n",
              "      <td>0.00</td>\n",
              "      <td>0.00</td>\n",
              "      <td>0.00</td>\n",
              "      <td>0.00</td>\n",
              "      <td>0.00</td>\n",
              "      <td>normal</td>\n",
              "    </tr>\n",
              "    <tr>\n",
              "      <th>2</th>\n",
              "      <td>0</td>\n",
              "      <td>tcp</td>\n",
              "      <td>private</td>\n",
              "      <td>S0</td>\n",
              "      <td>0</td>\n",
              "      <td>0</td>\n",
              "      <td>0</td>\n",
              "      <td>0</td>\n",
              "      <td>0</td>\n",
              "      <td>0</td>\n",
              "      <td>...</td>\n",
              "      <td>26</td>\n",
              "      <td>0.10</td>\n",
              "      <td>0.05</td>\n",
              "      <td>0.00</td>\n",
              "      <td>0.00</td>\n",
              "      <td>1.00</td>\n",
              "      <td>1.00</td>\n",
              "      <td>0.00</td>\n",
              "      <td>0.00</td>\n",
              "      <td>anomaly</td>\n",
              "    </tr>\n",
              "    <tr>\n",
              "      <th>3</th>\n",
              "      <td>0</td>\n",
              "      <td>tcp</td>\n",
              "      <td>http</td>\n",
              "      <td>SF</td>\n",
              "      <td>232</td>\n",
              "      <td>8153</td>\n",
              "      <td>0</td>\n",
              "      <td>0</td>\n",
              "      <td>0</td>\n",
              "      <td>0</td>\n",
              "      <td>...</td>\n",
              "      <td>255</td>\n",
              "      <td>1.00</td>\n",
              "      <td>0.00</td>\n",
              "      <td>0.03</td>\n",
              "      <td>0.04</td>\n",
              "      <td>0.03</td>\n",
              "      <td>0.01</td>\n",
              "      <td>0.00</td>\n",
              "      <td>0.01</td>\n",
              "      <td>normal</td>\n",
              "    </tr>\n",
              "    <tr>\n",
              "      <th>4</th>\n",
              "      <td>0</td>\n",
              "      <td>tcp</td>\n",
              "      <td>http</td>\n",
              "      <td>SF</td>\n",
              "      <td>199</td>\n",
              "      <td>420</td>\n",
              "      <td>0</td>\n",
              "      <td>0</td>\n",
              "      <td>0</td>\n",
              "      <td>0</td>\n",
              "      <td>...</td>\n",
              "      <td>255</td>\n",
              "      <td>1.00</td>\n",
              "      <td>0.00</td>\n",
              "      <td>0.00</td>\n",
              "      <td>0.00</td>\n",
              "      <td>0.00</td>\n",
              "      <td>0.00</td>\n",
              "      <td>0.00</td>\n",
              "      <td>0.00</td>\n",
              "      <td>normal</td>\n",
              "    </tr>\n",
              "  </tbody>\n",
              "</table>\n",
              "<p>5 rows × 42 columns</p>\n",
              "</div>\n",
              "      <button class=\"colab-df-convert\" onclick=\"convertToInteractive('df-485eed9e-c105-4cbc-87bc-d6002aa738b5')\"\n",
              "              title=\"Convert this dataframe to an interactive table.\"\n",
              "              style=\"display:none;\">\n",
              "        \n",
              "  <svg xmlns=\"http://www.w3.org/2000/svg\" height=\"24px\"viewBox=\"0 0 24 24\"\n",
              "       width=\"24px\">\n",
              "    <path d=\"M0 0h24v24H0V0z\" fill=\"none\"/>\n",
              "    <path d=\"M18.56 5.44l.94 2.06.94-2.06 2.06-.94-2.06-.94-.94-2.06-.94 2.06-2.06.94zm-11 1L8.5 8.5l.94-2.06 2.06-.94-2.06-.94L8.5 2.5l-.94 2.06-2.06.94zm10 10l.94 2.06.94-2.06 2.06-.94-2.06-.94-.94-2.06-.94 2.06-2.06.94z\"/><path d=\"M17.41 7.96l-1.37-1.37c-.4-.4-.92-.59-1.43-.59-.52 0-1.04.2-1.43.59L10.3 9.45l-7.72 7.72c-.78.78-.78 2.05 0 2.83L4 21.41c.39.39.9.59 1.41.59.51 0 1.02-.2 1.41-.59l7.78-7.78 2.81-2.81c.8-.78.8-2.07 0-2.86zM5.41 20L4 18.59l7.72-7.72 1.47 1.35L5.41 20z\"/>\n",
              "  </svg>\n",
              "      </button>\n",
              "      \n",
              "  <style>\n",
              "    .colab-df-container {\n",
              "      display:flex;\n",
              "      flex-wrap:wrap;\n",
              "      gap: 12px;\n",
              "    }\n",
              "\n",
              "    .colab-df-convert {\n",
              "      background-color: #E8F0FE;\n",
              "      border: none;\n",
              "      border-radius: 50%;\n",
              "      cursor: pointer;\n",
              "      display: none;\n",
              "      fill: #1967D2;\n",
              "      height: 32px;\n",
              "      padding: 0 0 0 0;\n",
              "      width: 32px;\n",
              "    }\n",
              "\n",
              "    .colab-df-convert:hover {\n",
              "      background-color: #E2EBFA;\n",
              "      box-shadow: 0px 1px 2px rgba(60, 64, 67, 0.3), 0px 1px 3px 1px rgba(60, 64, 67, 0.15);\n",
              "      fill: #174EA6;\n",
              "    }\n",
              "\n",
              "    [theme=dark] .colab-df-convert {\n",
              "      background-color: #3B4455;\n",
              "      fill: #D2E3FC;\n",
              "    }\n",
              "\n",
              "    [theme=dark] .colab-df-convert:hover {\n",
              "      background-color: #434B5C;\n",
              "      box-shadow: 0px 1px 3px 1px rgba(0, 0, 0, 0.15);\n",
              "      filter: drop-shadow(0px 1px 2px rgba(0, 0, 0, 0.3));\n",
              "      fill: #FFFFFF;\n",
              "    }\n",
              "  </style>\n",
              "\n",
              "      <script>\n",
              "        const buttonEl =\n",
              "          document.querySelector('#df-485eed9e-c105-4cbc-87bc-d6002aa738b5 button.colab-df-convert');\n",
              "        buttonEl.style.display =\n",
              "          google.colab.kernel.accessAllowed ? 'block' : 'none';\n",
              "\n",
              "        async function convertToInteractive(key) {\n",
              "          const element = document.querySelector('#df-485eed9e-c105-4cbc-87bc-d6002aa738b5');\n",
              "          const dataTable =\n",
              "            await google.colab.kernel.invokeFunction('convertToInteractive',\n",
              "                                                     [key], {});\n",
              "          if (!dataTable) return;\n",
              "\n",
              "          const docLinkHtml = 'Like what you see? Visit the ' +\n",
              "            '<a target=\"_blank\" href=https://colab.research.google.com/notebooks/data_table.ipynb>data table notebook</a>'\n",
              "            + ' to learn more about interactive tables.';\n",
              "          element.innerHTML = '';\n",
              "          dataTable['output_type'] = 'display_data';\n",
              "          await google.colab.output.renderOutput(dataTable, element);\n",
              "          const docLink = document.createElement('div');\n",
              "          docLink.innerHTML = docLinkHtml;\n",
              "          element.appendChild(docLink);\n",
              "        }\n",
              "      </script>\n",
              "    </div>\n",
              "  </div>\n",
              "  "
            ]
          },
          "metadata": {},
          "execution_count": 3
        }
      ]
    },
    {
      "cell_type": "markdown",
      "source": [
        "**3. Pre-processing data for the model**"
      ],
      "metadata": {
        "id": "FqAwrndV70hh"
      }
    },
    {
      "cell_type": "code",
      "source": [
        "data[\"labels\"].value_counts()"
      ],
      "metadata": {
        "colab": {
          "base_uri": "https://localhost:8080/",
          "height": 0
        },
        "id": "oxB5k7MH7xp-",
        "outputId": "034a40a1-7408-4eb8-a4db-16d2c2ec3f3d"
      },
      "execution_count": 4,
      "outputs": [
        {
          "output_type": "execute_result",
          "data": {
            "text/plain": [
              "normal     77054\n",
              "anomaly    71463\n",
              "Name: labels, dtype: int64"
            ]
          },
          "metadata": {},
          "execution_count": 4
        }
      ]
    },
    {
      "cell_type": "code",
      "source": [
        "categ = ['protocol_type','service','flag','labels']\n",
        "# Encode Categorical Columns\n",
        "le = LabelEncoder()\n",
        "data[categ] = data[categ].apply(le.fit_transform)\n",
        "#data[categ] = testdata[categ].apply(le.fit_transform)"
      ],
      "metadata": {
        "id": "iC8VWPGv75Uf"
      },
      "execution_count": 5,
      "outputs": []
    },
    {
      "cell_type": "code",
      "source": [
        "X = data.iloc[:,1:41]\n",
        "Y = data['labels']"
      ],
      "metadata": {
        "id": "ZQ9DOhOE7_RP"
      },
      "execution_count": 6,
      "outputs": []
    },
    {
      "cell_type": "code",
      "source": [
        "scaler = Normalizer().fit(X)\n",
        "X = scaler.transform(X)"
      ],
      "metadata": {
        "id": "4O8qBfI18A4g"
      },
      "execution_count": 7,
      "outputs": []
    },
    {
      "cell_type": "code",
      "source": [
        "X_train, X_test,Y_train,Y_test = train_test_split(X,Y, test_size=0.2)"
      ],
      "metadata": {
        "id": "1tEJmGYK8CVf"
      },
      "execution_count": 8,
      "outputs": []
    },
    {
      "cell_type": "code",
      "source": [
        "# reshape input to be [samples, time steps, features]\n",
        "X_train = np.reshape(X_train, (X_train.shape[0],X_train.shape[1],1))\n",
        "X_test = np.reshape(X_test, (X_test.shape[0],X_test.shape[1],1))"
      ],
      "metadata": {
        "id": "CJUh37hC8DzC"
      },
      "execution_count": 9,
      "outputs": []
    },
    {
      "cell_type": "markdown",
      "source": [
        "**4. Convolutional Neural Network Model**"
      ],
      "metadata": {
        "id": "-Ts2CUzJ8F72"
      }
    },
    {
      "cell_type": "code",
      "source": [
        "cnn = Sequential()\n",
        "cnn.add(Convolution1D(128, 3 ,activation=\"relu\",input_shape=(40, 1)))\n",
        "cnn.add(MaxPooling1D(2))\n",
        "cnn.add(Flatten())\n",
        "cnn.add(Dense(128, activation=\"relu\"))\n",
        "cnn.add(Dropout(0.5))\n",
        "cnn.add(Dense(40, activation=\"softmax\"))"
      ],
      "metadata": {
        "id": "FcQekqBK8SJ2"
      },
      "execution_count": 10,
      "outputs": []
    },
    {
      "cell_type": "code",
      "source": [
        "cnn.compile(loss=\"sparse_categorical_crossentropy\", optimizer=\"adam\",metrics=['accuracy'])"
      ],
      "metadata": {
        "id": "BvkDx8968THR"
      },
      "execution_count": 11,
      "outputs": []
    },
    {
      "cell_type": "code",
      "source": [
        "history=cnn.fit(X_train, Y_train, epochs=75,verbose=1,batch_size=500,validation_data=(X_test, Y_test))"
      ],
      "metadata": {
        "colab": {
          "base_uri": "https://localhost:8080/",
          "height": 0
        },
        "id": "yq3eMX7x8SNV",
        "outputId": "91a059b9-5f29-4d71-80f0-2e2ed6335b84"
      },
      "execution_count": 12,
      "outputs": [
        {
          "output_type": "stream",
          "name": "stdout",
          "text": [
            "Epoch 1/75\n",
            "238/238 [==============================] - 9s 35ms/step - loss: 0.4602 - accuracy: 0.8673 - val_loss: 0.2385 - val_accuracy: 0.8962\n",
            "Epoch 2/75\n",
            "238/238 [==============================] - 12s 51ms/step - loss: 0.2287 - accuracy: 0.9051 - val_loss: 0.1990 - val_accuracy: 0.9177\n",
            "Epoch 3/75\n",
            "238/238 [==============================] - 12s 49ms/step - loss: 0.1984 - accuracy: 0.9180 - val_loss: 0.1730 - val_accuracy: 0.9252\n",
            "Epoch 4/75\n",
            "238/238 [==============================] - 9s 37ms/step - loss: 0.1765 - accuracy: 0.9254 - val_loss: 0.1583 - val_accuracy: 0.9299\n",
            "Epoch 5/75\n",
            "238/238 [==============================] - 8s 33ms/step - loss: 0.1614 - accuracy: 0.9316 - val_loss: 0.1401 - val_accuracy: 0.9353\n",
            "Epoch 6/75\n",
            "238/238 [==============================] - 8s 33ms/step - loss: 0.1489 - accuracy: 0.9361 - val_loss: 0.1295 - val_accuracy: 0.9395\n",
            "Epoch 7/75\n",
            "238/238 [==============================] - 9s 36ms/step - loss: 0.1400 - accuracy: 0.9389 - val_loss: 0.1233 - val_accuracy: 0.9447\n",
            "Epoch 8/75\n",
            "238/238 [==============================] - 9s 36ms/step - loss: 0.1336 - accuracy: 0.9428 - val_loss: 0.1171 - val_accuracy: 0.9458\n",
            "Epoch 9/75\n",
            "238/238 [==============================] - 8s 33ms/step - loss: 0.1282 - accuracy: 0.9459 - val_loss: 0.1125 - val_accuracy: 0.9472\n",
            "Epoch 10/75\n",
            "238/238 [==============================] - 8s 33ms/step - loss: 0.1233 - accuracy: 0.9490 - val_loss: 0.1081 - val_accuracy: 0.9500\n",
            "Epoch 11/75\n",
            "238/238 [==============================] - 8s 33ms/step - loss: 0.1206 - accuracy: 0.9498 - val_loss: 0.1038 - val_accuracy: 0.9600\n",
            "Epoch 12/75\n",
            "238/238 [==============================] - 8s 33ms/step - loss: 0.1154 - accuracy: 0.9532 - val_loss: 0.0981 - val_accuracy: 0.9625\n",
            "Epoch 13/75\n",
            "238/238 [==============================] - 9s 36ms/step - loss: 0.1132 - accuracy: 0.9551 - val_loss: 0.0967 - val_accuracy: 0.9626\n",
            "Epoch 14/75\n",
            "238/238 [==============================] - 8s 33ms/step - loss: 0.1108 - accuracy: 0.9565 - val_loss: 0.0938 - val_accuracy: 0.9644\n",
            "Epoch 15/75\n",
            "238/238 [==============================] - 8s 33ms/step - loss: 0.1071 - accuracy: 0.9577 - val_loss: 0.0938 - val_accuracy: 0.9635\n",
            "Epoch 16/75\n",
            "238/238 [==============================] - 8s 33ms/step - loss: 0.1057 - accuracy: 0.9588 - val_loss: 0.0905 - val_accuracy: 0.9643\n",
            "Epoch 17/75\n",
            "238/238 [==============================] - 8s 34ms/step - loss: 0.1042 - accuracy: 0.9588 - val_loss: 0.0871 - val_accuracy: 0.9636\n",
            "Epoch 18/75\n",
            "238/238 [==============================] - 9s 37ms/step - loss: 0.1029 - accuracy: 0.9593 - val_loss: 0.0873 - val_accuracy: 0.9649\n",
            "Epoch 19/75\n",
            "238/238 [==============================] - 8s 33ms/step - loss: 0.1018 - accuracy: 0.9594 - val_loss: 0.0872 - val_accuracy: 0.9648\n",
            "Epoch 20/75\n",
            "238/238 [==============================] - 8s 33ms/step - loss: 0.1002 - accuracy: 0.9599 - val_loss: 0.0867 - val_accuracy: 0.9654\n",
            "Epoch 21/75\n",
            "238/238 [==============================] - 10s 42ms/step - loss: 0.0979 - accuracy: 0.9609 - val_loss: 0.0835 - val_accuracy: 0.9661\n",
            "Epoch 22/75\n",
            "238/238 [==============================] - 8s 34ms/step - loss: 0.0978 - accuracy: 0.9609 - val_loss: 0.0827 - val_accuracy: 0.9663\n",
            "Epoch 23/75\n",
            "238/238 [==============================] - 8s 34ms/step - loss: 0.0962 - accuracy: 0.9619 - val_loss: 0.0800 - val_accuracy: 0.9671\n",
            "Epoch 24/75\n",
            "238/238 [==============================] - 8s 35ms/step - loss: 0.0951 - accuracy: 0.9625 - val_loss: 0.0821 - val_accuracy: 0.9671\n",
            "Epoch 25/75\n",
            "238/238 [==============================] - 8s 33ms/step - loss: 0.0938 - accuracy: 0.9622 - val_loss: 0.0780 - val_accuracy: 0.9682\n",
            "Epoch 26/75\n",
            "238/238 [==============================] - 8s 34ms/step - loss: 0.0928 - accuracy: 0.9629 - val_loss: 0.0777 - val_accuracy: 0.9670\n",
            "Epoch 27/75\n",
            "238/238 [==============================] - 8s 34ms/step - loss: 0.0922 - accuracy: 0.9634 - val_loss: 0.0790 - val_accuracy: 0.9678\n",
            "Epoch 28/75\n",
            "238/238 [==============================] - 8s 33ms/step - loss: 0.0907 - accuracy: 0.9640 - val_loss: 0.0763 - val_accuracy: 0.9672\n",
            "Epoch 29/75\n",
            "238/238 [==============================] - 9s 37ms/step - loss: 0.0897 - accuracy: 0.9642 - val_loss: 0.0751 - val_accuracy: 0.9690\n",
            "Epoch 30/75\n",
            "238/238 [==============================] - 8s 34ms/step - loss: 0.0898 - accuracy: 0.9646 - val_loss: 0.0758 - val_accuracy: 0.9689\n",
            "Epoch 31/75\n",
            "238/238 [==============================] - 8s 34ms/step - loss: 0.0888 - accuracy: 0.9645 - val_loss: 0.0752 - val_accuracy: 0.9664\n",
            "Epoch 32/75\n",
            "238/238 [==============================] - 8s 33ms/step - loss: 0.0878 - accuracy: 0.9648 - val_loss: 0.0723 - val_accuracy: 0.9695\n",
            "Epoch 33/75\n",
            "238/238 [==============================] - 8s 33ms/step - loss: 0.0864 - accuracy: 0.9653 - val_loss: 0.0730 - val_accuracy: 0.9701\n",
            "Epoch 34/75\n",
            "238/238 [==============================] - 8s 33ms/step - loss: 0.0862 - accuracy: 0.9657 - val_loss: 0.0710 - val_accuracy: 0.9697\n",
            "Epoch 35/75\n",
            "238/238 [==============================] - 9s 36ms/step - loss: 0.0866 - accuracy: 0.9656 - val_loss: 0.0719 - val_accuracy: 0.9712\n",
            "Epoch 36/75\n",
            "238/238 [==============================] - 8s 33ms/step - loss: 0.0860 - accuracy: 0.9656 - val_loss: 0.0722 - val_accuracy: 0.9694\n",
            "Epoch 37/75\n",
            "238/238 [==============================] - 8s 33ms/step - loss: 0.0848 - accuracy: 0.9663 - val_loss: 0.0701 - val_accuracy: 0.9708\n",
            "Epoch 38/75\n",
            "238/238 [==============================] - 8s 33ms/step - loss: 0.0846 - accuracy: 0.9660 - val_loss: 0.0693 - val_accuracy: 0.9710\n",
            "Epoch 39/75\n",
            "238/238 [==============================] - 8s 33ms/step - loss: 0.0826 - accuracy: 0.9669 - val_loss: 0.0693 - val_accuracy: 0.9719\n",
            "Epoch 40/75\n",
            "238/238 [==============================] - 9s 36ms/step - loss: 0.0831 - accuracy: 0.9666 - val_loss: 0.0688 - val_accuracy: 0.9708\n",
            "Epoch 41/75\n",
            "238/238 [==============================] - 8s 34ms/step - loss: 0.0815 - accuracy: 0.9679 - val_loss: 0.0697 - val_accuracy: 0.9720\n",
            "Epoch 42/75\n",
            "238/238 [==============================] - 8s 34ms/step - loss: 0.0820 - accuracy: 0.9674 - val_loss: 0.0670 - val_accuracy: 0.9723\n",
            "Epoch 43/75\n",
            "238/238 [==============================] - 9s 36ms/step - loss: 0.0817 - accuracy: 0.9674 - val_loss: 0.0670 - val_accuracy: 0.9726\n",
            "Epoch 44/75\n",
            "238/238 [==============================] - 8s 33ms/step - loss: 0.0807 - accuracy: 0.9681 - val_loss: 0.0657 - val_accuracy: 0.9732\n",
            "Epoch 45/75\n",
            "238/238 [==============================] - 8s 33ms/step - loss: 0.0803 - accuracy: 0.9681 - val_loss: 0.0651 - val_accuracy: 0.9719\n",
            "Epoch 46/75\n",
            "238/238 [==============================] - 9s 37ms/step - loss: 0.0794 - accuracy: 0.9686 - val_loss: 0.0656 - val_accuracy: 0.9729\n",
            "Epoch 47/75\n",
            "238/238 [==============================] - 8s 34ms/step - loss: 0.0791 - accuracy: 0.9686 - val_loss: 0.0659 - val_accuracy: 0.9717\n",
            "Epoch 48/75\n",
            "238/238 [==============================] - 8s 33ms/step - loss: 0.0792 - accuracy: 0.9688 - val_loss: 0.0654 - val_accuracy: 0.9735\n",
            "Epoch 49/75\n",
            "238/238 [==============================] - 8s 33ms/step - loss: 0.0785 - accuracy: 0.9690 - val_loss: 0.0627 - val_accuracy: 0.9746\n",
            "Epoch 50/75\n",
            "238/238 [==============================] - 8s 33ms/step - loss: 0.0771 - accuracy: 0.9691 - val_loss: 0.0639 - val_accuracy: 0.9743\n",
            "Epoch 51/75\n",
            "238/238 [==============================] - 9s 37ms/step - loss: 0.0773 - accuracy: 0.9695 - val_loss: 0.0617 - val_accuracy: 0.9749\n",
            "Epoch 52/75\n",
            "238/238 [==============================] - 8s 33ms/step - loss: 0.0774 - accuracy: 0.9698 - val_loss: 0.0617 - val_accuracy: 0.9744\n",
            "Epoch 53/75\n",
            "238/238 [==============================] - 8s 34ms/step - loss: 0.0763 - accuracy: 0.9705 - val_loss: 0.0618 - val_accuracy: 0.9764\n",
            "Epoch 54/75\n",
            "238/238 [==============================] - 8s 34ms/step - loss: 0.0757 - accuracy: 0.9708 - val_loss: 0.0621 - val_accuracy: 0.9764\n",
            "Epoch 55/75\n",
            "238/238 [==============================] - 8s 34ms/step - loss: 0.0765 - accuracy: 0.9706 - val_loss: 0.0605 - val_accuracy: 0.9758\n",
            "Epoch 56/75\n",
            "238/238 [==============================] - 8s 34ms/step - loss: 0.0756 - accuracy: 0.9711 - val_loss: 0.0605 - val_accuracy: 0.9775\n",
            "Epoch 57/75\n",
            "238/238 [==============================] - 9s 37ms/step - loss: 0.0757 - accuracy: 0.9716 - val_loss: 0.0606 - val_accuracy: 0.9780\n",
            "Epoch 58/75\n",
            "238/238 [==============================] - 8s 33ms/step - loss: 0.0753 - accuracy: 0.9716 - val_loss: 0.0609 - val_accuracy: 0.9772\n",
            "Epoch 59/75\n",
            "238/238 [==============================] - 8s 33ms/step - loss: 0.0744 - accuracy: 0.9719 - val_loss: 0.0594 - val_accuracy: 0.9777\n",
            "Epoch 60/75\n",
            "238/238 [==============================] - 8s 33ms/step - loss: 0.0737 - accuracy: 0.9717 - val_loss: 0.0593 - val_accuracy: 0.9783\n",
            "Epoch 61/75\n",
            "238/238 [==============================] - 8s 34ms/step - loss: 0.0740 - accuracy: 0.9719 - val_loss: 0.0597 - val_accuracy: 0.9789\n",
            "Epoch 62/75\n",
            "238/238 [==============================] - 9s 36ms/step - loss: 0.0734 - accuracy: 0.9723 - val_loss: 0.0573 - val_accuracy: 0.9783\n",
            "Epoch 63/75\n",
            "238/238 [==============================] - 8s 33ms/step - loss: 0.0726 - accuracy: 0.9728 - val_loss: 0.0586 - val_accuracy: 0.9762\n",
            "Epoch 64/75\n",
            "238/238 [==============================] - 8s 34ms/step - loss: 0.0736 - accuracy: 0.9721 - val_loss: 0.0603 - val_accuracy: 0.9779\n",
            "Epoch 65/75\n",
            "238/238 [==============================] - 8s 34ms/step - loss: 0.0729 - accuracy: 0.9723 - val_loss: 0.0582 - val_accuracy: 0.9776\n",
            "Epoch 66/75\n",
            "238/238 [==============================] - 9s 37ms/step - loss: 0.0714 - accuracy: 0.9733 - val_loss: 0.0573 - val_accuracy: 0.9779\n",
            "Epoch 67/75\n",
            "238/238 [==============================] - 8s 33ms/step - loss: 0.0725 - accuracy: 0.9724 - val_loss: 0.0570 - val_accuracy: 0.9791\n",
            "Epoch 68/75\n",
            "238/238 [==============================] - 9s 37ms/step - loss: 0.0711 - accuracy: 0.9733 - val_loss: 0.0567 - val_accuracy: 0.9788\n",
            "Epoch 69/75\n",
            "238/238 [==============================] - 8s 34ms/step - loss: 0.0712 - accuracy: 0.9731 - val_loss: 0.0579 - val_accuracy: 0.9782\n",
            "Epoch 70/75\n",
            "238/238 [==============================] - 8s 34ms/step - loss: 0.0712 - accuracy: 0.9734 - val_loss: 0.0574 - val_accuracy: 0.9782\n",
            "Epoch 71/75\n",
            "238/238 [==============================] - 8s 34ms/step - loss: 0.0701 - accuracy: 0.9736 - val_loss: 0.0560 - val_accuracy: 0.9796\n",
            "Epoch 72/75\n",
            "238/238 [==============================] - 8s 34ms/step - loss: 0.0705 - accuracy: 0.9730 - val_loss: 0.0574 - val_accuracy: 0.9783\n",
            "Epoch 73/75\n",
            "238/238 [==============================] - 8s 35ms/step - loss: 0.0707 - accuracy: 0.9733 - val_loss: 0.0581 - val_accuracy: 0.9777\n",
            "Epoch 74/75\n",
            "238/238 [==============================] - 8s 36ms/step - loss: 0.0691 - accuracy: 0.9741 - val_loss: 0.0547 - val_accuracy: 0.9798\n",
            "Epoch 75/75\n",
            "238/238 [==============================] - 8s 34ms/step - loss: 0.0690 - accuracy: 0.9739 - val_loss: 0.0553 - val_accuracy: 0.9795\n"
          ]
        }
      ]
    },
    {
      "cell_type": "markdown",
      "source": [
        "**5. Model Accuracy and Loss**"
      ],
      "metadata": {
        "id": "qJT2iG_ZAFYf"
      }
    },
    {
      "cell_type": "code",
      "source": [
        "plt.plot(history.history['accuracy'])\n",
        "plt.plot(history.history['val_accuracy'])\n",
        "plt.title('model accuracy')\n",
        "plt.ylabel('accuracy')\n",
        "plt.xlabel('epoch')\n",
        "plt.legend(['train', 'test'], loc='upper left')\n",
        "plt.show()"
      ],
      "metadata": {
        "colab": {
          "base_uri": "https://localhost:8080/",
          "height": 295
        },
        "id": "wzGU60Jh8cCy",
        "outputId": "85c7e51c-db73-46aa-c76d-e0bfa69e96d3"
      },
      "execution_count": 13,
      "outputs": [
        {
          "output_type": "display_data",
          "data": {
            "text/plain": [
              "<Figure size 432x288 with 1 Axes>"
            ],
            "image/png": "[encoded data removed]"
          },
          "metadata": {
            "needs_background": "light"
          }
        }
      ]
    },
    {
      "cell_type": "code",
      "source": [
        "plt.plot(history.history['loss'])\n",
        "plt.plot(history.history['val_loss'])\n",
        "plt.title('model loss')\n",
        "plt.ylabel('loss')\n",
        "plt.xlabel('epoch')\n",
        "plt.legend(['train', 'test'], loc='upper left')\n",
        "plt.show()"
      ],
      "metadata": {
        "colab": {
          "base_uri": "https://localhost:8080/",
          "height": 295
        },
        "id": "_a1Hkk7X8erM",
        "outputId": "b4d1a607-0fd1-4a31-830f-3309ced071bc"
      },
      "execution_count": 14,
      "outputs": [
        {
          "output_type": "display_data",
          "data": {
            "text/plain": [
              "<Figure size 432x288 with 1 Axes>"
            ],
            "image/png": "[encoded data removed]"
          },
          "metadata": {
            "needs_background": "light"
          }
        }
      ]
    },
    {
      "cell_type": "markdown",
      "source": [
        "**6. Save model to disk**"
      ],
      "metadata": {
        "id": "zjD15HtbAIS6"
      }
    },
    {
      "cell_type": "code",
      "source": [
        "cnn.save(\"./cnn_model.hdf5\")"
      ],
      "metadata": {
        "id": "qS1a-cII8gX8"
      },
      "execution_count": 15,
      "outputs": []
    }
  ]
}