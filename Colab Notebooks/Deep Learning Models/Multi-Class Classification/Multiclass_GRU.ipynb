{
  "nbformat": 4,
  "nbformat_minor": 0,
  "metadata": {
    "colab": {
      "provenance": []
    },
    "kernelspec": {
      "name": "python3",
      "display_name": "Python 3"
    },
    "language_info": {
      "name": "python"
    }
  },
  "cells": [
    {
      "cell_type": "markdown",
      "source": [
        "\n",
        "#**Project Title:**\n",
        "\n",
        "\n",
        "#                  **Cyber Security Intrusion Detection Systems : Comparative analysis on ML classification and Neural Networks**"
      ],
      "metadata": {
        "id": "phuKVLvMArU3"
      }
    },
    {
      "cell_type": "markdown",
      "source": [
        "#Author\n",
        "\n",
        "**Author Name:** Benita Ashley\n",
        "\n",
        "**Student ID:** 220058151"
      ],
      "metadata": {
        "id": "7gC5v9-KA7NV"
      }
    },
    {
      "cell_type": "markdown",
      "source": [
        "# Project Supervisor\n",
        "\n",
        "**Name:** Dr Mahdieh Sadabadi"
      ],
      "metadata": {
        "id": "JH4yyo40Bi3Q"
      }
    },
    {
      "cell_type": "markdown",
      "source": [
        "**1. Importing Required Libraries**"
      ],
      "metadata": {
        "id": "adQfM2R2BmZ1"
      }
    },
    {
      "cell_type": "code",
      "execution_count": 1,
      "metadata": {
        "id": "B8d0xHEk-iCx"
      },
      "outputs": [],
      "source": [
        "from __future__ import print_function\n",
        "import numpy as np\n",
        "np.random.seed(1337)  # for reproducibility\n",
        "from keras.preprocessing import sequence\n",
        "from keras.models import Sequential\n",
        "from keras.layers import Dense, Dropout, Activation, Lambda\n",
        "from keras.layers import Embedding\n",
        "from keras.layers import Convolution1D,MaxPooling1D, Flatten\n",
        "from keras.datasets import imdb\n",
        "from keras import backend as K\n",
        "from sklearn.model_selection import train_test_split\n",
        "import pandas as pd\n",
        "from keras.utils.np_utils import to_categorical\n",
        "from sklearn.preprocessing import Normalizer\n",
        "from keras.models import Sequential\n",
        "from keras.layers import Convolution1D, Dense, Dropout, Flatten, MaxPooling1D\n",
        "from keras.utils import np_utils\n",
        "import numpy as np\n",
        "import h5py\n",
        "from keras import callbacks\n",
        "from keras.layers import LSTM, GRU, SimpleRNN\n",
        "from keras.callbacks import CSVLogger\n",
        "from keras.callbacks import ModelCheckpoint, EarlyStopping, ReduceLROnPlateau, CSVLogger\n",
        "from sklearn.preprocessing import LabelEncoder\n",
        "import matplotlib.pyplot as plt"
      ]
    },
    {
      "cell_type": "markdown",
      "source": [
        "**2. Reading the datset and displaying the same**"
      ],
      "metadata": {
        "id": "xx4urHKjBrK_"
      }
    },
    {
      "cell_type": "code",
      "source": [
        "traindata = pd.read_csv('KDDCup99_Train.csv')\n",
        "testdata = pd.read_csv('KDDCup99_Test.csv')"
      ],
      "metadata": {
        "id": "f2IdXMQh-wwa"
      },
      "execution_count": 2,
      "outputs": []
    },
    {
      "cell_type": "code",
      "source": [
        "data = pd.concat([traindata,testdata])\n",
        "data.head()"
      ],
      "metadata": {
        "colab": {
          "base_uri": "https://localhost:8080/",
          "height": 299
        },
        "id": "Qt5zQZw3_HUh",
        "outputId": "f24c793f-90c2-49be-c15b-a3c8f972df0e"
      },
      "execution_count": 3,
      "outputs": [
        {
          "output_type": "execute_result",
          "data": {
            "text/plain": [
              "   duration protocol_type   service flag  src_bytes  dst_bytes  land  \\\n",
              "0         0           tcp  ftp_data   SF        491          0     0   \n",
              "1         0           udp     other   SF        146          0     0   \n",
              "2         0           tcp   private   S0          0          0     0   \n",
              "3         0           tcp      http   SF        232       8153     0   \n",
              "4         0           tcp      http   SF        199        420     0   \n",
              "\n",
              "   wrong_fragment  urgent  hot  ...  dst_host_srv_count  \\\n",
              "0               0       0    0  ...                  25   \n",
              "1               0       0    0  ...                   1   \n",
              "2               0       0    0  ...                  26   \n",
              "3               0       0    0  ...                 255   \n",
              "4               0       0    0  ...                 255   \n",
              "\n",
              "   dst_host_same_srv_rate  dst_host_diff_srv_rate  \\\n",
              "0                    0.17                    0.03   \n",
              "1                    0.00                    0.60   \n",
              "2                    0.10                    0.05   \n",
              "3                    1.00                    0.00   \n",
              "4                    1.00                    0.00   \n",
              "\n",
              "   dst_host_same_src_port_rate  dst_host_srv_diff_host_rate  \\\n",
              "0                         0.17                         0.00   \n",
              "1                         0.88                         0.00   \n",
              "2                         0.00                         0.00   \n",
              "3                         0.03                         0.04   \n",
              "4                         0.00                         0.00   \n",
              "\n",
              "   dst_host_serror_rate  dst_host_srv_serror_rate  dst_host_rerror_rate  \\\n",
              "0                  0.00                      0.00                  0.05   \n",
              "1                  0.00                      0.00                  0.00   \n",
              "2                  1.00                      1.00                  0.00   \n",
              "3                  0.03                      0.01                  0.00   \n",
              "4                  0.00                      0.00                  0.00   \n",
              "\n",
              "   dst_host_srv_rerror_rate   labels  \n",
              "0                      0.00   normal  \n",
              "1                      0.00   normal  \n",
              "2                      0.00  anomaly  \n",
              "3                      0.01   normal  \n",
              "4                      0.00   normal  \n",
              "\n",
              "[5 rows x 42 columns]"
            ],
            "text/html": [
              "\n",
              "  <div id=\"df-fe06cdcf-4d93-4c99-a611-84f27982e57f\">\n",
              "    <div class=\"colab-df-container\">\n",
              "      <div>\n",
              "<style scoped>\n",
              "    .dataframe tbody tr th:only-of-type {\n",
              "        vertical-align: middle;\n",
              "    }\n",
              "\n",
              "    .dataframe tbody tr th {\n",
              "        vertical-align: top;\n",
              "    }\n",
              "\n",
              "    .dataframe thead th {\n",
              "        text-align: right;\n",
              "    }\n",
              "</style>\n",
              "<table border=\"1\" class=\"dataframe\">\n",
              "  <thead>\n",
              "    <tr style=\"text-align: right;\">\n",
              "      <th></th>\n",
              "      <th>duration</th>\n",
              "      <th>protocol_type</th>\n",
              "      <th>service</th>\n",
              "      <th>flag</th>\n",
              "      <th>src_bytes</th>\n",
              "      <th>dst_bytes</th>\n",
              "      <th>land</th>\n",
              "      <th>wrong_fragment</th>\n",
              "      <th>urgent</th>\n",
              "      <th>hot</th>\n",
              "      <th>...</th>\n",
              "      <th>dst_host_srv_count</th>\n",
              "      <th>dst_host_same_srv_rate</th>\n",
              "      <th>dst_host_diff_srv_rate</th>\n",
              "      <th>dst_host_same_src_port_rate</th>\n",
              "      <th>dst_host_srv_diff_host_rate</th>\n",
              "      <th>dst_host_serror_rate</th>\n",
              "      <th>dst_host_srv_serror_rate</th>\n",
              "      <th>dst_host_rerror_rate</th>\n",
              "      <th>dst_host_srv_rerror_rate</th>\n",
              "      <th>labels</th>\n",
              "    </tr>\n",
              "  </thead>\n",
              "  <tbody>\n",
              "    <tr>\n",
              "      <th>0</th>\n",
              "      <td>0</td>\n",
              "      <td>tcp</td>\n",
              "      <td>ftp_data</td>\n",
              "      <td>SF</td>\n",
              "      <td>491</td>\n",
              "      <td>0</td>\n",
              "      <td>0</td>\n",
              "      <td>0</td>\n",
              "      <td>0</td>\n",
              "      <td>0</td>\n",
              "      <td>...</td>\n",
              "      <td>25</td>\n",
              "      <td>0.17</td>\n",
              "      <td>0.03</td>\n",
              "      <td>0.17</td>\n",
              "      <td>0.00</td>\n",
              "      <td>0.00</td>\n",
              "      <td>0.00</td>\n",
              "      <td>0.05</td>\n",
              "      <td>0.00</td>\n",
              "      <td>normal</td>\n",
              "    </tr>\n",
              "    <tr>\n",
              "      <th>1</th>\n",
              "      <td>0</td>\n",
              "      <td>udp</td>\n",
              "      <td>other</td>\n",
              "      <td>SF</td>\n",
              "      <td>146</td>\n",
              "      <td>0</td>\n",
              "      <td>0</td>\n",
              "      <td>0</td>\n",
              "      <td>0</td>\n",
              "      <td>0</td>\n",
              "      <td>...</td>\n",
              "      <td>1</td>\n",
              "      <td>0.00</td>\n",
              "      <td>0.60</td>\n",
              "      <td>0.88</td>\n",
              "      <td>0.00</td>\n",
              "      <td>0.00</td>\n",
              "      <td>0.00</td>\n",
              "      <td>0.00</td>\n",
              "      <td>0.00</td>\n",
              "      <td>normal</td>\n",
              "    </tr>\n",
              "    <tr>\n",
              "      <th>2</th>\n",
              "      <td>0</td>\n",
              "      <td>tcp</td>\n",
              "      <td>private</td>\n",
              "      <td>S0</td>\n",
              "      <td>0</td>\n",
              "      <td>0</td>\n",
              "      <td>0</td>\n",
              "      <td>0</td>\n",
              "      <td>0</td>\n",
              "      <td>0</td>\n",
              "      <td>...</td>\n",
              "      <td>26</td>\n",
              "      <td>0.10</td>\n",
              "      <td>0.05</td>\n",
              "      <td>0.00</td>\n",
              "      <td>0.00</td>\n",
              "      <td>1.00</td>\n",
              "      <td>1.00</td>\n",
              "      <td>0.00</td>\n",
              "      <td>0.00</td>\n",
              "      <td>anomaly</td>\n",
              "    </tr>\n",
              "    <tr>\n",
              "      <th>3</th>\n",
              "      <td>0</td>\n",
              "      <td>tcp</td>\n",
              "      <td>http</td>\n",
              "      <td>SF</td>\n",
              "      <td>232</td>\n",
              "      <td>8153</td>\n",
              "      <td>0</td>\n",
              "      <td>0</td>\n",
              "      <td>0</td>\n",
              "      <td>0</td>\n",
              "      <td>...</td>\n",
              "      <td>255</td>\n",
              "      <td>1.00</td>\n",
              "      <td>0.00</td>\n",
              "      <td>0.03</td>\n",
              "      <td>0.04</td>\n",
              "      <td>0.03</td>\n",
              "      <td>0.01</td>\n",
              "      <td>0.00</td>\n",
              "      <td>0.01</td>\n",
              "      <td>normal</td>\n",
              "    </tr>\n",
              "    <tr>\n",
              "      <th>4</th>\n",
              "      <td>0</td>\n",
              "      <td>tcp</td>\n",
              "      <td>http</td>\n",
              "      <td>SF</td>\n",
              "      <td>199</td>\n",
              "      <td>420</td>\n",
              "      <td>0</td>\n",
              "      <td>0</td>\n",
              "      <td>0</td>\n",
              "      <td>0</td>\n",
              "      <td>...</td>\n",
              "      <td>255</td>\n",
              "      <td>1.00</td>\n",
              "      <td>0.00</td>\n",
              "      <td>0.00</td>\n",
              "      <td>0.00</td>\n",
              "      <td>0.00</td>\n",
              "      <td>0.00</td>\n",
              "      <td>0.00</td>\n",
              "      <td>0.00</td>\n",
              "      <td>normal</td>\n",
              "    </tr>\n",
              "  </tbody>\n",
              "</table>\n",
              "<p>5 rows × 42 columns</p>\n",
              "</div>\n",
              "      <button class=\"colab-df-convert\" onclick=\"convertToInteractive('df-fe06cdcf-4d93-4c99-a611-84f27982e57f')\"\n",
              "              title=\"Convert this dataframe to an interactive table.\"\n",
              "              style=\"display:none;\">\n",
              "        \n",
              "  <svg xmlns=\"http://www.w3.org/2000/svg\" height=\"24px\"viewBox=\"0 0 24 24\"\n",
              "       width=\"24px\">\n",
              "    <path d=\"M0 0h24v24H0V0z\" fill=\"none\"/>\n",
              "    <path d=\"M18.56 5.44l.94 2.06.94-2.06 2.06-.94-2.06-.94-.94-2.06-.94 2.06-2.06.94zm-11 1L8.5 8.5l.94-2.06 2.06-.94-2.06-.94L8.5 2.5l-.94 2.06-2.06.94zm10 10l.94 2.06.94-2.06 2.06-.94-2.06-.94-.94-2.06-.94 2.06-2.06.94z\"/><path d=\"M17.41 7.96l-1.37-1.37c-.4-.4-.92-.59-1.43-.59-.52 0-1.04.2-1.43.59L10.3 9.45l-7.72 7.72c-.78.78-.78 2.05 0 2.83L4 21.41c.39.39.9.59 1.41.59.51 0 1.02-.2 1.41-.59l7.78-7.78 2.81-2.81c.8-.78.8-2.07 0-2.86zM5.41 20L4 18.59l7.72-7.72 1.47 1.35L5.41 20z\"/>\n",
              "  </svg>\n",
              "      </button>\n",
              "      \n",
              "  <style>\n",
              "    .colab-df-container {\n",
              "      display:flex;\n",
              "      flex-wrap:wrap;\n",
              "      gap: 12px;\n",
              "    }\n",
              "\n",
              "    .colab-df-convert {\n",
              "      background-color: #E8F0FE;\n",
              "      border: none;\n",
              "      border-radius: 50%;\n",
              "      cursor: pointer;\n",
              "      display: none;\n",
              "      fill: #1967D2;\n",
              "      height: 32px;\n",
              "      padding: 0 0 0 0;\n",
              "      width: 32px;\n",
              "    }\n",
              "\n",
              "    .colab-df-convert:hover {\n",
              "      background-color: #E2EBFA;\n",
              "      box-shadow: 0px 1px 2px rgba(60, 64, 67, 0.3), 0px 1px 3px 1px rgba(60, 64, 67, 0.15);\n",
              "      fill: #174EA6;\n",
              "    }\n",
              "\n",
              "    [theme=dark] .colab-df-convert {\n",
              "      background-color: #3B4455;\n",
              "      fill: #D2E3FC;\n",
              "    }\n",
              "\n",
              "    [theme=dark] .colab-df-convert:hover {\n",
              "      background-color: #434B5C;\n",
              "      box-shadow: 0px 1px 3px 1px rgba(0, 0, 0, 0.15);\n",
              "      filter: drop-shadow(0px 1px 2px rgba(0, 0, 0, 0.3));\n",
              "      fill: #FFFFFF;\n",
              "    }\n",
              "  </style>\n",
              "\n",
              "      <script>\n",
              "        const buttonEl =\n",
              "          document.querySelector('#df-fe06cdcf-4d93-4c99-a611-84f27982e57f button.colab-df-convert');\n",
              "        buttonEl.style.display =\n",
              "          google.colab.kernel.accessAllowed ? 'block' : 'none';\n",
              "\n",
              "        async function convertToInteractive(key) {\n",
              "          const element = document.querySelector('#df-fe06cdcf-4d93-4c99-a611-84f27982e57f');\n",
              "          const dataTable =\n",
              "            await google.colab.kernel.invokeFunction('convertToInteractive',\n",
              "                                                     [key], {});\n",
              "          if (!dataTable) return;\n",
              "\n",
              "          const docLinkHtml = 'Like what you see? Visit the ' +\n",
              "            '<a target=\"_blank\" href=https://colab.research.google.com/notebooks/data_table.ipynb>data table notebook</a>'\n",
              "            + ' to learn more about interactive tables.';\n",
              "          element.innerHTML = '';\n",
              "          dataTable['output_type'] = 'display_data';\n",
              "          await google.colab.output.renderOutput(dataTable, element);\n",
              "          const docLink = document.createElement('div');\n",
              "          docLink.innerHTML = docLinkHtml;\n",
              "          element.appendChild(docLink);\n",
              "        }\n",
              "      </script>\n",
              "    </div>\n",
              "  </div>\n",
              "  "
            ]
          },
          "metadata": {},
          "execution_count": 3
        }
      ]
    },
    {
      "cell_type": "markdown",
      "source": [
        "**3. Pre-processing data for the model**"
      ],
      "metadata": {
        "id": "NaSicJo3DS6m"
      }
    },
    {
      "cell_type": "code",
      "source": [
        "categ = ['protocol_type','service','flag','labels']\n",
        "# Encode Categorical Columns\n",
        "le = LabelEncoder()\n",
        "data[categ] = data[categ].apply(le.fit_transform)\n",
        "#data[categ] = testdata[categ].apply(le.fit_transform)"
      ],
      "metadata": {
        "id": "hlOKbpq__KXQ"
      },
      "execution_count": 4,
      "outputs": []
    },
    {
      "cell_type": "code",
      "source": [
        "X = data.iloc[:,1:42]\n",
        "Y = data['labels']"
      ],
      "metadata": {
        "id": "yOOXdwIW_L_L"
      },
      "execution_count": 5,
      "outputs": []
    },
    {
      "cell_type": "code",
      "source": [
        "scaler = Normalizer().fit(X)\n",
        "X = scaler.transform(X)"
      ],
      "metadata": {
        "id": "wxTnArVP_NOv"
      },
      "execution_count": 6,
      "outputs": []
    },
    {
      "cell_type": "code",
      "source": [
        "X_train, X_test,Y_train,Y_test = train_test_split(X,Y, test_size=0.2)"
      ],
      "metadata": {
        "id": "3ggsNs4f_OjP"
      },
      "execution_count": 7,
      "outputs": []
    },
    {
      "cell_type": "code",
      "source": [
        "# reshape input to be [samples, time steps, features]\n",
        "X_train = np.reshape(X_train, (X_train.shape[0],X_train.shape[1],1))\n",
        "X_test = np.reshape(X_test, (X_test.shape[0],X_test.shape[1],1))"
      ],
      "metadata": {
        "id": "7syOq48F_QLM"
      },
      "execution_count": 8,
      "outputs": []
    },
    {
      "cell_type": "markdown",
      "source": [
        "**4. Gated Recurrent Unit Model**"
      ],
      "metadata": {
        "id": "wpG-MblODPBB"
      }
    },
    {
      "cell_type": "code",
      "source": [
        "model = Sequential()\n",
        "model.add(GRU(128,input_shape=(41,1)))  # try using a GRU instead, for fun\n",
        "model.add(Dropout(0.1))\n",
        "model.add(Dense(40))\n",
        "model.add(Activation('softmax'))"
      ],
      "metadata": {
        "id": "U0Y7YhnD_Rn8"
      },
      "execution_count": 12,
      "outputs": []
    },
    {
      "cell_type": "code",
      "source": [
        "model.compile(loss=\"sparse_categorical_crossentropy\", optimizer=\"adam\",metrics=['accuracy'])"
      ],
      "metadata": {
        "id": "rblTwQ3G_VPI"
      },
      "execution_count": 13,
      "outputs": []
    },
    {
      "cell_type": "code",
      "source": [
        "history=model.fit(X_train, Y_train, epochs=75,verbose=1,batch_size=500,validation_data=(X_test, Y_test))"
      ],
      "metadata": {
        "colab": {
          "base_uri": "https://localhost:8080/"
        },
        "id": "HvOBFfZH_W_o",
        "outputId": "8bcd18d8-4247-4d68-873f-6e447ace7123"
      },
      "execution_count": 14,
      "outputs": [
        {
          "output_type": "stream",
          "name": "stdout",
          "text": [
            "Epoch 1/75\n",
            "238/238 [==============================] - 75s 301ms/step - loss: 0.9023 - accuracy: 0.5007 - val_loss: 0.6939 - val_accuracy: 0.4824\n",
            "Epoch 2/75\n",
            "238/238 [==============================] - 70s 296ms/step - loss: 0.6994 - accuracy: 0.5150 - val_loss: 0.6835 - val_accuracy: 0.7827\n",
            "Epoch 3/75\n",
            "238/238 [==============================] - 72s 302ms/step - loss: 0.4792 - accuracy: 0.7734 - val_loss: 0.3202 - val_accuracy: 0.8875\n",
            "Epoch 4/75\n",
            "238/238 [==============================] - 73s 307ms/step - loss: 0.2857 - accuracy: 0.8971 - val_loss: 0.2660 - val_accuracy: 0.9026\n",
            "Epoch 5/75\n",
            "238/238 [==============================] - 70s 292ms/step - loss: 0.2703 - accuracy: 0.9025 - val_loss: 0.2565 - val_accuracy: 0.9029\n",
            "Epoch 6/75\n",
            "238/238 [==============================] - 72s 302ms/step - loss: 0.2629 - accuracy: 0.9042 - val_loss: 0.2341 - val_accuracy: 0.9097\n",
            "Epoch 7/75\n",
            "238/238 [==============================] - 73s 306ms/step - loss: 0.2238 - accuracy: 0.9134 - val_loss: 0.2014 - val_accuracy: 0.9223\n",
            "Epoch 8/75\n",
            "238/238 [==============================] - 71s 297ms/step - loss: 0.2041 - accuracy: 0.9217 - val_loss: 0.1937 - val_accuracy: 0.9217\n",
            "Epoch 9/75\n",
            "238/238 [==============================] - 70s 296ms/step - loss: 0.1961 - accuracy: 0.9238 - val_loss: 0.1845 - val_accuracy: 0.9285\n",
            "Epoch 10/75\n",
            "238/238 [==============================] - 72s 302ms/step - loss: 0.1926 - accuracy: 0.9246 - val_loss: 0.1868 - val_accuracy: 0.9232\n",
            "Epoch 11/75\n",
            "238/238 [==============================] - 70s 296ms/step - loss: 0.2304 - accuracy: 0.9055 - val_loss: 0.1939 - val_accuracy: 0.9242\n",
            "Epoch 12/75\n",
            "238/238 [==============================] - 71s 300ms/step - loss: 0.1911 - accuracy: 0.9234 - val_loss: 0.1769 - val_accuracy: 0.9305\n",
            "Epoch 13/75\n",
            "238/238 [==============================] - 73s 309ms/step - loss: 0.1772 - accuracy: 0.9278 - val_loss: 0.1651 - val_accuracy: 0.9313\n",
            "Epoch 14/75\n",
            "238/238 [==============================] - 72s 302ms/step - loss: 0.1705 - accuracy: 0.9298 - val_loss: 0.1652 - val_accuracy: 0.9299\n",
            "Epoch 15/75\n",
            "238/238 [==============================] - 69s 292ms/step - loss: 0.1618 - accuracy: 0.9345 - val_loss: 0.1451 - val_accuracy: 0.9364\n",
            "Epoch 16/75\n",
            "238/238 [==============================] - 74s 310ms/step - loss: 0.1515 - accuracy: 0.9406 - val_loss: 0.1437 - val_accuracy: 0.9450\n",
            "Epoch 17/75\n",
            "238/238 [==============================] - 73s 309ms/step - loss: 0.1464 - accuracy: 0.9422 - val_loss: 0.1412 - val_accuracy: 0.9446\n",
            "Epoch 18/75\n",
            "238/238 [==============================] - 73s 306ms/step - loss: 0.1451 - accuracy: 0.9430 - val_loss: 0.1356 - val_accuracy: 0.9465\n",
            "Epoch 19/75\n",
            "238/238 [==============================] - 75s 314ms/step - loss: 0.1389 - accuracy: 0.9453 - val_loss: 0.1325 - val_accuracy: 0.9485\n",
            "Epoch 20/75\n",
            "238/238 [==============================] - 72s 302ms/step - loss: 0.1367 - accuracy: 0.9461 - val_loss: 0.1263 - val_accuracy: 0.9511\n",
            "Epoch 21/75\n",
            "238/238 [==============================] - 71s 297ms/step - loss: 0.1335 - accuracy: 0.9477 - val_loss: 0.1199 - val_accuracy: 0.9517\n",
            "Epoch 22/75\n",
            "238/238 [==============================] - 72s 302ms/step - loss: 0.1300 - accuracy: 0.9481 - val_loss: 0.1439 - val_accuracy: 0.9373\n",
            "Epoch 23/75\n",
            "238/238 [==============================] - 70s 294ms/step - loss: 0.1238 - accuracy: 0.9515 - val_loss: 0.1207 - val_accuracy: 0.9513\n",
            "Epoch 24/75\n",
            "238/238 [==============================] - 70s 292ms/step - loss: 0.1186 - accuracy: 0.9537 - val_loss: 0.1134 - val_accuracy: 0.9541\n",
            "Epoch 25/75\n",
            "238/238 [==============================] - 74s 312ms/step - loss: 0.1121 - accuracy: 0.9577 - val_loss: 0.1208 - val_accuracy: 0.9527\n",
            "Epoch 26/75\n",
            "238/238 [==============================] - 70s 295ms/step - loss: 0.1092 - accuracy: 0.9580 - val_loss: 0.1010 - val_accuracy: 0.9608\n",
            "Epoch 27/75\n",
            "238/238 [==============================] - 69s 292ms/step - loss: 0.1048 - accuracy: 0.9606 - val_loss: 0.1308 - val_accuracy: 0.9487\n",
            "Epoch 28/75\n",
            "238/238 [==============================] - 72s 302ms/step - loss: 0.0999 - accuracy: 0.9628 - val_loss: 0.0960 - val_accuracy: 0.9638\n",
            "Epoch 29/75\n",
            "238/238 [==============================] - 72s 303ms/step - loss: 0.1007 - accuracy: 0.9627 - val_loss: 0.0916 - val_accuracy: 0.9665\n",
            "Epoch 30/75\n",
            "238/238 [==============================] - 70s 294ms/step - loss: 0.0947 - accuracy: 0.9653 - val_loss: 0.0839 - val_accuracy: 0.9685\n",
            "Epoch 31/75\n",
            "238/238 [==============================] - 72s 303ms/step - loss: 0.0928 - accuracy: 0.9661 - val_loss: 0.0871 - val_accuracy: 0.9666\n",
            "Epoch 32/75\n",
            "238/238 [==============================] - 73s 307ms/step - loss: 0.0918 - accuracy: 0.9661 - val_loss: 0.1042 - val_accuracy: 0.9577\n",
            "Epoch 33/75\n",
            "238/238 [==============================] - 74s 312ms/step - loss: 0.0906 - accuracy: 0.9671 - val_loss: 0.0950 - val_accuracy: 0.9611\n",
            "Epoch 34/75\n",
            "238/238 [==============================] - 70s 293ms/step - loss: 0.0879 - accuracy: 0.9679 - val_loss: 0.0834 - val_accuracy: 0.9695\n",
            "Epoch 35/75\n",
            "238/238 [==============================] - 71s 299ms/step - loss: 0.0862 - accuracy: 0.9687 - val_loss: 0.0812 - val_accuracy: 0.9717\n",
            "Epoch 36/75\n",
            "238/238 [==============================] - 70s 294ms/step - loss: 0.0835 - accuracy: 0.9700 - val_loss: 0.0801 - val_accuracy: 0.9710\n",
            "Epoch 37/75\n",
            "238/238 [==============================] - 70s 292ms/step - loss: 0.0843 - accuracy: 0.9695 - val_loss: 0.0817 - val_accuracy: 0.9696\n",
            "Epoch 38/75\n",
            "238/238 [==============================] - 72s 301ms/step - loss: 0.1068 - accuracy: 0.9665 - val_loss: 0.0793 - val_accuracy: 0.9693\n",
            "Epoch 39/75\n",
            "238/238 [==============================] - 70s 292ms/step - loss: 0.0807 - accuracy: 0.9712 - val_loss: 0.0732 - val_accuracy: 0.9731\n",
            "Epoch 40/75\n",
            "238/238 [==============================] - 70s 295ms/step - loss: 0.0808 - accuracy: 0.9705 - val_loss: 0.0755 - val_accuracy: 0.9700\n",
            "Epoch 41/75\n",
            "238/238 [==============================] - 69s 291ms/step - loss: 0.0799 - accuracy: 0.9715 - val_loss: 0.0739 - val_accuracy: 0.9737\n",
            "Epoch 42/75\n",
            "238/238 [==============================] - 71s 299ms/step - loss: 0.0749 - accuracy: 0.9733 - val_loss: 0.0749 - val_accuracy: 0.9723\n",
            "Epoch 43/75\n",
            "238/238 [==============================] - 69s 292ms/step - loss: 0.0741 - accuracy: 0.9731 - val_loss: 0.0761 - val_accuracy: 0.9691\n",
            "Epoch 44/75\n",
            "238/238 [==============================] - 74s 310ms/step - loss: 0.0716 - accuracy: 0.9744 - val_loss: 0.0712 - val_accuracy: 0.9725\n",
            "Epoch 45/75\n",
            "238/238 [==============================] - 74s 311ms/step - loss: 0.0711 - accuracy: 0.9745 - val_loss: 0.0717 - val_accuracy: 0.9714\n",
            "Epoch 46/75\n",
            "238/238 [==============================] - 74s 310ms/step - loss: 0.0715 - accuracy: 0.9745 - val_loss: 0.0717 - val_accuracy: 0.9727\n",
            "Epoch 47/75\n",
            "238/238 [==============================] - 71s 298ms/step - loss: 0.0701 - accuracy: 0.9750 - val_loss: 0.0678 - val_accuracy: 0.9756\n",
            "Epoch 48/75\n",
            "238/238 [==============================] - 71s 298ms/step - loss: 0.0683 - accuracy: 0.9753 - val_loss: 0.0665 - val_accuracy: 0.9759\n",
            "Epoch 49/75\n",
            "238/238 [==============================] - 72s 304ms/step - loss: 0.0706 - accuracy: 0.9743 - val_loss: 0.0670 - val_accuracy: 0.9727\n",
            "Epoch 50/75\n",
            "238/238 [==============================] - 73s 306ms/step - loss: 0.0695 - accuracy: 0.9745 - val_loss: 0.0641 - val_accuracy: 0.9765\n",
            "Epoch 51/75\n",
            "238/238 [==============================] - 71s 298ms/step - loss: 0.0685 - accuracy: 0.9751 - val_loss: 0.0640 - val_accuracy: 0.9762\n",
            "Epoch 52/75\n",
            "238/238 [==============================] - 71s 299ms/step - loss: 0.0645 - accuracy: 0.9761 - val_loss: 0.0606 - val_accuracy: 0.9767\n",
            "Epoch 53/75\n",
            "238/238 [==============================] - 74s 309ms/step - loss: 0.0637 - accuracy: 0.9771 - val_loss: 0.0586 - val_accuracy: 0.9790\n",
            "Epoch 54/75\n",
            "238/238 [==============================] - 72s 303ms/step - loss: 0.0624 - accuracy: 0.9774 - val_loss: 0.0666 - val_accuracy: 0.9736\n",
            "Epoch 55/75\n",
            "238/238 [==============================] - 74s 310ms/step - loss: 0.0656 - accuracy: 0.9757 - val_loss: 0.0584 - val_accuracy: 0.9775\n",
            "Epoch 56/75\n",
            "238/238 [==============================] - 74s 311ms/step - loss: 0.0613 - accuracy: 0.9778 - val_loss: 0.0559 - val_accuracy: 0.9785\n",
            "Epoch 57/75\n",
            "238/238 [==============================] - 73s 305ms/step - loss: 0.0597 - accuracy: 0.9787 - val_loss: 0.0564 - val_accuracy: 0.9773\n",
            "Epoch 58/75\n",
            "238/238 [==============================] - 74s 311ms/step - loss: 0.0622 - accuracy: 0.9773 - val_loss: 0.0666 - val_accuracy: 0.9741\n",
            "Epoch 59/75\n",
            "238/238 [==============================] - 73s 308ms/step - loss: 0.0599 - accuracy: 0.9781 - val_loss: 0.0584 - val_accuracy: 0.9789\n",
            "Epoch 60/75\n",
            "238/238 [==============================] - 72s 303ms/step - loss: 0.0584 - accuracy: 0.9785 - val_loss: 0.0620 - val_accuracy: 0.9745\n",
            "Epoch 61/75\n",
            "238/238 [==============================] - 71s 297ms/step - loss: 0.0576 - accuracy: 0.9788 - val_loss: 0.0529 - val_accuracy: 0.9806\n",
            "Epoch 62/75\n",
            "238/238 [==============================] - 67s 282ms/step - loss: 0.0571 - accuracy: 0.9790 - val_loss: 0.0534 - val_accuracy: 0.9793\n",
            "Epoch 63/75\n",
            "238/238 [==============================] - 70s 295ms/step - loss: 0.0542 - accuracy: 0.9802 - val_loss: 0.0512 - val_accuracy: 0.9799\n",
            "Epoch 64/75\n",
            "238/238 [==============================] - 72s 304ms/step - loss: 0.0545 - accuracy: 0.9798 - val_loss: 0.0581 - val_accuracy: 0.9781\n",
            "Epoch 65/75\n",
            "238/238 [==============================] - 71s 300ms/step - loss: 0.0551 - accuracy: 0.9795 - val_loss: 0.0537 - val_accuracy: 0.9790\n",
            "Epoch 66/75\n",
            "238/238 [==============================] - 71s 300ms/step - loss: 0.0522 - accuracy: 0.9804 - val_loss: 0.0525 - val_accuracy: 0.9792\n",
            "Epoch 67/75\n",
            "238/238 [==============================] - 73s 308ms/step - loss: 0.0534 - accuracy: 0.9799 - val_loss: 0.0541 - val_accuracy: 0.9791\n",
            "Epoch 68/75\n",
            "238/238 [==============================] - 72s 301ms/step - loss: 0.0527 - accuracy: 0.9801 - val_loss: 0.0593 - val_accuracy: 0.9752\n",
            "Epoch 69/75\n",
            "238/238 [==============================] - 72s 305ms/step - loss: 0.0528 - accuracy: 0.9801 - val_loss: 0.0556 - val_accuracy: 0.9791\n",
            "Epoch 70/75\n",
            "238/238 [==============================] - 74s 310ms/step - loss: 0.0521 - accuracy: 0.9808 - val_loss: 0.0520 - val_accuracy: 0.9807\n",
            "Epoch 71/75\n",
            "238/238 [==============================] - 70s 296ms/step - loss: 0.0509 - accuracy: 0.9810 - val_loss: 0.0504 - val_accuracy: 0.9784\n",
            "Epoch 72/75\n",
            "238/238 [==============================] - 72s 301ms/step - loss: 0.0494 - accuracy: 0.9811 - val_loss: 0.0462 - val_accuracy: 0.9824\n",
            "Epoch 73/75\n",
            "238/238 [==============================] - 71s 297ms/step - loss: 0.0500 - accuracy: 0.9809 - val_loss: 0.0527 - val_accuracy: 0.9776\n",
            "Epoch 74/75\n",
            "238/238 [==============================] - 73s 308ms/step - loss: 0.0491 - accuracy: 0.9815 - val_loss: 0.0490 - val_accuracy: 0.9814\n",
            "Epoch 75/75\n",
            "238/238 [==============================] - 70s 294ms/step - loss: 0.0479 - accuracy: 0.9820 - val_loss: 0.0479 - val_accuracy: 0.9803\n"
          ]
        }
      ]
    },
    {
      "cell_type": "markdown",
      "source": [
        "**5. Model Accuracy and Loss**"
      ],
      "metadata": {
        "id": "cbxJ7LFiDoEO"
      }
    },
    {
      "cell_type": "code",
      "source": [
        "plt.plot(history.history['accuracy'])\n",
        "plt.plot(history.history['val_accuracy'])\n",
        "plt.title('model accuracy')\n",
        "plt.ylabel('accuracy')\n",
        "plt.xlabel('epoch')\n",
        "plt.legend(['train', 'test'], loc='upper left')\n",
        "plt.show()"
      ],
      "metadata": {
        "colab": {
          "base_uri": "https://localhost:8080/",
          "height": 295
        },
        "id": "xOIq5aJt_fwa",
        "outputId": "dc38540e-7d16-4851-d7c6-7fac9843cdc3"
      },
      "execution_count": 16,
      "outputs": [
        {
          "output_type": "display_data",
          "data": {
            "text/plain": [
              "<Figure size 432x288 with 1 Axes>"
            ],
            "image/png": "[encoded data removed]"
          },
          "metadata": {
            "needs_background": "light"
          }
        }
      ]
    },
    {
      "cell_type": "code",
      "source": [
        "plt.plot(history.history['loss'])\n",
        "plt.plot(history.history['val_loss'])\n",
        "plt.title('model loss')\n",
        "plt.ylabel('loss')\n",
        "plt.xlabel('epoch')\n",
        "plt.legend(['train', 'test'], loc='upper left')\n",
        "plt.show()"
      ],
      "metadata": {
        "colab": {
          "base_uri": "https://localhost:8080/",
          "height": 295
        },
        "id": "N76uMRHv_jBM",
        "outputId": "122fe572-20cf-4dae-a22f-5244a6aa232d"
      },
      "execution_count": 17,
      "outputs": [
        {
          "output_type": "display_data",
          "data": {
            "text/plain": [
              "<Figure size 432x288 with 1 Axes>"
            ],
            "image/png": "[encoded data removed]"
          },
          "metadata": {
            "needs_background": "light"
          }
        }
      ]
    },
    {
      "cell_type": "markdown",
      "source": [
        "**6. Save model to the disk**"
      ],
      "metadata": {
        "id": "EIucYmdKDrm4"
      }
    },
    {
      "cell_type": "code",
      "source": [
        "model.save(\"./gru_model.hdf5\")"
      ],
      "metadata": {
        "id": "EY98kGNH_jqR"
      },
      "execution_count": 18,
      "outputs": []
    }
  ]
}