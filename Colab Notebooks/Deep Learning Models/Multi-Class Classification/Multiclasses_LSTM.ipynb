{
  "nbformat": 4,
  "nbformat_minor": 0,
  "metadata": {
    "colab": {
      "provenance": []
    },
    "kernelspec": {
      "name": "python3",
      "display_name": "Python 3"
    },
    "language_info": {
      "name": "python"
    }
  },
  "cells": [
    {
      "cell_type": "markdown",
      "source": [
        "\n",
        "#**Project Title:**\n",
        "\n",
        "\n",
        "#                  **Cyber Security Intrusion Detection Systems : Comparative analysis on ML classification and Neural Networks**"
      ],
      "metadata": {
        "id": "IQcM7-yeEDlF"
      }
    },
    {
      "cell_type": "markdown",
      "source": [
        "#Author\n",
        "\n",
        "**Author Name:** Benita Ashley\n",
        "\n",
        "**Student ID:** 220058151"
      ],
      "metadata": {
        "id": "OJOhF-btEE39"
      }
    },
    {
      "cell_type": "markdown",
      "source": [
        "# Project Supervisor\n",
        "\n",
        "**Name:** Dr Mahdieh Sadabadi\n"
      ],
      "metadata": {
        "id": "qgr1vMCYEGhC"
      }
    },
    {
      "cell_type": "markdown",
      "source": [
        "  **1. Importing Required Libraries**"
      ],
      "metadata": {
        "id": "yH_5ySWFEIJY"
      }
    },
    {
      "cell_type": "code",
      "source": [
        "from __future__ import print_function\n",
        "import numpy as np\n",
        "np.random.seed(1337)  # for reproducibility\n",
        "from keras.preprocessing import sequence\n",
        "from keras.models import Sequential\n",
        "from keras.layers import Dense, Dropout, Activation, Lambda\n",
        "from keras.layers import Embedding\n",
        "from keras.layers import Convolution1D,MaxPooling1D, Flatten\n",
        "from keras.datasets import imdb\n",
        "from keras import backend as K\n",
        "from sklearn.model_selection import train_test_split\n",
        "import pandas as pd\n",
        "from keras.utils.np_utils import to_categorical\n",
        "from sklearn.preprocessing import Normalizer\n",
        "from keras.models import Sequential\n",
        "from keras.layers import Convolution1D, Dense, Dropout, Flatten, MaxPooling1D\n",
        "from keras.utils import np_utils\n",
        "import numpy as np\n",
        "import h5py\n",
        "from keras import callbacks\n",
        "from keras.layers import LSTM, GRU, SimpleRNN\n",
        "from keras.callbacks import CSVLogger\n",
        "from keras.callbacks import ModelCheckpoint, EarlyStopping, ReduceLROnPlateau, CSVLogger\n",
        "from sklearn.preprocessing import LabelEncoder\n",
        "import matplotlib.pyplot as plt"
      ],
      "metadata": {
        "id": "QQytf9pPFAHT"
      },
      "execution_count": 1,
      "outputs": []
    },
    {
      "cell_type": "markdown",
      "source": [
        "**2. Reading the datset and displaying the same**"
      ],
      "metadata": {
        "id": "pT2yYVMoEKSP"
      }
    },
    {
      "cell_type": "code",
      "source": [
        "traindata = pd.read_csv('KDDCup99_Train.csv')\n",
        "testdata = pd.read_csv('KDDCup99_Test.csv')"
      ],
      "metadata": {
        "id": "9i_yJCswFFXY"
      },
      "execution_count": 4,
      "outputs": []
    },
    {
      "cell_type": "code",
      "source": [
        "data = pd.concat([traindata,testdata])\n",
        "data.head()"
      ],
      "metadata": {
        "colab": {
          "base_uri": "https://localhost:8080/",
          "height": 299
        },
        "id": "bsGq1jLaFIVw",
        "outputId": "7526db66-6a12-4f99-9968-ea70f6b8ac89"
      },
      "execution_count": 5,
      "outputs": [
        {
          "output_type": "execute_result",
          "data": {
            "text/plain": [
              "   duration protocol_type   service flag  src_bytes  dst_bytes  land  \\\n",
              "0         0           tcp  ftp_data   SF        491          0     0   \n",
              "1         0           udp     other   SF        146          0     0   \n",
              "2         0           tcp   private   S0          0          0     0   \n",
              "3         0           tcp      http   SF        232       8153     0   \n",
              "4         0           tcp      http   SF        199        420     0   \n",
              "\n",
              "   wrong_fragment  urgent  hot  ...  dst_host_srv_count  \\\n",
              "0               0       0    0  ...                  25   \n",
              "1               0       0    0  ...                   1   \n",
              "2               0       0    0  ...                  26   \n",
              "3               0       0    0  ...                 255   \n",
              "4               0       0    0  ...                 255   \n",
              "\n",
              "   dst_host_same_srv_rate  dst_host_diff_srv_rate  \\\n",
              "0                    0.17                    0.03   \n",
              "1                    0.00                    0.60   \n",
              "2                    0.10                    0.05   \n",
              "3                    1.00                    0.00   \n",
              "4                    1.00                    0.00   \n",
              "\n",
              "   dst_host_same_src_port_rate  dst_host_srv_diff_host_rate  \\\n",
              "0                         0.17                         0.00   \n",
              "1                         0.88                         0.00   \n",
              "2                         0.00                         0.00   \n",
              "3                         0.03                         0.04   \n",
              "4                         0.00                         0.00   \n",
              "\n",
              "   dst_host_serror_rate  dst_host_srv_serror_rate  dst_host_rerror_rate  \\\n",
              "0                  0.00                      0.00                  0.05   \n",
              "1                  0.00                      0.00                  0.00   \n",
              "2                  1.00                      1.00                  0.00   \n",
              "3                  0.03                      0.01                  0.00   \n",
              "4                  0.00                      0.00                  0.00   \n",
              "\n",
              "   dst_host_srv_rerror_rate   labels  \n",
              "0                      0.00   normal  \n",
              "1                      0.00   normal  \n",
              "2                      0.00  anomaly  \n",
              "3                      0.01   normal  \n",
              "4                      0.00   normal  \n",
              "\n",
              "[5 rows x 42 columns]"
            ],
            "text/html": [
              "\n",
              "  <div id=\"df-a47e4362-9de5-498b-94d3-e83b8d639389\">\n",
              "    <div class=\"colab-df-container\">\n",
              "      <div>\n",
              "<style scoped>\n",
              "    .dataframe tbody tr th:only-of-type {\n",
              "        vertical-align: middle;\n",
              "    }\n",
              "\n",
              "    .dataframe tbody tr th {\n",
              "        vertical-align: top;\n",
              "    }\n",
              "\n",
              "    .dataframe thead th {\n",
              "        text-align: right;\n",
              "    }\n",
              "</style>\n",
              "<table border=\"1\" class=\"dataframe\">\n",
              "  <thead>\n",
              "    <tr style=\"text-align: right;\">\n",
              "      <th></th>\n",
              "      <th>duration</th>\n",
              "      <th>protocol_type</th>\n",
              "      <th>service</th>\n",
              "      <th>flag</th>\n",
              "      <th>src_bytes</th>\n",
              "      <th>dst_bytes</th>\n",
              "      <th>land</th>\n",
              "      <th>wrong_fragment</th>\n",
              "      <th>urgent</th>\n",
              "      <th>hot</th>\n",
              "      <th>...</th>\n",
              "      <th>dst_host_srv_count</th>\n",
              "      <th>dst_host_same_srv_rate</th>\n",
              "      <th>dst_host_diff_srv_rate</th>\n",
              "      <th>dst_host_same_src_port_rate</th>\n",
              "      <th>dst_host_srv_diff_host_rate</th>\n",
              "      <th>dst_host_serror_rate</th>\n",
              "      <th>dst_host_srv_serror_rate</th>\n",
              "      <th>dst_host_rerror_rate</th>\n",
              "      <th>dst_host_srv_rerror_rate</th>\n",
              "      <th>labels</th>\n",
              "    </tr>\n",
              "  </thead>\n",
              "  <tbody>\n",
              "    <tr>\n",
              "      <th>0</th>\n",
              "      <td>0</td>\n",
              "      <td>tcp</td>\n",
              "      <td>ftp_data</td>\n",
              "      <td>SF</td>\n",
              "      <td>491</td>\n",
              "      <td>0</td>\n",
              "      <td>0</td>\n",
              "      <td>0</td>\n",
              "      <td>0</td>\n",
              "      <td>0</td>\n",
              "      <td>...</td>\n",
              "      <td>25</td>\n",
              "      <td>0.17</td>\n",
              "      <td>0.03</td>\n",
              "      <td>0.17</td>\n",
              "      <td>0.00</td>\n",
              "      <td>0.00</td>\n",
              "      <td>0.00</td>\n",
              "      <td>0.05</td>\n",
              "      <td>0.00</td>\n",
              "      <td>normal</td>\n",
              "    </tr>\n",
              "    <tr>\n",
              "      <th>1</th>\n",
              "      <td>0</td>\n",
              "      <td>udp</td>\n",
              "      <td>other</td>\n",
              "      <td>SF</td>\n",
              "      <td>146</td>\n",
              "      <td>0</td>\n",
              "      <td>0</td>\n",
              "      <td>0</td>\n",
              "      <td>0</td>\n",
              "      <td>0</td>\n",
              "      <td>...</td>\n",
              "      <td>1</td>\n",
              "      <td>0.00</td>\n",
              "      <td>0.60</td>\n",
              "      <td>0.88</td>\n",
              "      <td>0.00</td>\n",
              "      <td>0.00</td>\n",
              "      <td>0.00</td>\n",
              "      <td>0.00</td>\n",
              "      <td>0.00</td>\n",
              "      <td>normal</td>\n",
              "    </tr>\n",
              "    <tr>\n",
              "      <th>2</th>\n",
              "      <td>0</td>\n",
              "      <td>tcp</td>\n",
              "      <td>private</td>\n",
              "      <td>S0</td>\n",
              "      <td>0</td>\n",
              "      <td>0</td>\n",
              "      <td>0</td>\n",
              "      <td>0</td>\n",
              "      <td>0</td>\n",
              "      <td>0</td>\n",
              "      <td>...</td>\n",
              "      <td>26</td>\n",
              "      <td>0.10</td>\n",
              "      <td>0.05</td>\n",
              "      <td>0.00</td>\n",
              "      <td>0.00</td>\n",
              "      <td>1.00</td>\n",
              "      <td>1.00</td>\n",
              "      <td>0.00</td>\n",
              "      <td>0.00</td>\n",
              "      <td>anomaly</td>\n",
              "    </tr>\n",
              "    <tr>\n",
              "      <th>3</th>\n",
              "      <td>0</td>\n",
              "      <td>tcp</td>\n",
              "      <td>http</td>\n",
              "      <td>SF</td>\n",
              "      <td>232</td>\n",
              "      <td>8153</td>\n",
              "      <td>0</td>\n",
              "      <td>0</td>\n",
              "      <td>0</td>\n",
              "      <td>0</td>\n",
              "      <td>...</td>\n",
              "      <td>255</td>\n",
              "      <td>1.00</td>\n",
              "      <td>0.00</td>\n",
              "      <td>0.03</td>\n",
              "      <td>0.04</td>\n",
              "      <td>0.03</td>\n",
              "      <td>0.01</td>\n",
              "      <td>0.00</td>\n",
              "      <td>0.01</td>\n",
              "      <td>normal</td>\n",
              "    </tr>\n",
              "    <tr>\n",
              "      <th>4</th>\n",
              "      <td>0</td>\n",
              "      <td>tcp</td>\n",
              "      <td>http</td>\n",
              "      <td>SF</td>\n",
              "      <td>199</td>\n",
              "      <td>420</td>\n",
              "      <td>0</td>\n",
              "      <td>0</td>\n",
              "      <td>0</td>\n",
              "      <td>0</td>\n",
              "      <td>...</td>\n",
              "      <td>255</td>\n",
              "      <td>1.00</td>\n",
              "      <td>0.00</td>\n",
              "      <td>0.00</td>\n",
              "      <td>0.00</td>\n",
              "      <td>0.00</td>\n",
              "      <td>0.00</td>\n",
              "      <td>0.00</td>\n",
              "      <td>0.00</td>\n",
              "      <td>normal</td>\n",
              "    </tr>\n",
              "  </tbody>\n",
              "</table>\n",
              "<p>5 rows × 42 columns</p>\n",
              "</div>\n",
              "      <button class=\"colab-df-convert\" onclick=\"convertToInteractive('df-a47e4362-9de5-498b-94d3-e83b8d639389')\"\n",
              "              title=\"Convert this dataframe to an interactive table.\"\n",
              "              style=\"display:none;\">\n",
              "        \n",
              "  <svg xmlns=\"http://www.w3.org/2000/svg\" height=\"24px\"viewBox=\"0 0 24 24\"\n",
              "       width=\"24px\">\n",
              "    <path d=\"M0 0h24v24H0V0z\" fill=\"none\"/>\n",
              "    <path d=\"M18.56 5.44l.94 2.06.94-2.06 2.06-.94-2.06-.94-.94-2.06-.94 2.06-2.06.94zm-11 1L8.5 8.5l.94-2.06 2.06-.94-2.06-.94L8.5 2.5l-.94 2.06-2.06.94zm10 10l.94 2.06.94-2.06 2.06-.94-2.06-.94-.94-2.06-.94 2.06-2.06.94z\"/><path d=\"M17.41 7.96l-1.37-1.37c-.4-.4-.92-.59-1.43-.59-.52 0-1.04.2-1.43.59L10.3 9.45l-7.72 7.72c-.78.78-.78 2.05 0 2.83L4 21.41c.39.39.9.59 1.41.59.51 0 1.02-.2 1.41-.59l7.78-7.78 2.81-2.81c.8-.78.8-2.07 0-2.86zM5.41 20L4 18.59l7.72-7.72 1.47 1.35L5.41 20z\"/>\n",
              "  </svg>\n",
              "      </button>\n",
              "      \n",
              "  <style>\n",
              "    .colab-df-container {\n",
              "      display:flex;\n",
              "      flex-wrap:wrap;\n",
              "      gap: 12px;\n",
              "    }\n",
              "\n",
              "    .colab-df-convert {\n",
              "      background-color: #E8F0FE;\n",
              "      border: none;\n",
              "      border-radius: 50%;\n",
              "      cursor: pointer;\n",
              "      display: none;\n",
              "      fill: #1967D2;\n",
              "      height: 32px;\n",
              "      padding: 0 0 0 0;\n",
              "      width: 32px;\n",
              "    }\n",
              "\n",
              "    .colab-df-convert:hover {\n",
              "      background-color: #E2EBFA;\n",
              "      box-shadow: 0px 1px 2px rgba(60, 64, 67, 0.3), 0px 1px 3px 1px rgba(60, 64, 67, 0.15);\n",
              "      fill: #174EA6;\n",
              "    }\n",
              "\n",
              "    [theme=dark] .colab-df-convert {\n",
              "      background-color: #3B4455;\n",
              "      fill: #D2E3FC;\n",
              "    }\n",
              "\n",
              "    [theme=dark] .colab-df-convert:hover {\n",
              "      background-color: #434B5C;\n",
              "      box-shadow: 0px 1px 3px 1px rgba(0, 0, 0, 0.15);\n",
              "      filter: drop-shadow(0px 1px 2px rgba(0, 0, 0, 0.3));\n",
              "      fill: #FFFFFF;\n",
              "    }\n",
              "  </style>\n",
              "\n",
              "      <script>\n",
              "        const buttonEl =\n",
              "          document.querySelector('#df-a47e4362-9de5-498b-94d3-e83b8d639389 button.colab-df-convert');\n",
              "        buttonEl.style.display =\n",
              "          google.colab.kernel.accessAllowed ? 'block' : 'none';\n",
              "\n",
              "        async function convertToInteractive(key) {\n",
              "          const element = document.querySelector('#df-a47e4362-9de5-498b-94d3-e83b8d639389');\n",
              "          const dataTable =\n",
              "            await google.colab.kernel.invokeFunction('convertToInteractive',\n",
              "                                                     [key], {});\n",
              "          if (!dataTable) return;\n",
              "\n",
              "          const docLinkHtml = 'Like what you see? Visit the ' +\n",
              "            '<a target=\"_blank\" href=https://colab.research.google.com/notebooks/data_table.ipynb>data table notebook</a>'\n",
              "            + ' to learn more about interactive tables.';\n",
              "          element.innerHTML = '';\n",
              "          dataTable['output_type'] = 'display_data';\n",
              "          await google.colab.output.renderOutput(dataTable, element);\n",
              "          const docLink = document.createElement('div');\n",
              "          docLink.innerHTML = docLinkHtml;\n",
              "          element.appendChild(docLink);\n",
              "        }\n",
              "      </script>\n",
              "    </div>\n",
              "  </div>\n",
              "  "
            ]
          },
          "metadata": {},
          "execution_count": 5
        }
      ]
    },
    {
      "cell_type": "markdown",
      "source": [
        "**3. Pre-processing data for the model**"
      ],
      "metadata": {
        "id": "RK4lsvjkEMVY"
      }
    },
    {
      "cell_type": "code",
      "source": [
        "categ = ['protocol_type','service','flag','labels']\n",
        "# Encode Categorical Columns\n",
        "le = LabelEncoder()\n",
        "data[categ] = data[categ].apply(le.fit_transform)"
      ],
      "metadata": {
        "id": "8K5Nn_AWFEXf"
      },
      "execution_count": 6,
      "outputs": []
    },
    {
      "cell_type": "code",
      "source": [
        "X = data.iloc[:,1:41]\n",
        "Y = data['labels']"
      ],
      "metadata": {
        "id": "NPD42ZCPFMPo"
      },
      "execution_count": 7,
      "outputs": []
    },
    {
      "cell_type": "code",
      "source": [
        "scaler = Normalizer().fit(X)\n",
        "X = scaler.transform(X)"
      ],
      "metadata": {
        "id": "aynbU0DDFNuq"
      },
      "execution_count": 8,
      "outputs": []
    },
    {
      "cell_type": "code",
      "source": [
        "X_train, X_test,Y_train,Y_test = train_test_split(X,Y, test_size=0.2)"
      ],
      "metadata": {
        "id": "XLyG00R1FPH4"
      },
      "execution_count": 9,
      "outputs": []
    },
    {
      "cell_type": "code",
      "source": [
        "# reshape input to be [samples, time steps, features]\n",
        "X_train = np.reshape(X_train, (X_train.shape[0],X_train.shape[1],1))\n",
        "X_test = np.reshape(X_test, (X_test.shape[0],X_test.shape[1],1))"
      ],
      "metadata": {
        "id": "pWfSfgRNFQsu"
      },
      "execution_count": 10,
      "outputs": []
    },
    {
      "cell_type": "code",
      "source": [
        "X_train.shape"
      ],
      "metadata": {
        "colab": {
          "base_uri": "https://localhost:8080/"
        },
        "id": "YkeEtdy0FfoA",
        "outputId": "aace24d5-dcf8-408e-b6f1-b37d843dfc2c"
      },
      "execution_count": 11,
      "outputs": [
        {
          "output_type": "execute_result",
          "data": {
            "text/plain": [
              "(118813, 40, 1)"
            ]
          },
          "metadata": {},
          "execution_count": 11
        }
      ]
    },
    {
      "cell_type": "code",
      "source": [
        "Y_train.shape"
      ],
      "metadata": {
        "colab": {
          "base_uri": "https://localhost:8080/"
        },
        "id": "Ao2owJswFgHY",
        "outputId": "275838cd-ee59-4ee7-a93c-878bc81f55bc"
      },
      "execution_count": 12,
      "outputs": [
        {
          "output_type": "execute_result",
          "data": {
            "text/plain": [
              "(118813,)"
            ]
          },
          "metadata": {},
          "execution_count": 12
        }
      ]
    },
    {
      "cell_type": "code",
      "source": [
        "X_test.shape"
      ],
      "metadata": {
        "colab": {
          "base_uri": "https://localhost:8080/"
        },
        "id": "KnR_uSJIFhXN",
        "outputId": "487ec53f-a00e-4090-f460-fa1c7f8bb87e"
      },
      "execution_count": 13,
      "outputs": [
        {
          "output_type": "execute_result",
          "data": {
            "text/plain": [
              "(29704, 40, 1)"
            ]
          },
          "metadata": {},
          "execution_count": 13
        }
      ]
    },
    {
      "cell_type": "code",
      "source": [
        "Y_test.shape"
      ],
      "metadata": {
        "colab": {
          "base_uri": "https://localhost:8080/"
        },
        "id": "ebUtoIxwFiil",
        "outputId": "9eb665af-00dc-443a-b77b-44f5594e7ee8"
      },
      "execution_count": 14,
      "outputs": [
        {
          "output_type": "execute_result",
          "data": {
            "text/plain": [
              "(29704,)"
            ]
          },
          "metadata": {},
          "execution_count": 14
        }
      ]
    },
    {
      "cell_type": "markdown",
      "source": [
        "**4. Long Short-Term Memory Model**"
      ],
      "metadata": {
        "id": "Yn--vpXZEN9H"
      }
    },
    {
      "cell_type": "code",
      "source": [
        "model = Sequential()\n",
        "model.add(LSTM(128,input_shape=(40, 1)))  \n",
        "model.add(Dropout(0.1))\n",
        "model.add(Flatten())\n",
        "model.add(Dense(40))\n",
        "model.add(Activation('softmax'))"
      ],
      "metadata": {
        "id": "vfXG9dmGFkVg"
      },
      "execution_count": 15,
      "outputs": []
    },
    {
      "cell_type": "code",
      "source": [
        "# define optimizer and objective, compile cnn\n",
        "model.compile(loss=\"sparse_categorical_crossentropy\", optimizer=\"adam\",metrics=['accuracy'])"
      ],
      "metadata": {
        "id": "NJk_7x1NFmHH"
      },
      "execution_count": 16,
      "outputs": []
    },
    {
      "cell_type": "code",
      "source": [
        "history=model.fit(X_train, Y_train, epochs=100,verbose=1,batch_size=500,validation_data=(X_test, Y_test))"
      ],
      "metadata": {
        "colab": {
          "base_uri": "https://localhost:8080/"
        },
        "id": "ANH5AlUjFnjh",
        "outputId": "2ff3cce0-050c-46b9-dc88-564ff81b32a8"
      },
      "execution_count": 17,
      "outputs": [
        {
          "output_type": "stream",
          "name": "stdout",
          "text": [
            "Epoch 1/100\n",
            "238/238 [==============================] - 73s 296ms/step - loss: 0.8409 - accuracy: 0.5027 - val_loss: 0.6941 - val_accuracy: 0.4824\n",
            "Epoch 2/100\n",
            "238/238 [==============================] - 69s 290ms/step - loss: 0.6987 - accuracy: 0.5036 - val_loss: 0.6934 - val_accuracy: 0.5176\n",
            "Epoch 3/100\n",
            "238/238 [==============================] - 73s 307ms/step - loss: 0.6954 - accuracy: 0.5095 - val_loss: 0.6935 - val_accuracy: 0.5176\n",
            "Epoch 4/100\n",
            "238/238 [==============================] - 70s 292ms/step - loss: 0.6944 - accuracy: 0.5102 - val_loss: 0.6945 - val_accuracy: 0.4824\n",
            "Epoch 5/100\n",
            "238/238 [==============================] - 70s 295ms/step - loss: 0.6740 - accuracy: 0.5655 - val_loss: 0.4679 - val_accuracy: 0.8252\n",
            "Epoch 6/100\n",
            "238/238 [==============================] - 70s 292ms/step - loss: 0.4142 - accuracy: 0.8470 - val_loss: 0.3482 - val_accuracy: 0.8675\n",
            "Epoch 7/100\n",
            "238/238 [==============================] - 70s 292ms/step - loss: 0.3136 - accuracy: 0.8909 - val_loss: 0.2765 - val_accuracy: 0.8873\n",
            "Epoch 8/100\n",
            "238/238 [==============================] - 68s 286ms/step - loss: 0.3045 - accuracy: 0.8824 - val_loss: 0.2680 - val_accuracy: 0.8948\n",
            "Epoch 9/100\n",
            "238/238 [==============================] - 68s 286ms/step - loss: 0.2637 - accuracy: 0.8947 - val_loss: 0.2513 - val_accuracy: 0.8931\n",
            "Epoch 10/100\n",
            "238/238 [==============================] - 70s 293ms/step - loss: 0.2596 - accuracy: 0.8948 - val_loss: 0.2469 - val_accuracy: 0.8944\n",
            "Epoch 11/100\n",
            "238/238 [==============================] - 68s 285ms/step - loss: 0.2545 - accuracy: 0.8949 - val_loss: 0.2615 - val_accuracy: 0.8937\n",
            "Epoch 12/100\n",
            "238/238 [==============================] - 67s 283ms/step - loss: 0.2489 - accuracy: 0.8951 - val_loss: 0.2380 - val_accuracy: 0.9095\n",
            "Epoch 13/100\n",
            "238/238 [==============================] - 70s 293ms/step - loss: 0.2429 - accuracy: 0.8970 - val_loss: 0.2272 - val_accuracy: 0.9058\n",
            "Epoch 14/100\n",
            "238/238 [==============================] - 68s 287ms/step - loss: 0.2339 - accuracy: 0.9020 - val_loss: 0.2149 - val_accuracy: 0.9068\n",
            "Epoch 15/100\n",
            "238/238 [==============================] - 68s 286ms/step - loss: 0.2207 - accuracy: 0.9059 - val_loss: 0.2060 - val_accuracy: 0.9223\n",
            "Epoch 16/100\n",
            "238/238 [==============================] - 70s 296ms/step - loss: 0.2118 - accuracy: 0.9104 - val_loss: 0.2097 - val_accuracy: 0.9223\n",
            "Epoch 17/100\n",
            "238/238 [==============================] - 68s 285ms/step - loss: 0.1961 - accuracy: 0.9195 - val_loss: 0.1868 - val_accuracy: 0.9196\n",
            "Epoch 18/100\n",
            "238/238 [==============================] - 68s 286ms/step - loss: 0.1864 - accuracy: 0.9250 - val_loss: 0.1727 - val_accuracy: 0.9276\n",
            "Epoch 19/100\n",
            "238/238 [==============================] - 69s 292ms/step - loss: 0.1813 - accuracy: 0.9269 - val_loss: 0.1665 - val_accuracy: 0.9365\n",
            "Epoch 20/100\n",
            "238/238 [==============================] - 69s 290ms/step - loss: 0.1723 - accuracy: 0.9316 - val_loss: 0.1634 - val_accuracy: 0.9316\n",
            "Epoch 21/100\n",
            "238/238 [==============================] - 68s 288ms/step - loss: 0.1652 - accuracy: 0.9356 - val_loss: 0.1579 - val_accuracy: 0.9367\n",
            "Epoch 22/100\n",
            "238/238 [==============================] - 69s 290ms/step - loss: 0.1639 - accuracy: 0.9365 - val_loss: 0.1469 - val_accuracy: 0.9478\n",
            "Epoch 23/100\n",
            "238/238 [==============================] - 72s 304ms/step - loss: 0.1916 - accuracy: 0.9250 - val_loss: 0.3838 - val_accuracy: 0.8897\n",
            "Epoch 24/100\n",
            "238/238 [==============================] - 69s 291ms/step - loss: 0.2069 - accuracy: 0.9185 - val_loss: 0.1710 - val_accuracy: 0.9362\n",
            "Epoch 25/100\n",
            "238/238 [==============================] - 69s 292ms/step - loss: 0.1746 - accuracy: 0.9318 - val_loss: 0.1626 - val_accuracy: 0.9414\n",
            "Epoch 26/100\n",
            "238/238 [==============================] - 72s 304ms/step - loss: 0.1703 - accuracy: 0.9339 - val_loss: 0.1692 - val_accuracy: 0.9324\n",
            "Epoch 27/100\n",
            "238/238 [==============================] - 69s 291ms/step - loss: 0.1648 - accuracy: 0.9369 - val_loss: 0.1598 - val_accuracy: 0.9410\n",
            "Epoch 28/100\n",
            "238/238 [==============================] - 69s 292ms/step - loss: 0.1667 - accuracy: 0.9347 - val_loss: 0.1584 - val_accuracy: 0.9442\n",
            "Epoch 29/100\n",
            "238/238 [==============================] - 71s 300ms/step - loss: 0.1579 - accuracy: 0.9374 - val_loss: 0.1582 - val_accuracy: 0.9409\n",
            "Epoch 30/100\n",
            "238/238 [==============================] - 69s 289ms/step - loss: 0.1576 - accuracy: 0.9380 - val_loss: 0.1546 - val_accuracy: 0.9387\n",
            "Epoch 31/100\n",
            "238/238 [==============================] - 69s 290ms/step - loss: 0.1559 - accuracy: 0.9380 - val_loss: 0.1489 - val_accuracy: 0.9405\n",
            "Epoch 32/100\n",
            "238/238 [==============================] - 70s 294ms/step - loss: 0.1514 - accuracy: 0.9405 - val_loss: 0.1513 - val_accuracy: 0.9390\n",
            "Epoch 33/100\n",
            "238/238 [==============================] - 70s 295ms/step - loss: 0.1495 - accuracy: 0.9416 - val_loss: 0.1454 - val_accuracy: 0.9511\n",
            "Epoch 34/100\n",
            "238/238 [==============================] - 69s 289ms/step - loss: 0.1416 - accuracy: 0.9455 - val_loss: 0.1305 - val_accuracy: 0.9509\n",
            "Epoch 35/100\n",
            "238/238 [==============================] - 70s 293ms/step - loss: 0.1450 - accuracy: 0.9457 - val_loss: 0.1426 - val_accuracy: 0.9496\n",
            "Epoch 36/100\n",
            "238/238 [==============================] - 72s 304ms/step - loss: 0.1510 - accuracy: 0.9430 - val_loss: 0.1438 - val_accuracy: 0.9393\n",
            "Epoch 37/100\n",
            "238/238 [==============================] - 69s 289ms/step - loss: 0.1398 - accuracy: 0.9471 - val_loss: 0.1280 - val_accuracy: 0.9518\n",
            "Epoch 38/100\n",
            "238/238 [==============================] - 69s 289ms/step - loss: 0.1332 - accuracy: 0.9505 - val_loss: 0.1249 - val_accuracy: 0.9522\n",
            "Epoch 39/100\n",
            "238/238 [==============================] - 69s 289ms/step - loss: 0.1354 - accuracy: 0.9484 - val_loss: 0.1522 - val_accuracy: 0.9373\n",
            "Epoch 40/100\n",
            "238/238 [==============================] - 72s 301ms/step - loss: 0.1366 - accuracy: 0.9481 - val_loss: 0.1319 - val_accuracy: 0.9478\n",
            "Epoch 41/100\n",
            "238/238 [==============================] - 69s 292ms/step - loss: 0.1331 - accuracy: 0.9481 - val_loss: 0.1360 - val_accuracy: 0.9441\n",
            "Epoch 42/100\n",
            "238/238 [==============================] - 69s 291ms/step - loss: 0.1287 - accuracy: 0.9509 - val_loss: 0.1186 - val_accuracy: 0.9572\n",
            "Epoch 43/100\n",
            "238/238 [==============================] - 70s 294ms/step - loss: 0.1301 - accuracy: 0.9497 - val_loss: 0.1229 - val_accuracy: 0.9513\n",
            "Epoch 44/100\n",
            "238/238 [==============================] - 70s 293ms/step - loss: 0.1292 - accuracy: 0.9498 - val_loss: 0.1266 - val_accuracy: 0.9537\n",
            "Epoch 45/100\n",
            "238/238 [==============================] - 69s 288ms/step - loss: 0.1251 - accuracy: 0.9514 - val_loss: 0.1292 - val_accuracy: 0.9493\n",
            "Epoch 46/100\n",
            "238/238 [==============================] - 69s 291ms/step - loss: 0.1232 - accuracy: 0.9533 - val_loss: 0.1384 - val_accuracy: 0.9482\n",
            "Epoch 47/100\n",
            "238/238 [==============================] - 71s 300ms/step - loss: 0.1190 - accuracy: 0.9544 - val_loss: 0.1253 - val_accuracy: 0.9564\n",
            "Epoch 48/100\n",
            "238/238 [==============================] - 69s 288ms/step - loss: 0.1153 - accuracy: 0.9557 - val_loss: 0.1025 - val_accuracy: 0.9621\n",
            "Epoch 49/100\n",
            "238/238 [==============================] - 70s 292ms/step - loss: 0.1161 - accuracy: 0.9567 - val_loss: 0.1061 - val_accuracy: 0.9609\n",
            "Epoch 50/100\n",
            "238/238 [==============================] - 70s 294ms/step - loss: 0.1263 - accuracy: 0.9547 - val_loss: 0.1253 - val_accuracy: 0.9536\n",
            "Epoch 51/100\n",
            "238/238 [==============================] - 70s 293ms/step - loss: 0.1135 - accuracy: 0.9577 - val_loss: 0.1293 - val_accuracy: 0.9436\n",
            "Epoch 52/100\n",
            "238/238 [==============================] - 69s 291ms/step - loss: 0.1348 - accuracy: 0.9488 - val_loss: 0.1376 - val_accuracy: 0.9476\n",
            "Epoch 53/100\n",
            "238/238 [==============================] - 69s 290ms/step - loss: 0.1298 - accuracy: 0.9533 - val_loss: 0.1229 - val_accuracy: 0.9584\n",
            "Epoch 54/100\n",
            "238/238 [==============================] - 71s 297ms/step - loss: 0.1242 - accuracy: 0.9550 - val_loss: 0.1220 - val_accuracy: 0.9545\n",
            "Epoch 55/100\n",
            "238/238 [==============================] - 71s 298ms/step - loss: 0.1153 - accuracy: 0.9587 - val_loss: 0.1109 - val_accuracy: 0.9582\n",
            "Epoch 56/100\n",
            "238/238 [==============================] - 72s 304ms/step - loss: 0.1130 - accuracy: 0.9572 - val_loss: 0.1128 - val_accuracy: 0.9555\n",
            "Epoch 57/100\n",
            "238/238 [==============================] - 71s 299ms/step - loss: 0.1072 - accuracy: 0.9609 - val_loss: 0.1015 - val_accuracy: 0.9625\n",
            "Epoch 58/100\n",
            "238/238 [==============================] - 71s 299ms/step - loss: 0.1059 - accuracy: 0.9606 - val_loss: 0.0945 - val_accuracy: 0.9652\n",
            "Epoch 59/100\n",
            "238/238 [==============================] - 72s 301ms/step - loss: 0.1134 - accuracy: 0.9587 - val_loss: 0.0979 - val_accuracy: 0.9652\n",
            "Epoch 60/100\n",
            "238/238 [==============================] - 69s 290ms/step - loss: 0.1129 - accuracy: 0.9591 - val_loss: 0.1151 - val_accuracy: 0.9566\n",
            "Epoch 61/100\n",
            "238/238 [==============================] - 69s 289ms/step - loss: 0.1040 - accuracy: 0.9620 - val_loss: 0.1003 - val_accuracy: 0.9602\n",
            "Epoch 62/100\n",
            "238/238 [==============================] - 71s 300ms/step - loss: 0.1026 - accuracy: 0.9628 - val_loss: 0.0997 - val_accuracy: 0.9631\n",
            "Epoch 63/100\n",
            "238/238 [==============================] - 71s 296ms/step - loss: 0.1000 - accuracy: 0.9633 - val_loss: 0.0921 - val_accuracy: 0.9667\n",
            "Epoch 64/100\n",
            "238/238 [==============================] - 69s 292ms/step - loss: 0.1028 - accuracy: 0.9624 - val_loss: 0.0983 - val_accuracy: 0.9642\n",
            "Epoch 65/100\n",
            "238/238 [==============================] - 70s 294ms/step - loss: 0.1003 - accuracy: 0.9648 - val_loss: 0.1013 - val_accuracy: 0.9603\n",
            "Epoch 66/100\n",
            "238/238 [==============================] - 70s 295ms/step - loss: 0.0953 - accuracy: 0.9652 - val_loss: 0.0935 - val_accuracy: 0.9569\n",
            "Epoch 67/100\n",
            "238/238 [==============================] - 71s 298ms/step - loss: 0.0958 - accuracy: 0.9649 - val_loss: 0.0998 - val_accuracy: 0.9623\n",
            "Epoch 68/100\n",
            "238/238 [==============================] - 69s 292ms/step - loss: 0.0933 - accuracy: 0.9664 - val_loss: 0.0907 - val_accuracy: 0.9657\n",
            "Epoch 69/100\n",
            "238/238 [==============================] - 69s 291ms/step - loss: 0.1019 - accuracy: 0.9632 - val_loss: 0.0986 - val_accuracy: 0.9667\n",
            "Epoch 70/100\n",
            "238/238 [==============================] - 71s 297ms/step - loss: 0.0944 - accuracy: 0.9661 - val_loss: 0.0876 - val_accuracy: 0.9675\n",
            "Epoch 71/100\n",
            "238/238 [==============================] - 69s 291ms/step - loss: 0.0958 - accuracy: 0.9655 - val_loss: 0.0973 - val_accuracy: 0.9662\n",
            "Epoch 72/100\n",
            "238/238 [==============================] - 69s 290ms/step - loss: 0.0931 - accuracy: 0.9660 - val_loss: 0.0968 - val_accuracy: 0.9640\n",
            "Epoch 73/100\n",
            "238/238 [==============================] - 70s 294ms/step - loss: 0.0921 - accuracy: 0.9669 - val_loss: 0.1348 - val_accuracy: 0.9514\n",
            "Epoch 74/100\n",
            "238/238 [==============================] - 72s 301ms/step - loss: 0.1078 - accuracy: 0.9622 - val_loss: 0.1005 - val_accuracy: 0.9629\n",
            "Epoch 75/100\n",
            "238/238 [==============================] - 70s 295ms/step - loss: 0.0954 - accuracy: 0.9656 - val_loss: 0.0890 - val_accuracy: 0.9685\n",
            "Epoch 76/100\n",
            "238/238 [==============================] - 70s 293ms/step - loss: 0.0875 - accuracy: 0.9687 - val_loss: 0.0828 - val_accuracy: 0.9692\n",
            "Epoch 77/100\n",
            "238/238 [==============================] - 70s 296ms/step - loss: 0.0865 - accuracy: 0.9686 - val_loss: 0.0953 - val_accuracy: 0.9653\n",
            "Epoch 78/100\n",
            "238/238 [==============================] - 71s 298ms/step - loss: 0.0861 - accuracy: 0.9686 - val_loss: 0.0839 - val_accuracy: 0.9666\n",
            "Epoch 79/100\n",
            "238/238 [==============================] - 70s 294ms/step - loss: 0.0856 - accuracy: 0.9686 - val_loss: 0.0792 - val_accuracy: 0.9695\n",
            "Epoch 80/100\n",
            "238/238 [==============================] - 70s 295ms/step - loss: 0.0824 - accuracy: 0.9699 - val_loss: 0.0769 - val_accuracy: 0.9692\n",
            "Epoch 81/100\n",
            "238/238 [==============================] - 71s 299ms/step - loss: 0.0811 - accuracy: 0.9699 - val_loss: 0.0798 - val_accuracy: 0.9697\n",
            "Epoch 82/100\n",
            "238/238 [==============================] - 70s 296ms/step - loss: 0.0819 - accuracy: 0.9695 - val_loss: 0.0801 - val_accuracy: 0.9691\n",
            "Epoch 83/100\n",
            "238/238 [==============================] - 71s 300ms/step - loss: 0.0854 - accuracy: 0.9686 - val_loss: 0.0778 - val_accuracy: 0.9706\n",
            "Epoch 84/100\n",
            "238/238 [==============================] - 73s 305ms/step - loss: 0.0749 - accuracy: 0.9719 - val_loss: 0.0800 - val_accuracy: 0.9671\n",
            "Epoch 85/100\n",
            "238/238 [==============================] - 70s 295ms/step - loss: 0.0813 - accuracy: 0.9709 - val_loss: 0.0782 - val_accuracy: 0.9727\n",
            "Epoch 86/100\n",
            "238/238 [==============================] - 70s 296ms/step - loss: 0.0789 - accuracy: 0.9708 - val_loss: 0.0754 - val_accuracy: 0.9690\n",
            "Epoch 87/100\n",
            "238/238 [==============================] - 71s 297ms/step - loss: 0.0748 - accuracy: 0.9715 - val_loss: 0.0788 - val_accuracy: 0.9688\n",
            "Epoch 88/100\n",
            "238/238 [==============================] - 70s 294ms/step - loss: 0.0787 - accuracy: 0.9703 - val_loss: 0.1066 - val_accuracy: 0.9587\n",
            "Epoch 89/100\n",
            "238/238 [==============================] - 69s 289ms/step - loss: 0.0810 - accuracy: 0.9683 - val_loss: 0.0835 - val_accuracy: 0.9671\n",
            "Epoch 90/100\n",
            "238/238 [==============================] - 69s 290ms/step - loss: 0.0763 - accuracy: 0.9708 - val_loss: 0.0715 - val_accuracy: 0.9724\n",
            "Epoch 91/100\n",
            "238/238 [==============================] - 69s 291ms/step - loss: 0.0746 - accuracy: 0.9713 - val_loss: 0.0801 - val_accuracy: 0.9728\n",
            "Epoch 92/100\n",
            "238/238 [==============================] - 69s 292ms/step - loss: 0.0793 - accuracy: 0.9697 - val_loss: 0.0887 - val_accuracy: 0.9661\n",
            "Epoch 93/100\n",
            "238/238 [==============================] - 70s 294ms/step - loss: 0.0763 - accuracy: 0.9709 - val_loss: 0.0758 - val_accuracy: 0.9694\n",
            "Epoch 94/100\n",
            "238/238 [==============================] - 70s 294ms/step - loss: 0.0752 - accuracy: 0.9714 - val_loss: 0.0885 - val_accuracy: 0.9698\n",
            "Epoch 95/100\n",
            "238/238 [==============================] - 70s 296ms/step - loss: 0.0787 - accuracy: 0.9703 - val_loss: 0.0777 - val_accuracy: 0.9698\n",
            "Epoch 96/100\n",
            "238/238 [==============================] - 70s 293ms/step - loss: 0.0759 - accuracy: 0.9709 - val_loss: 0.0738 - val_accuracy: 0.9707\n",
            "Epoch 97/100\n",
            "238/238 [==============================] - 70s 292ms/step - loss: 0.0834 - accuracy: 0.9694 - val_loss: 0.1037 - val_accuracy: 0.9578\n",
            "Epoch 98/100\n",
            "238/238 [==============================] - 70s 295ms/step - loss: 0.0750 - accuracy: 0.9723 - val_loss: 0.0719 - val_accuracy: 0.9716\n",
            "Epoch 99/100\n",
            "238/238 [==============================] - 72s 301ms/step - loss: 0.0677 - accuracy: 0.9742 - val_loss: 0.0617 - val_accuracy: 0.9773\n",
            "Epoch 100/100\n",
            "238/238 [==============================] - 70s 296ms/step - loss: 0.0681 - accuracy: 0.9749 - val_loss: 0.0621 - val_accuracy: 0.9727\n"
          ]
        }
      ]
    },
    {
      "cell_type": "markdown",
      "source": [
        "**5. Model Accuracy and Loss**"
      ],
      "metadata": {
        "id": "xfkf5OYLEPow"
      }
    },
    {
      "cell_type": "code",
      "source": [
        "plt.plot(history.history['accuracy'])\n",
        "plt.plot(history.history['val_accuracy'])\n",
        "plt.title('model accuracy')\n",
        "plt.ylabel('accuracy')\n",
        "plt.xlabel('epoch')\n",
        "plt.legend(['train', 'test'], loc='upper left')\n",
        "plt.show()"
      ],
      "metadata": {
        "colab": {
          "base_uri": "https://localhost:8080/",
          "height": 295
        },
        "id": "ZXxTb5CVFth9",
        "outputId": "ced5f205-701f-4d8f-af2d-ac6473dc660b"
      },
      "execution_count": 18,
      "outputs": [
        {
          "output_type": "display_data",
          "data": {
            "text/plain": [
              "<Figure size 432x288 with 1 Axes>"
            ],
            "image/png": "[encoded data removed]"
          },
          "metadata": {
            "needs_background": "light"
          }
        }
      ]
    },
    {
      "cell_type": "code",
      "source": [
        "plt.plot(history.history['loss'])\n",
        "plt.plot(history.history['val_loss'])\n",
        "plt.title('model loss')\n",
        "plt.ylabel('loss')\n",
        "plt.xlabel('epoch')\n",
        "plt.legend(['train', 'test'], loc='upper left')\n",
        "plt.show()"
      ],
      "metadata": {
        "colab": {
          "base_uri": "https://localhost:8080/",
          "height": 295
        },
        "id": "G535AnMnFuT1",
        "outputId": "0d8417ef-73fc-40d3-b139-e2c346f8561a"
      },
      "execution_count": 19,
      "outputs": [
        {
          "output_type": "display_data",
          "data": {
            "text/plain": [
              "<Figure size 432x288 with 1 Axes>"
            ],
            "image/png": "[encoded data removed]"
          },
          "metadata": {
            "needs_background": "light"
          }
        }
      ]
    },
    {
      "cell_type": "markdown",
      "source": [
        "**6.Save Model to the Disk**"
      ],
      "metadata": {
        "id": "ztzme98FERvO"
      }
    },
    {
      "cell_type": "code",
      "execution_count": 20,
      "metadata": {
        "id": "RL3Whw2-D3-j"
      },
      "outputs": [],
      "source": [
        "model.save(\"./lstm_model.hdf5\")"
      ]
    }
  ]
}